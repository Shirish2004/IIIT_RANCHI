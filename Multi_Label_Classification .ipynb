{
 "cells": [
  {
   "cell_type": "code",
   "execution_count": 1,
   "id": "3dfa968d",
   "metadata": {},
   "outputs": [],
   "source": [
    "#importing libraries \n",
    "import pandas as pd \n",
    "import numpy as np \n",
    "import seaborn as sn \n",
    "import matplotlib.pyplot as plt \n",
    "import nltk \n",
    "%matplotlib inline \n",
    "import warnings \n",
    "warnings.filterwarnings(\"ignore\")\n",
    "import re \n",
    "#all other required libraries will be imported at the time of requirement "
   ]
  },
  {
   "cell_type": "code",
   "execution_count": 2,
   "id": "f67d26e9",
   "metadata": {},
   "outputs": [
    {
     "data": {
      "text/html": [
       "<div>\n",
       "<style scoped>\n",
       "    .dataframe tbody tr th:only-of-type {\n",
       "        vertical-align: middle;\n",
       "    }\n",
       "\n",
       "    .dataframe tbody tr th {\n",
       "        vertical-align: top;\n",
       "    }\n",
       "\n",
       "    .dataframe thead th {\n",
       "        text-align: right;\n",
       "    }\n",
       "</style>\n",
       "<table border=\"1\" class=\"dataframe\">\n",
       "  <thead>\n",
       "    <tr style=\"text-align: right;\">\n",
       "      <th></th>\n",
       "      <th>anger</th>\n",
       "      <th>disgust</th>\n",
       "      <th>fear</th>\n",
       "      <th>sadness</th>\n",
       "      <th>surprise</th>\n",
       "      <th>happiness</th>\n",
       "      <th>neutral</th>\n",
       "      <th>Sentences</th>\n",
       "    </tr>\n",
       "  </thead>\n",
       "  <tbody>\n",
       "    <tr>\n",
       "      <th>0</th>\n",
       "      <td>0</td>\n",
       "      <td>0</td>\n",
       "      <td>0</td>\n",
       "      <td>1</td>\n",
       "      <td>1</td>\n",
       "      <td>0</td>\n",
       "      <td>0</td>\n",
       "      <td>محبت کے پردے میں نفرت کرنےوالو</td>\n",
       "    </tr>\n",
       "    <tr>\n",
       "      <th>1</th>\n",
       "      <td>0</td>\n",
       "      <td>0</td>\n",
       "      <td>0</td>\n",
       "      <td>0</td>\n",
       "      <td>0</td>\n",
       "      <td>1</td>\n",
       "      <td>0</td>\n",
       "      <td>حامد میر کی خوشی کے لئے اس کا ذمہ دار حکومت ہو...</td>\n",
       "    </tr>\n",
       "    <tr>\n",
       "      <th>2</th>\n",
       "      <td>0</td>\n",
       "      <td>0</td>\n",
       "      <td>0</td>\n",
       "      <td>0</td>\n",
       "      <td>0</td>\n",
       "      <td>0</td>\n",
       "      <td>1</td>\n",
       "      <td>اس نئے سال کی شام، ایک سپاہی قاتل (لارنس Fishb...</td>\n",
       "    </tr>\n",
       "    <tr>\n",
       "      <th>3</th>\n",
       "      <td>0</td>\n",
       "      <td>0</td>\n",
       "      <td>0</td>\n",
       "      <td>0</td>\n",
       "      <td>0</td>\n",
       "      <td>0</td>\n",
       "      <td>1</td>\n",
       "      <td>کچھ اس طرح سے ایک فلم کے لئے جا سکتے ہیں لیکن ...</td>\n",
       "    </tr>\n",
       "    <tr>\n",
       "      <th>4</th>\n",
       "      <td>0</td>\n",
       "      <td>0</td>\n",
       "      <td>0</td>\n",
       "      <td>0</td>\n",
       "      <td>0</td>\n",
       "      <td>0</td>\n",
       "      <td>1</td>\n",
       "      <td>رون ہاورڈ اور اس کے \"ایڈیٹرز\" صرف اتنا کرنا .....</td>\n",
       "    </tr>\n",
       "    <tr>\n",
       "      <th>5</th>\n",
       "      <td>0</td>\n",
       "      <td>0</td>\n",
       "      <td>0</td>\n",
       "      <td>0</td>\n",
       "      <td>0</td>\n",
       "      <td>0</td>\n",
       "      <td>0</td>\n",
       "      <td>نتائج دنیا کو حیرت میں ڈال سکتی ھے نتائج دس اق...</td>\n",
       "    </tr>\n",
       "    <tr>\n",
       "      <th>6</th>\n",
       "      <td>0</td>\n",
       "      <td>0</td>\n",
       "      <td>0</td>\n",
       "      <td>0</td>\n",
       "      <td>1</td>\n",
       "      <td>0</td>\n",
       "      <td>0</td>\n",
       "      <td>ہم غصے خراب موڈ خوشی اور غمی سب میں چپلی کباب ...</td>\n",
       "    </tr>\n",
       "    <tr>\n",
       "      <th>7</th>\n",
       "      <td>0</td>\n",
       "      <td>0</td>\n",
       "      <td>0</td>\n",
       "      <td>1</td>\n",
       "      <td>1</td>\n",
       "      <td>0</td>\n",
       "      <td>0</td>\n",
       "      <td>اب ایسی حیرت و وارفتگی کو کیا کہیے دعا کو ہاتھ...</td>\n",
       "    </tr>\n",
       "    <tr>\n",
       "      <th>8</th>\n",
       "      <td>0</td>\n",
       "      <td>0</td>\n",
       "      <td>0</td>\n",
       "      <td>1</td>\n",
       "      <td>1</td>\n",
       "      <td>0</td>\n",
       "      <td>0</td>\n",
       "      <td>دے تو رہے ہیں آپ اپنی آنکھوں سے نفرت کی پٹی ات...</td>\n",
       "    </tr>\n",
       "    <tr>\n",
       "      <th>9</th>\n",
       "      <td>0</td>\n",
       "      <td>0</td>\n",
       "      <td>0</td>\n",
       "      <td>0</td>\n",
       "      <td>1</td>\n",
       "      <td>0</td>\n",
       "      <td>0</td>\n",
       "      <td>حیرت ہوئی</td>\n",
       "    </tr>\n",
       "  </tbody>\n",
       "</table>\n",
       "</div>"
      ],
      "text/plain": [
       "   anger  disgust  fear  sadness  surprise  happiness  neutral  \\\n",
       "0      0        0     0        1         1          0        0   \n",
       "1      0        0     0        0         0          1        0   \n",
       "2      0        0     0        0         0          0        1   \n",
       "3      0        0     0        0         0          0        1   \n",
       "4      0        0     0        0         0          0        1   \n",
       "5      0        0     0        0         0          0        0   \n",
       "6      0        0     0        0         1          0        0   \n",
       "7      0        0     0        1         1          0        0   \n",
       "8      0        0     0        1         1          0        0   \n",
       "9      0        0     0        0         1          0        0   \n",
       "\n",
       "                                           Sentences  \n",
       "0                     محبت کے پردے میں نفرت کرنےوالو  \n",
       "1  حامد میر کی خوشی کے لئے اس کا ذمہ دار حکومت ہو...  \n",
       "2  اس نئے سال کی شام، ایک سپاہی قاتل (لارنس Fishb...  \n",
       "3  کچھ اس طرح سے ایک فلم کے لئے جا سکتے ہیں لیکن ...  \n",
       "4  رون ہاورڈ اور اس کے \"ایڈیٹرز\" صرف اتنا کرنا .....  \n",
       "5  نتائج دنیا کو حیرت میں ڈال سکتی ھے نتائج دس اق...  \n",
       "6  ہم غصے خراب موڈ خوشی اور غمی سب میں چپلی کباب ...  \n",
       "7  اب ایسی حیرت و وارفتگی کو کیا کہیے دعا کو ہاتھ...  \n",
       "8  دے تو رہے ہیں آپ اپنی آنکھوں سے نفرت کی پٹی ات...  \n",
       "9                                          حیرت ہوئی  "
      ]
     },
     "metadata": {},
     "output_type": "display_data"
    }
   ],
   "source": [
    "#reading the data \n",
    "df=pd.read_csv(\"train_set_taskA - train_set_Fire2022.csv\")\n",
    "#displaying first 10 rows \n",
    "display(df.head(10))"
   ]
  },
  {
   "cell_type": "code",
   "execution_count": 3,
   "id": "71074ffa",
   "metadata": {},
   "outputs": [
    {
     "name": "stdout",
     "output_type": "stream",
     "text": [
      "<class 'pandas.core.frame.DataFrame'>\n",
      "RangeIndex: 7800 entries, 0 to 7799\n",
      "Data columns (total 8 columns):\n",
      " #   Column     Non-Null Count  Dtype \n",
      "---  ------     --------------  ----- \n",
      " 0   anger      7800 non-null   int64 \n",
      " 1   disgust    7800 non-null   int64 \n",
      " 2   fear       7800 non-null   int64 \n",
      " 3   sadness    7800 non-null   int64 \n",
      " 4   surprise   7800 non-null   int64 \n",
      " 5   happiness  7800 non-null   int64 \n",
      " 6   neutral    7800 non-null   int64 \n",
      " 7   Sentences  7800 non-null   object\n",
      "dtypes: int64(7), object(1)\n",
      "memory usage: 487.6+ KB\n"
     ]
    }
   ],
   "source": [
    "#general statisitics about the data \n",
    "df.info()"
   ]
  },
  {
   "cell_type": "code",
   "execution_count": 4,
   "id": "7e6ce8f4",
   "metadata": {},
   "outputs": [
    {
     "data": {
      "text/html": [
       "<div>\n",
       "<style scoped>\n",
       "    .dataframe tbody tr th:only-of-type {\n",
       "        vertical-align: middle;\n",
       "    }\n",
       "\n",
       "    .dataframe tbody tr th {\n",
       "        vertical-align: top;\n",
       "    }\n",
       "\n",
       "    .dataframe thead th {\n",
       "        text-align: right;\n",
       "    }\n",
       "</style>\n",
       "<table border=\"1\" class=\"dataframe\">\n",
       "  <thead>\n",
       "    <tr style=\"text-align: right;\">\n",
       "      <th></th>\n",
       "      <th>anger</th>\n",
       "      <th>disgust</th>\n",
       "      <th>fear</th>\n",
       "      <th>sadness</th>\n",
       "      <th>surprise</th>\n",
       "      <th>happiness</th>\n",
       "      <th>neutral</th>\n",
       "    </tr>\n",
       "  </thead>\n",
       "  <tbody>\n",
       "    <tr>\n",
       "      <th>count</th>\n",
       "      <td>7800.000000</td>\n",
       "      <td>7800.000000</td>\n",
       "      <td>7800.000000</td>\n",
       "      <td>7800.000000</td>\n",
       "      <td>7800.000000</td>\n",
       "      <td>7800.000000</td>\n",
       "      <td>7800.000000</td>\n",
       "    </tr>\n",
       "    <tr>\n",
       "      <th>mean</th>\n",
       "      <td>0.103974</td>\n",
       "      <td>0.097564</td>\n",
       "      <td>0.078077</td>\n",
       "      <td>0.280769</td>\n",
       "      <td>0.198718</td>\n",
       "      <td>0.134103</td>\n",
       "      <td>0.386410</td>\n",
       "    </tr>\n",
       "    <tr>\n",
       "      <th>std</th>\n",
       "      <td>0.305247</td>\n",
       "      <td>0.296743</td>\n",
       "      <td>0.268310</td>\n",
       "      <td>0.449404</td>\n",
       "      <td>0.399061</td>\n",
       "      <td>0.340784</td>\n",
       "      <td>0.486958</td>\n",
       "    </tr>\n",
       "    <tr>\n",
       "      <th>min</th>\n",
       "      <td>0.000000</td>\n",
       "      <td>0.000000</td>\n",
       "      <td>0.000000</td>\n",
       "      <td>0.000000</td>\n",
       "      <td>0.000000</td>\n",
       "      <td>0.000000</td>\n",
       "      <td>0.000000</td>\n",
       "    </tr>\n",
       "    <tr>\n",
       "      <th>25%</th>\n",
       "      <td>0.000000</td>\n",
       "      <td>0.000000</td>\n",
       "      <td>0.000000</td>\n",
       "      <td>0.000000</td>\n",
       "      <td>0.000000</td>\n",
       "      <td>0.000000</td>\n",
       "      <td>0.000000</td>\n",
       "    </tr>\n",
       "    <tr>\n",
       "      <th>50%</th>\n",
       "      <td>0.000000</td>\n",
       "      <td>0.000000</td>\n",
       "      <td>0.000000</td>\n",
       "      <td>0.000000</td>\n",
       "      <td>0.000000</td>\n",
       "      <td>0.000000</td>\n",
       "      <td>0.000000</td>\n",
       "    </tr>\n",
       "    <tr>\n",
       "      <th>75%</th>\n",
       "      <td>0.000000</td>\n",
       "      <td>0.000000</td>\n",
       "      <td>0.000000</td>\n",
       "      <td>1.000000</td>\n",
       "      <td>0.000000</td>\n",
       "      <td>0.000000</td>\n",
       "      <td>1.000000</td>\n",
       "    </tr>\n",
       "    <tr>\n",
       "      <th>max</th>\n",
       "      <td>1.000000</td>\n",
       "      <td>1.000000</td>\n",
       "      <td>1.000000</td>\n",
       "      <td>1.000000</td>\n",
       "      <td>1.000000</td>\n",
       "      <td>1.000000</td>\n",
       "      <td>1.000000</td>\n",
       "    </tr>\n",
       "  </tbody>\n",
       "</table>\n",
       "</div>"
      ],
      "text/plain": [
       "             anger      disgust         fear      sadness     surprise  \\\n",
       "count  7800.000000  7800.000000  7800.000000  7800.000000  7800.000000   \n",
       "mean      0.103974     0.097564     0.078077     0.280769     0.198718   \n",
       "std       0.305247     0.296743     0.268310     0.449404     0.399061   \n",
       "min       0.000000     0.000000     0.000000     0.000000     0.000000   \n",
       "25%       0.000000     0.000000     0.000000     0.000000     0.000000   \n",
       "50%       0.000000     0.000000     0.000000     0.000000     0.000000   \n",
       "75%       0.000000     0.000000     0.000000     1.000000     0.000000   \n",
       "max       1.000000     1.000000     1.000000     1.000000     1.000000   \n",
       "\n",
       "         happiness      neutral  \n",
       "count  7800.000000  7800.000000  \n",
       "mean      0.134103     0.386410  \n",
       "std       0.340784     0.486958  \n",
       "min       0.000000     0.000000  \n",
       "25%       0.000000     0.000000  \n",
       "50%       0.000000     0.000000  \n",
       "75%       0.000000     1.000000  \n",
       "max       1.000000     1.000000  "
      ]
     },
     "execution_count": 4,
     "metadata": {},
     "output_type": "execute_result"
    }
   ],
   "source": [
    "df.describe()"
   ]
  },
  {
   "cell_type": "code",
   "execution_count": 5,
   "id": "d5348ce6",
   "metadata": {},
   "outputs": [
    {
     "data": {
      "text/plain": [
       "anger        False\n",
       "disgust      False\n",
       "fear         False\n",
       "sadness      False\n",
       "surprise     False\n",
       "happiness    False\n",
       "neutral      False\n",
       "Sentences    False\n",
       "dtype: bool"
      ]
     },
     "execution_count": 5,
     "metadata": {},
     "output_type": "execute_result"
    }
   ],
   "source": [
    "df.isnull().any()"
   ]
  },
  {
   "cell_type": "code",
   "execution_count": 6,
   "id": "9b67df70",
   "metadata": {},
   "outputs": [
    {
     "data": {
      "text/plain": [
       "anger        False\n",
       "disgust      False\n",
       "fear         False\n",
       "sadness      False\n",
       "surprise     False\n",
       "happiness    False\n",
       "neutral      False\n",
       "Sentences    False\n",
       "dtype: bool"
      ]
     },
     "execution_count": 6,
     "metadata": {},
     "output_type": "execute_result"
    }
   ],
   "source": [
    "df.isna().any()"
   ]
  },
  {
   "cell_type": "markdown",
   "id": "6f2b2dcf",
   "metadata": {},
   "source": [
    "# Transfer Learning Application\n",
    "\n",
    "### Using the Multilingual BERT Model and Optuna Traansformers for the Multilabel Classification. \n"
   ]
  },
  {
   "cell_type": "code",
   "execution_count": 7,
   "id": "c02f5d24",
   "metadata": {},
   "outputs": [],
   "source": [
    "#from wordcloud and Count Vectorizer it was found that the text had emojis as well as english text so we need to remove those as well\n",
    "#removing emojis \n",
    "#also removing the english characters\n",
    "emoj = re.compile(\"[\"\n",
    "        u\"\\U0001F600-\\U0001F64F\"  # emoticons\n",
    "        u\"\\U0001F300-\\U0001F5FF\"  # symbols & pictographs\n",
    "        u\"\\U0001F680-\\U0001F6FF\"  # transport & map symbols\n",
    "        u\"\\U0001F1E0-\\U0001F1FF\"  # flags (iOS)\n",
    "        u\"\\U00002500-\\U00002BEF\"  # chinese char\n",
    "        u\"\\U00002702-\\U000027B0\"\n",
    "        u\"\\U00002702-\\U000027B0\"\n",
    "        u\"\\U000024C2-\\U0001F251\"\n",
    "        u\"\\U0001f926-\\U0001f937\"\n",
    "        u\"\\U00010000-\\U0010ffff\"\n",
    "        u\"\\u2640-\\u2642\" \n",
    "        u\"\\u2600-\\u2B55\"\n",
    "        u\"\\u200d\"\n",
    "        u\"\\u23cf\"\n",
    "        u\"\\u23e9\"\n",
    "        u\"\\u231a\"\n",
    "        u\"\\ufe0f\"  # dingbats\n",
    "        u\"\\u3030\"\n",
    "                  \"]+\", re.UNICODE)\n",
    "df[\"Clean_Sentences\"]=df[\"Sentences\"].apply(lambda x:re.sub(emoj, '', x))\n",
    "df[\"Clean_Sentences\"]=df[\"Sentences\"].apply(lambda x:re.sub(r\"[A-Za-z0-9@;:]\", \"\", x, flags=re.UNICODE) )"
   ]
  },
  {
   "cell_type": "code",
   "execution_count": 8,
   "id": "8fcc0863",
   "metadata": {},
   "outputs": [
    {
     "data": {
      "text/html": [
       "<div>\n",
       "<style scoped>\n",
       "    .dataframe tbody tr th:only-of-type {\n",
       "        vertical-align: middle;\n",
       "    }\n",
       "\n",
       "    .dataframe tbody tr th {\n",
       "        vertical-align: top;\n",
       "    }\n",
       "\n",
       "    .dataframe thead th {\n",
       "        text-align: right;\n",
       "    }\n",
       "</style>\n",
       "<table border=\"1\" class=\"dataframe\">\n",
       "  <thead>\n",
       "    <tr style=\"text-align: right;\">\n",
       "      <th></th>\n",
       "      <th>anger</th>\n",
       "      <th>disgust</th>\n",
       "      <th>fear</th>\n",
       "      <th>sadness</th>\n",
       "      <th>surprise</th>\n",
       "      <th>happiness</th>\n",
       "      <th>neutral</th>\n",
       "      <th>Sentences</th>\n",
       "      <th>Clean_Sentences</th>\n",
       "    </tr>\n",
       "  </thead>\n",
       "  <tbody>\n",
       "    <tr>\n",
       "      <th>0</th>\n",
       "      <td>0</td>\n",
       "      <td>0</td>\n",
       "      <td>0</td>\n",
       "      <td>1</td>\n",
       "      <td>1</td>\n",
       "      <td>0</td>\n",
       "      <td>0</td>\n",
       "      <td>محبت کے پردے میں نفرت کرنےوالو</td>\n",
       "      <td>محبت کے پردے میں نفرت کرنےوالو</td>\n",
       "    </tr>\n",
       "    <tr>\n",
       "      <th>1</th>\n",
       "      <td>0</td>\n",
       "      <td>0</td>\n",
       "      <td>0</td>\n",
       "      <td>0</td>\n",
       "      <td>0</td>\n",
       "      <td>1</td>\n",
       "      <td>0</td>\n",
       "      <td>حامد میر کی خوشی کے لئے اس کا ذمہ دار حکومت ہو...</td>\n",
       "      <td>حامد میر کی خوشی کے لئے اس کا ذمہ دار حکومت ہو...</td>\n",
       "    </tr>\n",
       "    <tr>\n",
       "      <th>2</th>\n",
       "      <td>0</td>\n",
       "      <td>0</td>\n",
       "      <td>0</td>\n",
       "      <td>0</td>\n",
       "      <td>0</td>\n",
       "      <td>0</td>\n",
       "      <td>1</td>\n",
       "      <td>اس نئے سال کی شام، ایک سپاہی قاتل (لارنس Fishb...</td>\n",
       "      <td>اس نئے سال کی شام، ایک سپاہی قاتل (لارنس ، کی ...</td>\n",
       "    </tr>\n",
       "    <tr>\n",
       "      <th>3</th>\n",
       "      <td>0</td>\n",
       "      <td>0</td>\n",
       "      <td>0</td>\n",
       "      <td>0</td>\n",
       "      <td>0</td>\n",
       "      <td>0</td>\n",
       "      <td>1</td>\n",
       "      <td>کچھ اس طرح سے ایک فلم کے لئے جا سکتے ہیں لیکن ...</td>\n",
       "      <td>کچھ اس طرح سے ایک فلم کے لئے جا سکتے ہیں لیکن ...</td>\n",
       "    </tr>\n",
       "    <tr>\n",
       "      <th>4</th>\n",
       "      <td>0</td>\n",
       "      <td>0</td>\n",
       "      <td>0</td>\n",
       "      <td>0</td>\n",
       "      <td>0</td>\n",
       "      <td>0</td>\n",
       "      <td>1</td>\n",
       "      <td>رون ہاورڈ اور اس کے \"ایڈیٹرز\" صرف اتنا کرنا .....</td>\n",
       "      <td>رون ہاورڈ اور اس کے \"ایڈیٹرز\" صرف اتنا کرنا .....</td>\n",
       "    </tr>\n",
       "    <tr>\n",
       "      <th>...</th>\n",
       "      <td>...</td>\n",
       "      <td>...</td>\n",
       "      <td>...</td>\n",
       "      <td>...</td>\n",
       "      <td>...</td>\n",
       "      <td>...</td>\n",
       "      <td>...</td>\n",
       "      <td>...</td>\n",
       "      <td>...</td>\n",
       "    </tr>\n",
       "    <tr>\n",
       "      <th>7795</th>\n",
       "      <td>0</td>\n",
       "      <td>0</td>\n",
       "      <td>0</td>\n",
       "      <td>0</td>\n",
       "      <td>0</td>\n",
       "      <td>0</td>\n",
       "      <td>1</td>\n",
       "      <td>آپ کس طرح نوجوان برطانوی اداکار کی اس قابل احت...</td>\n",
       "      <td>آپ کس طرح نوجوان برطانوی اداکار کی اس قابل احت...</td>\n",
       "    </tr>\n",
       "    <tr>\n",
       "      <th>7796</th>\n",
       "      <td>0</td>\n",
       "      <td>0</td>\n",
       "      <td>0</td>\n",
       "      <td>0</td>\n",
       "      <td>0</td>\n",
       "      <td>0</td>\n",
       "      <td>1</td>\n",
       "      <td>میں نے امریکہ کے کنفیڈریشن امریکہ میں ورجینیا ...</td>\n",
       "      <td>میں نے امریکہ کے کنفیڈریشن امریکہ میں ورجینیا ...</td>\n",
       "    </tr>\n",
       "    <tr>\n",
       "      <th>7797</th>\n",
       "      <td>0</td>\n",
       "      <td>0</td>\n",
       "      <td>0</td>\n",
       "      <td>0</td>\n",
       "      <td>0</td>\n",
       "      <td>1</td>\n",
       "      <td>0</td>\n",
       "      <td>سورۃ نمبر النساء آیت نمبر جب تم سفر پر جا رہے ...</td>\n",
       "      <td>سورۃ نمبر النساء آیت نمبر جب تم سفر پر جا رہے ...</td>\n",
       "    </tr>\n",
       "    <tr>\n",
       "      <th>7798</th>\n",
       "      <td>0</td>\n",
       "      <td>0</td>\n",
       "      <td>1</td>\n",
       "      <td>0</td>\n",
       "      <td>0</td>\n",
       "      <td>0</td>\n",
       "      <td>0</td>\n",
       "      <td>رونا یہ نہیں کہ حالات خراب ہیں اوراس بیماری نے...</td>\n",
       "      <td>رونا یہ نہیں کہ حالات خراب ہیں اوراس بیماری نے...</td>\n",
       "    </tr>\n",
       "    <tr>\n",
       "      <th>7799</th>\n",
       "      <td>0</td>\n",
       "      <td>0</td>\n",
       "      <td>0</td>\n",
       "      <td>0</td>\n",
       "      <td>0</td>\n",
       "      <td>0</td>\n",
       "      <td>1</td>\n",
       "      <td>میں ایک لڑکا (دوسری جنگ عظیم سے پہلے) تھا جب م...</td>\n",
       "      <td>میں ایک لڑکا (دوسری جنگ عظیم سے پہلے) تھا جب م...</td>\n",
       "    </tr>\n",
       "  </tbody>\n",
       "</table>\n",
       "<p>7800 rows × 9 columns</p>\n",
       "</div>"
      ],
      "text/plain": [
       "      anger  disgust  fear  sadness  surprise  happiness  neutral  \\\n",
       "0         0        0     0        1         1          0        0   \n",
       "1         0        0     0        0         0          1        0   \n",
       "2         0        0     0        0         0          0        1   \n",
       "3         0        0     0        0         0          0        1   \n",
       "4         0        0     0        0         0          0        1   \n",
       "...     ...      ...   ...      ...       ...        ...      ...   \n",
       "7795      0        0     0        0         0          0        1   \n",
       "7796      0        0     0        0         0          0        1   \n",
       "7797      0        0     0        0         0          1        0   \n",
       "7798      0        0     1        0         0          0        0   \n",
       "7799      0        0     0        0         0          0        1   \n",
       "\n",
       "                                              Sentences  \\\n",
       "0                        محبت کے پردے میں نفرت کرنےوالو   \n",
       "1     حامد میر کی خوشی کے لئے اس کا ذمہ دار حکومت ہو...   \n",
       "2     اس نئے سال کی شام، ایک سپاہی قاتل (لارنس Fishb...   \n",
       "3     کچھ اس طرح سے ایک فلم کے لئے جا سکتے ہیں لیکن ...   \n",
       "4     رون ہاورڈ اور اس کے \"ایڈیٹرز\" صرف اتنا کرنا .....   \n",
       "...                                                 ...   \n",
       "7795  آپ کس طرح نوجوان برطانوی اداکار کی اس قابل احت...   \n",
       "7796  میں نے امریکہ کے کنفیڈریشن امریکہ میں ورجینیا ...   \n",
       "7797  سورۃ نمبر النساء آیت نمبر جب تم سفر پر جا رہے ...   \n",
       "7798  رونا یہ نہیں کہ حالات خراب ہیں اوراس بیماری نے...   \n",
       "7799  میں ایک لڑکا (دوسری جنگ عظیم سے پہلے) تھا جب م...   \n",
       "\n",
       "                                        Clean_Sentences  \n",
       "0                        محبت کے پردے میں نفرت کرنےوالو  \n",
       "1     حامد میر کی خوشی کے لئے اس کا ذمہ دار حکومت ہو...  \n",
       "2     اس نئے سال کی شام، ایک سپاہی قاتل (لارنس ، کی ...  \n",
       "3     کچھ اس طرح سے ایک فلم کے لئے جا سکتے ہیں لیکن ...  \n",
       "4     رون ہاورڈ اور اس کے \"ایڈیٹرز\" صرف اتنا کرنا .....  \n",
       "...                                                 ...  \n",
       "7795  آپ کس طرح نوجوان برطانوی اداکار کی اس قابل احت...  \n",
       "7796  میں نے امریکہ کے کنفیڈریشن امریکہ میں ورجینیا ...  \n",
       "7797  سورۃ نمبر النساء آیت نمبر جب تم سفر پر جا رہے ...  \n",
       "7798  رونا یہ نہیں کہ حالات خراب ہیں اوراس بیماری نے...  \n",
       "7799  میں ایک لڑکا (دوسری جنگ عظیم سے پہلے) تھا جب م...  \n",
       "\n",
       "[7800 rows x 9 columns]"
      ]
     },
     "execution_count": 8,
     "metadata": {},
     "output_type": "execute_result"
    }
   ],
   "source": [
    "df"
   ]
  },
  {
   "cell_type": "markdown",
   "id": "3f29bce8",
   "metadata": {},
   "source": [
    "##### In the above dataframe the text data has been freed of all the english characters and Emojis or other special characters"
   ]
  },
  {
   "cell_type": "markdown",
   "id": "7fd94e6a",
   "metadata": {},
   "source": [
    "### Optuna Sentence transformers are BERT/RoBERTa/XLM-Roberta etc. based and is used to achieve high performance on various tasks "
   ]
  },
  {
   "cell_type": "code",
   "execution_count": 9,
   "id": "fb56fdb6",
   "metadata": {},
   "outputs": [
    {
     "name": "stderr",
     "output_type": "stream",
     "text": [
      "2022-12-13 19:49:42.590688: I tensorflow/core/platform/cpu_feature_guard.cc:193] This TensorFlow binary is optimized with oneAPI Deep Neural Network Library (oneDNN) to use the following CPU instructions in performance-critical operations:  AVX2 AVX512F AVX512_VNNI FMA\n",
      "To enable them in other operations, rebuild TensorFlow with the appropriate compiler flags.\n",
      "2022-12-13 19:49:42.832508: I tensorflow/core/util/util.cc:169] oneDNN custom operations are on. You may see slightly different numerical results due to floating-point round-off errors from different computation orders. To turn them off, set the environment variable `TF_ENABLE_ONEDNN_OPTS=0`.\n",
      "2022-12-13 19:49:42.889590: W tensorflow/stream_executor/platform/default/dso_loader.cc:64] Could not load dynamic library 'libcudart.so.11.0'; dlerror: libcudart.so.11.0: cannot open shared object file: No such file or directory\n",
      "2022-12-13 19:49:42.889623: I tensorflow/stream_executor/cuda/cudart_stub.cc:29] Ignore above cudart dlerror if you do not have a GPU set up on your machine.\n",
      "2022-12-13 19:49:42.930691: E tensorflow/stream_executor/cuda/cuda_blas.cc:2981] Unable to register cuBLAS factory: Attempting to register factory for plugin cuBLAS when one has already been registered\n",
      "2022-12-13 19:49:43.640269: W tensorflow/stream_executor/platform/default/dso_loader.cc:64] Could not load dynamic library 'libnvinfer.so.7'; dlerror: libnvinfer.so.7: cannot open shared object file: No such file or directory\n",
      "2022-12-13 19:49:43.640348: W tensorflow/stream_executor/platform/default/dso_loader.cc:64] Could not load dynamic library 'libnvinfer_plugin.so.7'; dlerror: libnvinfer_plugin.so.7: cannot open shared object file: No such file or directory\n",
      "2022-12-13 19:49:43.640352: W tensorflow/compiler/tf2tensorrt/utils/py_utils.cc:38] TF-TRT Warning: Cannot dlopen some TensorRT libraries. If you would like to use Nvidia GPU with TensorRT, please make sure the missing libraries mentioned above are installed properly.\n"
     ]
    }
   ],
   "source": [
    "#importing other required libraries \n",
    "import os\n",
    "import keras \n",
    "import tensorflow as tf \n",
    "import optuna \n",
    "from optuna import Trial \n",
    "from sklearn.model_selection import train_test_split \n",
    "from sklearn.model_selection import KFold \n",
    "from keras.callbacks import EarlyStopping, ReduceLROnPlateau\n",
    "from sklearn.metrics import log_loss\n",
    "from sentence_transformers import SentenceTransformer \n",
    "import torch \n",
    "import random \n",
    "\n",
    "#setting random seeds \n",
    "random.seed(42)\n",
    "os.environ[\"PYTHONHASHSEED\"]=str(42)\n",
    "np.random.seed(42)\n",
    "torch.manual_seed(42)\n",
    "tf.random.set_seed(42)"
   ]
  },
  {
   "cell_type": "code",
   "execution_count": 10,
   "id": "6b45950d",
   "metadata": {
    "scrolled": true
   },
   "outputs": [
    {
     "data": {
      "image/png": "[encoded data removed]",
      "text/plain": [
       "<Figure size 640x480 with 1 Axes>"
      ]
     },
     "metadata": {},
     "output_type": "display_data"
    }
   ],
   "source": [
    "# Once again viewing the label count \n",
    "labels=df[[\"anger\",\"disgust\",\"fear\",\"sadness\",\"surprise\",\"happiness\",\"neutral\"]]\n",
    "labels.sum(axis=0).plot.bar()\n",
    "plt.grid(True)\n",
    "plt.show()"
   ]
  },
  {
   "cell_type": "markdown",
   "id": "658e2ffc",
   "metadata": {},
   "source": [
    "## Sentence Embedding using pre trained model"
   ]
  },
  {
   "cell_type": "code",
   "execution_count": 11,
   "id": "a74af32f",
   "metadata": {},
   "outputs": [
    {
     "name": "stdout",
     "output_type": "stream",
     "text": [
      "Max Length of Sequences is -------> 512\n"
     ]
    }
   ],
   "source": [
    "model=SentenceTransformer(\"paraphrase-multilingual-MiniLM-L12-v2\")\n",
    "model.max_seq_length=512#setting the maximum length of the model as it was visible in data analysis that most words length were less than 450\n",
    "print(\"Max Length of Sequences is ------->\",model.max_seq_length)"
   ]
  },
  {
   "cell_type": "markdown",
   "id": "f3c9265c",
   "metadata": {},
   "source": [
    "##### Now,we will do text embedding using sentence_transformer. It provides state-of-the-art pre-trained models for more than 50+ languages and is fine-tuned for various cases. For this project, we will be going to use bert-base-uncased model for embedding."
   ]
  },
  {
   "cell_type": "code",
   "execution_count": 12,
   "id": "89b2824a",
   "metadata": {},
   "outputs": [],
   "source": [
    "sentence_embeddings=model.encode(df[\"Clean_Sentences\"])"
   ]
  },
  {
   "cell_type": "code",
   "execution_count": 17,
   "id": "bc029ee5",
   "metadata": {},
   "outputs": [],
   "source": [
    "#Splitting the embeddings of dataset into 80:20 ratio \n",
    "x_train_val,x_test,y_train_val,y_test=train_test_split(sentence_embeddings,labels,train_size=0.8,random_state=42)"
   ]
  },
  {
   "cell_type": "code",
   "execution_count": 37,
   "id": "ff759295",
   "metadata": {},
   "outputs": [],
   "source": [
    "def objective(trial):\n",
    "    keras.backend.clear_session()\n",
    "    train_x, valid_x, train_y, valid_y = train_test_split(train1_x, train1_y, train_size=0.8, test_size=0.2,\n",
    "                                                                random_state=42)\n",
    "    #optimum number of hidden layers\n",
    "    n_layers = trial.suggest_int('n_layers', 1, 3)\n",
    "    model = keras.Sequential()\n",
    "    for i in range(n_layers):\n",
    "        #optimum number of hidden nodes\n",
    "        num_hidden = trial.suggest_int(f'n_units_l{i}', 48, len(sentence_embeddings[0]), log=True)\n",
    "        #optimum activation function\n",
    "        model.add(keras.layers.Dense(num_hidden, input_shape=(len(sentence_embeddings[0]),),\n",
    "                               activation=trial.suggest_categorical(f'activation{i}', ['relu', 'linear','swish'])))\n",
    "        #optimum dropout value\n",
    "        model.add(keras.layers.Dropout(rate = trial.suggest_float(f'dropout{i}', 0.0, 0.6))) \n",
    "    model.add(keras.layers.Dense(5,activation=tf.keras.activations.sigmoid)) #output Layer\n",
    "    val_ds = (valid_x,valid_y)\n",
    "    reduce_lr = ReduceLROnPlateau(monitor='val_loss', factor=0.1,patience=1,min_lr=1e-05,verbose=0)\n",
    "    early_stoping = EarlyStopping(monitor=\"val_loss\",min_delta=0,patience=5,verbose=0,mode=\"auto\", baseline=None,restore_best_weights=True)\n",
    "    model.compile(loss='binary_crossentropy',metrics='categorical_crossentropy', optimizer='Adam')\n",
    "    #optimum batch size\n",
    "    histroy = model.fit(train_x,train_y, validation_data=val_ds,epochs=200,callbacks=[reduce_lr,early_stoping],verbose=0,\n",
    "                       batch_size=trial.suggest_int('size', 8, 128))\n",
    "    return min(histroy.history['val_loss'])"
   ]
  },
  {
   "cell_type": "code",
   "execution_count": 38,
   "id": "681699ac",
   "metadata": {},
   "outputs": [
    {
     "name": "stderr",
     "output_type": "stream",
     "text": [
      "\u001b[32m[I 2022-12-14 11:08:57,075]\u001b[0m A new study created in memory with name: no-name-13cbccbf-18e2-4d29-86a1-b62244f40097\u001b[0m\n",
      "\u001b[32m[I 2022-12-14 11:09:00,073]\u001b[0m Trial 0 finished with value: 0.21881206333637238 and parameters: {'n_layers': 3, 'n_units_l0': 89, 'activation0': 'linear', 'dropout0': 0.19004547957991733, 'n_units_l1': 349, 'activation1': 'relu', 'dropout1': 0.04792471340208768, 'n_units_l2': 303, 'activation2': 'swish', 'dropout2': 0.26187494688338386, 'size': 67}. Best is trial 0 with value: 0.21881206333637238.\u001b[0m\n",
      "\u001b[32m[I 2022-12-14 11:09:06,283]\u001b[0m Trial 1 finished with value: 0.22392253577709198 and parameters: {'n_layers': 3, 'n_units_l0': 49, 'activation0': 'linear', 'dropout0': 0.5103649334133026, 'n_units_l1': 129, 'activation1': 'relu', 'dropout1': 0.34643082345583687, 'n_units_l2': 139, 'activation2': 'linear', 'dropout2': 0.5690516948954789, 'size': 28}. Best is trial 0 with value: 0.21881206333637238.\u001b[0m\n",
      "\u001b[32m[I 2022-12-14 11:09:12,236]\u001b[0m Trial 2 finished with value: 0.22018544375896454 and parameters: {'n_layers': 3, 'n_units_l0': 128, 'activation0': 'swish', 'dropout0': 0.132377962738476, 'n_units_l1': 102, 'activation1': 'relu', 'dropout1': 0.5735465368729223, 'n_units_l2': 52, 'activation2': 'relu', 'dropout2': 0.03234779213218133, 'size': 16}. Best is trial 0 with value: 0.21881206333637238.\u001b[0m\n",
      "\u001b[32m[I 2022-12-14 11:09:14,691]\u001b[0m Trial 3 finished with value: 0.219422847032547 and parameters: {'n_layers': 3, 'n_units_l0': 118, 'activation0': 'linear', 'dropout0': 0.0641576889147794, 'n_units_l1': 201, 'activation1': 'linear', 'dropout1': 0.1508291619094913, 'n_units_l2': 325, 'activation2': 'relu', 'dropout2': 0.06134946198652913, 'size': 60}. Best is trial 0 with value: 0.21881206333637238.\u001b[0m\n",
      "\u001b[32m[I 2022-12-14 11:09:33,825]\u001b[0m Trial 4 finished with value: 0.286236435174942 and parameters: {'n_layers': 14, 'n_units_l0': 169, 'activation0': 'relu', 'dropout0': 0.37364378060135484, 'n_units_l1': 109, 'activation1': 'relu', 'dropout1': 0.4933884397000381, 'n_units_l2': 96, 'activation2': 'swish', 'dropout2': 0.517862762243501, 'n_units_l3': 55, 'activation3': 'relu', 'dropout3': 0.07673594431771992, 'n_units_l4': 79, 'activation4': 'relu', 'dropout4': 0.1940959833632564, 'n_units_l5': 184, 'activation5': 'swish', 'dropout5': 0.26082483338336, 'n_units_l6': 52, 'activation6': 'swish', 'dropout6': 0.4620863187323671, 'n_units_l7': 180, 'activation7': 'relu', 'dropout7': 0.2895829644349025, 'n_units_l8': 58, 'activation8': 'linear', 'dropout8': 0.11257253653674737, 'n_units_l9': 213, 'activation9': 'swish', 'dropout9': 0.507485708884159, 'n_units_l10': 217, 'activation10': 'linear', 'dropout10': 0.2732733666167075, 'n_units_l11': 260, 'activation11': 'relu', 'dropout11': 0.07477970528485113, 'n_units_l12': 110, 'activation12': 'linear', 'dropout12': 0.5751783108013758, 'n_units_l13': 48, 'activation13': 'linear', 'dropout13': 0.5642793061808266, 'size': 64}. Best is trial 0 with value: 0.21881206333637238.\u001b[0m\n",
      "\u001b[32m[I 2022-12-14 11:10:33,197]\u001b[0m Trial 5 finished with value: 0.25058749318122864 and parameters: {'n_layers': 11, 'n_units_l0': 127, 'activation0': 'swish', 'dropout0': 0.36316256368487215, 'n_units_l1': 80, 'activation1': 'swish', 'dropout1': 0.32857107604809227, 'n_units_l2': 198, 'activation2': 'relu', 'dropout2': 0.5661687229788925, 'n_units_l3': 304, 'activation3': 'swish', 'dropout3': 0.343211017309744, 'n_units_l4': 144, 'activation4': 'linear', 'dropout4': 0.4992551408764337, 'n_units_l5': 113, 'activation5': 'swish', 'dropout5': 0.16606366300870498, 'n_units_l6': 56, 'activation6': 'linear', 'dropout6': 0.47489701096115305, 'n_units_l7': 91, 'activation7': 'linear', 'dropout7': 0.4111971723426242, 'n_units_l8': 293, 'activation8': 'swish', 'dropout8': 0.159099685576271, 'n_units_l9': 115, 'activation9': 'relu', 'dropout9': 0.16218787987241057, 'n_units_l10': 284, 'activation10': 'relu', 'dropout10': 0.2599284631873281, 'size': 35}. Best is trial 0 with value: 0.21881206333637238.\u001b[0m\n",
      "\u001b[32m[I 2022-12-14 11:10:37,834]\u001b[0m Trial 6 finished with value: 0.22177642583847046 and parameters: {'n_layers': 6, 'n_units_l0': 244, 'activation0': 'linear', 'dropout0': 0.5142901388385986, 'n_units_l1': 300, 'activation1': 'swish', 'dropout1': 0.2590654060166815, 'n_units_l2': 150, 'activation2': 'linear', 'dropout2': 0.4053703980361565, 'n_units_l3': 311, 'activation3': 'relu', 'dropout3': 0.5348829295802316, 'n_units_l4': 56, 'activation4': 'linear', 'dropout4': 0.17289569406446606, 'n_units_l5': 98, 'activation5': 'swish', 'dropout5': 0.11706361108361615, 'size': 114}. Best is trial 0 with value: 0.21881206333637238.\u001b[0m\n",
      "\u001b[32m[I 2022-12-14 11:10:43,496]\u001b[0m Trial 7 finished with value: 0.26825231313705444 and parameters: {'n_layers': 11, 'n_units_l0': 68, 'activation0': 'swish', 'dropout0': 0.4591644055831778, 'n_units_l1': 197, 'activation1': 'linear', 'dropout1': 0.5721205578470349, 'n_units_l2': 68, 'activation2': 'relu', 'dropout2': 0.47764856477058915, 'n_units_l3': 150, 'activation3': 'linear', 'dropout3': 0.598274524600959, 'n_units_l4': 77, 'activation4': 'swish', 'dropout4': 0.4274816932742459, 'n_units_l5': 209, 'activation5': 'swish', 'dropout5': 0.1951086924902066, 'n_units_l6': 170, 'activation6': 'relu', 'dropout6': 0.17666281607809411, 'n_units_l7': 353, 'activation7': 'relu', 'dropout7': 0.3268910651983671, 'n_units_l8': 122, 'activation8': 'relu', 'dropout8': 0.15910077488058655, 'n_units_l9': 48, 'activation9': 'linear', 'dropout9': 0.39592809997986506, 'n_units_l10': 61, 'activation10': 'linear', 'dropout10': 0.5354299001982517, 'size': 97}. Best is trial 0 with value: 0.21881206333637238.\u001b[0m\n",
      "\u001b[32m[I 2022-12-14 11:10:56,052]\u001b[0m Trial 8 finished with value: 0.2743256390094757 and parameters: {'n_layers': 14, 'n_units_l0': 92, 'activation0': 'swish', 'dropout0': 0.2869044296936247, 'n_units_l1': 109, 'activation1': 'linear', 'dropout1': 0.23496693080217812, 'n_units_l2': 115, 'activation2': 'linear', 'dropout2': 0.41362228158785636, 'n_units_l3': 53, 'activation3': 'relu', 'dropout3': 0.2730406750752393, 'n_units_l4': 53, 'activation4': 'swish', 'dropout4': 0.07652495314799786, 'n_units_l5': 157, 'activation5': 'swish', 'dropout5': 0.5840048526278384, 'n_units_l6': 93, 'activation6': 'linear', 'dropout6': 0.38786650623289526, 'n_units_l7': 206, 'activation7': 'linear', 'dropout7': 0.4715038055934597, 'n_units_l8': 59, 'activation8': 'linear', 'dropout8': 0.4600493409666581, 'n_units_l9': 160, 'activation9': 'linear', 'dropout9': 0.5137880987146044, 'n_units_l10': 339, 'activation10': 'linear', 'dropout10': 0.5672739735772558, 'n_units_l11': 366, 'activation11': 'swish', 'dropout11': 0.5437833211318112, 'n_units_l12': 279, 'activation12': 'relu', 'dropout12': 0.059275876117634935, 'n_units_l13': 140, 'activation13': 'swish', 'dropout13': 0.05217458604470843, 'size': 19}. Best is trial 0 with value: 0.21881206333637238.\u001b[0m\n",
      "\u001b[32m[I 2022-12-14 11:11:16,700]\u001b[0m Trial 9 finished with value: 0.2591618597507477 and parameters: {'n_layers': 14, 'n_units_l0': 170, 'activation0': 'linear', 'dropout0': 0.336540108667518, 'n_units_l1': 55, 'activation1': 'relu', 'dropout1': 0.3528386743819948, 'n_units_l2': 96, 'activation2': 'relu', 'dropout2': 0.4946978044594312, 'n_units_l3': 182, 'activation3': 'linear', 'dropout3': 0.43406150467889754, 'n_units_l4': 48, 'activation4': 'linear', 'dropout4': 0.269979432560649, 'n_units_l5': 49, 'activation5': 'swish', 'dropout5': 0.13437630918675436, 'n_units_l6': 58, 'activation6': 'linear', 'dropout6': 0.09038052505279534, 'n_units_l7': 56, 'activation7': 'swish', 'dropout7': 0.5904900086270164, 'n_units_l8': 203, 'activation8': 'swish', 'dropout8': 0.3043352174852783, 'n_units_l9': 105, 'activation9': 'linear', 'dropout9': 0.08571571896236382, 'n_units_l10': 188, 'activation10': 'swish', 'dropout10': 0.5957005568090588, 'n_units_l11': 101, 'activation11': 'swish', 'dropout11': 0.33296126946623866, 'n_units_l12': 315, 'activation12': 'swish', 'dropout12': 0.5707901056420598, 'n_units_l13': 228, 'activation13': 'relu', 'dropout13': 0.5036083996194108, 'size': 45}. Best is trial 0 with value: 0.21881206333637238.\u001b[0m\n",
      "\u001b[32m[I 2022-12-14 11:11:24,671]\u001b[0m Trial 10 finished with value: 0.2163546085357666 and parameters: {'n_layers': 1, 'n_units_l0': 319, 'activation0': 'relu', 'dropout0': 0.1910256108800049, 'size': 81}. Best is trial 10 with value: 0.2163546085357666.\u001b[0m\n"
     ]
    },
    {
     "name": "stderr",
     "output_type": "stream",
     "text": [
      "\u001b[32m[I 2022-12-14 11:11:43,867]\u001b[0m Trial 11 finished with value: 0.21836291253566742 and parameters: {'n_layers': 1, 'n_units_l0': 298, 'activation0': 'relu', 'dropout0': 0.18977905686720536, 'size': 90}. Best is trial 10 with value: 0.2163546085357666.\u001b[0m\n",
      "\u001b[32m[I 2022-12-14 11:11:50,361]\u001b[0m Trial 12 finished with value: 0.2175169736146927 and parameters: {'n_layers': 1, 'n_units_l0': 370, 'activation0': 'relu', 'dropout0': 0.18855014835710016, 'size': 92}. Best is trial 10 with value: 0.2163546085357666.\u001b[0m\n",
      "\u001b[32m[I 2022-12-14 11:11:54,190]\u001b[0m Trial 13 finished with value: 0.22539523243904114 and parameters: {'n_layers': 6, 'n_units_l0': 333, 'activation0': 'relu', 'dropout0': 0.010485381772854546, 'n_units_l1': 48, 'activation1': 'swish', 'dropout1': 0.02288547371625599, 'n_units_l2': 225, 'activation2': 'swish', 'dropout2': 0.22798261392790523, 'n_units_l3': 87, 'activation3': 'swish', 'dropout3': 0.018901207301681933, 'n_units_l4': 382, 'activation4': 'relu', 'dropout4': 0.5968716836909342, 'n_units_l5': 346, 'activation5': 'relu', 'dropout5': 0.4675025128299021, 'size': 95}. Best is trial 10 with value: 0.2163546085357666.\u001b[0m\n",
      "\u001b[32m[I 2022-12-14 11:12:16,485]\u001b[0m Trial 14 finished with value: 0.2179332822561264 and parameters: {'n_layers': 1, 'n_units_l0': 378, 'activation0': 'relu', 'dropout0': 0.24603985384771745, 'size': 127}. Best is trial 10 with value: 0.2163546085357666.\u001b[0m\n",
      "\u001b[32m[I 2022-12-14 11:12:19,767]\u001b[0m Trial 15 finished with value: 0.21923470497131348 and parameters: {'n_layers': 6, 'n_units_l0': 220, 'activation0': 'relu', 'dropout0': 0.11655181264350116, 'n_units_l1': 203, 'activation1': 'swish', 'dropout1': 0.4459143368937525, 'n_units_l2': 48, 'activation2': 'swish', 'dropout2': 0.1371167328290669, 'n_units_l3': 87, 'activation3': 'linear', 'dropout3': 0.19578040930286744, 'n_units_l4': 365, 'activation4': 'swish', 'dropout4': 0.007668931756357189, 'n_units_l5': 55, 'activation5': 'linear', 'dropout5': 0.0059367272257462855, 'size': 87}. Best is trial 10 with value: 0.2163546085357666.\u001b[0m\n",
      "\u001b[32m[I 2022-12-14 11:12:25,120]\u001b[0m Trial 16 finished with value: 0.22793728113174438 and parameters: {'n_layers': 8, 'n_units_l0': 269, 'activation0': 'relu', 'dropout0': 0.20941553046598776, 'n_units_l1': 70, 'activation1': 'linear', 'dropout1': 0.09718200576074251, 'n_units_l2': 70, 'activation2': 'linear', 'dropout2': 0.34538459871207483, 'n_units_l3': 214, 'activation3': 'swish', 'dropout3': 0.1657005326273407, 'n_units_l4': 180, 'activation4': 'relu', 'dropout4': 0.3698460316218746, 'n_units_l5': 379, 'activation5': 'linear', 'dropout5': 0.3828171083789319, 'n_units_l6': 295, 'activation6': 'relu', 'dropout6': 0.5818821651075021, 'n_units_l7': 48, 'activation7': 'swish', 'dropout7': 0.016960517895728, 'size': 79}. Best is trial 10 with value: 0.2163546085357666.\u001b[0m\n",
      "\u001b[32m[I 2022-12-14 11:12:40,457]\u001b[0m Trial 17 finished with value: 0.21905167400836945 and parameters: {'n_layers': 1, 'n_units_l0': 180, 'activation0': 'relu', 'dropout0': 0.12690434603256867, 'size': 111}. Best is trial 10 with value: 0.2163546085357666.\u001b[0m\n",
      "\u001b[32m[I 2022-12-14 11:12:43,551]\u001b[0m Trial 18 finished with value: 0.22127684950828552 and parameters: {'n_layers': 5, 'n_units_l0': 351, 'activation0': 'relu', 'dropout0': 0.27427681991653313, 'n_units_l1': 260, 'activation1': 'linear', 'dropout1': 0.15000863815869692, 'n_units_l2': 212, 'activation2': 'linear', 'dropout2': 0.1785746595984934, 'n_units_l3': 92, 'activation3': 'swish', 'dropout3': 0.425126858730131, 'n_units_l4': 223, 'activation4': 'linear', 'dropout4': 0.5932452194766047, 'size': 80}. Best is trial 10 with value: 0.2163546085357666.\u001b[0m\n",
      "\u001b[32m[I 2022-12-14 11:13:00,077]\u001b[0m Trial 19 finished with value: 0.2548409700393677 and parameters: {'n_layers': 10, 'n_units_l0': 218, 'activation0': 'relu', 'dropout0': 0.4219121532455989, 'n_units_l1': 149, 'activation1': 'swish', 'dropout1': 0.4475830822357656, 'n_units_l2': 369, 'activation2': 'swish', 'dropout2': 0.3296265542944074, 'n_units_l3': 115, 'activation3': 'relu', 'dropout3': 0.12594310364934647, 'n_units_l4': 100, 'activation4': 'swish', 'dropout4': 0.3121329068669812, 'n_units_l5': 71, 'activation5': 'relu', 'dropout5': 0.3933729061053894, 'n_units_l6': 344, 'activation6': 'swish', 'dropout6': 0.022364197485049753, 'n_units_l7': 366, 'activation7': 'linear', 'dropout7': 0.05136551962223235, 'n_units_l8': 121, 'activation8': 'relu', 'dropout8': 0.5543408601684732, 'n_units_l9': 347, 'activation9': 'relu', 'dropout9': 0.2626978628788918, 'size': 107}. Best is trial 10 with value: 0.2163546085357666.\u001b[0m\n",
      "\u001b[32m[I 2022-12-14 11:13:05,733]\u001b[0m Trial 20 finished with value: 0.23326991498470306 and parameters: {'n_layers': 8, 'n_units_l0': 384, 'activation0': 'relu', 'dropout0': 0.050446718971514815, 'n_units_l1': 381, 'activation1': 'relu', 'dropout1': 0.19331620008102823, 'n_units_l2': 170, 'activation2': 'swish', 'dropout2': 0.1289957750509428, 'n_units_l3': 376, 'activation3': 'linear', 'dropout3': 0.26118639512406766, 'n_units_l4': 253, 'activation4': 'relu', 'dropout4': 0.48723899069476606, 'n_units_l5': 247, 'activation5': 'linear', 'dropout5': 0.5529373305087788, 'n_units_l6': 178, 'activation6': 'relu', 'dropout6': 0.2525027620566898, 'n_units_l7': 100, 'activation7': 'relu', 'dropout7': 0.16721942704310513, 'size': 76}. Best is trial 10 with value: 0.2163546085357666.\u001b[0m\n",
      "\u001b[32m[I 2022-12-14 11:13:25,184]\u001b[0m Trial 21 finished with value: 0.2188558131456375 and parameters: {'n_layers': 1, 'n_units_l0': 288, 'activation0': 'relu', 'dropout0': 0.23510059148732987, 'size': 124}. Best is trial 10 with value: 0.2163546085357666.\u001b[0m\n",
      "\u001b[32m[I 2022-12-14 11:13:27,570]\u001b[0m Trial 22 finished with value: 0.21618050336837769 and parameters: {'n_layers': 2, 'n_units_l0': 381, 'activation0': 'relu', 'dropout0': 0.24498487956400572, 'n_units_l1': 76, 'activation1': 'swish', 'dropout1': 0.39995177919058544, 'size': 128}. Best is trial 22 with value: 0.21618050336837769.\u001b[0m\n",
      "\u001b[32m[I 2022-12-14 11:13:34,980]\u001b[0m Trial 23 finished with value: 0.21883659064769745 and parameters: {'n_layers': 4, 'n_units_l0': 320, 'activation0': 'relu', 'dropout0': 0.595664675338005, 'n_units_l1': 75, 'activation1': 'swish', 'dropout1': 0.42534325103754766, 'n_units_l2': 69, 'activation2': 'relu', 'dropout2': 0.013416248798234498, 'n_units_l3': 65, 'activation3': 'swish', 'dropout3': 0.3840978178697625, 'size': 55}. Best is trial 22 with value: 0.21618050336837769.\u001b[0m\n",
      "\u001b[32m[I 2022-12-14 11:13:38,931]\u001b[0m Trial 24 finished with value: 0.21624968945980072 and parameters: {'n_layers': 2, 'n_units_l0': 249, 'activation0': 'relu', 'dropout0': 0.16903945345645757, 'n_units_l1': 62, 'activation1': 'swish', 'dropout1': 0.4967978807440604, 'size': 104}. Best is trial 22 with value: 0.21618050336837769.\u001b[0m\n",
      "\u001b[32m[I 2022-12-14 11:13:42,306]\u001b[0m Trial 25 finished with value: 0.21644462645053864 and parameters: {'n_layers': 2, 'n_units_l0': 247, 'activation0': 'relu', 'dropout0': 0.14904600551042793, 'n_units_l1': 60, 'activation1': 'swish', 'dropout1': 0.5229652954984503, 'size': 103}. Best is trial 22 with value: 0.21618050336837769.\u001b[0m\n",
      "\u001b[32m[I 2022-12-14 11:13:45,315]\u001b[0m Trial 26 finished with value: 0.2188563197851181 and parameters: {'n_layers': 4, 'n_units_l0': 197, 'activation0': 'relu', 'dropout0': 0.3273318161070058, 'n_units_l1': 91, 'activation1': 'swish', 'dropout1': 0.39141414210227016, 'n_units_l2': 262, 'activation2': 'linear', 'dropout2': 0.41721118665404433, 'n_units_l3': 216, 'activation3': 'linear', 'dropout3': 0.5014409934007336, 'size': 119}. Best is trial 22 with value: 0.21618050336837769.\u001b[0m\n",
      "\u001b[32m[I 2022-12-14 11:13:49,509]\u001b[0m Trial 27 finished with value: 0.22284317016601562 and parameters: {'n_layers': 5, 'n_units_l0': 271, 'activation0': 'relu', 'dropout0': 0.0832194053291391, 'n_units_l1': 61, 'activation1': 'swish', 'dropout1': 0.4976917967508131, 'n_units_l2': 104, 'activation2': 'swish', 'dropout2': 0.09477698446387886, 'n_units_l3': 126, 'activation3': 'relu', 'dropout3': 0.04623697691697687, 'n_units_l4': 113, 'activation4': 'swish', 'dropout4': 0.11654180703683292, 'size': 105}. Best is trial 22 with value: 0.21618050336837769.\u001b[0m\n",
      "\u001b[32m[I 2022-12-14 11:13:52,403]\u001b[0m Trial 28 finished with value: 0.21826373040676117 and parameters: {'n_layers': 2, 'n_units_l0': 320, 'activation0': 'relu', 'dropout0': 0.24607558656800835, 'n_units_l1': 48, 'activation1': 'swish', 'dropout1': 0.275066680530926, 'size': 128}. Best is trial 22 with value: 0.21618050336837769.\u001b[0m\n"
     ]
    },
    {
     "name": "stderr",
     "output_type": "stream",
     "text": [
      "\u001b[32m[I 2022-12-14 11:14:08,391]\u001b[0m Trial 29 finished with value: 0.2215261459350586 and parameters: {'n_layers': 2, 'n_units_l0': 157, 'activation0': 'swish', 'dropout0': 0.1701391006457436, 'n_units_l1': 84, 'activation1': 'swish', 'dropout1': 0.3939196267971687, 'size': 115}. Best is trial 22 with value: 0.21618050336837769.\u001b[0m\n",
      "\u001b[32m[I 2022-12-14 11:14:15,654]\u001b[0m Trial 30 finished with value: 0.22124449908733368 and parameters: {'n_layers': 4, 'n_units_l0': 213, 'activation0': 'linear', 'dropout0': 0.3034794562393292, 'n_units_l1': 149, 'activation1': 'swish', 'dropout1': 0.5041036286137975, 'n_units_l2': 81, 'activation2': 'relu', 'dropout2': 0.1960463615963017, 'n_units_l3': 69, 'activation3': 'swish', 'dropout3': 0.21188250888969154, 'size': 99}. Best is trial 22 with value: 0.21618050336837769.\u001b[0m\n",
      "\u001b[32m[I 2022-12-14 11:14:18,464]\u001b[0m Trial 31 finished with value: 0.21634136140346527 and parameters: {'n_layers': 2, 'n_units_l0': 244, 'activation0': 'relu', 'dropout0': 0.14323717070791725, 'n_units_l1': 64, 'activation1': 'swish', 'dropout1': 0.5233509260749614, 'size': 72}. Best is trial 22 with value: 0.21618050336837769.\u001b[0m\n",
      "\u001b[32m[I 2022-12-14 11:14:24,267]\u001b[0m Trial 32 finished with value: 0.2177121788263321 and parameters: {'n_layers': 2, 'n_units_l0': 247, 'activation0': 'relu', 'dropout0': 0.09828538244104368, 'n_units_l1': 68, 'activation1': 'swish', 'dropout1': 0.5968686050304486, 'size': 69}. Best is trial 22 with value: 0.21618050336837769.\u001b[0m\n",
      "\u001b[32m[I 2022-12-14 11:14:28,699]\u001b[0m Trial 33 finished with value: 0.2177680879831314 and parameters: {'n_layers': 3, 'n_units_l0': 291, 'activation0': 'relu', 'dropout0': 0.22116894750474705, 'n_units_l1': 56, 'activation1': 'swish', 'dropout1': 0.5487522968294944, 'n_units_l2': 119, 'activation2': 'linear', 'dropout2': 0.313111194939716, 'size': 72}. Best is trial 22 with value: 0.21618050336837769.\u001b[0m\n",
      "\u001b[32m[I 2022-12-14 11:14:32,386]\u001b[0m Trial 34 finished with value: 0.21716339886188507 and parameters: {'n_layers': 3, 'n_units_l0': 149, 'activation0': 'relu', 'dropout0': 0.1678427368630065, 'n_units_l1': 89, 'activation1': 'swish', 'dropout1': 0.4566881593220567, 'n_units_l2': 170, 'activation2': 'swish', 'dropout2': 0.26029509964654546, 'size': 55}. Best is trial 22 with value: 0.21618050336837769.\u001b[0m\n",
      "\u001b[32m[I 2022-12-14 11:14:37,410]\u001b[0m Trial 35 finished with value: 0.2194443941116333 and parameters: {'n_layers': 2, 'n_units_l0': 197, 'activation0': 'linear', 'dropout0': 0.0463560514729795, 'n_units_l1': 66, 'activation1': 'swish', 'dropout1': 0.4076389764684829, 'size': 83}. Best is trial 22 with value: 0.21618050336837769.\u001b[0m\n",
      "\u001b[32m[I 2022-12-14 11:14:46,205]\u001b[0m Trial 36 finished with value: 0.22081460058689117 and parameters: {'n_layers': 3, 'n_units_l0': 56, 'activation0': 'relu', 'dropout0': 0.2672097376285232, 'n_units_l1': 54, 'activation1': 'swish', 'dropout1': 0.4829441643735692, 'n_units_l2': 58, 'activation2': 'linear', 'dropout2': 0.3831157208796911, 'size': 8}. Best is trial 22 with value: 0.21618050336837769.\u001b[0m\n",
      "\u001b[32m[I 2022-12-14 11:14:53,525]\u001b[0m Trial 37 finished with value: 0.2257978916168213 and parameters: {'n_layers': 5, 'n_units_l0': 317, 'activation0': 'swish', 'dropout0': 0.14592018174123764, 'n_units_l1': 96, 'activation1': 'swish', 'dropout1': 0.3661110629996275, 'n_units_l2': 253, 'activation2': 'relu', 'dropout2': 0.5939565167790339, 'n_units_l3': 167, 'activation3': 'relu', 'dropout3': 0.5914189483748882, 'n_units_l4': 276, 'activation4': 'relu', 'dropout4': 0.25487045316630735, 'size': 62}. Best is trial 22 with value: 0.21618050336837769.\u001b[0m\n",
      "\u001b[32m[I 2022-12-14 11:14:59,311]\u001b[0m Trial 38 finished with value: 0.22244754433631897 and parameters: {'n_layers': 4, 'n_units_l0': 105, 'activation0': 'relu', 'dropout0': 0.2079383310553513, 'n_units_l1': 126, 'activation1': 'relu', 'dropout1': 0.5323761993835779, 'n_units_l2': 82, 'activation2': 'relu', 'dropout2': 0.4521201828422847, 'n_units_l3': 248, 'activation3': 'linear', 'dropout3': 0.31816007716376365, 'size': 48}. Best is trial 22 with value: 0.21618050336837769.\u001b[0m\n",
      "\u001b[32m[I 2022-12-14 11:15:06,235]\u001b[0m Trial 39 finished with value: 0.22161266207695007 and parameters: {'n_layers': 7, 'n_units_l0': 263, 'activation0': 'linear', 'dropout0': 0.10472620204907968, 'n_units_l1': 76, 'activation1': 'swish', 'dropout1': 0.3203537885028941, 'n_units_l2': 168, 'activation2': 'linear', 'dropout2': 0.17178639651021166, 'n_units_l3': 108, 'activation3': 'swish', 'dropout3': 0.10657973754576727, 'n_units_l4': 155, 'activation4': 'linear', 'dropout4': 0.3677863591486103, 'n_units_l5': 86, 'activation5': 'relu', 'dropout5': 0.017122362230431065, 'n_units_l6': 102, 'activation6': 'swish', 'dropout6': 0.29468971976807573, 'size': 120}. Best is trial 22 with value: 0.21618050336837769.\u001b[0m\n",
      "\u001b[32m[I 2022-12-14 11:15:09,641]\u001b[0m Trial 40 finished with value: 0.21943573653697968 and parameters: {'n_layers': 3, 'n_units_l0': 227, 'activation0': 'swish', 'dropout0': 0.0035457407480789793, 'n_units_l1': 122, 'activation1': 'relu', 'dropout1': 0.46967481975933595, 'n_units_l2': 282, 'activation2': 'swish', 'dropout2': 0.27018961119703266, 'size': 85}. Best is trial 22 with value: 0.21618050336837769.\u001b[0m\n",
      "\u001b[32m[I 2022-12-14 11:15:12,397]\u001b[0m Trial 41 finished with value: 0.2169763296842575 and parameters: {'n_layers': 2, 'n_units_l0': 259, 'activation0': 'relu', 'dropout0': 0.1459370203523321, 'n_units_l1': 64, 'activation1': 'swish', 'dropout1': 0.5358758089996932, 'size': 103}. Best is trial 22 with value: 0.21618050336837769.\u001b[0m\n",
      "\u001b[32m[I 2022-12-14 11:15:17,336]\u001b[0m Trial 42 finished with value: 0.21564732491970062 and parameters: {'n_layers': 2, 'n_units_l0': 244, 'activation0': 'relu', 'dropout0': 0.15857169863956014, 'n_units_l1': 57, 'activation1': 'swish', 'dropout1': 0.5988978045606418, 'size': 101}. Best is trial 42 with value: 0.21564732491970062.\u001b[0m\n",
      "\u001b[32m[I 2022-12-14 11:15:22,632]\u001b[0m Trial 43 finished with value: 0.21678806841373444 and parameters: {'n_layers': 1, 'n_units_l0': 349, 'activation0': 'relu', 'dropout0': 0.1773249839564029, 'size': 71}. Best is trial 42 with value: 0.21564732491970062.\u001b[0m\n",
      "\u001b[32m[I 2022-12-14 11:15:39,304]\u001b[0m Trial 44 finished with value: 0.2606387138366699 and parameters: {'n_layers': 15, 'n_units_l0': 191, 'activation0': 'relu', 'dropout0': 0.08025616819862809, 'n_units_l1': 52, 'activation1': 'swish', 'dropout1': 0.5977090272584511, 'n_units_l2': 120, 'activation2': 'swish', 'dropout2': 0.522993315432858, 'n_units_l3': 371, 'activation3': 'linear', 'dropout3': 0.4814701261912401, 'n_units_l4': 73, 'activation4': 'swish', 'dropout4': 0.016450329758121718, 'n_units_l5': 135, 'activation5': 'relu', 'dropout5': 0.30430514140078174, 'n_units_l6': 223, 'activation6': 'linear', 'dropout6': 0.5753945530411275, 'n_units_l7': 226, 'activation7': 'swish', 'dropout7': 0.15571744432749213, 'n_units_l8': 332, 'activation8': 'relu', 'dropout8': 0.0050981758990465975, 'n_units_l9': 52, 'activation9': 'swish', 'dropout9': 0.025870222967983636, 'n_units_l10': 82, 'activation10': 'relu', 'dropout10': 0.02052231600967469, 'n_units_l11': 49, 'activation11': 'linear', 'dropout11': 0.08996278378910944, 'n_units_l12': 50, 'activation12': 'linear', 'dropout12': 0.026063176895553763, 'n_units_l13': 48, 'activation13': 'swish', 'dropout13': 0.0010936885849140432, 'n_units_l14': 157, 'activation14': 'swish', 'dropout14': 0.025914886816692406, 'size': 92}. Best is trial 42 with value: 0.21564732491970062.\u001b[0m\n",
      "\u001b[32m[I 2022-12-14 11:15:42,857]\u001b[0m Trial 45 finished with value: 0.21532601118087769 and parameters: {'n_layers': 2, 'n_units_l0': 300, 'activation0': 'relu', 'dropout0': 0.19988153978942816, 'n_units_l1': 74, 'activation1': 'swish', 'dropout1': 0.5081126249182397, 'size': 110}. Best is trial 45 with value: 0.21532601118087769.\u001b[0m\n",
      "\u001b[32m[I 2022-12-14 11:15:46,141]\u001b[0m Trial 46 finished with value: 0.22124314308166504 and parameters: {'n_layers': 4, 'n_units_l0': 139, 'activation0': 'relu', 'dropout0': 0.2500144787331371, 'n_units_l1': 75, 'activation1': 'swish', 'dropout1': 0.5565298609561555, 'n_units_l2': 367, 'activation2': 'linear', 'dropout2': 0.36297840341379306, 'n_units_l3': 48, 'activation3': 'relu', 'dropout3': 0.3759218973482183, 'size': 115}. Best is trial 45 with value: 0.21532601118087769.\u001b[0m\n"
     ]
    },
    {
     "name": "stderr",
     "output_type": "stream",
     "text": [
      "\u001b[32m[I 2022-12-14 11:15:53,392]\u001b[0m Trial 47 finished with value: 0.21999554336071014 and parameters: {'n_layers': 3, 'n_units_l0': 296, 'activation0': 'linear', 'dropout0': 0.2954480248306342, 'n_units_l1': 61, 'activation1': 'swish', 'dropout1': 0.5070175971541119, 'n_units_l2': 302, 'activation2': 'relu', 'dropout2': 0.06617802518686805, 'size': 110}. Best is trial 45 with value: 0.21532601118087769.\u001b[0m\n",
      "\u001b[32m[I 2022-12-14 11:16:00,117]\u001b[0m Trial 48 finished with value: 0.25099387764930725 and parameters: {'n_layers': 12, 'n_units_l0': 234, 'activation0': 'relu', 'dropout0': 0.3736345500388184, 'n_units_l1': 82, 'activation1': 'swish', 'dropout1': 0.4253612923059624, 'n_units_l2': 133, 'activation2': 'swish', 'dropout2': 0.2607571329105476, 'n_units_l3': 145, 'activation3': 'linear', 'dropout3': 0.2414384458665469, 'n_units_l4': 106, 'activation4': 'linear', 'dropout4': 0.5086831919101577, 'n_units_l5': 270, 'activation5': 'linear', 'dropout5': 0.4818873856070469, 'n_units_l6': 100, 'activation6': 'swish', 'dropout6': 0.17625597754408068, 'n_units_l7': 82, 'activation7': 'linear', 'dropout7': 0.5764443180978481, 'n_units_l8': 86, 'activation8': 'linear', 'dropout8': 0.3756836053442184, 'n_units_l9': 374, 'activation9': 'swish', 'dropout9': 0.31933914199481545, 'n_units_l10': 112, 'activation10': 'swish', 'dropout10': 0.002487463635868936, 'n_units_l11': 133, 'activation11': 'linear', 'dropout11': 0.5517888097042851, 'size': 121}. Best is trial 45 with value: 0.21532601118087769.\u001b[0m\n",
      "\u001b[32m[I 2022-12-14 11:16:03,050]\u001b[0m Trial 49 finished with value: 0.22232387959957123 and parameters: {'n_layers': 2, 'n_units_l0': 73, 'activation0': 'swish', 'dropout0': 0.20506060358253367, 'n_units_l1': 103, 'activation1': 'linear', 'dropout1': 0.5804918464427368, 'size': 99}. Best is trial 45 with value: 0.21532601118087769.\u001b[0m\n"
     ]
    },
    {
     "name": "stdout",
     "output_type": "stream",
     "text": [
      "Number of finished trials: 50\n",
      "Best trial:\n",
      "  Value: 0.21532601118087769\n"
     ]
    }
   ],
   "source": [
    "study = optuna.create_study(direction=\"minimize\")\n",
    "study.optimize(objective, n_trials=50, timeout=1200)\n",
    "print(\"Number of finished trials: {}\".format(len(study.trials)))\n",
    "print(\"Best trial:\")\n",
    "trial = study.best_trial\n",
    "print(\"  Value: {}\".format(trial.value))"
   ]
  },
  {
   "cell_type": "markdown",
   "id": "88d7aaff",
   "metadata": {},
   "source": [
    "## Optimization Plots"
   ]
  },
  {
   "cell_type": "code",
   "execution_count": 39,
   "id": "a2df017d",
   "metadata": {},
   "outputs": [
    {
     "data": {
      "application/vnd.plotly.v1+json": {
       "config": {
        "plotlyServerURL": "https://plot.ly"
       },
       "data": [
        {
         "mode": "markers",
         "name": "Objective Value",
         "type": "scatter",
         "x": [
          0,
          1,
          2,
          3,
          4,
          5,
          6,
          7,
          8,
          9,
          10,
          11,
          12,
          13,
          14,
          15,
          16,
          17,
          18,
          19,
          20,
          21,
          22,
          23,
          24,
          25,
          26,
          27,
          28,
          29,
          30,
          31,
          32,
          33,
          34,
          35,
          36,
          37,
          38,
          39,
          40,
          41,
          42,
          43,
          44,
          45,
          46,
          47,
          48,
          49
         ],
         "y": [
          0.21881206333637238,
          0.22392253577709198,
          0.22018544375896454,
          0.219422847032547,
          0.286236435174942,
          0.25058749318122864,
          0.22177642583847046,
          0.26825231313705444,
          0.2743256390094757,
          0.2591618597507477,
          0.2163546085357666,
          0.21836291253566742,
          0.2175169736146927,
          0.22539523243904114,
          0.2179332822561264,
          0.21923470497131348,
          0.22793728113174438,
          0.21905167400836945,
          0.22127684950828552,
          0.2548409700393677,
          0.23326991498470306,
          0.2188558131456375,
          0.21618050336837769,
          0.21883659064769745,
          0.21624968945980072,
          0.21644462645053864,
          0.2188563197851181,
          0.22284317016601562,
          0.21826373040676117,
          0.2215261459350586,
          0.22124449908733368,
          0.21634136140346527,
          0.2177121788263321,
          0.2177680879831314,
          0.21716339886188507,
          0.2194443941116333,
          0.22081460058689117,
          0.2257978916168213,
          0.22244754433631897,
          0.22161266207695007,
          0.21943573653697968,
          0.2169763296842575,
          0.21564732491970062,
          0.21678806841373444,
          0.2606387138366699,
          0.21532601118087769,
          0.22124314308166504,
          0.21999554336071014,
          0.25099387764930725,
          0.22232387959957123
         ]
        },
        {
         "name": "Best Value",
         "type": "scatter",
         "x": [
          0,
          1,
          2,
          3,
          4,
          5,
          6,
          7,
          8,
          9,
          10,
          11,
          12,
          13,
          14,
          15,
          16,
          17,
          18,
          19,
          20,
          21,
          22,
          23,
          24,
          25,
          26,
          27,
          28,
          29,
          30,
          31,
          32,
          33,
          34,
          35,
          36,
          37,
          38,
          39,
          40,
          41,
          42,
          43,
          44,
          45,
          46,
          47,
          48,
          49
         ],
         "y": [
          0.21881206333637238,
          0.21881206333637238,
          0.21881206333637238,
          0.21881206333637238,
          0.21881206333637238,
          0.21881206333637238,
          0.21881206333637238,
          0.21881206333637238,
          0.21881206333637238,
          0.21881206333637238,
          0.2163546085357666,
          0.2163546085357666,
          0.2163546085357666,
          0.2163546085357666,
          0.2163546085357666,
          0.2163546085357666,
          0.2163546085357666,
          0.2163546085357666,
          0.2163546085357666,
          0.2163546085357666,
          0.2163546085357666,
          0.2163546085357666,
          0.21618050336837769,
          0.21618050336837769,
          0.21618050336837769,
          0.21618050336837769,
          0.21618050336837769,
          0.21618050336837769,
          0.21618050336837769,
          0.21618050336837769,
          0.21618050336837769,
          0.21618050336837769,
          0.21618050336837769,
          0.21618050336837769,
          0.21618050336837769,
          0.21618050336837769,
          0.21618050336837769,
          0.21618050336837769,
          0.21618050336837769,
          0.21618050336837769,
          0.21618050336837769,
          0.21618050336837769,
          0.21564732491970062,
          0.21564732491970062,
          0.21564732491970062,
          0.21532601118087769,
          0.21532601118087769,
          0.21532601118087769,
          0.21532601118087769,
          0.21532601118087769
         ]
        }
       ],
       "layout": {
        "template": {
         "data": {
          "bar": [
           {
            "error_x": {
             "color": "#2a3f5f"
            },
            "error_y": {
             "color": "#2a3f5f"
            },
            "marker": {
             "line": {
              "color": "#E5ECF6",
              "width": 0.5
             },
             "pattern": {
              "fillmode": "overlay",
              "size": 10,
              "solidity": 0.2
             }
            },
            "type": "bar"
           }
          ],
          "barpolar": [
           {
            "marker": {
             "line": {
              "color": "#E5ECF6",
              "width": 0.5
             },
             "pattern": {
              "fillmode": "overlay",
              "size": 10,
              "solidity": 0.2
             }
            },
            "type": "barpolar"
           }
          ],
          "carpet": [
           {
            "aaxis": {
             "endlinecolor": "#2a3f5f",
             "gridcolor": "white",
             "linecolor": "white",
             "minorgridcolor": "white",
             "startlinecolor": "#2a3f5f"
            },
            "baxis": {
             "endlinecolor": "#2a3f5f",
             "gridcolor": "white",
             "linecolor": "white",
             "minorgridcolor": "white",
             "startlinecolor": "#2a3f5f"
            },
            "type": "carpet"
           }
          ],
          "choropleth": [
           {
            "colorbar": {
             "outlinewidth": 0,
             "ticks": ""
            },
            "type": "choropleth"
           }
          ],
          "contour": [
           {
            "colorbar": {
             "outlinewidth": 0,
             "ticks": ""
            },
            "colorscale": [
             [
              0,
              "#0d0887"
             ],
             [
              0.1111111111111111,
              "#46039f"
             ],
             [
              0.2222222222222222,
              "#7201a8"
             ],
             [
              0.3333333333333333,
              "#9c179e"
             ],
             [
              0.4444444444444444,
              "#bd3786"
             ],
             [
              0.5555555555555556,
              "#d8576b"
             ],
             [
              0.6666666666666666,
              "#ed7953"
             ],
             [
              0.7777777777777778,
              "#fb9f3a"
             ],
             [
              0.8888888888888888,
              "#fdca26"
             ],
             [
              1,
              "#f0f921"
             ]
            ],
            "type": "contour"
           }
          ],
          "contourcarpet": [
           {
            "colorbar": {
             "outlinewidth": 0,
             "ticks": ""
            },
            "type": "contourcarpet"
           }
          ],
          "heatmap": [
           {
            "colorbar": {
             "outlinewidth": 0,
             "ticks": ""
            },
            "colorscale": [
             [
              0,
              "#0d0887"
             ],
             [
              0.1111111111111111,
              "#46039f"
             ],
             [
              0.2222222222222222,
              "#7201a8"
             ],
             [
              0.3333333333333333,
              "#9c179e"
             ],
             [
              0.4444444444444444,
              "#bd3786"
             ],
             [
              0.5555555555555556,
              "#d8576b"
             ],
             [
              0.6666666666666666,
              "#ed7953"
             ],
             [
              0.7777777777777778,
              "#fb9f3a"
             ],
             [
              0.8888888888888888,
              "#fdca26"
             ],
             [
              1,
              "#f0f921"
             ]
            ],
            "type": "heatmap"
           }
          ],
          "heatmapgl": [
           {
            "colorbar": {
             "outlinewidth": 0,
             "ticks": ""
            },
            "colorscale": [
             [
              0,
              "#0d0887"
             ],
             [
              0.1111111111111111,
              "#46039f"
             ],
             [
              0.2222222222222222,
              "#7201a8"
             ],
             [
              0.3333333333333333,
              "#9c179e"
             ],
             [
              0.4444444444444444,
              "#bd3786"
             ],
             [
              0.5555555555555556,
              "#d8576b"
             ],
             [
              0.6666666666666666,
              "#ed7953"
             ],
             [
              0.7777777777777778,
              "#fb9f3a"
             ],
             [
              0.8888888888888888,
              "#fdca26"
             ],
             [
              1,
              "#f0f921"
             ]
            ],
            "type": "heatmapgl"
           }
          ],
          "histogram": [
           {
            "marker": {
             "pattern": {
              "fillmode": "overlay",
              "size": 10,
              "solidity": 0.2
             }
            },
            "type": "histogram"
           }
          ],
          "histogram2d": [
           {
            "colorbar": {
             "outlinewidth": 0,
             "ticks": ""
            },
            "colorscale": [
             [
              0,
              "#0d0887"
             ],
             [
              0.1111111111111111,
              "#46039f"
             ],
             [
              0.2222222222222222,
              "#7201a8"
             ],
             [
              0.3333333333333333,
              "#9c179e"
             ],
             [
              0.4444444444444444,
              "#bd3786"
             ],
             [
              0.5555555555555556,
              "#d8576b"
             ],
             [
              0.6666666666666666,
              "#ed7953"
             ],
             [
              0.7777777777777778,
              "#fb9f3a"
             ],
             [
              0.8888888888888888,
              "#fdca26"
             ],
             [
              1,
              "#f0f921"
             ]
            ],
            "type": "histogram2d"
           }
          ],
          "histogram2dcontour": [
           {
            "colorbar": {
             "outlinewidth": 0,
             "ticks": ""
            },
            "colorscale": [
             [
              0,
              "#0d0887"
             ],
             [
              0.1111111111111111,
              "#46039f"
             ],
             [
              0.2222222222222222,
              "#7201a8"
             ],
             [
              0.3333333333333333,
              "#9c179e"
             ],
             [
              0.4444444444444444,
              "#bd3786"
             ],
             [
              0.5555555555555556,
              "#d8576b"
             ],
             [
              0.6666666666666666,
              "#ed7953"
             ],
             [
              0.7777777777777778,
              "#fb9f3a"
             ],
             [
              0.8888888888888888,
              "#fdca26"
             ],
             [
              1,
              "#f0f921"
             ]
            ],
            "type": "histogram2dcontour"
           }
          ],
          "mesh3d": [
           {
            "colorbar": {
             "outlinewidth": 0,
             "ticks": ""
            },
            "type": "mesh3d"
           }
          ],
          "parcoords": [
           {
            "line": {
             "colorbar": {
              "outlinewidth": 0,
              "ticks": ""
             }
            },
            "type": "parcoords"
           }
          ],
          "pie": [
           {
            "automargin": true,
            "type": "pie"
           }
          ],
          "scatter": [
           {
            "fillpattern": {
             "fillmode": "overlay",
             "size": 10,
             "solidity": 0.2
            },
            "type": "scatter"
           }
          ],
          "scatter3d": [
           {
            "line": {
             "colorbar": {
              "outlinewidth": 0,
              "ticks": ""
             }
            },
            "marker": {
             "colorbar": {
              "outlinewidth": 0,
              "ticks": ""
             }
            },
            "type": "scatter3d"
           }
          ],
          "scattercarpet": [
           {
            "marker": {
             "colorbar": {
              "outlinewidth": 0,
              "ticks": ""
             }
            },
            "type": "scattercarpet"
           }
          ],
          "scattergeo": [
           {
            "marker": {
             "colorbar": {
              "outlinewidth": 0,
              "ticks": ""
             }
            },
            "type": "scattergeo"
           }
          ],
          "scattergl": [
           {
            "marker": {
             "colorbar": {
              "outlinewidth": 0,
              "ticks": ""
             }
            },
            "type": "scattergl"
           }
          ],
          "scattermapbox": [
           {
            "marker": {
             "colorbar": {
              "outlinewidth": 0,
              "ticks": ""
             }
            },
            "type": "scattermapbox"
           }
          ],
          "scatterpolar": [
           {
            "marker": {
             "colorbar": {
              "outlinewidth": 0,
              "ticks": ""
             }
            },
            "type": "scatterpolar"
           }
          ],
          "scatterpolargl": [
           {
            "marker": {
             "colorbar": {
              "outlinewidth": 0,
              "ticks": ""
             }
            },
            "type": "scatterpolargl"
           }
          ],
          "scatterternary": [
           {
            "marker": {
             "colorbar": {
              "outlinewidth": 0,
              "ticks": ""
             }
            },
            "type": "scatterternary"
           }
          ],
          "surface": [
           {
            "colorbar": {
             "outlinewidth": 0,
             "ticks": ""
            },
            "colorscale": [
             [
              0,
              "#0d0887"
             ],
             [
              0.1111111111111111,
              "#46039f"
             ],
             [
              0.2222222222222222,
              "#7201a8"
             ],
             [
              0.3333333333333333,
              "#9c179e"
             ],
             [
              0.4444444444444444,
              "#bd3786"
             ],
             [
              0.5555555555555556,
              "#d8576b"
             ],
             [
              0.6666666666666666,
              "#ed7953"
             ],
             [
              0.7777777777777778,
              "#fb9f3a"
             ],
             [
              0.8888888888888888,
              "#fdca26"
             ],
             [
              1,
              "#f0f921"
             ]
            ],
            "type": "surface"
           }
          ],
          "table": [
           {
            "cells": {
             "fill": {
              "color": "#EBF0F8"
             },
             "line": {
              "color": "white"
             }
            },
            "header": {
             "fill": {
              "color": "#C8D4E3"
             },
             "line": {
              "color": "white"
             }
            },
            "type": "table"
           }
          ]
         },
         "layout": {
          "annotationdefaults": {
           "arrowcolor": "#2a3f5f",
           "arrowhead": 0,
           "arrowwidth": 1
          },
          "autotypenumbers": "strict",
          "coloraxis": {
           "colorbar": {
            "outlinewidth": 0,
            "ticks": ""
           }
          },
          "colorscale": {
           "diverging": [
            [
             0,
             "#8e0152"
            ],
            [
             0.1,
             "#c51b7d"
            ],
            [
             0.2,
             "#de77ae"
            ],
            [
             0.3,
             "#f1b6da"
            ],
            [
             0.4,
             "#fde0ef"
            ],
            [
             0.5,
             "#f7f7f7"
            ],
            [
             0.6,
             "#e6f5d0"
            ],
            [
             0.7,
             "#b8e186"
            ],
            [
             0.8,
             "#7fbc41"
            ],
            [
             0.9,
             "#4d9221"
            ],
            [
             1,
             "#276419"
            ]
           ],
           "sequential": [
            [
             0,
             "#0d0887"
            ],
            [
             0.1111111111111111,
             "#46039f"
            ],
            [
             0.2222222222222222,
             "#7201a8"
            ],
            [
             0.3333333333333333,
             "#9c179e"
            ],
            [
             0.4444444444444444,
             "#bd3786"
            ],
            [
             0.5555555555555556,
             "#d8576b"
            ],
            [
             0.6666666666666666,
             "#ed7953"
            ],
            [
             0.7777777777777778,
             "#fb9f3a"
            ],
            [
             0.8888888888888888,
             "#fdca26"
            ],
            [
             1,
             "#f0f921"
            ]
           ],
           "sequentialminus": [
            [
             0,
             "#0d0887"
            ],
            [
             0.1111111111111111,
             "#46039f"
            ],
            [
             0.2222222222222222,
             "#7201a8"
            ],
            [
             0.3333333333333333,
             "#9c179e"
            ],
            [
             0.4444444444444444,
             "#bd3786"
            ],
            [
             0.5555555555555556,
             "#d8576b"
            ],
            [
             0.6666666666666666,
             "#ed7953"
            ],
            [
             0.7777777777777778,
             "#fb9f3a"
            ],
            [
             0.8888888888888888,
             "#fdca26"
            ],
            [
             1,
             "#f0f921"
            ]
           ]
          },
          "colorway": [
           "#636efa",
           "#EF553B",
           "#00cc96",
           "#ab63fa",
           "#FFA15A",
           "#19d3f3",
           "#FF6692",
           "#B6E880",
           "#FF97FF",
           "#FECB52"
          ],
          "font": {
           "color": "#2a3f5f"
          },
          "geo": {
           "bgcolor": "white",
           "lakecolor": "white",
           "landcolor": "#E5ECF6",
           "showlakes": true,
           "showland": true,
           "subunitcolor": "white"
          },
          "hoverlabel": {
           "align": "left"
          },
          "hovermode": "closest",
          "mapbox": {
           "style": "light"
          },
          "paper_bgcolor": "white",
          "plot_bgcolor": "#E5ECF6",
          "polar": {
           "angularaxis": {
            "gridcolor": "white",
            "linecolor": "white",
            "ticks": ""
           },
           "bgcolor": "#E5ECF6",
           "radialaxis": {
            "gridcolor": "white",
            "linecolor": "white",
            "ticks": ""
           }
          },
          "scene": {
           "xaxis": {
            "backgroundcolor": "#E5ECF6",
            "gridcolor": "white",
            "gridwidth": 2,
            "linecolor": "white",
            "showbackground": true,
            "ticks": "",
            "zerolinecolor": "white"
           },
           "yaxis": {
            "backgroundcolor": "#E5ECF6",
            "gridcolor": "white",
            "gridwidth": 2,
            "linecolor": "white",
            "showbackground": true,
            "ticks": "",
            "zerolinecolor": "white"
           },
           "zaxis": {
            "backgroundcolor": "#E5ECF6",
            "gridcolor": "white",
            "gridwidth": 2,
            "linecolor": "white",
            "showbackground": true,
            "ticks": "",
            "zerolinecolor": "white"
           }
          },
          "shapedefaults": {
           "line": {
            "color": "#2a3f5f"
           }
          },
          "ternary": {
           "aaxis": {
            "gridcolor": "white",
            "linecolor": "white",
            "ticks": ""
           },
           "baxis": {
            "gridcolor": "white",
            "linecolor": "white",
            "ticks": ""
           },
           "bgcolor": "#E5ECF6",
           "caxis": {
            "gridcolor": "white",
            "linecolor": "white",
            "ticks": ""
           }
          },
          "title": {
           "x": 0.05
          },
          "xaxis": {
           "automargin": true,
           "gridcolor": "white",
           "linecolor": "white",
           "ticks": "",
           "title": {
            "standoff": 15
           },
           "zerolinecolor": "white",
           "zerolinewidth": 2
          },
          "yaxis": {
           "automargin": true,
           "gridcolor": "white",
           "linecolor": "white",
           "ticks": "",
           "title": {
            "standoff": 15
           },
           "zerolinecolor": "white",
           "zerolinewidth": 2
          }
         }
        },
        "title": {
         "text": "Optimization History Plot"
        },
        "xaxis": {
         "title": {
          "text": "Trial"
         }
        },
        "yaxis": {
         "title": {
          "text": "Objective Value"
         }
        }
       }
      },
      "text/html": [
       "<div>                            <div id=\"07347225-de31-47a8-9f94-1cba8d7ba4ad\" class=\"plotly-graph-div\" style=\"height:525px; width:100%;\"></div>            <script type=\"text/javascript\">                require([\"plotly\"], function(Plotly) {                    window.PLOTLYENV=window.PLOTLYENV || {};                                    if (document.getElementById(\"07347225-de31-47a8-9f94-1cba8d7ba4ad\")) {                    Plotly.newPlot(                        \"07347225-de31-47a8-9f94-1cba8d7ba4ad\",                        [{\"mode\":\"markers\",\"name\":\"Objective Value\",\"x\":[0,1,2,3,4,5,6,7,8,9,10,11,12,13,14,15,16,17,18,19,20,21,22,23,24,25,26,27,28,29,30,31,32,33,34,35,36,37,38,39,40,41,42,43,44,45,46,47,48,49],\"y\":[0.21881206333637238,0.22392253577709198,0.22018544375896454,0.219422847032547,0.286236435174942,0.25058749318122864,0.22177642583847046,0.26825231313705444,0.2743256390094757,0.2591618597507477,0.2163546085357666,0.21836291253566742,0.2175169736146927,0.22539523243904114,0.2179332822561264,0.21923470497131348,0.22793728113174438,0.21905167400836945,0.22127684950828552,0.2548409700393677,0.23326991498470306,0.2188558131456375,0.21618050336837769,0.21883659064769745,0.21624968945980072,0.21644462645053864,0.2188563197851181,0.22284317016601562,0.21826373040676117,0.2215261459350586,0.22124449908733368,0.21634136140346527,0.2177121788263321,0.2177680879831314,0.21716339886188507,0.2194443941116333,0.22081460058689117,0.2257978916168213,0.22244754433631897,0.22161266207695007,0.21943573653697968,0.2169763296842575,0.21564732491970062,0.21678806841373444,0.2606387138366699,0.21532601118087769,0.22124314308166504,0.21999554336071014,0.25099387764930725,0.22232387959957123],\"type\":\"scatter\"},{\"name\":\"Best Value\",\"x\":[0,1,2,3,4,5,6,7,8,9,10,11,12,13,14,15,16,17,18,19,20,21,22,23,24,25,26,27,28,29,30,31,32,33,34,35,36,37,38,39,40,41,42,43,44,45,46,47,48,49],\"y\":[0.21881206333637238,0.21881206333637238,0.21881206333637238,0.21881206333637238,0.21881206333637238,0.21881206333637238,0.21881206333637238,0.21881206333637238,0.21881206333637238,0.21881206333637238,0.2163546085357666,0.2163546085357666,0.2163546085357666,0.2163546085357666,0.2163546085357666,0.2163546085357666,0.2163546085357666,0.2163546085357666,0.2163546085357666,0.2163546085357666,0.2163546085357666,0.2163546085357666,0.21618050336837769,0.21618050336837769,0.21618050336837769,0.21618050336837769,0.21618050336837769,0.21618050336837769,0.21618050336837769,0.21618050336837769,0.21618050336837769,0.21618050336837769,0.21618050336837769,0.21618050336837769,0.21618050336837769,0.21618050336837769,0.21618050336837769,0.21618050336837769,0.21618050336837769,0.21618050336837769,0.21618050336837769,0.21618050336837769,0.21564732491970062,0.21564732491970062,0.21564732491970062,0.21532601118087769,0.21532601118087769,0.21532601118087769,0.21532601118087769,0.21532601118087769],\"type\":\"scatter\"}],                        {\"title\":{\"text\":\"Optimization History Plot\"},\"xaxis\":{\"title\":{\"text\":\"Trial\"}},\"yaxis\":{\"title\":{\"text\":\"Objective Value\"}},\"template\":{\"data\":{\"histogram2dcontour\":[{\"type\":\"histogram2dcontour\",\"colorbar\":{\"outlinewidth\":0,\"ticks\":\"\"},\"colorscale\":[[0.0,\"#0d0887\"],[0.1111111111111111,\"#46039f\"],[0.2222222222222222,\"#7201a8\"],[0.3333333333333333,\"#9c179e\"],[0.4444444444444444,\"#bd3786\"],[0.5555555555555556,\"#d8576b\"],[0.6666666666666666,\"#ed7953\"],[0.7777777777777778,\"#fb9f3a\"],[0.8888888888888888,\"#fdca26\"],[1.0,\"#f0f921\"]]}],\"choropleth\":[{\"type\":\"choropleth\",\"colorbar\":{\"outlinewidth\":0,\"ticks\":\"\"}}],\"histogram2d\":[{\"type\":\"histogram2d\",\"colorbar\":{\"outlinewidth\":0,\"ticks\":\"\"},\"colorscale\":[[0.0,\"#0d0887\"],[0.1111111111111111,\"#46039f\"],[0.2222222222222222,\"#7201a8\"],[0.3333333333333333,\"#9c179e\"],[0.4444444444444444,\"#bd3786\"],[0.5555555555555556,\"#d8576b\"],[0.6666666666666666,\"#ed7953\"],[0.7777777777777778,\"#fb9f3a\"],[0.8888888888888888,\"#fdca26\"],[1.0,\"#f0f921\"]]}],\"heatmap\":[{\"type\":\"heatmap\",\"colorbar\":{\"outlinewidth\":0,\"ticks\":\"\"},\"colorscale\":[[0.0,\"#0d0887\"],[0.1111111111111111,\"#46039f\"],[0.2222222222222222,\"#7201a8\"],[0.3333333333333333,\"#9c179e\"],[0.4444444444444444,\"#bd3786\"],[0.5555555555555556,\"#d8576b\"],[0.6666666666666666,\"#ed7953\"],[0.7777777777777778,\"#fb9f3a\"],[0.8888888888888888,\"#fdca26\"],[1.0,\"#f0f921\"]]}],\"heatmapgl\":[{\"type\":\"heatmapgl\",\"colorbar\":{\"outlinewidth\":0,\"ticks\":\"\"},\"colorscale\":[[0.0,\"#0d0887\"],[0.1111111111111111,\"#46039f\"],[0.2222222222222222,\"#7201a8\"],[0.3333333333333333,\"#9c179e\"],[0.4444444444444444,\"#bd3786\"],[0.5555555555555556,\"#d8576b\"],[0.6666666666666666,\"#ed7953\"],[0.7777777777777778,\"#fb9f3a\"],[0.8888888888888888,\"#fdca26\"],[1.0,\"#f0f921\"]]}],\"contourcarpet\":[{\"type\":\"contourcarpet\",\"colorbar\":{\"outlinewidth\":0,\"ticks\":\"\"}}],\"contour\":[{\"type\":\"contour\",\"colorbar\":{\"outlinewidth\":0,\"ticks\":\"\"},\"colorscale\":[[0.0,\"#0d0887\"],[0.1111111111111111,\"#46039f\"],[0.2222222222222222,\"#7201a8\"],[0.3333333333333333,\"#9c179e\"],[0.4444444444444444,\"#bd3786\"],[0.5555555555555556,\"#d8576b\"],[0.6666666666666666,\"#ed7953\"],[0.7777777777777778,\"#fb9f3a\"],[0.8888888888888888,\"#fdca26\"],[1.0,\"#f0f921\"]]}],\"surface\":[{\"type\":\"surface\",\"colorbar\":{\"outlinewidth\":0,\"ticks\":\"\"},\"colorscale\":[[0.0,\"#0d0887\"],[0.1111111111111111,\"#46039f\"],[0.2222222222222222,\"#7201a8\"],[0.3333333333333333,\"#9c179e\"],[0.4444444444444444,\"#bd3786\"],[0.5555555555555556,\"#d8576b\"],[0.6666666666666666,\"#ed7953\"],[0.7777777777777778,\"#fb9f3a\"],[0.8888888888888888,\"#fdca26\"],[1.0,\"#f0f921\"]]}],\"mesh3d\":[{\"type\":\"mesh3d\",\"colorbar\":{\"outlinewidth\":0,\"ticks\":\"\"}}],\"scatter\":[{\"fillpattern\":{\"fillmode\":\"overlay\",\"size\":10,\"solidity\":0.2},\"type\":\"scatter\"}],\"parcoords\":[{\"type\":\"parcoords\",\"line\":{\"colorbar\":{\"outlinewidth\":0,\"ticks\":\"\"}}}],\"scatterpolargl\":[{\"type\":\"scatterpolargl\",\"marker\":{\"colorbar\":{\"outlinewidth\":0,\"ticks\":\"\"}}}],\"bar\":[{\"error_x\":{\"color\":\"#2a3f5f\"},\"error_y\":{\"color\":\"#2a3f5f\"},\"marker\":{\"line\":{\"color\":\"#E5ECF6\",\"width\":0.5},\"pattern\":{\"fillmode\":\"overlay\",\"size\":10,\"solidity\":0.2}},\"type\":\"bar\"}],\"scattergeo\":[{\"type\":\"scattergeo\",\"marker\":{\"colorbar\":{\"outlinewidth\":0,\"ticks\":\"\"}}}],\"scatterpolar\":[{\"type\":\"scatterpolar\",\"marker\":{\"colorbar\":{\"outlinewidth\":0,\"ticks\":\"\"}}}],\"histogram\":[{\"marker\":{\"pattern\":{\"fillmode\":\"overlay\",\"size\":10,\"solidity\":0.2}},\"type\":\"histogram\"}],\"scattergl\":[{\"type\":\"scattergl\",\"marker\":{\"colorbar\":{\"outlinewidth\":0,\"ticks\":\"\"}}}],\"scatter3d\":[{\"type\":\"scatter3d\",\"line\":{\"colorbar\":{\"outlinewidth\":0,\"ticks\":\"\"}},\"marker\":{\"colorbar\":{\"outlinewidth\":0,\"ticks\":\"\"}}}],\"scattermapbox\":[{\"type\":\"scattermapbox\",\"marker\":{\"colorbar\":{\"outlinewidth\":0,\"ticks\":\"\"}}}],\"scatterternary\":[{\"type\":\"scatterternary\",\"marker\":{\"colorbar\":{\"outlinewidth\":0,\"ticks\":\"\"}}}],\"scattercarpet\":[{\"type\":\"scattercarpet\",\"marker\":{\"colorbar\":{\"outlinewidth\":0,\"ticks\":\"\"}}}],\"carpet\":[{\"aaxis\":{\"endlinecolor\":\"#2a3f5f\",\"gridcolor\":\"white\",\"linecolor\":\"white\",\"minorgridcolor\":\"white\",\"startlinecolor\":\"#2a3f5f\"},\"baxis\":{\"endlinecolor\":\"#2a3f5f\",\"gridcolor\":\"white\",\"linecolor\":\"white\",\"minorgridcolor\":\"white\",\"startlinecolor\":\"#2a3f5f\"},\"type\":\"carpet\"}],\"table\":[{\"cells\":{\"fill\":{\"color\":\"#EBF0F8\"},\"line\":{\"color\":\"white\"}},\"header\":{\"fill\":{\"color\":\"#C8D4E3\"},\"line\":{\"color\":\"white\"}},\"type\":\"table\"}],\"barpolar\":[{\"marker\":{\"line\":{\"color\":\"#E5ECF6\",\"width\":0.5},\"pattern\":{\"fillmode\":\"overlay\",\"size\":10,\"solidity\":0.2}},\"type\":\"barpolar\"}],\"pie\":[{\"automargin\":true,\"type\":\"pie\"}]},\"layout\":{\"autotypenumbers\":\"strict\",\"colorway\":[\"#636efa\",\"#EF553B\",\"#00cc96\",\"#ab63fa\",\"#FFA15A\",\"#19d3f3\",\"#FF6692\",\"#B6E880\",\"#FF97FF\",\"#FECB52\"],\"font\":{\"color\":\"#2a3f5f\"},\"hovermode\":\"closest\",\"hoverlabel\":{\"align\":\"left\"},\"paper_bgcolor\":\"white\",\"plot_bgcolor\":\"#E5ECF6\",\"polar\":{\"bgcolor\":\"#E5ECF6\",\"angularaxis\":{\"gridcolor\":\"white\",\"linecolor\":\"white\",\"ticks\":\"\"},\"radialaxis\":{\"gridcolor\":\"white\",\"linecolor\":\"white\",\"ticks\":\"\"}},\"ternary\":{\"bgcolor\":\"#E5ECF6\",\"aaxis\":{\"gridcolor\":\"white\",\"linecolor\":\"white\",\"ticks\":\"\"},\"baxis\":{\"gridcolor\":\"white\",\"linecolor\":\"white\",\"ticks\":\"\"},\"caxis\":{\"gridcolor\":\"white\",\"linecolor\":\"white\",\"ticks\":\"\"}},\"coloraxis\":{\"colorbar\":{\"outlinewidth\":0,\"ticks\":\"\"}},\"colorscale\":{\"sequential\":[[0.0,\"#0d0887\"],[0.1111111111111111,\"#46039f\"],[0.2222222222222222,\"#7201a8\"],[0.3333333333333333,\"#9c179e\"],[0.4444444444444444,\"#bd3786\"],[0.5555555555555556,\"#d8576b\"],[0.6666666666666666,\"#ed7953\"],[0.7777777777777778,\"#fb9f3a\"],[0.8888888888888888,\"#fdca26\"],[1.0,\"#f0f921\"]],\"sequentialminus\":[[0.0,\"#0d0887\"],[0.1111111111111111,\"#46039f\"],[0.2222222222222222,\"#7201a8\"],[0.3333333333333333,\"#9c179e\"],[0.4444444444444444,\"#bd3786\"],[0.5555555555555556,\"#d8576b\"],[0.6666666666666666,\"#ed7953\"],[0.7777777777777778,\"#fb9f3a\"],[0.8888888888888888,\"#fdca26\"],[1.0,\"#f0f921\"]],\"diverging\":[[0,\"#8e0152\"],[0.1,\"#c51b7d\"],[0.2,\"#de77ae\"],[0.3,\"#f1b6da\"],[0.4,\"#fde0ef\"],[0.5,\"#f7f7f7\"],[0.6,\"#e6f5d0\"],[0.7,\"#b8e186\"],[0.8,\"#7fbc41\"],[0.9,\"#4d9221\"],[1,\"#276419\"]]},\"xaxis\":{\"gridcolor\":\"white\",\"linecolor\":\"white\",\"ticks\":\"\",\"title\":{\"standoff\":15},\"zerolinecolor\":\"white\",\"automargin\":true,\"zerolinewidth\":2},\"yaxis\":{\"gridcolor\":\"white\",\"linecolor\":\"white\",\"ticks\":\"\",\"title\":{\"standoff\":15},\"zerolinecolor\":\"white\",\"automargin\":true,\"zerolinewidth\":2},\"scene\":{\"xaxis\":{\"backgroundcolor\":\"#E5ECF6\",\"gridcolor\":\"white\",\"linecolor\":\"white\",\"showbackground\":true,\"ticks\":\"\",\"zerolinecolor\":\"white\",\"gridwidth\":2},\"yaxis\":{\"backgroundcolor\":\"#E5ECF6\",\"gridcolor\":\"white\",\"linecolor\":\"white\",\"showbackground\":true,\"ticks\":\"\",\"zerolinecolor\":\"white\",\"gridwidth\":2},\"zaxis\":{\"backgroundcolor\":\"#E5ECF6\",\"gridcolor\":\"white\",\"linecolor\":\"white\",\"showbackground\":true,\"ticks\":\"\",\"zerolinecolor\":\"white\",\"gridwidth\":2}},\"shapedefaults\":{\"line\":{\"color\":\"#2a3f5f\"}},\"annotationdefaults\":{\"arrowcolor\":\"#2a3f5f\",\"arrowhead\":0,\"arrowwidth\":1},\"geo\":{\"bgcolor\":\"white\",\"landcolor\":\"#E5ECF6\",\"subunitcolor\":\"white\",\"showland\":true,\"showlakes\":true,\"lakecolor\":\"white\"},\"title\":{\"x\":0.05},\"mapbox\":{\"style\":\"light\"}}}},                        {\"responsive\": true}                    ).then(function(){\n",
       "                            \n",
       "var gd = document.getElementById('07347225-de31-47a8-9f94-1cba8d7ba4ad');\n",
       "var x = new MutationObserver(function (mutations, observer) {{\n",
       "        var display = window.getComputedStyle(gd).display;\n",
       "        if (!display || display === 'none') {{\n",
       "            console.log([gd, 'removed!']);\n",
       "            Plotly.purge(gd);\n",
       "            observer.disconnect();\n",
       "        }}\n",
       "}});\n",
       "\n",
       "// Listen for the removal of the full notebook cells\n",
       "var notebookContainer = gd.closest('#notebook-container');\n",
       "if (notebookContainer) {{\n",
       "    x.observe(notebookContainer, {childList: true});\n",
       "}}\n",
       "\n",
       "// Listen for the clearing of the current output cell\n",
       "var outputEl = gd.closest('.output');\n",
       "if (outputEl) {{\n",
       "    x.observe(outputEl, {childList: true});\n",
       "}}\n",
       "\n",
       "                        })                };                });            </script>        </div>"
      ]
     },
     "metadata": {},
     "output_type": "display_data"
    }
   ],
   "source": [
    "optuna.visualization.plot_optimization_history(study)"
   ]
  },
  {
   "cell_type": "markdown",
   "id": "2cdb3f59",
   "metadata": {},
   "source": [
    "##### Clearly the trial number 45 is the best trial"
   ]
  },
  {
   "cell_type": "code",
   "execution_count": 40,
   "id": "d8a54b69",
   "metadata": {},
   "outputs": [
    {
     "data": {
      "application/vnd.plotly.v1+json": {
       "config": {
        "plotlyServerURL": "https://plot.ly"
       },
       "data": [
        {
         "marker": {
          "color": [
           0,
           1,
           2,
           3,
           4,
           5,
           6,
           7,
           8,
           9,
           10,
           11,
           12,
           13,
           14,
           15,
           16,
           17,
           18,
           19,
           20,
           21,
           22,
           23,
           24,
           25,
           26,
           27,
           28,
           29,
           30,
           31,
           32,
           33,
           34,
           35,
           36,
           37,
           38,
           39,
           40,
           41,
           42,
           43,
           44,
           45,
           46,
           47,
           48,
           49
          ],
          "colorbar": {
           "title": {
            "text": "Trial"
           },
           "x": 1,
           "xpad": 40
          },
          "colorscale": [
           [
            0,
            "rgb(247,251,255)"
           ],
           [
            0.125,
            "rgb(222,235,247)"
           ],
           [
            0.25,
            "rgb(198,219,239)"
           ],
           [
            0.375,
            "rgb(158,202,225)"
           ],
           [
            0.5,
            "rgb(107,174,214)"
           ],
           [
            0.625,
            "rgb(66,146,198)"
           ],
           [
            0.75,
            "rgb(33,113,181)"
           ],
           [
            0.875,
            "rgb(8,81,156)"
           ],
           [
            1,
            "rgb(8,48,107)"
           ]
          ],
          "line": {
           "color": "Grey",
           "width": 0.5
          },
          "showscale": true
         },
         "mode": "markers",
         "showlegend": false,
         "type": "scatter",
         "x": [
          "linear",
          "linear",
          "swish",
          "linear",
          "relu",
          "swish",
          "linear",
          "swish",
          "swish",
          "linear",
          "relu",
          "relu",
          "relu",
          "relu",
          "relu",
          "relu",
          "relu",
          "relu",
          "relu",
          "relu",
          "relu",
          "relu",
          "relu",
          "relu",
          "relu",
          "relu",
          "relu",
          "relu",
          "relu",
          "swish",
          "linear",
          "relu",
          "relu",
          "relu",
          "relu",
          "linear",
          "relu",
          "swish",
          "relu",
          "linear",
          "swish",
          "relu",
          "relu",
          "relu",
          "relu",
          "relu",
          "relu",
          "linear",
          "relu",
          "swish"
         ],
         "xaxis": "x",
         "y": [
          0.21881206333637238,
          0.22392253577709198,
          0.22018544375896454,
          0.219422847032547,
          0.286236435174942,
          0.25058749318122864,
          0.22177642583847046,
          0.26825231313705444,
          0.2743256390094757,
          0.2591618597507477,
          0.2163546085357666,
          0.21836291253566742,
          0.2175169736146927,
          0.22539523243904114,
          0.2179332822561264,
          0.21923470497131348,
          0.22793728113174438,
          0.21905167400836945,
          0.22127684950828552,
          0.2548409700393677,
          0.23326991498470306,
          0.2188558131456375,
          0.21618050336837769,
          0.21883659064769745,
          0.21624968945980072,
          0.21644462645053864,
          0.2188563197851181,
          0.22284317016601562,
          0.21826373040676117,
          0.2215261459350586,
          0.22124449908733368,
          0.21634136140346527,
          0.2177121788263321,
          0.2177680879831314,
          0.21716339886188507,
          0.2194443941116333,
          0.22081460058689117,
          0.2257978916168213,
          0.22244754433631897,
          0.22161266207695007,
          0.21943573653697968,
          0.2169763296842575,
          0.21564732491970062,
          0.21678806841373444,
          0.2606387138366699,
          0.21532601118087769,
          0.22124314308166504,
          0.21999554336071014,
          0.25099387764930725,
          0.22232387959957123
         ],
         "yaxis": "y"
        },
        {
         "marker": {
          "color": [
           0,
           1,
           2,
           3,
           4,
           5,
           6,
           7,
           8,
           9,
           13,
           15,
           16,
           18,
           19,
           20,
           22,
           23,
           24,
           25,
           26,
           27,
           28,
           29,
           30,
           31,
           32,
           33,
           34,
           35,
           36,
           37,
           38,
           39,
           40,
           41,
           42,
           44,
           45,
           46,
           47,
           48,
           49
          ],
          "colorbar": {
           "title": {
            "text": "Trial"
           },
           "x": 1,
           "xpad": 40
          },
          "colorscale": [
           [
            0,
            "rgb(247,251,255)"
           ],
           [
            0.125,
            "rgb(222,235,247)"
           ],
           [
            0.25,
            "rgb(198,219,239)"
           ],
           [
            0.375,
            "rgb(158,202,225)"
           ],
           [
            0.5,
            "rgb(107,174,214)"
           ],
           [
            0.625,
            "rgb(66,146,198)"
           ],
           [
            0.75,
            "rgb(33,113,181)"
           ],
           [
            0.875,
            "rgb(8,81,156)"
           ],
           [
            1,
            "rgb(8,48,107)"
           ]
          ],
          "line": {
           "color": "Grey",
           "width": 0.5
          },
          "showscale": false
         },
         "mode": "markers",
         "showlegend": false,
         "type": "scatter",
         "x": [
          "relu",
          "relu",
          "relu",
          "linear",
          "relu",
          "swish",
          "swish",
          "linear",
          "linear",
          "relu",
          "swish",
          "swish",
          "linear",
          "linear",
          "swish",
          "relu",
          "swish",
          "swish",
          "swish",
          "swish",
          "swish",
          "swish",
          "swish",
          "swish",
          "swish",
          "swish",
          "swish",
          "swish",
          "swish",
          "swish",
          "swish",
          "swish",
          "relu",
          "swish",
          "relu",
          "swish",
          "swish",
          "swish",
          "swish",
          "swish",
          "swish",
          "swish",
          "linear"
         ],
         "xaxis": "x2",
         "y": [
          0.21881206333637238,
          0.22392253577709198,
          0.22018544375896454,
          0.219422847032547,
          0.286236435174942,
          0.25058749318122864,
          0.22177642583847046,
          0.26825231313705444,
          0.2743256390094757,
          0.2591618597507477,
          0.22539523243904114,
          0.21923470497131348,
          0.22793728113174438,
          0.22127684950828552,
          0.2548409700393677,
          0.23326991498470306,
          0.21618050336837769,
          0.21883659064769745,
          0.21624968945980072,
          0.21644462645053864,
          0.2188563197851181,
          0.22284317016601562,
          0.21826373040676117,
          0.2215261459350586,
          0.22124449908733368,
          0.21634136140346527,
          0.2177121788263321,
          0.2177680879831314,
          0.21716339886188507,
          0.2194443941116333,
          0.22081460058689117,
          0.2257978916168213,
          0.22244754433631897,
          0.22161266207695007,
          0.21943573653697968,
          0.2169763296842575,
          0.21564732491970062,
          0.2606387138366699,
          0.21532601118087769,
          0.22124314308166504,
          0.21999554336071014,
          0.25099387764930725,
          0.22232387959957123
         ],
         "yaxis": "y2"
        },
        {
         "marker": {
          "color": [
           4,
           5,
           7,
           8,
           9,
           44,
           48
          ],
          "colorbar": {
           "title": {
            "text": "Trial"
           },
           "x": 1,
           "xpad": 40
          },
          "colorscale": [
           [
            0,
            "rgb(247,251,255)"
           ],
           [
            0.125,
            "rgb(222,235,247)"
           ],
           [
            0.25,
            "rgb(198,219,239)"
           ],
           [
            0.375,
            "rgb(158,202,225)"
           ],
           [
            0.5,
            "rgb(107,174,214)"
           ],
           [
            0.625,
            "rgb(66,146,198)"
           ],
           [
            0.75,
            "rgb(33,113,181)"
           ],
           [
            0.875,
            "rgb(8,81,156)"
           ],
           [
            1,
            "rgb(8,48,107)"
           ]
          ],
          "line": {
           "color": "Grey",
           "width": 0.5
          },
          "showscale": false
         },
         "mode": "markers",
         "showlegend": false,
         "type": "scatter",
         "x": [
          "linear",
          "relu",
          "linear",
          "linear",
          "swish",
          "relu",
          "swish"
         ],
         "xaxis": "x3",
         "y": [
          0.286236435174942,
          0.25058749318122864,
          0.26825231313705444,
          0.2743256390094757,
          0.2591618597507477,
          0.2606387138366699,
          0.25099387764930725
         ],
         "yaxis": "y3"
        },
        {
         "marker": {
          "color": [
           4,
           8,
           9,
           44,
           48
          ],
          "colorbar": {
           "title": {
            "text": "Trial"
           },
           "x": 1,
           "xpad": 40
          },
          "colorscale": [
           [
            0,
            "rgb(247,251,255)"
           ],
           [
            0.125,
            "rgb(222,235,247)"
           ],
           [
            0.25,
            "rgb(198,219,239)"
           ],
           [
            0.375,
            "rgb(158,202,225)"
           ],
           [
            0.5,
            "rgb(107,174,214)"
           ],
           [
            0.625,
            "rgb(66,146,198)"
           ],
           [
            0.75,
            "rgb(33,113,181)"
           ],
           [
            0.875,
            "rgb(8,81,156)"
           ],
           [
            1,
            "rgb(8,48,107)"
           ]
          ],
          "line": {
           "color": "Grey",
           "width": 0.5
          },
          "showscale": false
         },
         "mode": "markers",
         "showlegend": false,
         "type": "scatter",
         "x": [
          "relu",
          "swish",
          "swish",
          "linear",
          "linear"
         ],
         "xaxis": "x4",
         "y": [
          0.286236435174942,
          0.2743256390094757,
          0.2591618597507477,
          0.2606387138366699,
          0.25099387764930725
         ],
         "yaxis": "y4"
        },
        {
         "marker": {
          "color": [
           4,
           8,
           9,
           44
          ],
          "colorbar": {
           "title": {
            "text": "Trial"
           },
           "x": 1,
           "xpad": 40
          },
          "colorscale": [
           [
            0,
            "rgb(247,251,255)"
           ],
           [
            0.125,
            "rgb(222,235,247)"
           ],
           [
            0.25,
            "rgb(198,219,239)"
           ],
           [
            0.375,
            "rgb(158,202,225)"
           ],
           [
            0.5,
            "rgb(107,174,214)"
           ],
           [
            0.625,
            "rgb(66,146,198)"
           ],
           [
            0.75,
            "rgb(33,113,181)"
           ],
           [
            0.875,
            "rgb(8,81,156)"
           ],
           [
            1,
            "rgb(8,48,107)"
           ]
          ],
          "line": {
           "color": "Grey",
           "width": 0.5
          },
          "showscale": false
         },
         "mode": "markers",
         "showlegend": false,
         "type": "scatter",
         "x": [
          "linear",
          "relu",
          "swish",
          "linear"
         ],
         "xaxis": "x5",
         "y": [
          0.286236435174942,
          0.2743256390094757,
          0.2591618597507477,
          0.2606387138366699
         ],
         "yaxis": "y5"
        },
        {
         "marker": {
          "color": [
           4,
           8,
           9,
           44
          ],
          "colorbar": {
           "title": {
            "text": "Trial"
           },
           "x": 1,
           "xpad": 40
          },
          "colorscale": [
           [
            0,
            "rgb(247,251,255)"
           ],
           [
            0.125,
            "rgb(222,235,247)"
           ],
           [
            0.25,
            "rgb(198,219,239)"
           ],
           [
            0.375,
            "rgb(158,202,225)"
           ],
           [
            0.5,
            "rgb(107,174,214)"
           ],
           [
            0.625,
            "rgb(66,146,198)"
           ],
           [
            0.75,
            "rgb(33,113,181)"
           ],
           [
            0.875,
            "rgb(8,81,156)"
           ],
           [
            1,
            "rgb(8,48,107)"
           ]
          ],
          "line": {
           "color": "Grey",
           "width": 0.5
          },
          "showscale": false
         },
         "mode": "markers",
         "showlegend": false,
         "type": "scatter",
         "x": [
          "linear",
          "swish",
          "relu",
          "swish"
         ],
         "xaxis": "x6",
         "y": [
          0.286236435174942,
          0.2743256390094757,
          0.2591618597507477,
          0.2606387138366699
         ],
         "yaxis": "y6"
        },
        {
         "marker": {
          "color": [
           44
          ],
          "colorbar": {
           "title": {
            "text": "Trial"
           },
           "x": 1,
           "xpad": 40
          },
          "colorscale": [
           [
            0,
            "rgb(247,251,255)"
           ],
           [
            0.125,
            "rgb(222,235,247)"
           ],
           [
            0.25,
            "rgb(198,219,239)"
           ],
           [
            0.375,
            "rgb(158,202,225)"
           ],
           [
            0.5,
            "rgb(107,174,214)"
           ],
           [
            0.625,
            "rgb(66,146,198)"
           ],
           [
            0.75,
            "rgb(33,113,181)"
           ],
           [
            0.875,
            "rgb(8,81,156)"
           ],
           [
            1,
            "rgb(8,48,107)"
           ]
          ],
          "line": {
           "color": "Grey",
           "width": 0.5
          },
          "showscale": false
         },
         "mode": "markers",
         "showlegend": false,
         "type": "scatter",
         "x": [
          "swish"
         ],
         "xaxis": "x7",
         "y": [
          0.2606387138366699
         ],
         "yaxis": "y7"
        },
        {
         "marker": {
          "color": [
           0,
           1,
           2,
           3,
           4,
           5,
           6,
           7,
           8,
           9,
           13,
           15,
           16,
           18,
           19,
           20,
           23,
           26,
           27,
           30,
           33,
           34,
           36,
           37,
           38,
           39,
           40,
           44,
           46,
           47,
           48
          ],
          "colorbar": {
           "title": {
            "text": "Trial"
           },
           "x": 1,
           "xpad": 40
          },
          "colorscale": [
           [
            0,
            "rgb(247,251,255)"
           ],
           [
            0.125,
            "rgb(222,235,247)"
           ],
           [
            0.25,
            "rgb(198,219,239)"
           ],
           [
            0.375,
            "rgb(158,202,225)"
           ],
           [
            0.5,
            "rgb(107,174,214)"
           ],
           [
            0.625,
            "rgb(66,146,198)"
           ],
           [
            0.75,
            "rgb(33,113,181)"
           ],
           [
            0.875,
            "rgb(8,81,156)"
           ],
           [
            1,
            "rgb(8,48,107)"
           ]
          ],
          "line": {
           "color": "Grey",
           "width": 0.5
          },
          "showscale": false
         },
         "mode": "markers",
         "showlegend": false,
         "type": "scatter",
         "x": [
          "swish",
          "linear",
          "relu",
          "relu",
          "swish",
          "relu",
          "linear",
          "relu",
          "linear",
          "relu",
          "swish",
          "swish",
          "linear",
          "linear",
          "swish",
          "swish",
          "relu",
          "linear",
          "swish",
          "relu",
          "linear",
          "swish",
          "linear",
          "relu",
          "relu",
          "linear",
          "swish",
          "swish",
          "linear",
          "relu",
          "swish"
         ],
         "xaxis": "x8",
         "y": [
          0.21881206333637238,
          0.22392253577709198,
          0.22018544375896454,
          0.219422847032547,
          0.286236435174942,
          0.25058749318122864,
          0.22177642583847046,
          0.26825231313705444,
          0.2743256390094757,
          0.2591618597507477,
          0.22539523243904114,
          0.21923470497131348,
          0.22793728113174438,
          0.22127684950828552,
          0.2548409700393677,
          0.23326991498470306,
          0.21883659064769745,
          0.2188563197851181,
          0.22284317016601562,
          0.22124449908733368,
          0.2177680879831314,
          0.21716339886188507,
          0.22081460058689117,
          0.2257978916168213,
          0.22244754433631897,
          0.22161266207695007,
          0.21943573653697968,
          0.2606387138366699,
          0.22124314308166504,
          0.21999554336071014,
          0.25099387764930725
         ],
         "yaxis": "y8"
        },
        {
         "marker": {
          "color": [
           4,
           5,
           6,
           7,
           8,
           9,
           13,
           15,
           16,
           18,
           19,
           20,
           23,
           26,
           27,
           30,
           37,
           38,
           39,
           44,
           46,
           48
          ],
          "colorbar": {
           "title": {
            "text": "Trial"
           },
           "x": 1,
           "xpad": 40
          },
          "colorscale": [
           [
            0,
            "rgb(247,251,255)"
           ],
           [
            0.125,
            "rgb(222,235,247)"
           ],
           [
            0.25,
            "rgb(198,219,239)"
           ],
           [
            0.375,
            "rgb(158,202,225)"
           ],
           [
            0.5,
            "rgb(107,174,214)"
           ],
           [
            0.625,
            "rgb(66,146,198)"
           ],
           [
            0.75,
            "rgb(33,113,181)"
           ],
           [
            0.875,
            "rgb(8,81,156)"
           ],
           [
            1,
            "rgb(8,48,107)"
           ]
          ],
          "line": {
           "color": "Grey",
           "width": 0.5
          },
          "showscale": false
         },
         "mode": "markers",
         "showlegend": false,
         "type": "scatter",
         "x": [
          "relu",
          "swish",
          "relu",
          "linear",
          "relu",
          "linear",
          "swish",
          "linear",
          "swish",
          "swish",
          "relu",
          "linear",
          "swish",
          "linear",
          "relu",
          "swish",
          "relu",
          "linear",
          "swish",
          "linear",
          "relu",
          "linear"
         ],
         "xaxis": "x9",
         "y": [
          0.286236435174942,
          0.25058749318122864,
          0.22177642583847046,
          0.26825231313705444,
          0.2743256390094757,
          0.2591618597507477,
          0.22539523243904114,
          0.21923470497131348,
          0.22793728113174438,
          0.22127684950828552,
          0.2548409700393677,
          0.23326991498470306,
          0.21883659064769745,
          0.2188563197851181,
          0.22284317016601562,
          0.22124449908733368,
          0.2257978916168213,
          0.22244754433631897,
          0.22161266207695007,
          0.2606387138366699,
          0.22124314308166504,
          0.25099387764930725
         ],
         "yaxis": "y9"
        },
        {
         "marker": {
          "color": [
           4,
           5,
           6,
           7,
           8,
           9,
           13,
           15,
           16,
           18,
           19,
           20,
           27,
           37,
           39,
           44,
           48
          ],
          "colorbar": {
           "title": {
            "text": "Trial"
           },
           "x": 1,
           "xpad": 40
          },
          "colorscale": [
           [
            0,
            "rgb(247,251,255)"
           ],
           [
            0.125,
            "rgb(222,235,247)"
           ],
           [
            0.25,
            "rgb(198,219,239)"
           ],
           [
            0.375,
            "rgb(158,202,225)"
           ],
           [
            0.5,
            "rgb(107,174,214)"
           ],
           [
            0.625,
            "rgb(66,146,198)"
           ],
           [
            0.75,
            "rgb(33,113,181)"
           ],
           [
            0.875,
            "rgb(8,81,156)"
           ],
           [
            1,
            "rgb(8,48,107)"
           ]
          ],
          "line": {
           "color": "Grey",
           "width": 0.5
          },
          "showscale": false
         },
         "mode": "markers",
         "showlegend": false,
         "type": "scatter",
         "x": [
          "relu",
          "linear",
          "linear",
          "swish",
          "swish",
          "linear",
          "relu",
          "swish",
          "relu",
          "linear",
          "swish",
          "relu",
          "swish",
          "relu",
          "linear",
          "swish",
          "linear"
         ],
         "xaxis": "x10",
         "y": [
          0.286236435174942,
          0.25058749318122864,
          0.22177642583847046,
          0.26825231313705444,
          0.2743256390094757,
          0.2591618597507477,
          0.22539523243904114,
          0.21923470497131348,
          0.22793728113174438,
          0.22127684950828552,
          0.2548409700393677,
          0.23326991498470306,
          0.22284317016601562,
          0.2257978916168213,
          0.22161266207695007,
          0.2606387138366699,
          0.25099387764930725
         ],
         "yaxis": "y10"
        },
        {
         "marker": {
          "color": [
           4,
           5,
           6,
           7,
           8,
           9,
           13,
           15,
           16,
           19,
           20,
           39,
           44,
           48
          ],
          "colorbar": {
           "title": {
            "text": "Trial"
           },
           "x": 1,
           "xpad": 40
          },
          "colorscale": [
           [
            0,
            "rgb(247,251,255)"
           ],
           [
            0.125,
            "rgb(222,235,247)"
           ],
           [
            0.25,
            "rgb(198,219,239)"
           ],
           [
            0.375,
            "rgb(158,202,225)"
           ],
           [
            0.5,
            "rgb(107,174,214)"
           ],
           [
            0.625,
            "rgb(66,146,198)"
           ],
           [
            0.75,
            "rgb(33,113,181)"
           ],
           [
            0.875,
            "rgb(8,81,156)"
           ],
           [
            1,
            "rgb(8,48,107)"
           ]
          ],
          "line": {
           "color": "Grey",
           "width": 0.5
          },
          "showscale": false
         },
         "mode": "markers",
         "showlegend": false,
         "type": "scatter",
         "x": [
          "swish",
          "swish",
          "swish",
          "swish",
          "swish",
          "swish",
          "relu",
          "linear",
          "linear",
          "relu",
          "linear",
          "relu",
          "relu",
          "linear"
         ],
         "xaxis": "x11",
         "y": [
          0.286236435174942,
          0.25058749318122864,
          0.22177642583847046,
          0.26825231313705444,
          0.2743256390094757,
          0.2591618597507477,
          0.22539523243904114,
          0.21923470497131348,
          0.22793728113174438,
          0.2548409700393677,
          0.23326991498470306,
          0.22161266207695007,
          0.2606387138366699,
          0.25099387764930725
         ],
         "yaxis": "y11"
        },
        {
         "marker": {
          "color": [
           4,
           5,
           7,
           8,
           9,
           16,
           19,
           20,
           39,
           44,
           48
          ],
          "colorbar": {
           "title": {
            "text": "Trial"
           },
           "x": 1,
           "xpad": 40
          },
          "colorscale": [
           [
            0,
            "rgb(247,251,255)"
           ],
           [
            0.125,
            "rgb(222,235,247)"
           ],
           [
            0.25,
            "rgb(198,219,239)"
           ],
           [
            0.375,
            "rgb(158,202,225)"
           ],
           [
            0.5,
            "rgb(107,174,214)"
           ],
           [
            0.625,
            "rgb(66,146,198)"
           ],
           [
            0.75,
            "rgb(33,113,181)"
           ],
           [
            0.875,
            "rgb(8,81,156)"
           ],
           [
            1,
            "rgb(8,48,107)"
           ]
          ],
          "line": {
           "color": "Grey",
           "width": 0.5
          },
          "showscale": false
         },
         "mode": "markers",
         "showlegend": false,
         "type": "scatter",
         "x": [
          "swish",
          "linear",
          "relu",
          "linear",
          "linear",
          "relu",
          "swish",
          "relu",
          "swish",
          "linear",
          "swish"
         ],
         "xaxis": "x12",
         "y": [
          0.286236435174942,
          0.25058749318122864,
          0.26825231313705444,
          0.2743256390094757,
          0.2591618597507477,
          0.22793728113174438,
          0.2548409700393677,
          0.23326991498470306,
          0.22161266207695007,
          0.2606387138366699,
          0.25099387764930725
         ],
         "yaxis": "y12"
        },
        {
         "marker": {
          "color": [
           4,
           5,
           7,
           8,
           9,
           16,
           19,
           20,
           44,
           48
          ],
          "colorbar": {
           "title": {
            "text": "Trial"
           },
           "x": 1,
           "xpad": 40
          },
          "colorscale": [
           [
            0,
            "rgb(247,251,255)"
           ],
           [
            0.125,
            "rgb(222,235,247)"
           ],
           [
            0.25,
            "rgb(198,219,239)"
           ],
           [
            0.375,
            "rgb(158,202,225)"
           ],
           [
            0.5,
            "rgb(107,174,214)"
           ],
           [
            0.625,
            "rgb(66,146,198)"
           ],
           [
            0.75,
            "rgb(33,113,181)"
           ],
           [
            0.875,
            "rgb(8,81,156)"
           ],
           [
            1,
            "rgb(8,48,107)"
           ]
          ],
          "line": {
           "color": "Grey",
           "width": 0.5
          },
          "showscale": false
         },
         "mode": "markers",
         "showlegend": false,
         "type": "scatter",
         "x": [
          "relu",
          "linear",
          "relu",
          "linear",
          "swish",
          "swish",
          "linear",
          "relu",
          "swish",
          "linear"
         ],
         "xaxis": "x13",
         "y": [
          0.286236435174942,
          0.25058749318122864,
          0.26825231313705444,
          0.2743256390094757,
          0.2591618597507477,
          0.22793728113174438,
          0.2548409700393677,
          0.23326991498470306,
          0.2606387138366699,
          0.25099387764930725
         ],
         "yaxis": "y13"
        },
        {
         "marker": {
          "color": [
           4,
           5,
           7,
           8,
           9,
           19,
           44,
           48
          ],
          "colorbar": {
           "title": {
            "text": "Trial"
           },
           "x": 1,
           "xpad": 40
          },
          "colorscale": [
           [
            0,
            "rgb(247,251,255)"
           ],
           [
            0.125,
            "rgb(222,235,247)"
           ],
           [
            0.25,
            "rgb(198,219,239)"
           ],
           [
            0.375,
            "rgb(158,202,225)"
           ],
           [
            0.5,
            "rgb(107,174,214)"
           ],
           [
            0.625,
            "rgb(66,146,198)"
           ],
           [
            0.75,
            "rgb(33,113,181)"
           ],
           [
            0.875,
            "rgb(8,81,156)"
           ],
           [
            1,
            "rgb(8,48,107)"
           ]
          ],
          "line": {
           "color": "Grey",
           "width": 0.5
          },
          "showscale": false
         },
         "mode": "markers",
         "showlegend": false,
         "type": "scatter",
         "x": [
          "linear",
          "swish",
          "relu",
          "linear",
          "swish",
          "relu",
          "relu",
          "linear"
         ],
         "xaxis": "x14",
         "y": [
          0.286236435174942,
          0.25058749318122864,
          0.26825231313705444,
          0.2743256390094757,
          0.2591618597507477,
          0.2548409700393677,
          0.2606387138366699,
          0.25099387764930725
         ],
         "yaxis": "y14"
        },
        {
         "marker": {
          "color": [
           4,
           5,
           7,
           8,
           9,
           19,
           44,
           48
          ],
          "colorbar": {
           "title": {
            "text": "Trial"
           },
           "x": 1,
           "xpad": 40
          },
          "colorscale": [
           [
            0,
            "rgb(247,251,255)"
           ],
           [
            0.125,
            "rgb(222,235,247)"
           ],
           [
            0.25,
            "rgb(198,219,239)"
           ],
           [
            0.375,
            "rgb(158,202,225)"
           ],
           [
            0.5,
            "rgb(107,174,214)"
           ],
           [
            0.625,
            "rgb(66,146,198)"
           ],
           [
            0.75,
            "rgb(33,113,181)"
           ],
           [
            0.875,
            "rgb(8,81,156)"
           ],
           [
            1,
            "rgb(8,48,107)"
           ]
          ],
          "line": {
           "color": "Grey",
           "width": 0.5
          },
          "showscale": false
         },
         "mode": "markers",
         "showlegend": false,
         "type": "scatter",
         "x": [
          "swish",
          "relu",
          "linear",
          "linear",
          "linear",
          "relu",
          "swish",
          "swish"
         ],
         "xaxis": "x15",
         "y": [
          0.286236435174942,
          0.25058749318122864,
          0.26825231313705444,
          0.2743256390094757,
          0.2591618597507477,
          0.2548409700393677,
          0.2606387138366699,
          0.25099387764930725
         ],
         "yaxis": "y15"
        },
        {
         "marker": {
          "color": [
           0,
           1,
           2,
           3,
           4,
           5,
           6,
           7,
           8,
           9,
           10,
           11,
           12,
           13,
           14,
           15,
           16,
           17,
           18,
           19,
           20,
           21,
           22,
           23,
           24,
           25,
           26,
           27,
           28,
           29,
           30,
           31,
           32,
           33,
           34,
           35,
           36,
           37,
           38,
           39,
           40,
           41,
           42,
           43,
           44,
           45,
           46,
           47,
           48,
           49
          ],
          "colorbar": {
           "title": {
            "text": "Trial"
           },
           "x": 1,
           "xpad": 40
          },
          "colorscale": [
           [
            0,
            "rgb(247,251,255)"
           ],
           [
            0.125,
            "rgb(222,235,247)"
           ],
           [
            0.25,
            "rgb(198,219,239)"
           ],
           [
            0.375,
            "rgb(158,202,225)"
           ],
           [
            0.5,
            "rgb(107,174,214)"
           ],
           [
            0.625,
            "rgb(66,146,198)"
           ],
           [
            0.75,
            "rgb(33,113,181)"
           ],
           [
            0.875,
            "rgb(8,81,156)"
           ],
           [
            1,
            "rgb(8,48,107)"
           ]
          ],
          "line": {
           "color": "Grey",
           "width": 0.5
          },
          "showscale": false
         },
         "mode": "markers",
         "showlegend": false,
         "type": "scatter",
         "x": [
          0.19004547957991733,
          0.5103649334133026,
          0.132377962738476,
          0.0641576889147794,
          0.37364378060135484,
          0.36316256368487215,
          0.5142901388385986,
          0.4591644055831778,
          0.2869044296936247,
          0.336540108667518,
          0.1910256108800049,
          0.18977905686720536,
          0.18855014835710016,
          0.010485381772854546,
          0.24603985384771745,
          0.11655181264350116,
          0.20941553046598776,
          0.12690434603256867,
          0.27427681991653313,
          0.4219121532455989,
          0.050446718971514815,
          0.23510059148732987,
          0.24498487956400572,
          0.595664675338005,
          0.16903945345645757,
          0.14904600551042793,
          0.3273318161070058,
          0.0832194053291391,
          0.24607558656800835,
          0.1701391006457436,
          0.3034794562393292,
          0.14323717070791725,
          0.09828538244104368,
          0.22116894750474705,
          0.1678427368630065,
          0.0463560514729795,
          0.2672097376285232,
          0.14592018174123764,
          0.2079383310553513,
          0.10472620204907968,
          0.0035457407480789793,
          0.1459370203523321,
          0.15857169863956014,
          0.1773249839564029,
          0.08025616819862809,
          0.19988153978942816,
          0.2500144787331371,
          0.2954480248306342,
          0.3736345500388184,
          0.20506060358253367
         ],
         "xaxis": "x16",
         "y": [
          0.21881206333637238,
          0.22392253577709198,
          0.22018544375896454,
          0.219422847032547,
          0.286236435174942,
          0.25058749318122864,
          0.22177642583847046,
          0.26825231313705444,
          0.2743256390094757,
          0.2591618597507477,
          0.2163546085357666,
          0.21836291253566742,
          0.2175169736146927,
          0.22539523243904114,
          0.2179332822561264,
          0.21923470497131348,
          0.22793728113174438,
          0.21905167400836945,
          0.22127684950828552,
          0.2548409700393677,
          0.23326991498470306,
          0.2188558131456375,
          0.21618050336837769,
          0.21883659064769745,
          0.21624968945980072,
          0.21644462645053864,
          0.2188563197851181,
          0.22284317016601562,
          0.21826373040676117,
          0.2215261459350586,
          0.22124449908733368,
          0.21634136140346527,
          0.2177121788263321,
          0.2177680879831314,
          0.21716339886188507,
          0.2194443941116333,
          0.22081460058689117,
          0.2257978916168213,
          0.22244754433631897,
          0.22161266207695007,
          0.21943573653697968,
          0.2169763296842575,
          0.21564732491970062,
          0.21678806841373444,
          0.2606387138366699,
          0.21532601118087769,
          0.22124314308166504,
          0.21999554336071014,
          0.25099387764930725,
          0.22232387959957123
         ],
         "yaxis": "y16"
        },
        {
         "marker": {
          "color": [
           0,
           1,
           2,
           3,
           4,
           5,
           6,
           7,
           8,
           9,
           13,
           15,
           16,
           18,
           19,
           20,
           22,
           23,
           24,
           25,
           26,
           27,
           28,
           29,
           30,
           31,
           32,
           33,
           34,
           35,
           36,
           37,
           38,
           39,
           40,
           41,
           42,
           44,
           45,
           46,
           47,
           48,
           49
          ],
          "colorbar": {
           "title": {
            "text": "Trial"
           },
           "x": 1,
           "xpad": 40
          },
          "colorscale": [
           [
            0,
            "rgb(247,251,255)"
           ],
           [
            0.125,
            "rgb(222,235,247)"
           ],
           [
            0.25,
            "rgb(198,219,239)"
           ],
           [
            0.375,
            "rgb(158,202,225)"
           ],
           [
            0.5,
            "rgb(107,174,214)"
           ],
           [
            0.625,
            "rgb(66,146,198)"
           ],
           [
            0.75,
            "rgb(33,113,181)"
           ],
           [
            0.875,
            "rgb(8,81,156)"
           ],
           [
            1,
            "rgb(8,48,107)"
           ]
          ],
          "line": {
           "color": "Grey",
           "width": 0.5
          },
          "showscale": false
         },
         "mode": "markers",
         "showlegend": false,
         "type": "scatter",
         "x": [
          0.04792471340208768,
          0.34643082345583687,
          0.5735465368729223,
          0.1508291619094913,
          0.4933884397000381,
          0.32857107604809227,
          0.2590654060166815,
          0.5721205578470349,
          0.23496693080217812,
          0.3528386743819948,
          0.02288547371625599,
          0.4459143368937525,
          0.09718200576074251,
          0.15000863815869692,
          0.4475830822357656,
          0.19331620008102823,
          0.39995177919058544,
          0.42534325103754766,
          0.4967978807440604,
          0.5229652954984503,
          0.39141414210227016,
          0.4976917967508131,
          0.275066680530926,
          0.3939196267971687,
          0.5041036286137975,
          0.5233509260749614,
          0.5968686050304486,
          0.5487522968294944,
          0.4566881593220567,
          0.4076389764684829,
          0.4829441643735692,
          0.3661110629996275,
          0.5323761993835779,
          0.3203537885028941,
          0.46967481975933595,
          0.5358758089996932,
          0.5988978045606418,
          0.5977090272584511,
          0.5081126249182397,
          0.5565298609561555,
          0.5070175971541119,
          0.4253612923059624,
          0.5804918464427368
         ],
         "xaxis": "x17",
         "y": [
          0.21881206333637238,
          0.22392253577709198,
          0.22018544375896454,
          0.219422847032547,
          0.286236435174942,
          0.25058749318122864,
          0.22177642583847046,
          0.26825231313705444,
          0.2743256390094757,
          0.2591618597507477,
          0.22539523243904114,
          0.21923470497131348,
          0.22793728113174438,
          0.22127684950828552,
          0.2548409700393677,
          0.23326991498470306,
          0.21618050336837769,
          0.21883659064769745,
          0.21624968945980072,
          0.21644462645053864,
          0.2188563197851181,
          0.22284317016601562,
          0.21826373040676117,
          0.2215261459350586,
          0.22124449908733368,
          0.21634136140346527,
          0.2177121788263321,
          0.2177680879831314,
          0.21716339886188507,
          0.2194443941116333,
          0.22081460058689117,
          0.2257978916168213,
          0.22244754433631897,
          0.22161266207695007,
          0.21943573653697968,
          0.2169763296842575,
          0.21564732491970062,
          0.2606387138366699,
          0.21532601118087769,
          0.22124314308166504,
          0.21999554336071014,
          0.25099387764930725,
          0.22232387959957123
         ],
         "yaxis": "y17"
        },
        {
         "marker": {
          "color": [
           4,
           5,
           7,
           8,
           9,
           44,
           48
          ],
          "colorbar": {
           "title": {
            "text": "Trial"
           },
           "x": 1,
           "xpad": 40
          },
          "colorscale": [
           [
            0,
            "rgb(247,251,255)"
           ],
           [
            0.125,
            "rgb(222,235,247)"
           ],
           [
            0.25,
            "rgb(198,219,239)"
           ],
           [
            0.375,
            "rgb(158,202,225)"
           ],
           [
            0.5,
            "rgb(107,174,214)"
           ],
           [
            0.625,
            "rgb(66,146,198)"
           ],
           [
            0.75,
            "rgb(33,113,181)"
           ],
           [
            0.875,
            "rgb(8,81,156)"
           ],
           [
            1,
            "rgb(8,48,107)"
           ]
          ],
          "line": {
           "color": "Grey",
           "width": 0.5
          },
          "showscale": false
         },
         "mode": "markers",
         "showlegend": false,
         "type": "scatter",
         "x": [
          0.2732733666167075,
          0.2599284631873281,
          0.5354299001982517,
          0.5672739735772558,
          0.5957005568090588,
          0.02052231600967469,
          0.002487463635868936
         ],
         "xaxis": "x18",
         "y": [
          0.286236435174942,
          0.25058749318122864,
          0.26825231313705444,
          0.2743256390094757,
          0.2591618597507477,
          0.2606387138366699,
          0.25099387764930725
         ],
         "yaxis": "y18"
        },
        {
         "marker": {
          "color": [
           4,
           8,
           9,
           44,
           48
          ],
          "colorbar": {
           "title": {
            "text": "Trial"
           },
           "x": 1,
           "xpad": 40
          },
          "colorscale": [
           [
            0,
            "rgb(247,251,255)"
           ],
           [
            0.125,
            "rgb(222,235,247)"
           ],
           [
            0.25,
            "rgb(198,219,239)"
           ],
           [
            0.375,
            "rgb(158,202,225)"
           ],
           [
            0.5,
            "rgb(107,174,214)"
           ],
           [
            0.625,
            "rgb(66,146,198)"
           ],
           [
            0.75,
            "rgb(33,113,181)"
           ],
           [
            0.875,
            "rgb(8,81,156)"
           ],
           [
            1,
            "rgb(8,48,107)"
           ]
          ],
          "line": {
           "color": "Grey",
           "width": 0.5
          },
          "showscale": false
         },
         "mode": "markers",
         "showlegend": false,
         "type": "scatter",
         "x": [
          0.07477970528485113,
          0.5437833211318112,
          0.33296126946623866,
          0.08996278378910944,
          0.5517888097042851
         ],
         "xaxis": "x19",
         "y": [
          0.286236435174942,
          0.2743256390094757,
          0.2591618597507477,
          0.2606387138366699,
          0.25099387764930725
         ],
         "yaxis": "y19"
        },
        {
         "marker": {
          "color": [
           4,
           8,
           9,
           44
          ],
          "colorbar": {
           "title": {
            "text": "Trial"
           },
           "x": 1,
           "xpad": 40
          },
          "colorscale": [
           [
            0,
            "rgb(247,251,255)"
           ],
           [
            0.125,
            "rgb(222,235,247)"
           ],
           [
            0.25,
            "rgb(198,219,239)"
           ],
           [
            0.375,
            "rgb(158,202,225)"
           ],
           [
            0.5,
            "rgb(107,174,214)"
           ],
           [
            0.625,
            "rgb(66,146,198)"
           ],
           [
            0.75,
            "rgb(33,113,181)"
           ],
           [
            0.875,
            "rgb(8,81,156)"
           ],
           [
            1,
            "rgb(8,48,107)"
           ]
          ],
          "line": {
           "color": "Grey",
           "width": 0.5
          },
          "showscale": false
         },
         "mode": "markers",
         "showlegend": false,
         "type": "scatter",
         "x": [
          0.5751783108013758,
          0.059275876117634935,
          0.5707901056420598,
          0.026063176895553763
         ],
         "xaxis": "x20",
         "y": [
          0.286236435174942,
          0.2743256390094757,
          0.2591618597507477,
          0.2606387138366699
         ],
         "yaxis": "y20"
        },
        {
         "marker": {
          "color": [
           4,
           8,
           9,
           44
          ],
          "colorbar": {
           "title": {
            "text": "Trial"
           },
           "x": 1,
           "xpad": 40
          },
          "colorscale": [
           [
            0,
            "rgb(247,251,255)"
           ],
           [
            0.125,
            "rgb(222,235,247)"
           ],
           [
            0.25,
            "rgb(198,219,239)"
           ],
           [
            0.375,
            "rgb(158,202,225)"
           ],
           [
            0.5,
            "rgb(107,174,214)"
           ],
           [
            0.625,
            "rgb(66,146,198)"
           ],
           [
            0.75,
            "rgb(33,113,181)"
           ],
           [
            0.875,
            "rgb(8,81,156)"
           ],
           [
            1,
            "rgb(8,48,107)"
           ]
          ],
          "line": {
           "color": "Grey",
           "width": 0.5
          },
          "showscale": false
         },
         "mode": "markers",
         "showlegend": false,
         "type": "scatter",
         "x": [
          0.5642793061808266,
          0.05217458604470843,
          0.5036083996194108,
          0.0010936885849140432
         ],
         "xaxis": "x21",
         "y": [
          0.286236435174942,
          0.2743256390094757,
          0.2591618597507477,
          0.2606387138366699
         ],
         "yaxis": "y21"
        },
        {
         "marker": {
          "color": [
           44
          ],
          "colorbar": {
           "title": {
            "text": "Trial"
           },
           "x": 1,
           "xpad": 40
          },
          "colorscale": [
           [
            0,
            "rgb(247,251,255)"
           ],
           [
            0.125,
            "rgb(222,235,247)"
           ],
           [
            0.25,
            "rgb(198,219,239)"
           ],
           [
            0.375,
            "rgb(158,202,225)"
           ],
           [
            0.5,
            "rgb(107,174,214)"
           ],
           [
            0.625,
            "rgb(66,146,198)"
           ],
           [
            0.75,
            "rgb(33,113,181)"
           ],
           [
            0.875,
            "rgb(8,81,156)"
           ],
           [
            1,
            "rgb(8,48,107)"
           ]
          ],
          "line": {
           "color": "Grey",
           "width": 0.5
          },
          "showscale": false
         },
         "mode": "markers",
         "showlegend": false,
         "type": "scatter",
         "x": [
          0.025914886816692406
         ],
         "xaxis": "x22",
         "y": [
          0.2606387138366699
         ],
         "yaxis": "y22"
        },
        {
         "marker": {
          "color": [
           0,
           1,
           2,
           3,
           4,
           5,
           6,
           7,
           8,
           9,
           13,
           15,
           16,
           18,
           19,
           20,
           23,
           26,
           27,
           30,
           33,
           34,
           36,
           37,
           38,
           39,
           40,
           44,
           46,
           47,
           48
          ],
          "colorbar": {
           "title": {
            "text": "Trial"
           },
           "x": 1,
           "xpad": 40
          },
          "colorscale": [
           [
            0,
            "rgb(247,251,255)"
           ],
           [
            0.125,
            "rgb(222,235,247)"
           ],
           [
            0.25,
            "rgb(198,219,239)"
           ],
           [
            0.375,
            "rgb(158,202,225)"
           ],
           [
            0.5,
            "rgb(107,174,214)"
           ],
           [
            0.625,
            "rgb(66,146,198)"
           ],
           [
            0.75,
            "rgb(33,113,181)"
           ],
           [
            0.875,
            "rgb(8,81,156)"
           ],
           [
            1,
            "rgb(8,48,107)"
           ]
          ],
          "line": {
           "color": "Grey",
           "width": 0.5
          },
          "showscale": false
         },
         "mode": "markers",
         "showlegend": false,
         "type": "scatter",
         "x": [
          0.26187494688338386,
          0.5690516948954789,
          0.03234779213218133,
          0.06134946198652913,
          0.517862762243501,
          0.5661687229788925,
          0.4053703980361565,
          0.47764856477058915,
          0.41362228158785636,
          0.4946978044594312,
          0.22798261392790523,
          0.1371167328290669,
          0.34538459871207483,
          0.1785746595984934,
          0.3296265542944074,
          0.1289957750509428,
          0.013416248798234498,
          0.41721118665404433,
          0.09477698446387886,
          0.1960463615963017,
          0.313111194939716,
          0.26029509964654546,
          0.3831157208796911,
          0.5939565167790339,
          0.4521201828422847,
          0.17178639651021166,
          0.27018961119703266,
          0.522993315432858,
          0.36297840341379306,
          0.06617802518686805,
          0.2607571329105476
         ],
         "xaxis": "x23",
         "y": [
          0.21881206333637238,
          0.22392253577709198,
          0.22018544375896454,
          0.219422847032547,
          0.286236435174942,
          0.25058749318122864,
          0.22177642583847046,
          0.26825231313705444,
          0.2743256390094757,
          0.2591618597507477,
          0.22539523243904114,
          0.21923470497131348,
          0.22793728113174438,
          0.22127684950828552,
          0.2548409700393677,
          0.23326991498470306,
          0.21883659064769745,
          0.2188563197851181,
          0.22284317016601562,
          0.22124449908733368,
          0.2177680879831314,
          0.21716339886188507,
          0.22081460058689117,
          0.2257978916168213,
          0.22244754433631897,
          0.22161266207695007,
          0.21943573653697968,
          0.2606387138366699,
          0.22124314308166504,
          0.21999554336071014,
          0.25099387764930725
         ],
         "yaxis": "y23"
        },
        {
         "marker": {
          "color": [
           4,
           5,
           6,
           7,
           8,
           9,
           13,
           15,
           16,
           18,
           19,
           20,
           23,
           26,
           27,
           30,
           37,
           38,
           39,
           44,
           46,
           48
          ],
          "colorbar": {
           "title": {
            "text": "Trial"
           },
           "x": 1,
           "xpad": 40
          },
          "colorscale": [
           [
            0,
            "rgb(247,251,255)"
           ],
           [
            0.125,
            "rgb(222,235,247)"
           ],
           [
            0.25,
            "rgb(198,219,239)"
           ],
           [
            0.375,
            "rgb(158,202,225)"
           ],
           [
            0.5,
            "rgb(107,174,214)"
           ],
           [
            0.625,
            "rgb(66,146,198)"
           ],
           [
            0.75,
            "rgb(33,113,181)"
           ],
           [
            0.875,
            "rgb(8,81,156)"
           ],
           [
            1,
            "rgb(8,48,107)"
           ]
          ],
          "line": {
           "color": "Grey",
           "width": 0.5
          },
          "showscale": false
         },
         "mode": "markers",
         "showlegend": false,
         "type": "scatter",
         "x": [
          0.07673594431771992,
          0.343211017309744,
          0.5348829295802316,
          0.598274524600959,
          0.2730406750752393,
          0.43406150467889754,
          0.018901207301681933,
          0.19578040930286744,
          0.1657005326273407,
          0.425126858730131,
          0.12594310364934647,
          0.26118639512406766,
          0.3840978178697625,
          0.5014409934007336,
          0.04623697691697687,
          0.21188250888969154,
          0.5914189483748882,
          0.31816007716376365,
          0.10657973754576727,
          0.4814701261912401,
          0.3759218973482183,
          0.2414384458665469
         ],
         "xaxis": "x24",
         "y": [
          0.286236435174942,
          0.25058749318122864,
          0.22177642583847046,
          0.26825231313705444,
          0.2743256390094757,
          0.2591618597507477,
          0.22539523243904114,
          0.21923470497131348,
          0.22793728113174438,
          0.22127684950828552,
          0.2548409700393677,
          0.23326991498470306,
          0.21883659064769745,
          0.2188563197851181,
          0.22284317016601562,
          0.22124449908733368,
          0.2257978916168213,
          0.22244754433631897,
          0.22161266207695007,
          0.2606387138366699,
          0.22124314308166504,
          0.25099387764930725
         ],
         "yaxis": "y24"
        },
        {
         "marker": {
          "color": [
           4,
           5,
           6,
           7,
           8,
           9,
           13,
           15,
           16,
           18,
           19,
           20,
           27,
           37,
           39,
           44,
           48
          ],
          "colorbar": {
           "title": {
            "text": "Trial"
           },
           "x": 1,
           "xpad": 40
          },
          "colorscale": [
           [
            0,
            "rgb(247,251,255)"
           ],
           [
            0.125,
            "rgb(222,235,247)"
           ],
           [
            0.25,
            "rgb(198,219,239)"
           ],
           [
            0.375,
            "rgb(158,202,225)"
           ],
           [
            0.5,
            "rgb(107,174,214)"
           ],
           [
            0.625,
            "rgb(66,146,198)"
           ],
           [
            0.75,
            "rgb(33,113,181)"
           ],
           [
            0.875,
            "rgb(8,81,156)"
           ],
           [
            1,
            "rgb(8,48,107)"
           ]
          ],
          "line": {
           "color": "Grey",
           "width": 0.5
          },
          "showscale": false
         },
         "mode": "markers",
         "showlegend": false,
         "type": "scatter",
         "x": [
          0.1940959833632564,
          0.4992551408764337,
          0.17289569406446606,
          0.4274816932742459,
          0.07652495314799786,
          0.269979432560649,
          0.5968716836909342,
          0.007668931756357189,
          0.3698460316218746,
          0.5932452194766047,
          0.3121329068669812,
          0.48723899069476606,
          0.11654180703683292,
          0.25487045316630735,
          0.3677863591486103,
          0.016450329758121718,
          0.5086831919101577
         ],
         "xaxis": "x25",
         "y": [
          0.286236435174942,
          0.25058749318122864,
          0.22177642583847046,
          0.26825231313705444,
          0.2743256390094757,
          0.2591618597507477,
          0.22539523243904114,
          0.21923470497131348,
          0.22793728113174438,
          0.22127684950828552,
          0.2548409700393677,
          0.23326991498470306,
          0.22284317016601562,
          0.2257978916168213,
          0.22161266207695007,
          0.2606387138366699,
          0.25099387764930725
         ],
         "yaxis": "y25"
        },
        {
         "marker": {
          "color": [
           4,
           5,
           6,
           7,
           8,
           9,
           13,
           15,
           16,
           19,
           20,
           39,
           44,
           48
          ],
          "colorbar": {
           "title": {
            "text": "Trial"
           },
           "x": 1,
           "xpad": 40
          },
          "colorscale": [
           [
            0,
            "rgb(247,251,255)"
           ],
           [
            0.125,
            "rgb(222,235,247)"
           ],
           [
            0.25,
            "rgb(198,219,239)"
           ],
           [
            0.375,
            "rgb(158,202,225)"
           ],
           [
            0.5,
            "rgb(107,174,214)"
           ],
           [
            0.625,
            "rgb(66,146,198)"
           ],
           [
            0.75,
            "rgb(33,113,181)"
           ],
           [
            0.875,
            "rgb(8,81,156)"
           ],
           [
            1,
            "rgb(8,48,107)"
           ]
          ],
          "line": {
           "color": "Grey",
           "width": 0.5
          },
          "showscale": false
         },
         "mode": "markers",
         "showlegend": false,
         "type": "scatter",
         "x": [
          0.26082483338336,
          0.16606366300870498,
          0.11706361108361615,
          0.1951086924902066,
          0.5840048526278384,
          0.13437630918675436,
          0.4675025128299021,
          0.0059367272257462855,
          0.3828171083789319,
          0.3933729061053894,
          0.5529373305087788,
          0.017122362230431065,
          0.30430514140078174,
          0.4818873856070469
         ],
         "xaxis": "x26",
         "y": [
          0.286236435174942,
          0.25058749318122864,
          0.22177642583847046,
          0.26825231313705444,
          0.2743256390094757,
          0.2591618597507477,
          0.22539523243904114,
          0.21923470497131348,
          0.22793728113174438,
          0.2548409700393677,
          0.23326991498470306,
          0.22161266207695007,
          0.2606387138366699,
          0.25099387764930725
         ],
         "yaxis": "y26"
        },
        {
         "marker": {
          "color": [
           4,
           5,
           7,
           8,
           9,
           16,
           19,
           20,
           39,
           44,
           48
          ],
          "colorbar": {
           "title": {
            "text": "Trial"
           },
           "x": 1,
           "xpad": 40
          },
          "colorscale": [
           [
            0,
            "rgb(247,251,255)"
           ],
           [
            0.125,
            "rgb(222,235,247)"
           ],
           [
            0.25,
            "rgb(198,219,239)"
           ],
           [
            0.375,
            "rgb(158,202,225)"
           ],
           [
            0.5,
            "rgb(107,174,214)"
           ],
           [
            0.625,
            "rgb(66,146,198)"
           ],
           [
            0.75,
            "rgb(33,113,181)"
           ],
           [
            0.875,
            "rgb(8,81,156)"
           ],
           [
            1,
            "rgb(8,48,107)"
           ]
          ],
          "line": {
           "color": "Grey",
           "width": 0.5
          },
          "showscale": false
         },
         "mode": "markers",
         "showlegend": false,
         "type": "scatter",
         "x": [
          0.4620863187323671,
          0.47489701096115305,
          0.17666281607809411,
          0.38786650623289526,
          0.09038052505279534,
          0.5818821651075021,
          0.022364197485049753,
          0.2525027620566898,
          0.29468971976807573,
          0.5753945530411275,
          0.17625597754408068
         ],
         "xaxis": "x27",
         "y": [
          0.286236435174942,
          0.25058749318122864,
          0.26825231313705444,
          0.2743256390094757,
          0.2591618597507477,
          0.22793728113174438,
          0.2548409700393677,
          0.23326991498470306,
          0.22161266207695007,
          0.2606387138366699,
          0.25099387764930725
         ],
         "yaxis": "y27"
        },
        {
         "marker": {
          "color": [
           4,
           5,
           7,
           8,
           9,
           16,
           19,
           20,
           44,
           48
          ],
          "colorbar": {
           "title": {
            "text": "Trial"
           },
           "x": 1,
           "xpad": 40
          },
          "colorscale": [
           [
            0,
            "rgb(247,251,255)"
           ],
           [
            0.125,
            "rgb(222,235,247)"
           ],
           [
            0.25,
            "rgb(198,219,239)"
           ],
           [
            0.375,
            "rgb(158,202,225)"
           ],
           [
            0.5,
            "rgb(107,174,214)"
           ],
           [
            0.625,
            "rgb(66,146,198)"
           ],
           [
            0.75,
            "rgb(33,113,181)"
           ],
           [
            0.875,
            "rgb(8,81,156)"
           ],
           [
            1,
            "rgb(8,48,107)"
           ]
          ],
          "line": {
           "color": "Grey",
           "width": 0.5
          },
          "showscale": false
         },
         "mode": "markers",
         "showlegend": false,
         "type": "scatter",
         "x": [
          0.2895829644349025,
          0.4111971723426242,
          0.3268910651983671,
          0.4715038055934597,
          0.5904900086270164,
          0.016960517895728,
          0.05136551962223235,
          0.16721942704310513,
          0.15571744432749213,
          0.5764443180978481
         ],
         "xaxis": "x28",
         "y": [
          0.286236435174942,
          0.25058749318122864,
          0.26825231313705444,
          0.2743256390094757,
          0.2591618597507477,
          0.22793728113174438,
          0.2548409700393677,
          0.23326991498470306,
          0.2606387138366699,
          0.25099387764930725
         ],
         "yaxis": "y28"
        },
        {
         "marker": {
          "color": [
           4,
           5,
           7,
           8,
           9,
           19,
           44,
           48
          ],
          "colorbar": {
           "title": {
            "text": "Trial"
           },
           "x": 1,
           "xpad": 40
          },
          "colorscale": [
           [
            0,
            "rgb(247,251,255)"
           ],
           [
            0.125,
            "rgb(222,235,247)"
           ],
           [
            0.25,
            "rgb(198,219,239)"
           ],
           [
            0.375,
            "rgb(158,202,225)"
           ],
           [
            0.5,
            "rgb(107,174,214)"
           ],
           [
            0.625,
            "rgb(66,146,198)"
           ],
           [
            0.75,
            "rgb(33,113,181)"
           ],
           [
            0.875,
            "rgb(8,81,156)"
           ],
           [
            1,
            "rgb(8,48,107)"
           ]
          ],
          "line": {
           "color": "Grey",
           "width": 0.5
          },
          "showscale": false
         },
         "mode": "markers",
         "showlegend": false,
         "type": "scatter",
         "x": [
          0.11257253653674737,
          0.159099685576271,
          0.15910077488058655,
          0.4600493409666581,
          0.3043352174852783,
          0.5543408601684732,
          0.0050981758990465975,
          0.3756836053442184
         ],
         "xaxis": "x29",
         "y": [
          0.286236435174942,
          0.25058749318122864,
          0.26825231313705444,
          0.2743256390094757,
          0.2591618597507477,
          0.2548409700393677,
          0.2606387138366699,
          0.25099387764930725
         ],
         "yaxis": "y29"
        },
        {
         "marker": {
          "color": [
           4,
           5,
           7,
           8,
           9,
           19,
           44,
           48
          ],
          "colorbar": {
           "title": {
            "text": "Trial"
           },
           "x": 1,
           "xpad": 40
          },
          "colorscale": [
           [
            0,
            "rgb(247,251,255)"
           ],
           [
            0.125,
            "rgb(222,235,247)"
           ],
           [
            0.25,
            "rgb(198,219,239)"
           ],
           [
            0.375,
            "rgb(158,202,225)"
           ],
           [
            0.5,
            "rgb(107,174,214)"
           ],
           [
            0.625,
            "rgb(66,146,198)"
           ],
           [
            0.75,
            "rgb(33,113,181)"
           ],
           [
            0.875,
            "rgb(8,81,156)"
           ],
           [
            1,
            "rgb(8,48,107)"
           ]
          ],
          "line": {
           "color": "Grey",
           "width": 0.5
          },
          "showscale": false
         },
         "mode": "markers",
         "showlegend": false,
         "type": "scatter",
         "x": [
          0.507485708884159,
          0.16218787987241057,
          0.39592809997986506,
          0.5137880987146044,
          0.08571571896236382,
          0.2626978628788918,
          0.025870222967983636,
          0.31933914199481545
         ],
         "xaxis": "x30",
         "y": [
          0.286236435174942,
          0.25058749318122864,
          0.26825231313705444,
          0.2743256390094757,
          0.2591618597507477,
          0.2548409700393677,
          0.2606387138366699,
          0.25099387764930725
         ],
         "yaxis": "y30"
        },
        {
         "marker": {
          "color": [
           0,
           1,
           2,
           3,
           4,
           5,
           6,
           7,
           8,
           9,
           10,
           11,
           12,
           13,
           14,
           15,
           16,
           17,
           18,
           19,
           20,
           21,
           22,
           23,
           24,
           25,
           26,
           27,
           28,
           29,
           30,
           31,
           32,
           33,
           34,
           35,
           36,
           37,
           38,
           39,
           40,
           41,
           42,
           43,
           44,
           45,
           46,
           47,
           48,
           49
          ],
          "colorbar": {
           "title": {
            "text": "Trial"
           },
           "x": 1,
           "xpad": 40
          },
          "colorscale": [
           [
            0,
            "rgb(247,251,255)"
           ],
           [
            0.125,
            "rgb(222,235,247)"
           ],
           [
            0.25,
            "rgb(198,219,239)"
           ],
           [
            0.375,
            "rgb(158,202,225)"
           ],
           [
            0.5,
            "rgb(107,174,214)"
           ],
           [
            0.625,
            "rgb(66,146,198)"
           ],
           [
            0.75,
            "rgb(33,113,181)"
           ],
           [
            0.875,
            "rgb(8,81,156)"
           ],
           [
            1,
            "rgb(8,48,107)"
           ]
          ],
          "line": {
           "color": "Grey",
           "width": 0.5
          },
          "showscale": false
         },
         "mode": "markers",
         "showlegend": false,
         "type": "scatter",
         "x": [
          3,
          3,
          3,
          3,
          14,
          11,
          6,
          11,
          14,
          14,
          1,
          1,
          1,
          6,
          1,
          6,
          8,
          1,
          5,
          10,
          8,
          1,
          2,
          4,
          2,
          2,
          4,
          5,
          2,
          2,
          4,
          2,
          2,
          3,
          3,
          2,
          3,
          5,
          4,
          7,
          3,
          2,
          2,
          1,
          15,
          2,
          4,
          3,
          12,
          2
         ],
         "xaxis": "x31",
         "y": [
          0.21881206333637238,
          0.22392253577709198,
          0.22018544375896454,
          0.219422847032547,
          0.286236435174942,
          0.25058749318122864,
          0.22177642583847046,
          0.26825231313705444,
          0.2743256390094757,
          0.2591618597507477,
          0.2163546085357666,
          0.21836291253566742,
          0.2175169736146927,
          0.22539523243904114,
          0.2179332822561264,
          0.21923470497131348,
          0.22793728113174438,
          0.21905167400836945,
          0.22127684950828552,
          0.2548409700393677,
          0.23326991498470306,
          0.2188558131456375,
          0.21618050336837769,
          0.21883659064769745,
          0.21624968945980072,
          0.21644462645053864,
          0.2188563197851181,
          0.22284317016601562,
          0.21826373040676117,
          0.2215261459350586,
          0.22124449908733368,
          0.21634136140346527,
          0.2177121788263321,
          0.2177680879831314,
          0.21716339886188507,
          0.2194443941116333,
          0.22081460058689117,
          0.2257978916168213,
          0.22244754433631897,
          0.22161266207695007,
          0.21943573653697968,
          0.2169763296842575,
          0.21564732491970062,
          0.21678806841373444,
          0.2606387138366699,
          0.21532601118087769,
          0.22124314308166504,
          0.21999554336071014,
          0.25099387764930725,
          0.22232387959957123
         ],
         "yaxis": "y31"
        },
        {
         "marker": {
          "color": [
           0,
           1,
           2,
           3,
           4,
           5,
           6,
           7,
           8,
           9,
           10,
           11,
           12,
           13,
           14,
           15,
           16,
           17,
           18,
           19,
           20,
           21,
           22,
           23,
           24,
           25,
           26,
           27,
           28,
           29,
           30,
           31,
           32,
           33,
           34,
           35,
           36,
           37,
           38,
           39,
           40,
           41,
           42,
           43,
           44,
           45,
           46,
           47,
           48,
           49
          ],
          "colorbar": {
           "title": {
            "text": "Trial"
           },
           "x": 1,
           "xpad": 40
          },
          "colorscale": [
           [
            0,
            "rgb(247,251,255)"
           ],
           [
            0.125,
            "rgb(222,235,247)"
           ],
           [
            0.25,
            "rgb(198,219,239)"
           ],
           [
            0.375,
            "rgb(158,202,225)"
           ],
           [
            0.5,
            "rgb(107,174,214)"
           ],
           [
            0.625,
            "rgb(66,146,198)"
           ],
           [
            0.75,
            "rgb(33,113,181)"
           ],
           [
            0.875,
            "rgb(8,81,156)"
           ],
           [
            1,
            "rgb(8,48,107)"
           ]
          ],
          "line": {
           "color": "Grey",
           "width": 0.5
          },
          "showscale": false
         },
         "mode": "markers",
         "showlegend": false,
         "type": "scatter",
         "x": [
          89,
          49,
          128,
          118,
          169,
          127,
          244,
          68,
          92,
          170,
          319,
          298,
          370,
          333,
          378,
          220,
          269,
          180,
          351,
          218,
          384,
          288,
          381,
          320,
          249,
          247,
          197,
          271,
          320,
          157,
          213,
          244,
          247,
          291,
          149,
          197,
          56,
          317,
          105,
          263,
          227,
          259,
          244,
          349,
          191,
          300,
          139,
          296,
          234,
          73
         ],
         "xaxis": "x32",
         "y": [
          0.21881206333637238,
          0.22392253577709198,
          0.22018544375896454,
          0.219422847032547,
          0.286236435174942,
          0.25058749318122864,
          0.22177642583847046,
          0.26825231313705444,
          0.2743256390094757,
          0.2591618597507477,
          0.2163546085357666,
          0.21836291253566742,
          0.2175169736146927,
          0.22539523243904114,
          0.2179332822561264,
          0.21923470497131348,
          0.22793728113174438,
          0.21905167400836945,
          0.22127684950828552,
          0.2548409700393677,
          0.23326991498470306,
          0.2188558131456375,
          0.21618050336837769,
          0.21883659064769745,
          0.21624968945980072,
          0.21644462645053864,
          0.2188563197851181,
          0.22284317016601562,
          0.21826373040676117,
          0.2215261459350586,
          0.22124449908733368,
          0.21634136140346527,
          0.2177121788263321,
          0.2177680879831314,
          0.21716339886188507,
          0.2194443941116333,
          0.22081460058689117,
          0.2257978916168213,
          0.22244754433631897,
          0.22161266207695007,
          0.21943573653697968,
          0.2169763296842575,
          0.21564732491970062,
          0.21678806841373444,
          0.2606387138366699,
          0.21532601118087769,
          0.22124314308166504,
          0.21999554336071014,
          0.25099387764930725,
          0.22232387959957123
         ],
         "yaxis": "y32"
        },
        {
         "marker": {
          "color": [
           0,
           1,
           2,
           3,
           4,
           5,
           6,
           7,
           8,
           9,
           13,
           15,
           16,
           18,
           19,
           20,
           22,
           23,
           24,
           25,
           26,
           27,
           28,
           29,
           30,
           31,
           32,
           33,
           34,
           35,
           36,
           37,
           38,
           39,
           40,
           41,
           42,
           44,
           45,
           46,
           47,
           48,
           49
          ],
          "colorbar": {
           "title": {
            "text": "Trial"
           },
           "x": 1,
           "xpad": 40
          },
          "colorscale": [
           [
            0,
            "rgb(247,251,255)"
           ],
           [
            0.125,
            "rgb(222,235,247)"
           ],
           [
            0.25,
            "rgb(198,219,239)"
           ],
           [
            0.375,
            "rgb(158,202,225)"
           ],
           [
            0.5,
            "rgb(107,174,214)"
           ],
           [
            0.625,
            "rgb(66,146,198)"
           ],
           [
            0.75,
            "rgb(33,113,181)"
           ],
           [
            0.875,
            "rgb(8,81,156)"
           ],
           [
            1,
            "rgb(8,48,107)"
           ]
          ],
          "line": {
           "color": "Grey",
           "width": 0.5
          },
          "showscale": false
         },
         "mode": "markers",
         "showlegend": false,
         "type": "scatter",
         "x": [
          349,
          129,
          102,
          201,
          109,
          80,
          300,
          197,
          109,
          55,
          48,
          203,
          70,
          260,
          149,
          381,
          76,
          75,
          62,
          60,
          91,
          61,
          48,
          84,
          149,
          64,
          68,
          56,
          89,
          66,
          54,
          96,
          126,
          76,
          122,
          64,
          57,
          52,
          74,
          75,
          61,
          82,
          103
         ],
         "xaxis": "x33",
         "y": [
          0.21881206333637238,
          0.22392253577709198,
          0.22018544375896454,
          0.219422847032547,
          0.286236435174942,
          0.25058749318122864,
          0.22177642583847046,
          0.26825231313705444,
          0.2743256390094757,
          0.2591618597507477,
          0.22539523243904114,
          0.21923470497131348,
          0.22793728113174438,
          0.22127684950828552,
          0.2548409700393677,
          0.23326991498470306,
          0.21618050336837769,
          0.21883659064769745,
          0.21624968945980072,
          0.21644462645053864,
          0.2188563197851181,
          0.22284317016601562,
          0.21826373040676117,
          0.2215261459350586,
          0.22124449908733368,
          0.21634136140346527,
          0.2177121788263321,
          0.2177680879831314,
          0.21716339886188507,
          0.2194443941116333,
          0.22081460058689117,
          0.2257978916168213,
          0.22244754433631897,
          0.22161266207695007,
          0.21943573653697968,
          0.2169763296842575,
          0.21564732491970062,
          0.2606387138366699,
          0.21532601118087769,
          0.22124314308166504,
          0.21999554336071014,
          0.25099387764930725,
          0.22232387959957123
         ],
         "yaxis": "y33"
        },
        {
         "marker": {
          "color": [
           4,
           5,
           7,
           8,
           9,
           44,
           48
          ],
          "colorbar": {
           "title": {
            "text": "Trial"
           },
           "x": 1,
           "xpad": 40
          },
          "colorscale": [
           [
            0,
            "rgb(247,251,255)"
           ],
           [
            0.125,
            "rgb(222,235,247)"
           ],
           [
            0.25,
            "rgb(198,219,239)"
           ],
           [
            0.375,
            "rgb(158,202,225)"
           ],
           [
            0.5,
            "rgb(107,174,214)"
           ],
           [
            0.625,
            "rgb(66,146,198)"
           ],
           [
            0.75,
            "rgb(33,113,181)"
           ],
           [
            0.875,
            "rgb(8,81,156)"
           ],
           [
            1,
            "rgb(8,48,107)"
           ]
          ],
          "line": {
           "color": "Grey",
           "width": 0.5
          },
          "showscale": false
         },
         "mode": "markers",
         "showlegend": false,
         "type": "scatter",
         "x": [
          217,
          284,
          61,
          339,
          188,
          82,
          112
         ],
         "xaxis": "x34",
         "y": [
          0.286236435174942,
          0.25058749318122864,
          0.26825231313705444,
          0.2743256390094757,
          0.2591618597507477,
          0.2606387138366699,
          0.25099387764930725
         ],
         "yaxis": "y34"
        },
        {
         "marker": {
          "color": [
           4,
           8,
           9,
           44,
           48
          ],
          "colorbar": {
           "title": {
            "text": "Trial"
           },
           "x": 1,
           "xpad": 40
          },
          "colorscale": [
           [
            0,
            "rgb(247,251,255)"
           ],
           [
            0.125,
            "rgb(222,235,247)"
           ],
           [
            0.25,
            "rgb(198,219,239)"
           ],
           [
            0.375,
            "rgb(158,202,225)"
           ],
           [
            0.5,
            "rgb(107,174,214)"
           ],
           [
            0.625,
            "rgb(66,146,198)"
           ],
           [
            0.75,
            "rgb(33,113,181)"
           ],
           [
            0.875,
            "rgb(8,81,156)"
           ],
           [
            1,
            "rgb(8,48,107)"
           ]
          ],
          "line": {
           "color": "Grey",
           "width": 0.5
          },
          "showscale": false
         },
         "mode": "markers",
         "showlegend": false,
         "type": "scatter",
         "x": [
          260,
          366,
          101,
          49,
          133
         ],
         "xaxis": "x35",
         "y": [
          0.286236435174942,
          0.2743256390094757,
          0.2591618597507477,
          0.2606387138366699,
          0.25099387764930725
         ],
         "yaxis": "y35"
        },
        {
         "marker": {
          "color": [
           4,
           8,
           9,
           44
          ],
          "colorbar": {
           "title": {
            "text": "Trial"
           },
           "x": 1,
           "xpad": 40
          },
          "colorscale": [
           [
            0,
            "rgb(247,251,255)"
           ],
           [
            0.125,
            "rgb(222,235,247)"
           ],
           [
            0.25,
            "rgb(198,219,239)"
           ],
           [
            0.375,
            "rgb(158,202,225)"
           ],
           [
            0.5,
            "rgb(107,174,214)"
           ],
           [
            0.625,
            "rgb(66,146,198)"
           ],
           [
            0.75,
            "rgb(33,113,181)"
           ],
           [
            0.875,
            "rgb(8,81,156)"
           ],
           [
            1,
            "rgb(8,48,107)"
           ]
          ],
          "line": {
           "color": "Grey",
           "width": 0.5
          },
          "showscale": false
         },
         "mode": "markers",
         "showlegend": false,
         "type": "scatter",
         "x": [
          110,
          279,
          315,
          50
         ],
         "xaxis": "x36",
         "y": [
          0.286236435174942,
          0.2743256390094757,
          0.2591618597507477,
          0.2606387138366699
         ],
         "yaxis": "y36"
        },
        {
         "marker": {
          "color": [
           4,
           8,
           9,
           44
          ],
          "colorbar": {
           "title": {
            "text": "Trial"
           },
           "x": 1,
           "xpad": 40
          },
          "colorscale": [
           [
            0,
            "rgb(247,251,255)"
           ],
           [
            0.125,
            "rgb(222,235,247)"
           ],
           [
            0.25,
            "rgb(198,219,239)"
           ],
           [
            0.375,
            "rgb(158,202,225)"
           ],
           [
            0.5,
            "rgb(107,174,214)"
           ],
           [
            0.625,
            "rgb(66,146,198)"
           ],
           [
            0.75,
            "rgb(33,113,181)"
           ],
           [
            0.875,
            "rgb(8,81,156)"
           ],
           [
            1,
            "rgb(8,48,107)"
           ]
          ],
          "line": {
           "color": "Grey",
           "width": 0.5
          },
          "showscale": false
         },
         "mode": "markers",
         "showlegend": false,
         "type": "scatter",
         "x": [
          48,
          140,
          228,
          48
         ],
         "xaxis": "x37",
         "y": [
          0.286236435174942,
          0.2743256390094757,
          0.2591618597507477,
          0.2606387138366699
         ],
         "yaxis": "y37"
        },
        {
         "marker": {
          "color": [
           44
          ],
          "colorbar": {
           "title": {
            "text": "Trial"
           },
           "x": 1,
           "xpad": 40
          },
          "colorscale": [
           [
            0,
            "rgb(247,251,255)"
           ],
           [
            0.125,
            "rgb(222,235,247)"
           ],
           [
            0.25,
            "rgb(198,219,239)"
           ],
           [
            0.375,
            "rgb(158,202,225)"
           ],
           [
            0.5,
            "rgb(107,174,214)"
           ],
           [
            0.625,
            "rgb(66,146,198)"
           ],
           [
            0.75,
            "rgb(33,113,181)"
           ],
           [
            0.875,
            "rgb(8,81,156)"
           ],
           [
            1,
            "rgb(8,48,107)"
           ]
          ],
          "line": {
           "color": "Grey",
           "width": 0.5
          },
          "showscale": false
         },
         "mode": "markers",
         "showlegend": false,
         "type": "scatter",
         "x": [
          157
         ],
         "xaxis": "x38",
         "y": [
          0.2606387138366699
         ],
         "yaxis": "y38"
        },
        {
         "marker": {
          "color": [
           0,
           1,
           2,
           3,
           4,
           5,
           6,
           7,
           8,
           9,
           13,
           15,
           16,
           18,
           19,
           20,
           23,
           26,
           27,
           30,
           33,
           34,
           36,
           37,
           38,
           39,
           40,
           44,
           46,
           47,
           48
          ],
          "colorbar": {
           "title": {
            "text": "Trial"
           },
           "x": 1,
           "xpad": 40
          },
          "colorscale": [
           [
            0,
            "rgb(247,251,255)"
           ],
           [
            0.125,
            "rgb(222,235,247)"
           ],
           [
            0.25,
            "rgb(198,219,239)"
           ],
           [
            0.375,
            "rgb(158,202,225)"
           ],
           [
            0.5,
            "rgb(107,174,214)"
           ],
           [
            0.625,
            "rgb(66,146,198)"
           ],
           [
            0.75,
            "rgb(33,113,181)"
           ],
           [
            0.875,
            "rgb(8,81,156)"
           ],
           [
            1,
            "rgb(8,48,107)"
           ]
          ],
          "line": {
           "color": "Grey",
           "width": 0.5
          },
          "showscale": false
         },
         "mode": "markers",
         "showlegend": false,
         "type": "scatter",
         "x": [
          303,
          139,
          52,
          325,
          96,
          198,
          150,
          68,
          115,
          96,
          225,
          48,
          70,
          212,
          369,
          170,
          69,
          262,
          104,
          81,
          119,
          170,
          58,
          253,
          82,
          168,
          282,
          120,
          367,
          302,
          133
         ],
         "xaxis": "x39",
         "y": [
          0.21881206333637238,
          0.22392253577709198,
          0.22018544375896454,
          0.219422847032547,
          0.286236435174942,
          0.25058749318122864,
          0.22177642583847046,
          0.26825231313705444,
          0.2743256390094757,
          0.2591618597507477,
          0.22539523243904114,
          0.21923470497131348,
          0.22793728113174438,
          0.22127684950828552,
          0.2548409700393677,
          0.23326991498470306,
          0.21883659064769745,
          0.2188563197851181,
          0.22284317016601562,
          0.22124449908733368,
          0.2177680879831314,
          0.21716339886188507,
          0.22081460058689117,
          0.2257978916168213,
          0.22244754433631897,
          0.22161266207695007,
          0.21943573653697968,
          0.2606387138366699,
          0.22124314308166504,
          0.21999554336071014,
          0.25099387764930725
         ],
         "yaxis": "y39"
        },
        {
         "marker": {
          "color": [
           4,
           5,
           6,
           7,
           8,
           9,
           13,
           15,
           16,
           18,
           19,
           20,
           23,
           26,
           27,
           30,
           37,
           38,
           39,
           44,
           46,
           48
          ],
          "colorbar": {
           "title": {
            "text": "Trial"
           },
           "x": 1,
           "xpad": 40
          },
          "colorscale": [
           [
            0,
            "rgb(247,251,255)"
           ],
           [
            0.125,
            "rgb(222,235,247)"
           ],
           [
            0.25,
            "rgb(198,219,239)"
           ],
           [
            0.375,
            "rgb(158,202,225)"
           ],
           [
            0.5,
            "rgb(107,174,214)"
           ],
           [
            0.625,
            "rgb(66,146,198)"
           ],
           [
            0.75,
            "rgb(33,113,181)"
           ],
           [
            0.875,
            "rgb(8,81,156)"
           ],
           [
            1,
            "rgb(8,48,107)"
           ]
          ],
          "line": {
           "color": "Grey",
           "width": 0.5
          },
          "showscale": false
         },
         "mode": "markers",
         "showlegend": false,
         "type": "scatter",
         "x": [
          55,
          304,
          311,
          150,
          53,
          182,
          87,
          87,
          214,
          92,
          115,
          376,
          65,
          216,
          126,
          69,
          167,
          248,
          108,
          371,
          48,
          145
         ],
         "xaxis": "x40",
         "y": [
          0.286236435174942,
          0.25058749318122864,
          0.22177642583847046,
          0.26825231313705444,
          0.2743256390094757,
          0.2591618597507477,
          0.22539523243904114,
          0.21923470497131348,
          0.22793728113174438,
          0.22127684950828552,
          0.2548409700393677,
          0.23326991498470306,
          0.21883659064769745,
          0.2188563197851181,
          0.22284317016601562,
          0.22124449908733368,
          0.2257978916168213,
          0.22244754433631897,
          0.22161266207695007,
          0.2606387138366699,
          0.22124314308166504,
          0.25099387764930725
         ],
         "yaxis": "y40"
        },
        {
         "marker": {
          "color": [
           4,
           5,
           6,
           7,
           8,
           9,
           13,
           15,
           16,
           18,
           19,
           20,
           27,
           37,
           39,
           44,
           48
          ],
          "colorbar": {
           "title": {
            "text": "Trial"
           },
           "x": 1,
           "xpad": 40
          },
          "colorscale": [
           [
            0,
            "rgb(247,251,255)"
           ],
           [
            0.125,
            "rgb(222,235,247)"
           ],
           [
            0.25,
            "rgb(198,219,239)"
           ],
           [
            0.375,
            "rgb(158,202,225)"
           ],
           [
            0.5,
            "rgb(107,174,214)"
           ],
           [
            0.625,
            "rgb(66,146,198)"
           ],
           [
            0.75,
            "rgb(33,113,181)"
           ],
           [
            0.875,
            "rgb(8,81,156)"
           ],
           [
            1,
            "rgb(8,48,107)"
           ]
          ],
          "line": {
           "color": "Grey",
           "width": 0.5
          },
          "showscale": false
         },
         "mode": "markers",
         "showlegend": false,
         "type": "scatter",
         "x": [
          79,
          144,
          56,
          77,
          53,
          48,
          382,
          365,
          180,
          223,
          100,
          253,
          113,
          276,
          155,
          73,
          106
         ],
         "xaxis": "x41",
         "y": [
          0.286236435174942,
          0.25058749318122864,
          0.22177642583847046,
          0.26825231313705444,
          0.2743256390094757,
          0.2591618597507477,
          0.22539523243904114,
          0.21923470497131348,
          0.22793728113174438,
          0.22127684950828552,
          0.2548409700393677,
          0.23326991498470306,
          0.22284317016601562,
          0.2257978916168213,
          0.22161266207695007,
          0.2606387138366699,
          0.25099387764930725
         ],
         "yaxis": "y41"
        },
        {
         "marker": {
          "color": [
           4,
           5,
           6,
           7,
           8,
           9,
           13,
           15,
           16,
           19,
           20,
           39,
           44,
           48
          ],
          "colorbar": {
           "title": {
            "text": "Trial"
           },
           "x": 1,
           "xpad": 40
          },
          "colorscale": [
           [
            0,
            "rgb(247,251,255)"
           ],
           [
            0.125,
            "rgb(222,235,247)"
           ],
           [
            0.25,
            "rgb(198,219,239)"
           ],
           [
            0.375,
            "rgb(158,202,225)"
           ],
           [
            0.5,
            "rgb(107,174,214)"
           ],
           [
            0.625,
            "rgb(66,146,198)"
           ],
           [
            0.75,
            "rgb(33,113,181)"
           ],
           [
            0.875,
            "rgb(8,81,156)"
           ],
           [
            1,
            "rgb(8,48,107)"
           ]
          ],
          "line": {
           "color": "Grey",
           "width": 0.5
          },
          "showscale": false
         },
         "mode": "markers",
         "showlegend": false,
         "type": "scatter",
         "x": [
          184,
          113,
          98,
          209,
          157,
          49,
          346,
          55,
          379,
          71,
          247,
          86,
          135,
          270
         ],
         "xaxis": "x42",
         "y": [
          0.286236435174942,
          0.25058749318122864,
          0.22177642583847046,
          0.26825231313705444,
          0.2743256390094757,
          0.2591618597507477,
          0.22539523243904114,
          0.21923470497131348,
          0.22793728113174438,
          0.2548409700393677,
          0.23326991498470306,
          0.22161266207695007,
          0.2606387138366699,
          0.25099387764930725
         ],
         "yaxis": "y42"
        },
        {
         "marker": {
          "color": [
           4,
           5,
           7,
           8,
           9,
           16,
           19,
           20,
           39,
           44,
           48
          ],
          "colorbar": {
           "title": {
            "text": "Trial"
           },
           "x": 1,
           "xpad": 40
          },
          "colorscale": [
           [
            0,
            "rgb(247,251,255)"
           ],
           [
            0.125,
            "rgb(222,235,247)"
           ],
           [
            0.25,
            "rgb(198,219,239)"
           ],
           [
            0.375,
            "rgb(158,202,225)"
           ],
           [
            0.5,
            "rgb(107,174,214)"
           ],
           [
            0.625,
            "rgb(66,146,198)"
           ],
           [
            0.75,
            "rgb(33,113,181)"
           ],
           [
            0.875,
            "rgb(8,81,156)"
           ],
           [
            1,
            "rgb(8,48,107)"
           ]
          ],
          "line": {
           "color": "Grey",
           "width": 0.5
          },
          "showscale": false
         },
         "mode": "markers",
         "showlegend": false,
         "type": "scatter",
         "x": [
          52,
          56,
          170,
          93,
          58,
          295,
          344,
          178,
          102,
          223,
          100
         ],
         "xaxis": "x43",
         "y": [
          0.286236435174942,
          0.25058749318122864,
          0.26825231313705444,
          0.2743256390094757,
          0.2591618597507477,
          0.22793728113174438,
          0.2548409700393677,
          0.23326991498470306,
          0.22161266207695007,
          0.2606387138366699,
          0.25099387764930725
         ],
         "yaxis": "y43"
        },
        {
         "marker": {
          "color": [
           4,
           5,
           7,
           8,
           9,
           16,
           19,
           20,
           44,
           48
          ],
          "colorbar": {
           "title": {
            "text": "Trial"
           },
           "x": 1,
           "xpad": 40
          },
          "colorscale": [
           [
            0,
            "rgb(247,251,255)"
           ],
           [
            0.125,
            "rgb(222,235,247)"
           ],
           [
            0.25,
            "rgb(198,219,239)"
           ],
           [
            0.375,
            "rgb(158,202,225)"
           ],
           [
            0.5,
            "rgb(107,174,214)"
           ],
           [
            0.625,
            "rgb(66,146,198)"
           ],
           [
            0.75,
            "rgb(33,113,181)"
           ],
           [
            0.875,
            "rgb(8,81,156)"
           ],
           [
            1,
            "rgb(8,48,107)"
           ]
          ],
          "line": {
           "color": "Grey",
           "width": 0.5
          },
          "showscale": false
         },
         "mode": "markers",
         "showlegend": false,
         "type": "scatter",
         "x": [
          180,
          91,
          353,
          206,
          56,
          48,
          366,
          100,
          226,
          82
         ],
         "xaxis": "x44",
         "y": [
          0.286236435174942,
          0.25058749318122864,
          0.26825231313705444,
          0.2743256390094757,
          0.2591618597507477,
          0.22793728113174438,
          0.2548409700393677,
          0.23326991498470306,
          0.2606387138366699,
          0.25099387764930725
         ],
         "yaxis": "y44"
        },
        {
         "marker": {
          "color": [
           4,
           5,
           7,
           8,
           9,
           19,
           44,
           48
          ],
          "colorbar": {
           "title": {
            "text": "Trial"
           },
           "x": 1,
           "xpad": 40
          },
          "colorscale": [
           [
            0,
            "rgb(247,251,255)"
           ],
           [
            0.125,
            "rgb(222,235,247)"
           ],
           [
            0.25,
            "rgb(198,219,239)"
           ],
           [
            0.375,
            "rgb(158,202,225)"
           ],
           [
            0.5,
            "rgb(107,174,214)"
           ],
           [
            0.625,
            "rgb(66,146,198)"
           ],
           [
            0.75,
            "rgb(33,113,181)"
           ],
           [
            0.875,
            "rgb(8,81,156)"
           ],
           [
            1,
            "rgb(8,48,107)"
           ]
          ],
          "line": {
           "color": "Grey",
           "width": 0.5
          },
          "showscale": false
         },
         "mode": "markers",
         "showlegend": false,
         "type": "scatter",
         "x": [
          58,
          293,
          122,
          59,
          203,
          121,
          332,
          86
         ],
         "xaxis": "x45",
         "y": [
          0.286236435174942,
          0.25058749318122864,
          0.26825231313705444,
          0.2743256390094757,
          0.2591618597507477,
          0.2548409700393677,
          0.2606387138366699,
          0.25099387764930725
         ],
         "yaxis": "y45"
        },
        {
         "marker": {
          "color": [
           4,
           5,
           7,
           8,
           9,
           19,
           44,
           48
          ],
          "colorbar": {
           "title": {
            "text": "Trial"
           },
           "x": 1,
           "xpad": 40
          },
          "colorscale": [
           [
            0,
            "rgb(247,251,255)"
           ],
           [
            0.125,
            "rgb(222,235,247)"
           ],
           [
            0.25,
            "rgb(198,219,239)"
           ],
           [
            0.375,
            "rgb(158,202,225)"
           ],
           [
            0.5,
            "rgb(107,174,214)"
           ],
           [
            0.625,
            "rgb(66,146,198)"
           ],
           [
            0.75,
            "rgb(33,113,181)"
           ],
           [
            0.875,
            "rgb(8,81,156)"
           ],
           [
            1,
            "rgb(8,48,107)"
           ]
          ],
          "line": {
           "color": "Grey",
           "width": 0.5
          },
          "showscale": false
         },
         "mode": "markers",
         "showlegend": false,
         "type": "scatter",
         "x": [
          213,
          115,
          48,
          160,
          105,
          347,
          52,
          374
         ],
         "xaxis": "x46",
         "y": [
          0.286236435174942,
          0.25058749318122864,
          0.26825231313705444,
          0.2743256390094757,
          0.2591618597507477,
          0.2548409700393677,
          0.2606387138366699,
          0.25099387764930725
         ],
         "yaxis": "y46"
        },
        {
         "marker": {
          "color": [
           0,
           1,
           2,
           3,
           4,
           5,
           6,
           7,
           8,
           9,
           10,
           11,
           12,
           13,
           14,
           15,
           16,
           17,
           18,
           19,
           20,
           21,
           22,
           23,
           24,
           25,
           26,
           27,
           28,
           29,
           30,
           31,
           32,
           33,
           34,
           35,
           36,
           37,
           38,
           39,
           40,
           41,
           42,
           43,
           44,
           45,
           46,
           47,
           48,
           49
          ],
          "colorbar": {
           "title": {
            "text": "Trial"
           },
           "x": 1,
           "xpad": 40
          },
          "colorscale": [
           [
            0,
            "rgb(247,251,255)"
           ],
           [
            0.125,
            "rgb(222,235,247)"
           ],
           [
            0.25,
            "rgb(198,219,239)"
           ],
           [
            0.375,
            "rgb(158,202,225)"
           ],
           [
            0.5,
            "rgb(107,174,214)"
           ],
           [
            0.625,
            "rgb(66,146,198)"
           ],
           [
            0.75,
            "rgb(33,113,181)"
           ],
           [
            0.875,
            "rgb(8,81,156)"
           ],
           [
            1,
            "rgb(8,48,107)"
           ]
          ],
          "line": {
           "color": "Grey",
           "width": 0.5
          },
          "showscale": false
         },
         "mode": "markers",
         "showlegend": false,
         "type": "scatter",
         "x": [
          67,
          28,
          16,
          60,
          64,
          35,
          114,
          97,
          19,
          45,
          81,
          90,
          92,
          95,
          127,
          87,
          79,
          111,
          80,
          107,
          76,
          124,
          128,
          55,
          104,
          103,
          119,
          105,
          128,
          115,
          99,
          72,
          69,
          72,
          55,
          83,
          8,
          62,
          48,
          120,
          85,
          103,
          101,
          71,
          92,
          110,
          115,
          110,
          121,
          99
         ],
         "xaxis": "x47",
         "y": [
          0.21881206333637238,
          0.22392253577709198,
          0.22018544375896454,
          0.219422847032547,
          0.286236435174942,
          0.25058749318122864,
          0.22177642583847046,
          0.26825231313705444,
          0.2743256390094757,
          0.2591618597507477,
          0.2163546085357666,
          0.21836291253566742,
          0.2175169736146927,
          0.22539523243904114,
          0.2179332822561264,
          0.21923470497131348,
          0.22793728113174438,
          0.21905167400836945,
          0.22127684950828552,
          0.2548409700393677,
          0.23326991498470306,
          0.2188558131456375,
          0.21618050336837769,
          0.21883659064769745,
          0.21624968945980072,
          0.21644462645053864,
          0.2188563197851181,
          0.22284317016601562,
          0.21826373040676117,
          0.2215261459350586,
          0.22124449908733368,
          0.21634136140346527,
          0.2177121788263321,
          0.2177680879831314,
          0.21716339886188507,
          0.2194443941116333,
          0.22081460058689117,
          0.2257978916168213,
          0.22244754433631897,
          0.22161266207695007,
          0.21943573653697968,
          0.2169763296842575,
          0.21564732491970062,
          0.21678806841373444,
          0.2606387138366699,
          0.21532601118087769,
          0.22124314308166504,
          0.21999554336071014,
          0.25099387764930725,
          0.22232387959957123
         ],
         "yaxis": "y47"
        }
       ],
       "layout": {
        "template": {
         "data": {
          "bar": [
           {
            "error_x": {
             "color": "#2a3f5f"
            },
            "error_y": {
             "color": "#2a3f5f"
            },
            "marker": {
             "line": {
              "color": "#E5ECF6",
              "width": 0.5
             },
             "pattern": {
              "fillmode": "overlay",
              "size": 10,
              "solidity": 0.2
             }
            },
            "type": "bar"
           }
          ],
          "barpolar": [
           {
            "marker": {
             "line": {
              "color": "#E5ECF6",
              "width": 0.5
             },
             "pattern": {
              "fillmode": "overlay",
              "size": 10,
              "solidity": 0.2
             }
            },
            "type": "barpolar"
           }
          ],
          "carpet": [
           {
            "aaxis": {
             "endlinecolor": "#2a3f5f",
             "gridcolor": "white",
             "linecolor": "white",
             "minorgridcolor": "white",
             "startlinecolor": "#2a3f5f"
            },
            "baxis": {
             "endlinecolor": "#2a3f5f",
             "gridcolor": "white",
             "linecolor": "white",
             "minorgridcolor": "white",
             "startlinecolor": "#2a3f5f"
            },
            "type": "carpet"
           }
          ],
          "choropleth": [
           {
            "colorbar": {
             "outlinewidth": 0,
             "ticks": ""
            },
            "type": "choropleth"
           }
          ],
          "contour": [
           {
            "colorbar": {
             "outlinewidth": 0,
             "ticks": ""
            },
            "colorscale": [
             [
              0,
              "#0d0887"
             ],
             [
              0.1111111111111111,
              "#46039f"
             ],
             [
              0.2222222222222222,
              "#7201a8"
             ],
             [
              0.3333333333333333,
              "#9c179e"
             ],
             [
              0.4444444444444444,
              "#bd3786"
             ],
             [
              0.5555555555555556,
              "#d8576b"
             ],
             [
              0.6666666666666666,
              "#ed7953"
             ],
             [
              0.7777777777777778,
              "#fb9f3a"
             ],
             [
              0.8888888888888888,
              "#fdca26"
             ],
             [
              1,
              "#f0f921"
             ]
            ],
            "type": "contour"
           }
          ],
          "contourcarpet": [
           {
            "colorbar": {
             "outlinewidth": 0,
             "ticks": ""
            },
            "type": "contourcarpet"
           }
          ],
          "heatmap": [
           {
            "colorbar": {
             "outlinewidth": 0,
             "ticks": ""
            },
            "colorscale": [
             [
              0,
              "#0d0887"
             ],
             [
              0.1111111111111111,
              "#46039f"
             ],
             [
              0.2222222222222222,
              "#7201a8"
             ],
             [
              0.3333333333333333,
              "#9c179e"
             ],
             [
              0.4444444444444444,
              "#bd3786"
             ],
             [
              0.5555555555555556,
              "#d8576b"
             ],
             [
              0.6666666666666666,
              "#ed7953"
             ],
             [
              0.7777777777777778,
              "#fb9f3a"
             ],
             [
              0.8888888888888888,
              "#fdca26"
             ],
             [
              1,
              "#f0f921"
             ]
            ],
            "type": "heatmap"
           }
          ],
          "heatmapgl": [
           {
            "colorbar": {
             "outlinewidth": 0,
             "ticks": ""
            },
            "colorscale": [
             [
              0,
              "#0d0887"
             ],
             [
              0.1111111111111111,
              "#46039f"
             ],
             [
              0.2222222222222222,
              "#7201a8"
             ],
             [
              0.3333333333333333,
              "#9c179e"
             ],
             [
              0.4444444444444444,
              "#bd3786"
             ],
             [
              0.5555555555555556,
              "#d8576b"
             ],
             [
              0.6666666666666666,
              "#ed7953"
             ],
             [
              0.7777777777777778,
              "#fb9f3a"
             ],
             [
              0.8888888888888888,
              "#fdca26"
             ],
             [
              1,
              "#f0f921"
             ]
            ],
            "type": "heatmapgl"
           }
          ],
          "histogram": [
           {
            "marker": {
             "pattern": {
              "fillmode": "overlay",
              "size": 10,
              "solidity": 0.2
             }
            },
            "type": "histogram"
           }
          ],
          "histogram2d": [
           {
            "colorbar": {
             "outlinewidth": 0,
             "ticks": ""
            },
            "colorscale": [
             [
              0,
              "#0d0887"
             ],
             [
              0.1111111111111111,
              "#46039f"
             ],
             [
              0.2222222222222222,
              "#7201a8"
             ],
             [
              0.3333333333333333,
              "#9c179e"
             ],
             [
              0.4444444444444444,
              "#bd3786"
             ],
             [
              0.5555555555555556,
              "#d8576b"
             ],
             [
              0.6666666666666666,
              "#ed7953"
             ],
             [
              0.7777777777777778,
              "#fb9f3a"
             ],
             [
              0.8888888888888888,
              "#fdca26"
             ],
             [
              1,
              "#f0f921"
             ]
            ],
            "type": "histogram2d"
           }
          ],
          "histogram2dcontour": [
           {
            "colorbar": {
             "outlinewidth": 0,
             "ticks": ""
            },
            "colorscale": [
             [
              0,
              "#0d0887"
             ],
             [
              0.1111111111111111,
              "#46039f"
             ],
             [
              0.2222222222222222,
              "#7201a8"
             ],
             [
              0.3333333333333333,
              "#9c179e"
             ],
             [
              0.4444444444444444,
              "#bd3786"
             ],
             [
              0.5555555555555556,
              "#d8576b"
             ],
             [
              0.6666666666666666,
              "#ed7953"
             ],
             [
              0.7777777777777778,
              "#fb9f3a"
             ],
             [
              0.8888888888888888,
              "#fdca26"
             ],
             [
              1,
              "#f0f921"
             ]
            ],
            "type": "histogram2dcontour"
           }
          ],
          "mesh3d": [
           {
            "colorbar": {
             "outlinewidth": 0,
             "ticks": ""
            },
            "type": "mesh3d"
           }
          ],
          "parcoords": [
           {
            "line": {
             "colorbar": {
              "outlinewidth": 0,
              "ticks": ""
             }
            },
            "type": "parcoords"
           }
          ],
          "pie": [
           {
            "automargin": true,
            "type": "pie"
           }
          ],
          "scatter": [
           {
            "fillpattern": {
             "fillmode": "overlay",
             "size": 10,
             "solidity": 0.2
            },
            "type": "scatter"
           }
          ],
          "scatter3d": [
           {
            "line": {
             "colorbar": {
              "outlinewidth": 0,
              "ticks": ""
             }
            },
            "marker": {
             "colorbar": {
              "outlinewidth": 0,
              "ticks": ""
             }
            },
            "type": "scatter3d"
           }
          ],
          "scattercarpet": [
           {
            "marker": {
             "colorbar": {
              "outlinewidth": 0,
              "ticks": ""
             }
            },
            "type": "scattercarpet"
           }
          ],
          "scattergeo": [
           {
            "marker": {
             "colorbar": {
              "outlinewidth": 0,
              "ticks": ""
             }
            },
            "type": "scattergeo"
           }
          ],
          "scattergl": [
           {
            "marker": {
             "colorbar": {
              "outlinewidth": 0,
              "ticks": ""
             }
            },
            "type": "scattergl"
           }
          ],
          "scattermapbox": [
           {
            "marker": {
             "colorbar": {
              "outlinewidth": 0,
              "ticks": ""
             }
            },
            "type": "scattermapbox"
           }
          ],
          "scatterpolar": [
           {
            "marker": {
             "colorbar": {
              "outlinewidth": 0,
              "ticks": ""
             }
            },
            "type": "scatterpolar"
           }
          ],
          "scatterpolargl": [
           {
            "marker": {
             "colorbar": {
              "outlinewidth": 0,
              "ticks": ""
             }
            },
            "type": "scatterpolargl"
           }
          ],
          "scatterternary": [
           {
            "marker": {
             "colorbar": {
              "outlinewidth": 0,
              "ticks": ""
             }
            },
            "type": "scatterternary"
           }
          ],
          "surface": [
           {
            "colorbar": {
             "outlinewidth": 0,
             "ticks": ""
            },
            "colorscale": [
             [
              0,
              "#0d0887"
             ],
             [
              0.1111111111111111,
              "#46039f"
             ],
             [
              0.2222222222222222,
              "#7201a8"
             ],
             [
              0.3333333333333333,
              "#9c179e"
             ],
             [
              0.4444444444444444,
              "#bd3786"
             ],
             [
              0.5555555555555556,
              "#d8576b"
             ],
             [
              0.6666666666666666,
              "#ed7953"
             ],
             [
              0.7777777777777778,
              "#fb9f3a"
             ],
             [
              0.8888888888888888,
              "#fdca26"
             ],
             [
              1,
              "#f0f921"
             ]
            ],
            "type": "surface"
           }
          ],
          "table": [
           {
            "cells": {
             "fill": {
              "color": "#EBF0F8"
             },
             "line": {
              "color": "white"
             }
            },
            "header": {
             "fill": {
              "color": "#C8D4E3"
             },
             "line": {
              "color": "white"
             }
            },
            "type": "table"
           }
          ]
         },
         "layout": {
          "annotationdefaults": {
           "arrowcolor": "#2a3f5f",
           "arrowhead": 0,
           "arrowwidth": 1
          },
          "autotypenumbers": "strict",
          "coloraxis": {
           "colorbar": {
            "outlinewidth": 0,
            "ticks": ""
           }
          },
          "colorscale": {
           "diverging": [
            [
             0,
             "#8e0152"
            ],
            [
             0.1,
             "#c51b7d"
            ],
            [
             0.2,
             "#de77ae"
            ],
            [
             0.3,
             "#f1b6da"
            ],
            [
             0.4,
             "#fde0ef"
            ],
            [
             0.5,
             "#f7f7f7"
            ],
            [
             0.6,
             "#e6f5d0"
            ],
            [
             0.7,
             "#b8e186"
            ],
            [
             0.8,
             "#7fbc41"
            ],
            [
             0.9,
             "#4d9221"
            ],
            [
             1,
             "#276419"
            ]
           ],
           "sequential": [
            [
             0,
             "#0d0887"
            ],
            [
             0.1111111111111111,
             "#46039f"
            ],
            [
             0.2222222222222222,
             "#7201a8"
            ],
            [
             0.3333333333333333,
             "#9c179e"
            ],
            [
             0.4444444444444444,
             "#bd3786"
            ],
            [
             0.5555555555555556,
             "#d8576b"
            ],
            [
             0.6666666666666666,
             "#ed7953"
            ],
            [
             0.7777777777777778,
             "#fb9f3a"
            ],
            [
             0.8888888888888888,
             "#fdca26"
            ],
            [
             1,
             "#f0f921"
            ]
           ],
           "sequentialminus": [
            [
             0,
             "#0d0887"
            ],
            [
             0.1111111111111111,
             "#46039f"
            ],
            [
             0.2222222222222222,
             "#7201a8"
            ],
            [
             0.3333333333333333,
             "#9c179e"
            ],
            [
             0.4444444444444444,
             "#bd3786"
            ],
            [
             0.5555555555555556,
             "#d8576b"
            ],
            [
             0.6666666666666666,
             "#ed7953"
            ],
            [
             0.7777777777777778,
             "#fb9f3a"
            ],
            [
             0.8888888888888888,
             "#fdca26"
            ],
            [
             1,
             "#f0f921"
            ]
           ]
          },
          "colorway": [
           "#636efa",
           "#EF553B",
           "#00cc96",
           "#ab63fa",
           "#FFA15A",
           "#19d3f3",
           "#FF6692",
           "#B6E880",
           "#FF97FF",
           "#FECB52"
          ],
          "font": {
           "color": "#2a3f5f"
          },
          "geo": {
           "bgcolor": "white",
           "lakecolor": "white",
           "landcolor": "#E5ECF6",
           "showlakes": true,
           "showland": true,
           "subunitcolor": "white"
          },
          "hoverlabel": {
           "align": "left"
          },
          "hovermode": "closest",
          "mapbox": {
           "style": "light"
          },
          "paper_bgcolor": "white",
          "plot_bgcolor": "#E5ECF6",
          "polar": {
           "angularaxis": {
            "gridcolor": "white",
            "linecolor": "white",
            "ticks": ""
           },
           "bgcolor": "#E5ECF6",
           "radialaxis": {
            "gridcolor": "white",
            "linecolor": "white",
            "ticks": ""
           }
          },
          "scene": {
           "xaxis": {
            "backgroundcolor": "#E5ECF6",
            "gridcolor": "white",
            "gridwidth": 2,
            "linecolor": "white",
            "showbackground": true,
            "ticks": "",
            "zerolinecolor": "white"
           },
           "yaxis": {
            "backgroundcolor": "#E5ECF6",
            "gridcolor": "white",
            "gridwidth": 2,
            "linecolor": "white",
            "showbackground": true,
            "ticks": "",
            "zerolinecolor": "white"
           },
           "zaxis": {
            "backgroundcolor": "#E5ECF6",
            "gridcolor": "white",
            "gridwidth": 2,
            "linecolor": "white",
            "showbackground": true,
            "ticks": "",
            "zerolinecolor": "white"
           }
          },
          "shapedefaults": {
           "line": {
            "color": "#2a3f5f"
           }
          },
          "ternary": {
           "aaxis": {
            "gridcolor": "white",
            "linecolor": "white",
            "ticks": ""
           },
           "baxis": {
            "gridcolor": "white",
            "linecolor": "white",
            "ticks": ""
           },
           "bgcolor": "#E5ECF6",
           "caxis": {
            "gridcolor": "white",
            "linecolor": "white",
            "ticks": ""
           }
          },
          "title": {
           "x": 0.05
          },
          "xaxis": {
           "automargin": true,
           "gridcolor": "white",
           "linecolor": "white",
           "ticks": "",
           "title": {
            "standoff": 15
           },
           "zerolinecolor": "white",
           "zerolinewidth": 2
          },
          "yaxis": {
           "automargin": true,
           "gridcolor": "white",
           "linecolor": "white",
           "ticks": "",
           "title": {
            "standoff": 15
           },
           "zerolinecolor": "white",
           "zerolinewidth": 2
          }
         }
        },
        "title": {
         "text": "Slice Plot"
        },
        "width": 14100,
        "xaxis": {
         "anchor": "y",
         "domain": [
          0,
          0.017111815301041194
         ],
         "title": {
          "text": "activation0"
         }
        },
        "xaxis10": {
         "anchor": "y10",
         "domain": [
          0.19230421004979628,
          0.20941602535083748
         ],
         "title": {
          "text": "activation4"
         }
        },
        "xaxis11": {
         "anchor": "y11",
         "domain": [
          0.21367134449977365,
          0.23078315980081485
         ],
         "title": {
          "text": "activation5"
         }
        },
        "xaxis12": {
         "anchor": "y12",
         "domain": [
          0.235038478949751,
          0.25215029425079216
         ],
         "title": {
          "text": "activation6"
         }
        },
        "xaxis13": {
         "anchor": "y13",
         "domain": [
          0.2564056133997284,
          0.27351742870076956
         ],
         "title": {
          "text": "activation7"
         }
        },
        "xaxis14": {
         "anchor": "y14",
         "domain": [
          0.27777274784970574,
          0.29488456315074696
         ],
         "title": {
          "text": "activation8"
         }
        },
        "xaxis15": {
         "anchor": "y15",
         "domain": [
          0.29913988229968314,
          0.31625169760072436
         ],
         "title": {
          "text": "activation9"
         }
        },
        "xaxis16": {
         "anchor": "y16",
         "domain": [
          0.3205070167496604,
          0.33761883205070164
         ],
         "title": {
          "text": "dropout0"
         }
        },
        "xaxis17": {
         "anchor": "y17",
         "domain": [
          0.3418741511996378,
          0.35898596650067904
         ],
         "title": {
          "text": "dropout1"
         }
        },
        "xaxis18": {
         "anchor": "y18",
         "domain": [
          0.3632412856496152,
          0.38035310095065644
         ],
         "title": {
          "text": "dropout10"
         }
        },
        "xaxis19": {
         "anchor": "y19",
         "domain": [
          0.3846084200995926,
          0.40172023540063384
         ],
         "title": {
          "text": "dropout11"
         }
        },
        "xaxis2": {
         "anchor": "y2",
         "domain": [
          0.021367134449977364,
          0.03847894975101856
         ],
         "title": {
          "text": "activation1"
         }
        },
        "xaxis20": {
         "anchor": "y20",
         "domain": [
          0.40597555454957,
          0.42308736985061124
         ],
         "title": {
          "text": "dropout12"
         }
        },
        "xaxis21": {
         "anchor": "y21",
         "domain": [
          0.4273426889995474,
          0.44445450430058864
         ],
         "title": {
          "text": "dropout13"
         }
        },
        "xaxis22": {
         "anchor": "y22",
         "domain": [
          0.4487098234495248,
          0.46582163875056604
         ],
         "title": {
          "text": "dropout14"
         }
        },
        "xaxis23": {
         "anchor": "y23",
         "domain": [
          0.4700769578995022,
          0.48718877320054343
         ],
         "title": {
          "text": "dropout2"
         }
        },
        "xaxis24": {
         "anchor": "y24",
         "domain": [
          0.4914440923494796,
          0.5085559076505208
         ],
         "title": {
          "text": "dropout3"
         }
        },
        "xaxis25": {
         "anchor": "y25",
         "domain": [
          0.512811226799457,
          0.5299230421004982
         ],
         "title": {
          "text": "dropout4"
         }
        },
        "xaxis26": {
         "anchor": "y26",
         "domain": [
          0.5341783612494344,
          0.5512901765504756
         ],
         "title": {
          "text": "dropout5"
         }
        },
        "xaxis27": {
         "anchor": "y27",
         "domain": [
          0.5555454956994118,
          0.572657311000453
         ],
         "title": {
          "text": "dropout6"
         }
        },
        "xaxis28": {
         "anchor": "y28",
         "domain": [
          0.5769126301493892,
          0.5940244454504304
         ],
         "title": {
          "text": "dropout7"
         }
        },
        "xaxis29": {
         "anchor": "y29",
         "domain": [
          0.5982797645993665,
          0.6153915799004077
         ],
         "title": {
          "text": "dropout8"
         }
        },
        "xaxis3": {
         "anchor": "y3",
         "domain": [
          0.04273426889995473,
          0.05984608420099592
         ],
         "title": {
          "text": "activation10"
         }
        },
        "xaxis30": {
         "anchor": "y30",
         "domain": [
          0.6196468990493439,
          0.6367587143503851
         ],
         "title": {
          "text": "dropout9"
         }
        },
        "xaxis31": {
         "anchor": "y31",
         "domain": [
          0.6410140334993213,
          0.6581258488003625
         ],
         "title": {
          "text": "n_layers"
         }
        },
        "xaxis32": {
         "anchor": "y32",
         "domain": [
          0.6623811679492987,
          0.6794929832503399
         ],
         "title": {
          "text": "n_units_l0"
         },
         "type": "log"
        },
        "xaxis33": {
         "anchor": "y33",
         "domain": [
          0.6837483023992761,
          0.7008601177003173
         ],
         "title": {
          "text": "n_units_l1"
         },
         "type": "log"
        },
        "xaxis34": {
         "anchor": "y34",
         "domain": [
          0.7051154368492535,
          0.7222272521502947
         ],
         "title": {
          "text": "n_units_l10"
         },
         "type": "log"
        },
        "xaxis35": {
         "anchor": "y35",
         "domain": [
          0.7264825712992309,
          0.7435943866002721
         ],
         "title": {
          "text": "n_units_l11"
         },
         "type": "log"
        },
        "xaxis36": {
         "anchor": "y36",
         "domain": [
          0.7478497057492083,
          0.7649615210502495
         ],
         "title": {
          "text": "n_units_l12"
         },
         "type": "log"
        },
        "xaxis37": {
         "anchor": "y37",
         "domain": [
          0.7692168401991857,
          0.7863286555002269
         ],
         "title": {
          "text": "n_units_l13"
         },
         "type": "log"
        },
        "xaxis38": {
         "anchor": "y38",
         "domain": [
          0.7905839746491631,
          0.8076957899502043
         ],
         "title": {
          "text": "n_units_l14"
         },
         "type": "log"
        },
        "xaxis39": {
         "anchor": "y39",
         "domain": [
          0.8119511090991405,
          0.8290629244001817
         ],
         "title": {
          "text": "n_units_l2"
         },
         "type": "log"
        },
        "xaxis4": {
         "anchor": "y4",
         "domain": [
          0.0641014033499321,
          0.08121321865097329
         ],
         "title": {
          "text": "activation11"
         }
        },
        "xaxis40": {
         "anchor": "y40",
         "domain": [
          0.8333182435491179,
          0.8504300588501591
         ],
         "title": {
          "text": "n_units_l3"
         },
         "type": "log"
        },
        "xaxis41": {
         "anchor": "y41",
         "domain": [
          0.8546853779990953,
          0.8717971933001365
         ],
         "title": {
          "text": "n_units_l4"
         },
         "type": "log"
        },
        "xaxis42": {
         "anchor": "y42",
         "domain": [
          0.8760525124490727,
          0.8931643277501139
         ],
         "title": {
          "text": "n_units_l5"
         },
         "type": "log"
        },
        "xaxis43": {
         "anchor": "y43",
         "domain": [
          0.8974196468990501,
          0.9145314622000913
         ],
         "title": {
          "text": "n_units_l6"
         },
         "type": "log"
        },
        "xaxis44": {
         "anchor": "y44",
         "domain": [
          0.9187867813490275,
          0.9358985966500687
         ],
         "title": {
          "text": "n_units_l7"
         },
         "type": "log"
        },
        "xaxis45": {
         "anchor": "y45",
         "domain": [
          0.9401539157990049,
          0.9572657311000461
         ],
         "title": {
          "text": "n_units_l8"
         },
         "type": "log"
        },
        "xaxis46": {
         "anchor": "y46",
         "domain": [
          0.9615210502489822,
          0.9786328655500234
         ],
         "title": {
          "text": "n_units_l9"
         },
         "type": "log"
        },
        "xaxis47": {
         "anchor": "y47",
         "domain": [
          0.9828881846989597,
          1
         ],
         "title": {
          "text": "size"
         }
        },
        "xaxis5": {
         "anchor": "y5",
         "domain": [
          0.08546853779990946,
          0.10258035310095065
         ],
         "title": {
          "text": "activation12"
         }
        },
        "xaxis6": {
         "anchor": "y6",
         "domain": [
          0.10683567224988683,
          0.12394748755092802
         ],
         "title": {
          "text": "activation13"
         }
        },
        "xaxis7": {
         "anchor": "y7",
         "domain": [
          0.1282028066998642,
          0.1453146220009054
         ],
         "title": {
          "text": "activation14"
         }
        },
        "xaxis8": {
         "anchor": "y8",
         "domain": [
          0.14956994114984157,
          0.16668175645088276
         ],
         "title": {
          "text": "activation2"
         }
        },
        "xaxis9": {
         "anchor": "y9",
         "domain": [
          0.1709370755998189,
          0.1880488909008601
         ],
         "title": {
          "text": "activation3"
         }
        },
        "yaxis": {
         "anchor": "x",
         "domain": [
          0,
          1
         ],
         "title": {
          "text": "Objective Value"
         }
        },
        "yaxis10": {
         "anchor": "x10",
         "domain": [
          0,
          1
         ],
         "matches": "y",
         "showticklabels": false
        },
        "yaxis11": {
         "anchor": "x11",
         "domain": [
          0,
          1
         ],
         "matches": "y",
         "showticklabels": false
        },
        "yaxis12": {
         "anchor": "x12",
         "domain": [
          0,
          1
         ],
         "matches": "y",
         "showticklabels": false
        },
        "yaxis13": {
         "anchor": "x13",
         "domain": [
          0,
          1
         ],
         "matches": "y",
         "showticklabels": false
        },
        "yaxis14": {
         "anchor": "x14",
         "domain": [
          0,
          1
         ],
         "matches": "y",
         "showticklabels": false
        },
        "yaxis15": {
         "anchor": "x15",
         "domain": [
          0,
          1
         ],
         "matches": "y",
         "showticklabels": false
        },
        "yaxis16": {
         "anchor": "x16",
         "domain": [
          0,
          1
         ],
         "matches": "y",
         "showticklabels": false
        },
        "yaxis17": {
         "anchor": "x17",
         "domain": [
          0,
          1
         ],
         "matches": "y",
         "showticklabels": false
        },
        "yaxis18": {
         "anchor": "x18",
         "domain": [
          0,
          1
         ],
         "matches": "y",
         "showticklabels": false
        },
        "yaxis19": {
         "anchor": "x19",
         "domain": [
          0,
          1
         ],
         "matches": "y",
         "showticklabels": false
        },
        "yaxis2": {
         "anchor": "x2",
         "domain": [
          0,
          1
         ],
         "matches": "y",
         "showticklabels": false
        },
        "yaxis20": {
         "anchor": "x20",
         "domain": [
          0,
          1
         ],
         "matches": "y",
         "showticklabels": false
        },
        "yaxis21": {
         "anchor": "x21",
         "domain": [
          0,
          1
         ],
         "matches": "y",
         "showticklabels": false
        },
        "yaxis22": {
         "anchor": "x22",
         "domain": [
          0,
          1
         ],
         "matches": "y",
         "showticklabels": false
        },
        "yaxis23": {
         "anchor": "x23",
         "domain": [
          0,
          1
         ],
         "matches": "y",
         "showticklabels": false
        },
        "yaxis24": {
         "anchor": "x24",
         "domain": [
          0,
          1
         ],
         "matches": "y",
         "showticklabels": false
        },
        "yaxis25": {
         "anchor": "x25",
         "domain": [
          0,
          1
         ],
         "matches": "y",
         "showticklabels": false
        },
        "yaxis26": {
         "anchor": "x26",
         "domain": [
          0,
          1
         ],
         "matches": "y",
         "showticklabels": false
        },
        "yaxis27": {
         "anchor": "x27",
         "domain": [
          0,
          1
         ],
         "matches": "y",
         "showticklabels": false
        },
        "yaxis28": {
         "anchor": "x28",
         "domain": [
          0,
          1
         ],
         "matches": "y",
         "showticklabels": false
        },
        "yaxis29": {
         "anchor": "x29",
         "domain": [
          0,
          1
         ],
         "matches": "y",
         "showticklabels": false
        },
        "yaxis3": {
         "anchor": "x3",
         "domain": [
          0,
          1
         ],
         "matches": "y",
         "showticklabels": false
        },
        "yaxis30": {
         "anchor": "x30",
         "domain": [
          0,
          1
         ],
         "matches": "y",
         "showticklabels": false
        },
        "yaxis31": {
         "anchor": "x31",
         "domain": [
          0,
          1
         ],
         "matches": "y",
         "showticklabels": false
        },
        "yaxis32": {
         "anchor": "x32",
         "domain": [
          0,
          1
         ],
         "matches": "y",
         "showticklabels": false
        },
        "yaxis33": {
         "anchor": "x33",
         "domain": [
          0,
          1
         ],
         "matches": "y",
         "showticklabels": false
        },
        "yaxis34": {
         "anchor": "x34",
         "domain": [
          0,
          1
         ],
         "matches": "y",
         "showticklabels": false
        },
        "yaxis35": {
         "anchor": "x35",
         "domain": [
          0,
          1
         ],
         "matches": "y",
         "showticklabels": false
        },
        "yaxis36": {
         "anchor": "x36",
         "domain": [
          0,
          1
         ],
         "matches": "y",
         "showticklabels": false
        },
        "yaxis37": {
         "anchor": "x37",
         "domain": [
          0,
          1
         ],
         "matches": "y",
         "showticklabels": false
        },
        "yaxis38": {
         "anchor": "x38",
         "domain": [
          0,
          1
         ],
         "matches": "y",
         "showticklabels": false
        },
        "yaxis39": {
         "anchor": "x39",
         "domain": [
          0,
          1
         ],
         "matches": "y",
         "showticklabels": false
        },
        "yaxis4": {
         "anchor": "x4",
         "domain": [
          0,
          1
         ],
         "matches": "y",
         "showticklabels": false
        },
        "yaxis40": {
         "anchor": "x40",
         "domain": [
          0,
          1
         ],
         "matches": "y",
         "showticklabels": false
        },
        "yaxis41": {
         "anchor": "x41",
         "domain": [
          0,
          1
         ],
         "matches": "y",
         "showticklabels": false
        },
        "yaxis42": {
         "anchor": "x42",
         "domain": [
          0,
          1
         ],
         "matches": "y",
         "showticklabels": false
        },
        "yaxis43": {
         "anchor": "x43",
         "domain": [
          0,
          1
         ],
         "matches": "y",
         "showticklabels": false
        },
        "yaxis44": {
         "anchor": "x44",
         "domain": [
          0,
          1
         ],
         "matches": "y",
         "showticklabels": false
        },
        "yaxis45": {
         "anchor": "x45",
         "domain": [
          0,
          1
         ],
         "matches": "y",
         "showticklabels": false
        },
        "yaxis46": {
         "anchor": "x46",
         "domain": [
          0,
          1
         ],
         "matches": "y",
         "showticklabels": false
        },
        "yaxis47": {
         "anchor": "x47",
         "domain": [
          0,
          1
         ],
         "matches": "y",
         "showticklabels": false
        },
        "yaxis5": {
         "anchor": "x5",
         "domain": [
          0,
          1
         ],
         "matches": "y",
         "showticklabels": false
        },
        "yaxis6": {
         "anchor": "x6",
         "domain": [
          0,
          1
         ],
         "matches": "y",
         "showticklabels": false
        },
        "yaxis7": {
         "anchor": "x7",
         "domain": [
          0,
          1
         ],
         "matches": "y",
         "showticklabels": false
        },
        "yaxis8": {
         "anchor": "x8",
         "domain": [
          0,
          1
         ],
         "matches": "y",
         "showticklabels": false
        },
        "yaxis9": {
         "anchor": "x9",
         "domain": [
          0,
          1
         ],
         "matches": "y",
         "showticklabels": false
        }
       }
      },
      "text/html": [
       "<div>                            <div id=\"b9ae74c7-2582-4617-8418-4b858562d0f0\" class=\"plotly-graph-div\" style=\"height:525px; width:14100px;\"></div>            <script type=\"text/javascript\">                require([\"plotly\"], function(Plotly) {                    window.PLOTLYENV=window.PLOTLYENV || {};                                    if (document.getElementById(\"b9ae74c7-2582-4617-8418-4b858562d0f0\")) {                    Plotly.newPlot(                        \"b9ae74c7-2582-4617-8418-4b858562d0f0\",                        [{\"marker\":{\"color\":[0,1,2,3,4,5,6,7,8,9,10,11,12,13,14,15,16,17,18,19,20,21,22,23,24,25,26,27,28,29,30,31,32,33,34,35,36,37,38,39,40,41,42,43,44,45,46,47,48,49],\"colorbar\":{\"title\":{\"text\":\"Trial\"},\"x\":1.0,\"xpad\":40},\"colorscale\":[[0.0,\"rgb(247,251,255)\"],[0.125,\"rgb(222,235,247)\"],[0.25,\"rgb(198,219,239)\"],[0.375,\"rgb(158,202,225)\"],[0.5,\"rgb(107,174,214)\"],[0.625,\"rgb(66,146,198)\"],[0.75,\"rgb(33,113,181)\"],[0.875,\"rgb(8,81,156)\"],[1.0,\"rgb(8,48,107)\"]],\"line\":{\"color\":\"Grey\",\"width\":0.5},\"showscale\":true},\"mode\":\"markers\",\"showlegend\":false,\"x\":[\"linear\",\"linear\",\"swish\",\"linear\",\"relu\",\"swish\",\"linear\",\"swish\",\"swish\",\"linear\",\"relu\",\"relu\",\"relu\",\"relu\",\"relu\",\"relu\",\"relu\",\"relu\",\"relu\",\"relu\",\"relu\",\"relu\",\"relu\",\"relu\",\"relu\",\"relu\",\"relu\",\"relu\",\"relu\",\"swish\",\"linear\",\"relu\",\"relu\",\"relu\",\"relu\",\"linear\",\"relu\",\"swish\",\"relu\",\"linear\",\"swish\",\"relu\",\"relu\",\"relu\",\"relu\",\"relu\",\"relu\",\"linear\",\"relu\",\"swish\"],\"y\":[0.21881206333637238,0.22392253577709198,0.22018544375896454,0.219422847032547,0.286236435174942,0.25058749318122864,0.22177642583847046,0.26825231313705444,0.2743256390094757,0.2591618597507477,0.2163546085357666,0.21836291253566742,0.2175169736146927,0.22539523243904114,0.2179332822561264,0.21923470497131348,0.22793728113174438,0.21905167400836945,0.22127684950828552,0.2548409700393677,0.23326991498470306,0.2188558131456375,0.21618050336837769,0.21883659064769745,0.21624968945980072,0.21644462645053864,0.2188563197851181,0.22284317016601562,0.21826373040676117,0.2215261459350586,0.22124449908733368,0.21634136140346527,0.2177121788263321,0.2177680879831314,0.21716339886188507,0.2194443941116333,0.22081460058689117,0.2257978916168213,0.22244754433631897,0.22161266207695007,0.21943573653697968,0.2169763296842575,0.21564732491970062,0.21678806841373444,0.2606387138366699,0.21532601118087769,0.22124314308166504,0.21999554336071014,0.25099387764930725,0.22232387959957123],\"type\":\"scatter\",\"xaxis\":\"x\",\"yaxis\":\"y\"},{\"marker\":{\"color\":[0,1,2,3,4,5,6,7,8,9,13,15,16,18,19,20,22,23,24,25,26,27,28,29,30,31,32,33,34,35,36,37,38,39,40,41,42,44,45,46,47,48,49],\"colorbar\":{\"title\":{\"text\":\"Trial\"},\"x\":1.0,\"xpad\":40},\"colorscale\":[[0.0,\"rgb(247,251,255)\"],[0.125,\"rgb(222,235,247)\"],[0.25,\"rgb(198,219,239)\"],[0.375,\"rgb(158,202,225)\"],[0.5,\"rgb(107,174,214)\"],[0.625,\"rgb(66,146,198)\"],[0.75,\"rgb(33,113,181)\"],[0.875,\"rgb(8,81,156)\"],[1.0,\"rgb(8,48,107)\"]],\"line\":{\"color\":\"Grey\",\"width\":0.5},\"showscale\":false},\"mode\":\"markers\",\"showlegend\":false,\"x\":[\"relu\",\"relu\",\"relu\",\"linear\",\"relu\",\"swish\",\"swish\",\"linear\",\"linear\",\"relu\",\"swish\",\"swish\",\"linear\",\"linear\",\"swish\",\"relu\",\"swish\",\"swish\",\"swish\",\"swish\",\"swish\",\"swish\",\"swish\",\"swish\",\"swish\",\"swish\",\"swish\",\"swish\",\"swish\",\"swish\",\"swish\",\"swish\",\"relu\",\"swish\",\"relu\",\"swish\",\"swish\",\"swish\",\"swish\",\"swish\",\"swish\",\"swish\",\"linear\"],\"y\":[0.21881206333637238,0.22392253577709198,0.22018544375896454,0.219422847032547,0.286236435174942,0.25058749318122864,0.22177642583847046,0.26825231313705444,0.2743256390094757,0.2591618597507477,0.22539523243904114,0.21923470497131348,0.22793728113174438,0.22127684950828552,0.2548409700393677,0.23326991498470306,0.21618050336837769,0.21883659064769745,0.21624968945980072,0.21644462645053864,0.2188563197851181,0.22284317016601562,0.21826373040676117,0.2215261459350586,0.22124449908733368,0.21634136140346527,0.2177121788263321,0.2177680879831314,0.21716339886188507,0.2194443941116333,0.22081460058689117,0.2257978916168213,0.22244754433631897,0.22161266207695007,0.21943573653697968,0.2169763296842575,0.21564732491970062,0.2606387138366699,0.21532601118087769,0.22124314308166504,0.21999554336071014,0.25099387764930725,0.22232387959957123],\"type\":\"scatter\",\"xaxis\":\"x2\",\"yaxis\":\"y2\"},{\"marker\":{\"color\":[4,5,7,8,9,44,48],\"colorbar\":{\"title\":{\"text\":\"Trial\"},\"x\":1.0,\"xpad\":40},\"colorscale\":[[0.0,\"rgb(247,251,255)\"],[0.125,\"rgb(222,235,247)\"],[0.25,\"rgb(198,219,239)\"],[0.375,\"rgb(158,202,225)\"],[0.5,\"rgb(107,174,214)\"],[0.625,\"rgb(66,146,198)\"],[0.75,\"rgb(33,113,181)\"],[0.875,\"rgb(8,81,156)\"],[1.0,\"rgb(8,48,107)\"]],\"line\":{\"color\":\"Grey\",\"width\":0.5},\"showscale\":false},\"mode\":\"markers\",\"showlegend\":false,\"x\":[\"linear\",\"relu\",\"linear\",\"linear\",\"swish\",\"relu\",\"swish\"],\"y\":[0.286236435174942,0.25058749318122864,0.26825231313705444,0.2743256390094757,0.2591618597507477,0.2606387138366699,0.25099387764930725],\"type\":\"scatter\",\"xaxis\":\"x3\",\"yaxis\":\"y3\"},{\"marker\":{\"color\":[4,8,9,44,48],\"colorbar\":{\"title\":{\"text\":\"Trial\"},\"x\":1.0,\"xpad\":40},\"colorscale\":[[0.0,\"rgb(247,251,255)\"],[0.125,\"rgb(222,235,247)\"],[0.25,\"rgb(198,219,239)\"],[0.375,\"rgb(158,202,225)\"],[0.5,\"rgb(107,174,214)\"],[0.625,\"rgb(66,146,198)\"],[0.75,\"rgb(33,113,181)\"],[0.875,\"rgb(8,81,156)\"],[1.0,\"rgb(8,48,107)\"]],\"line\":{\"color\":\"Grey\",\"width\":0.5},\"showscale\":false},\"mode\":\"markers\",\"showlegend\":false,\"x\":[\"relu\",\"swish\",\"swish\",\"linear\",\"linear\"],\"y\":[0.286236435174942,0.2743256390094757,0.2591618597507477,0.2606387138366699,0.25099387764930725],\"type\":\"scatter\",\"xaxis\":\"x4\",\"yaxis\":\"y4\"},{\"marker\":{\"color\":[4,8,9,44],\"colorbar\":{\"title\":{\"text\":\"Trial\"},\"x\":1.0,\"xpad\":40},\"colorscale\":[[0.0,\"rgb(247,251,255)\"],[0.125,\"rgb(222,235,247)\"],[0.25,\"rgb(198,219,239)\"],[0.375,\"rgb(158,202,225)\"],[0.5,\"rgb(107,174,214)\"],[0.625,\"rgb(66,146,198)\"],[0.75,\"rgb(33,113,181)\"],[0.875,\"rgb(8,81,156)\"],[1.0,\"rgb(8,48,107)\"]],\"line\":{\"color\":\"Grey\",\"width\":0.5},\"showscale\":false},\"mode\":\"markers\",\"showlegend\":false,\"x\":[\"linear\",\"relu\",\"swish\",\"linear\"],\"y\":[0.286236435174942,0.2743256390094757,0.2591618597507477,0.2606387138366699],\"type\":\"scatter\",\"xaxis\":\"x5\",\"yaxis\":\"y5\"},{\"marker\":{\"color\":[4,8,9,44],\"colorbar\":{\"title\":{\"text\":\"Trial\"},\"x\":1.0,\"xpad\":40},\"colorscale\":[[0.0,\"rgb(247,251,255)\"],[0.125,\"rgb(222,235,247)\"],[0.25,\"rgb(198,219,239)\"],[0.375,\"rgb(158,202,225)\"],[0.5,\"rgb(107,174,214)\"],[0.625,\"rgb(66,146,198)\"],[0.75,\"rgb(33,113,181)\"],[0.875,\"rgb(8,81,156)\"],[1.0,\"rgb(8,48,107)\"]],\"line\":{\"color\":\"Grey\",\"width\":0.5},\"showscale\":false},\"mode\":\"markers\",\"showlegend\":false,\"x\":[\"linear\",\"swish\",\"relu\",\"swish\"],\"y\":[0.286236435174942,0.2743256390094757,0.2591618597507477,0.2606387138366699],\"type\":\"scatter\",\"xaxis\":\"x6\",\"yaxis\":\"y6\"},{\"marker\":{\"color\":[44],\"colorbar\":{\"title\":{\"text\":\"Trial\"},\"x\":1.0,\"xpad\":40},\"colorscale\":[[0.0,\"rgb(247,251,255)\"],[0.125,\"rgb(222,235,247)\"],[0.25,\"rgb(198,219,239)\"],[0.375,\"rgb(158,202,225)\"],[0.5,\"rgb(107,174,214)\"],[0.625,\"rgb(66,146,198)\"],[0.75,\"rgb(33,113,181)\"],[0.875,\"rgb(8,81,156)\"],[1.0,\"rgb(8,48,107)\"]],\"line\":{\"color\":\"Grey\",\"width\":0.5},\"showscale\":false},\"mode\":\"markers\",\"showlegend\":false,\"x\":[\"swish\"],\"y\":[0.2606387138366699],\"type\":\"scatter\",\"xaxis\":\"x7\",\"yaxis\":\"y7\"},{\"marker\":{\"color\":[0,1,2,3,4,5,6,7,8,9,13,15,16,18,19,20,23,26,27,30,33,34,36,37,38,39,40,44,46,47,48],\"colorbar\":{\"title\":{\"text\":\"Trial\"},\"x\":1.0,\"xpad\":40},\"colorscale\":[[0.0,\"rgb(247,251,255)\"],[0.125,\"rgb(222,235,247)\"],[0.25,\"rgb(198,219,239)\"],[0.375,\"rgb(158,202,225)\"],[0.5,\"rgb(107,174,214)\"],[0.625,\"rgb(66,146,198)\"],[0.75,\"rgb(33,113,181)\"],[0.875,\"rgb(8,81,156)\"],[1.0,\"rgb(8,48,107)\"]],\"line\":{\"color\":\"Grey\",\"width\":0.5},\"showscale\":false},\"mode\":\"markers\",\"showlegend\":false,\"x\":[\"swish\",\"linear\",\"relu\",\"relu\",\"swish\",\"relu\",\"linear\",\"relu\",\"linear\",\"relu\",\"swish\",\"swish\",\"linear\",\"linear\",\"swish\",\"swish\",\"relu\",\"linear\",\"swish\",\"relu\",\"linear\",\"swish\",\"linear\",\"relu\",\"relu\",\"linear\",\"swish\",\"swish\",\"linear\",\"relu\",\"swish\"],\"y\":[0.21881206333637238,0.22392253577709198,0.22018544375896454,0.219422847032547,0.286236435174942,0.25058749318122864,0.22177642583847046,0.26825231313705444,0.2743256390094757,0.2591618597507477,0.22539523243904114,0.21923470497131348,0.22793728113174438,0.22127684950828552,0.2548409700393677,0.23326991498470306,0.21883659064769745,0.2188563197851181,0.22284317016601562,0.22124449908733368,0.2177680879831314,0.21716339886188507,0.22081460058689117,0.2257978916168213,0.22244754433631897,0.22161266207695007,0.21943573653697968,0.2606387138366699,0.22124314308166504,0.21999554336071014,0.25099387764930725],\"type\":\"scatter\",\"xaxis\":\"x8\",\"yaxis\":\"y8\"},{\"marker\":{\"color\":[4,5,6,7,8,9,13,15,16,18,19,20,23,26,27,30,37,38,39,44,46,48],\"colorbar\":{\"title\":{\"text\":\"Trial\"},\"x\":1.0,\"xpad\":40},\"colorscale\":[[0.0,\"rgb(247,251,255)\"],[0.125,\"rgb(222,235,247)\"],[0.25,\"rgb(198,219,239)\"],[0.375,\"rgb(158,202,225)\"],[0.5,\"rgb(107,174,214)\"],[0.625,\"rgb(66,146,198)\"],[0.75,\"rgb(33,113,181)\"],[0.875,\"rgb(8,81,156)\"],[1.0,\"rgb(8,48,107)\"]],\"line\":{\"color\":\"Grey\",\"width\":0.5},\"showscale\":false},\"mode\":\"markers\",\"showlegend\":false,\"x\":[\"relu\",\"swish\",\"relu\",\"linear\",\"relu\",\"linear\",\"swish\",\"linear\",\"swish\",\"swish\",\"relu\",\"linear\",\"swish\",\"linear\",\"relu\",\"swish\",\"relu\",\"linear\",\"swish\",\"linear\",\"relu\",\"linear\"],\"y\":[0.286236435174942,0.25058749318122864,0.22177642583847046,0.26825231313705444,0.2743256390094757,0.2591618597507477,0.22539523243904114,0.21923470497131348,0.22793728113174438,0.22127684950828552,0.2548409700393677,0.23326991498470306,0.21883659064769745,0.2188563197851181,0.22284317016601562,0.22124449908733368,0.2257978916168213,0.22244754433631897,0.22161266207695007,0.2606387138366699,0.22124314308166504,0.25099387764930725],\"type\":\"scatter\",\"xaxis\":\"x9\",\"yaxis\":\"y9\"},{\"marker\":{\"color\":[4,5,6,7,8,9,13,15,16,18,19,20,27,37,39,44,48],\"colorbar\":{\"title\":{\"text\":\"Trial\"},\"x\":1.0,\"xpad\":40},\"colorscale\":[[0.0,\"rgb(247,251,255)\"],[0.125,\"rgb(222,235,247)\"],[0.25,\"rgb(198,219,239)\"],[0.375,\"rgb(158,202,225)\"],[0.5,\"rgb(107,174,214)\"],[0.625,\"rgb(66,146,198)\"],[0.75,\"rgb(33,113,181)\"],[0.875,\"rgb(8,81,156)\"],[1.0,\"rgb(8,48,107)\"]],\"line\":{\"color\":\"Grey\",\"width\":0.5},\"showscale\":false},\"mode\":\"markers\",\"showlegend\":false,\"x\":[\"relu\",\"linear\",\"linear\",\"swish\",\"swish\",\"linear\",\"relu\",\"swish\",\"relu\",\"linear\",\"swish\",\"relu\",\"swish\",\"relu\",\"linear\",\"swish\",\"linear\"],\"y\":[0.286236435174942,0.25058749318122864,0.22177642583847046,0.26825231313705444,0.2743256390094757,0.2591618597507477,0.22539523243904114,0.21923470497131348,0.22793728113174438,0.22127684950828552,0.2548409700393677,0.23326991498470306,0.22284317016601562,0.2257978916168213,0.22161266207695007,0.2606387138366699,0.25099387764930725],\"type\":\"scatter\",\"xaxis\":\"x10\",\"yaxis\":\"y10\"},{\"marker\":{\"color\":[4,5,6,7,8,9,13,15,16,19,20,39,44,48],\"colorbar\":{\"title\":{\"text\":\"Trial\"},\"x\":1.0,\"xpad\":40},\"colorscale\":[[0.0,\"rgb(247,251,255)\"],[0.125,\"rgb(222,235,247)\"],[0.25,\"rgb(198,219,239)\"],[0.375,\"rgb(158,202,225)\"],[0.5,\"rgb(107,174,214)\"],[0.625,\"rgb(66,146,198)\"],[0.75,\"rgb(33,113,181)\"],[0.875,\"rgb(8,81,156)\"],[1.0,\"rgb(8,48,107)\"]],\"line\":{\"color\":\"Grey\",\"width\":0.5},\"showscale\":false},\"mode\":\"markers\",\"showlegend\":false,\"x\":[\"swish\",\"swish\",\"swish\",\"swish\",\"swish\",\"swish\",\"relu\",\"linear\",\"linear\",\"relu\",\"linear\",\"relu\",\"relu\",\"linear\"],\"y\":[0.286236435174942,0.25058749318122864,0.22177642583847046,0.26825231313705444,0.2743256390094757,0.2591618597507477,0.22539523243904114,0.21923470497131348,0.22793728113174438,0.2548409700393677,0.23326991498470306,0.22161266207695007,0.2606387138366699,0.25099387764930725],\"type\":\"scatter\",\"xaxis\":\"x11\",\"yaxis\":\"y11\"},{\"marker\":{\"color\":[4,5,7,8,9,16,19,20,39,44,48],\"colorbar\":{\"title\":{\"text\":\"Trial\"},\"x\":1.0,\"xpad\":40},\"colorscale\":[[0.0,\"rgb(247,251,255)\"],[0.125,\"rgb(222,235,247)\"],[0.25,\"rgb(198,219,239)\"],[0.375,\"rgb(158,202,225)\"],[0.5,\"rgb(107,174,214)\"],[0.625,\"rgb(66,146,198)\"],[0.75,\"rgb(33,113,181)\"],[0.875,\"rgb(8,81,156)\"],[1.0,\"rgb(8,48,107)\"]],\"line\":{\"color\":\"Grey\",\"width\":0.5},\"showscale\":false},\"mode\":\"markers\",\"showlegend\":false,\"x\":[\"swish\",\"linear\",\"relu\",\"linear\",\"linear\",\"relu\",\"swish\",\"relu\",\"swish\",\"linear\",\"swish\"],\"y\":[0.286236435174942,0.25058749318122864,0.26825231313705444,0.2743256390094757,0.2591618597507477,0.22793728113174438,0.2548409700393677,0.23326991498470306,0.22161266207695007,0.2606387138366699,0.25099387764930725],\"type\":\"scatter\",\"xaxis\":\"x12\",\"yaxis\":\"y12\"},{\"marker\":{\"color\":[4,5,7,8,9,16,19,20,44,48],\"colorbar\":{\"title\":{\"text\":\"Trial\"},\"x\":1.0,\"xpad\":40},\"colorscale\":[[0.0,\"rgb(247,251,255)\"],[0.125,\"rgb(222,235,247)\"],[0.25,\"rgb(198,219,239)\"],[0.375,\"rgb(158,202,225)\"],[0.5,\"rgb(107,174,214)\"],[0.625,\"rgb(66,146,198)\"],[0.75,\"rgb(33,113,181)\"],[0.875,\"rgb(8,81,156)\"],[1.0,\"rgb(8,48,107)\"]],\"line\":{\"color\":\"Grey\",\"width\":0.5},\"showscale\":false},\"mode\":\"markers\",\"showlegend\":false,\"x\":[\"relu\",\"linear\",\"relu\",\"linear\",\"swish\",\"swish\",\"linear\",\"relu\",\"swish\",\"linear\"],\"y\":[0.286236435174942,0.25058749318122864,0.26825231313705444,0.2743256390094757,0.2591618597507477,0.22793728113174438,0.2548409700393677,0.23326991498470306,0.2606387138366699,0.25099387764930725],\"type\":\"scatter\",\"xaxis\":\"x13\",\"yaxis\":\"y13\"},{\"marker\":{\"color\":[4,5,7,8,9,19,44,48],\"colorbar\":{\"title\":{\"text\":\"Trial\"},\"x\":1.0,\"xpad\":40},\"colorscale\":[[0.0,\"rgb(247,251,255)\"],[0.125,\"rgb(222,235,247)\"],[0.25,\"rgb(198,219,239)\"],[0.375,\"rgb(158,202,225)\"],[0.5,\"rgb(107,174,214)\"],[0.625,\"rgb(66,146,198)\"],[0.75,\"rgb(33,113,181)\"],[0.875,\"rgb(8,81,156)\"],[1.0,\"rgb(8,48,107)\"]],\"line\":{\"color\":\"Grey\",\"width\":0.5},\"showscale\":false},\"mode\":\"markers\",\"showlegend\":false,\"x\":[\"linear\",\"swish\",\"relu\",\"linear\",\"swish\",\"relu\",\"relu\",\"linear\"],\"y\":[0.286236435174942,0.25058749318122864,0.26825231313705444,0.2743256390094757,0.2591618597507477,0.2548409700393677,0.2606387138366699,0.25099387764930725],\"type\":\"scatter\",\"xaxis\":\"x14\",\"yaxis\":\"y14\"},{\"marker\":{\"color\":[4,5,7,8,9,19,44,48],\"colorbar\":{\"title\":{\"text\":\"Trial\"},\"x\":1.0,\"xpad\":40},\"colorscale\":[[0.0,\"rgb(247,251,255)\"],[0.125,\"rgb(222,235,247)\"],[0.25,\"rgb(198,219,239)\"],[0.375,\"rgb(158,202,225)\"],[0.5,\"rgb(107,174,214)\"],[0.625,\"rgb(66,146,198)\"],[0.75,\"rgb(33,113,181)\"],[0.875,\"rgb(8,81,156)\"],[1.0,\"rgb(8,48,107)\"]],\"line\":{\"color\":\"Grey\",\"width\":0.5},\"showscale\":false},\"mode\":\"markers\",\"showlegend\":false,\"x\":[\"swish\",\"relu\",\"linear\",\"linear\",\"linear\",\"relu\",\"swish\",\"swish\"],\"y\":[0.286236435174942,0.25058749318122864,0.26825231313705444,0.2743256390094757,0.2591618597507477,0.2548409700393677,0.2606387138366699,0.25099387764930725],\"type\":\"scatter\",\"xaxis\":\"x15\",\"yaxis\":\"y15\"},{\"marker\":{\"color\":[0,1,2,3,4,5,6,7,8,9,10,11,12,13,14,15,16,17,18,19,20,21,22,23,24,25,26,27,28,29,30,31,32,33,34,35,36,37,38,39,40,41,42,43,44,45,46,47,48,49],\"colorbar\":{\"title\":{\"text\":\"Trial\"},\"x\":1.0,\"xpad\":40},\"colorscale\":[[0.0,\"rgb(247,251,255)\"],[0.125,\"rgb(222,235,247)\"],[0.25,\"rgb(198,219,239)\"],[0.375,\"rgb(158,202,225)\"],[0.5,\"rgb(107,174,214)\"],[0.625,\"rgb(66,146,198)\"],[0.75,\"rgb(33,113,181)\"],[0.875,\"rgb(8,81,156)\"],[1.0,\"rgb(8,48,107)\"]],\"line\":{\"color\":\"Grey\",\"width\":0.5},\"showscale\":false},\"mode\":\"markers\",\"showlegend\":false,\"x\":[0.19004547957991733,0.5103649334133026,0.132377962738476,0.0641576889147794,0.37364378060135484,0.36316256368487215,0.5142901388385986,0.4591644055831778,0.2869044296936247,0.336540108667518,0.1910256108800049,0.18977905686720536,0.18855014835710016,0.010485381772854546,0.24603985384771745,0.11655181264350116,0.20941553046598776,0.12690434603256867,0.27427681991653313,0.4219121532455989,0.050446718971514815,0.23510059148732987,0.24498487956400572,0.595664675338005,0.16903945345645757,0.14904600551042793,0.3273318161070058,0.0832194053291391,0.24607558656800835,0.1701391006457436,0.3034794562393292,0.14323717070791725,0.09828538244104368,0.22116894750474705,0.1678427368630065,0.0463560514729795,0.2672097376285232,0.14592018174123764,0.2079383310553513,0.10472620204907968,0.0035457407480789793,0.1459370203523321,0.15857169863956014,0.1773249839564029,0.08025616819862809,0.19988153978942816,0.2500144787331371,0.2954480248306342,0.3736345500388184,0.20506060358253367],\"y\":[0.21881206333637238,0.22392253577709198,0.22018544375896454,0.219422847032547,0.286236435174942,0.25058749318122864,0.22177642583847046,0.26825231313705444,0.2743256390094757,0.2591618597507477,0.2163546085357666,0.21836291253566742,0.2175169736146927,0.22539523243904114,0.2179332822561264,0.21923470497131348,0.22793728113174438,0.21905167400836945,0.22127684950828552,0.2548409700393677,0.23326991498470306,0.2188558131456375,0.21618050336837769,0.21883659064769745,0.21624968945980072,0.21644462645053864,0.2188563197851181,0.22284317016601562,0.21826373040676117,0.2215261459350586,0.22124449908733368,0.21634136140346527,0.2177121788263321,0.2177680879831314,0.21716339886188507,0.2194443941116333,0.22081460058689117,0.2257978916168213,0.22244754433631897,0.22161266207695007,0.21943573653697968,0.2169763296842575,0.21564732491970062,0.21678806841373444,0.2606387138366699,0.21532601118087769,0.22124314308166504,0.21999554336071014,0.25099387764930725,0.22232387959957123],\"type\":\"scatter\",\"xaxis\":\"x16\",\"yaxis\":\"y16\"},{\"marker\":{\"color\":[0,1,2,3,4,5,6,7,8,9,13,15,16,18,19,20,22,23,24,25,26,27,28,29,30,31,32,33,34,35,36,37,38,39,40,41,42,44,45,46,47,48,49],\"colorbar\":{\"title\":{\"text\":\"Trial\"},\"x\":1.0,\"xpad\":40},\"colorscale\":[[0.0,\"rgb(247,251,255)\"],[0.125,\"rgb(222,235,247)\"],[0.25,\"rgb(198,219,239)\"],[0.375,\"rgb(158,202,225)\"],[0.5,\"rgb(107,174,214)\"],[0.625,\"rgb(66,146,198)\"],[0.75,\"rgb(33,113,181)\"],[0.875,\"rgb(8,81,156)\"],[1.0,\"rgb(8,48,107)\"]],\"line\":{\"color\":\"Grey\",\"width\":0.5},\"showscale\":false},\"mode\":\"markers\",\"showlegend\":false,\"x\":[0.04792471340208768,0.34643082345583687,0.5735465368729223,0.1508291619094913,0.4933884397000381,0.32857107604809227,0.2590654060166815,0.5721205578470349,0.23496693080217812,0.3528386743819948,0.02288547371625599,0.4459143368937525,0.09718200576074251,0.15000863815869692,0.4475830822357656,0.19331620008102823,0.39995177919058544,0.42534325103754766,0.4967978807440604,0.5229652954984503,0.39141414210227016,0.4976917967508131,0.275066680530926,0.3939196267971687,0.5041036286137975,0.5233509260749614,0.5968686050304486,0.5487522968294944,0.4566881593220567,0.4076389764684829,0.4829441643735692,0.3661110629996275,0.5323761993835779,0.3203537885028941,0.46967481975933595,0.5358758089996932,0.5988978045606418,0.5977090272584511,0.5081126249182397,0.5565298609561555,0.5070175971541119,0.4253612923059624,0.5804918464427368],\"y\":[0.21881206333637238,0.22392253577709198,0.22018544375896454,0.219422847032547,0.286236435174942,0.25058749318122864,0.22177642583847046,0.26825231313705444,0.2743256390094757,0.2591618597507477,0.22539523243904114,0.21923470497131348,0.22793728113174438,0.22127684950828552,0.2548409700393677,0.23326991498470306,0.21618050336837769,0.21883659064769745,0.21624968945980072,0.21644462645053864,0.2188563197851181,0.22284317016601562,0.21826373040676117,0.2215261459350586,0.22124449908733368,0.21634136140346527,0.2177121788263321,0.2177680879831314,0.21716339886188507,0.2194443941116333,0.22081460058689117,0.2257978916168213,0.22244754433631897,0.22161266207695007,0.21943573653697968,0.2169763296842575,0.21564732491970062,0.2606387138366699,0.21532601118087769,0.22124314308166504,0.21999554336071014,0.25099387764930725,0.22232387959957123],\"type\":\"scatter\",\"xaxis\":\"x17\",\"yaxis\":\"y17\"},{\"marker\":{\"color\":[4,5,7,8,9,44,48],\"colorbar\":{\"title\":{\"text\":\"Trial\"},\"x\":1.0,\"xpad\":40},\"colorscale\":[[0.0,\"rgb(247,251,255)\"],[0.125,\"rgb(222,235,247)\"],[0.25,\"rgb(198,219,239)\"],[0.375,\"rgb(158,202,225)\"],[0.5,\"rgb(107,174,214)\"],[0.625,\"rgb(66,146,198)\"],[0.75,\"rgb(33,113,181)\"],[0.875,\"rgb(8,81,156)\"],[1.0,\"rgb(8,48,107)\"]],\"line\":{\"color\":\"Grey\",\"width\":0.5},\"showscale\":false},\"mode\":\"markers\",\"showlegend\":false,\"x\":[0.2732733666167075,0.2599284631873281,0.5354299001982517,0.5672739735772558,0.5957005568090588,0.02052231600967469,0.002487463635868936],\"y\":[0.286236435174942,0.25058749318122864,0.26825231313705444,0.2743256390094757,0.2591618597507477,0.2606387138366699,0.25099387764930725],\"type\":\"scatter\",\"xaxis\":\"x18\",\"yaxis\":\"y18\"},{\"marker\":{\"color\":[4,8,9,44,48],\"colorbar\":{\"title\":{\"text\":\"Trial\"},\"x\":1.0,\"xpad\":40},\"colorscale\":[[0.0,\"rgb(247,251,255)\"],[0.125,\"rgb(222,235,247)\"],[0.25,\"rgb(198,219,239)\"],[0.375,\"rgb(158,202,225)\"],[0.5,\"rgb(107,174,214)\"],[0.625,\"rgb(66,146,198)\"],[0.75,\"rgb(33,113,181)\"],[0.875,\"rgb(8,81,156)\"],[1.0,\"rgb(8,48,107)\"]],\"line\":{\"color\":\"Grey\",\"width\":0.5},\"showscale\":false},\"mode\":\"markers\",\"showlegend\":false,\"x\":[0.07477970528485113,0.5437833211318112,0.33296126946623866,0.08996278378910944,0.5517888097042851],\"y\":[0.286236435174942,0.2743256390094757,0.2591618597507477,0.2606387138366699,0.25099387764930725],\"type\":\"scatter\",\"xaxis\":\"x19\",\"yaxis\":\"y19\"},{\"marker\":{\"color\":[4,8,9,44],\"colorbar\":{\"title\":{\"text\":\"Trial\"},\"x\":1.0,\"xpad\":40},\"colorscale\":[[0.0,\"rgb(247,251,255)\"],[0.125,\"rgb(222,235,247)\"],[0.25,\"rgb(198,219,239)\"],[0.375,\"rgb(158,202,225)\"],[0.5,\"rgb(107,174,214)\"],[0.625,\"rgb(66,146,198)\"],[0.75,\"rgb(33,113,181)\"],[0.875,\"rgb(8,81,156)\"],[1.0,\"rgb(8,48,107)\"]],\"line\":{\"color\":\"Grey\",\"width\":0.5},\"showscale\":false},\"mode\":\"markers\",\"showlegend\":false,\"x\":[0.5751783108013758,0.059275876117634935,0.5707901056420598,0.026063176895553763],\"y\":[0.286236435174942,0.2743256390094757,0.2591618597507477,0.2606387138366699],\"type\":\"scatter\",\"xaxis\":\"x20\",\"yaxis\":\"y20\"},{\"marker\":{\"color\":[4,8,9,44],\"colorbar\":{\"title\":{\"text\":\"Trial\"},\"x\":1.0,\"xpad\":40},\"colorscale\":[[0.0,\"rgb(247,251,255)\"],[0.125,\"rgb(222,235,247)\"],[0.25,\"rgb(198,219,239)\"],[0.375,\"rgb(158,202,225)\"],[0.5,\"rgb(107,174,214)\"],[0.625,\"rgb(66,146,198)\"],[0.75,\"rgb(33,113,181)\"],[0.875,\"rgb(8,81,156)\"],[1.0,\"rgb(8,48,107)\"]],\"line\":{\"color\":\"Grey\",\"width\":0.5},\"showscale\":false},\"mode\":\"markers\",\"showlegend\":false,\"x\":[0.5642793061808266,0.05217458604470843,0.5036083996194108,0.0010936885849140432],\"y\":[0.286236435174942,0.2743256390094757,0.2591618597507477,0.2606387138366699],\"type\":\"scatter\",\"xaxis\":\"x21\",\"yaxis\":\"y21\"},{\"marker\":{\"color\":[44],\"colorbar\":{\"title\":{\"text\":\"Trial\"},\"x\":1.0,\"xpad\":40},\"colorscale\":[[0.0,\"rgb(247,251,255)\"],[0.125,\"rgb(222,235,247)\"],[0.25,\"rgb(198,219,239)\"],[0.375,\"rgb(158,202,225)\"],[0.5,\"rgb(107,174,214)\"],[0.625,\"rgb(66,146,198)\"],[0.75,\"rgb(33,113,181)\"],[0.875,\"rgb(8,81,156)\"],[1.0,\"rgb(8,48,107)\"]],\"line\":{\"color\":\"Grey\",\"width\":0.5},\"showscale\":false},\"mode\":\"markers\",\"showlegend\":false,\"x\":[0.025914886816692406],\"y\":[0.2606387138366699],\"type\":\"scatter\",\"xaxis\":\"x22\",\"yaxis\":\"y22\"},{\"marker\":{\"color\":[0,1,2,3,4,5,6,7,8,9,13,15,16,18,19,20,23,26,27,30,33,34,36,37,38,39,40,44,46,47,48],\"colorbar\":{\"title\":{\"text\":\"Trial\"},\"x\":1.0,\"xpad\":40},\"colorscale\":[[0.0,\"rgb(247,251,255)\"],[0.125,\"rgb(222,235,247)\"],[0.25,\"rgb(198,219,239)\"],[0.375,\"rgb(158,202,225)\"],[0.5,\"rgb(107,174,214)\"],[0.625,\"rgb(66,146,198)\"],[0.75,\"rgb(33,113,181)\"],[0.875,\"rgb(8,81,156)\"],[1.0,\"rgb(8,48,107)\"]],\"line\":{\"color\":\"Grey\",\"width\":0.5},\"showscale\":false},\"mode\":\"markers\",\"showlegend\":false,\"x\":[0.26187494688338386,0.5690516948954789,0.03234779213218133,0.06134946198652913,0.517862762243501,0.5661687229788925,0.4053703980361565,0.47764856477058915,0.41362228158785636,0.4946978044594312,0.22798261392790523,0.1371167328290669,0.34538459871207483,0.1785746595984934,0.3296265542944074,0.1289957750509428,0.013416248798234498,0.41721118665404433,0.09477698446387886,0.1960463615963017,0.313111194939716,0.26029509964654546,0.3831157208796911,0.5939565167790339,0.4521201828422847,0.17178639651021166,0.27018961119703266,0.522993315432858,0.36297840341379306,0.06617802518686805,0.2607571329105476],\"y\":[0.21881206333637238,0.22392253577709198,0.22018544375896454,0.219422847032547,0.286236435174942,0.25058749318122864,0.22177642583847046,0.26825231313705444,0.2743256390094757,0.2591618597507477,0.22539523243904114,0.21923470497131348,0.22793728113174438,0.22127684950828552,0.2548409700393677,0.23326991498470306,0.21883659064769745,0.2188563197851181,0.22284317016601562,0.22124449908733368,0.2177680879831314,0.21716339886188507,0.22081460058689117,0.2257978916168213,0.22244754433631897,0.22161266207695007,0.21943573653697968,0.2606387138366699,0.22124314308166504,0.21999554336071014,0.25099387764930725],\"type\":\"scatter\",\"xaxis\":\"x23\",\"yaxis\":\"y23\"},{\"marker\":{\"color\":[4,5,6,7,8,9,13,15,16,18,19,20,23,26,27,30,37,38,39,44,46,48],\"colorbar\":{\"title\":{\"text\":\"Trial\"},\"x\":1.0,\"xpad\":40},\"colorscale\":[[0.0,\"rgb(247,251,255)\"],[0.125,\"rgb(222,235,247)\"],[0.25,\"rgb(198,219,239)\"],[0.375,\"rgb(158,202,225)\"],[0.5,\"rgb(107,174,214)\"],[0.625,\"rgb(66,146,198)\"],[0.75,\"rgb(33,113,181)\"],[0.875,\"rgb(8,81,156)\"],[1.0,\"rgb(8,48,107)\"]],\"line\":{\"color\":\"Grey\",\"width\":0.5},\"showscale\":false},\"mode\":\"markers\",\"showlegend\":false,\"x\":[0.07673594431771992,0.343211017309744,0.5348829295802316,0.598274524600959,0.2730406750752393,0.43406150467889754,0.018901207301681933,0.19578040930286744,0.1657005326273407,0.425126858730131,0.12594310364934647,0.26118639512406766,0.3840978178697625,0.5014409934007336,0.04623697691697687,0.21188250888969154,0.5914189483748882,0.31816007716376365,0.10657973754576727,0.4814701261912401,0.3759218973482183,0.2414384458665469],\"y\":[0.286236435174942,0.25058749318122864,0.22177642583847046,0.26825231313705444,0.2743256390094757,0.2591618597507477,0.22539523243904114,0.21923470497131348,0.22793728113174438,0.22127684950828552,0.2548409700393677,0.23326991498470306,0.21883659064769745,0.2188563197851181,0.22284317016601562,0.22124449908733368,0.2257978916168213,0.22244754433631897,0.22161266207695007,0.2606387138366699,0.22124314308166504,0.25099387764930725],\"type\":\"scatter\",\"xaxis\":\"x24\",\"yaxis\":\"y24\"},{\"marker\":{\"color\":[4,5,6,7,8,9,13,15,16,18,19,20,27,37,39,44,48],\"colorbar\":{\"title\":{\"text\":\"Trial\"},\"x\":1.0,\"xpad\":40},\"colorscale\":[[0.0,\"rgb(247,251,255)\"],[0.125,\"rgb(222,235,247)\"],[0.25,\"rgb(198,219,239)\"],[0.375,\"rgb(158,202,225)\"],[0.5,\"rgb(107,174,214)\"],[0.625,\"rgb(66,146,198)\"],[0.75,\"rgb(33,113,181)\"],[0.875,\"rgb(8,81,156)\"],[1.0,\"rgb(8,48,107)\"]],\"line\":{\"color\":\"Grey\",\"width\":0.5},\"showscale\":false},\"mode\":\"markers\",\"showlegend\":false,\"x\":[0.1940959833632564,0.4992551408764337,0.17289569406446606,0.4274816932742459,0.07652495314799786,0.269979432560649,0.5968716836909342,0.007668931756357189,0.3698460316218746,0.5932452194766047,0.3121329068669812,0.48723899069476606,0.11654180703683292,0.25487045316630735,0.3677863591486103,0.016450329758121718,0.5086831919101577],\"y\":[0.286236435174942,0.25058749318122864,0.22177642583847046,0.26825231313705444,0.2743256390094757,0.2591618597507477,0.22539523243904114,0.21923470497131348,0.22793728113174438,0.22127684950828552,0.2548409700393677,0.23326991498470306,0.22284317016601562,0.2257978916168213,0.22161266207695007,0.2606387138366699,0.25099387764930725],\"type\":\"scatter\",\"xaxis\":\"x25\",\"yaxis\":\"y25\"},{\"marker\":{\"color\":[4,5,6,7,8,9,13,15,16,19,20,39,44,48],\"colorbar\":{\"title\":{\"text\":\"Trial\"},\"x\":1.0,\"xpad\":40},\"colorscale\":[[0.0,\"rgb(247,251,255)\"],[0.125,\"rgb(222,235,247)\"],[0.25,\"rgb(198,219,239)\"],[0.375,\"rgb(158,202,225)\"],[0.5,\"rgb(107,174,214)\"],[0.625,\"rgb(66,146,198)\"],[0.75,\"rgb(33,113,181)\"],[0.875,\"rgb(8,81,156)\"],[1.0,\"rgb(8,48,107)\"]],\"line\":{\"color\":\"Grey\",\"width\":0.5},\"showscale\":false},\"mode\":\"markers\",\"showlegend\":false,\"x\":[0.26082483338336,0.16606366300870498,0.11706361108361615,0.1951086924902066,0.5840048526278384,0.13437630918675436,0.4675025128299021,0.0059367272257462855,0.3828171083789319,0.3933729061053894,0.5529373305087788,0.017122362230431065,0.30430514140078174,0.4818873856070469],\"y\":[0.286236435174942,0.25058749318122864,0.22177642583847046,0.26825231313705444,0.2743256390094757,0.2591618597507477,0.22539523243904114,0.21923470497131348,0.22793728113174438,0.2548409700393677,0.23326991498470306,0.22161266207695007,0.2606387138366699,0.25099387764930725],\"type\":\"scatter\",\"xaxis\":\"x26\",\"yaxis\":\"y26\"},{\"marker\":{\"color\":[4,5,7,8,9,16,19,20,39,44,48],\"colorbar\":{\"title\":{\"text\":\"Trial\"},\"x\":1.0,\"xpad\":40},\"colorscale\":[[0.0,\"rgb(247,251,255)\"],[0.125,\"rgb(222,235,247)\"],[0.25,\"rgb(198,219,239)\"],[0.375,\"rgb(158,202,225)\"],[0.5,\"rgb(107,174,214)\"],[0.625,\"rgb(66,146,198)\"],[0.75,\"rgb(33,113,181)\"],[0.875,\"rgb(8,81,156)\"],[1.0,\"rgb(8,48,107)\"]],\"line\":{\"color\":\"Grey\",\"width\":0.5},\"showscale\":false},\"mode\":\"markers\",\"showlegend\":false,\"x\":[0.4620863187323671,0.47489701096115305,0.17666281607809411,0.38786650623289526,0.09038052505279534,0.5818821651075021,0.022364197485049753,0.2525027620566898,0.29468971976807573,0.5753945530411275,0.17625597754408068],\"y\":[0.286236435174942,0.25058749318122864,0.26825231313705444,0.2743256390094757,0.2591618597507477,0.22793728113174438,0.2548409700393677,0.23326991498470306,0.22161266207695007,0.2606387138366699,0.25099387764930725],\"type\":\"scatter\",\"xaxis\":\"x27\",\"yaxis\":\"y27\"},{\"marker\":{\"color\":[4,5,7,8,9,16,19,20,44,48],\"colorbar\":{\"title\":{\"text\":\"Trial\"},\"x\":1.0,\"xpad\":40},\"colorscale\":[[0.0,\"rgb(247,251,255)\"],[0.125,\"rgb(222,235,247)\"],[0.25,\"rgb(198,219,239)\"],[0.375,\"rgb(158,202,225)\"],[0.5,\"rgb(107,174,214)\"],[0.625,\"rgb(66,146,198)\"],[0.75,\"rgb(33,113,181)\"],[0.875,\"rgb(8,81,156)\"],[1.0,\"rgb(8,48,107)\"]],\"line\":{\"color\":\"Grey\",\"width\":0.5},\"showscale\":false},\"mode\":\"markers\",\"showlegend\":false,\"x\":[0.2895829644349025,0.4111971723426242,0.3268910651983671,0.4715038055934597,0.5904900086270164,0.016960517895728,0.05136551962223235,0.16721942704310513,0.15571744432749213,0.5764443180978481],\"y\":[0.286236435174942,0.25058749318122864,0.26825231313705444,0.2743256390094757,0.2591618597507477,0.22793728113174438,0.2548409700393677,0.23326991498470306,0.2606387138366699,0.25099387764930725],\"type\":\"scatter\",\"xaxis\":\"x28\",\"yaxis\":\"y28\"},{\"marker\":{\"color\":[4,5,7,8,9,19,44,48],\"colorbar\":{\"title\":{\"text\":\"Trial\"},\"x\":1.0,\"xpad\":40},\"colorscale\":[[0.0,\"rgb(247,251,255)\"],[0.125,\"rgb(222,235,247)\"],[0.25,\"rgb(198,219,239)\"],[0.375,\"rgb(158,202,225)\"],[0.5,\"rgb(107,174,214)\"],[0.625,\"rgb(66,146,198)\"],[0.75,\"rgb(33,113,181)\"],[0.875,\"rgb(8,81,156)\"],[1.0,\"rgb(8,48,107)\"]],\"line\":{\"color\":\"Grey\",\"width\":0.5},\"showscale\":false},\"mode\":\"markers\",\"showlegend\":false,\"x\":[0.11257253653674737,0.159099685576271,0.15910077488058655,0.4600493409666581,0.3043352174852783,0.5543408601684732,0.0050981758990465975,0.3756836053442184],\"y\":[0.286236435174942,0.25058749318122864,0.26825231313705444,0.2743256390094757,0.2591618597507477,0.2548409700393677,0.2606387138366699,0.25099387764930725],\"type\":\"scatter\",\"xaxis\":\"x29\",\"yaxis\":\"y29\"},{\"marker\":{\"color\":[4,5,7,8,9,19,44,48],\"colorbar\":{\"title\":{\"text\":\"Trial\"},\"x\":1.0,\"xpad\":40},\"colorscale\":[[0.0,\"rgb(247,251,255)\"],[0.125,\"rgb(222,235,247)\"],[0.25,\"rgb(198,219,239)\"],[0.375,\"rgb(158,202,225)\"],[0.5,\"rgb(107,174,214)\"],[0.625,\"rgb(66,146,198)\"],[0.75,\"rgb(33,113,181)\"],[0.875,\"rgb(8,81,156)\"],[1.0,\"rgb(8,48,107)\"]],\"line\":{\"color\":\"Grey\",\"width\":0.5},\"showscale\":false},\"mode\":\"markers\",\"showlegend\":false,\"x\":[0.507485708884159,0.16218787987241057,0.39592809997986506,0.5137880987146044,0.08571571896236382,0.2626978628788918,0.025870222967983636,0.31933914199481545],\"y\":[0.286236435174942,0.25058749318122864,0.26825231313705444,0.2743256390094757,0.2591618597507477,0.2548409700393677,0.2606387138366699,0.25099387764930725],\"type\":\"scatter\",\"xaxis\":\"x30\",\"yaxis\":\"y30\"},{\"marker\":{\"color\":[0,1,2,3,4,5,6,7,8,9,10,11,12,13,14,15,16,17,18,19,20,21,22,23,24,25,26,27,28,29,30,31,32,33,34,35,36,37,38,39,40,41,42,43,44,45,46,47,48,49],\"colorbar\":{\"title\":{\"text\":\"Trial\"},\"x\":1.0,\"xpad\":40},\"colorscale\":[[0.0,\"rgb(247,251,255)\"],[0.125,\"rgb(222,235,247)\"],[0.25,\"rgb(198,219,239)\"],[0.375,\"rgb(158,202,225)\"],[0.5,\"rgb(107,174,214)\"],[0.625,\"rgb(66,146,198)\"],[0.75,\"rgb(33,113,181)\"],[0.875,\"rgb(8,81,156)\"],[1.0,\"rgb(8,48,107)\"]],\"line\":{\"color\":\"Grey\",\"width\":0.5},\"showscale\":false},\"mode\":\"markers\",\"showlegend\":false,\"x\":[3,3,3,3,14,11,6,11,14,14,1,1,1,6,1,6,8,1,5,10,8,1,2,4,2,2,4,5,2,2,4,2,2,3,3,2,3,5,4,7,3,2,2,1,15,2,4,3,12,2],\"y\":[0.21881206333637238,0.22392253577709198,0.22018544375896454,0.219422847032547,0.286236435174942,0.25058749318122864,0.22177642583847046,0.26825231313705444,0.2743256390094757,0.2591618597507477,0.2163546085357666,0.21836291253566742,0.2175169736146927,0.22539523243904114,0.2179332822561264,0.21923470497131348,0.22793728113174438,0.21905167400836945,0.22127684950828552,0.2548409700393677,0.23326991498470306,0.2188558131456375,0.21618050336837769,0.21883659064769745,0.21624968945980072,0.21644462645053864,0.2188563197851181,0.22284317016601562,0.21826373040676117,0.2215261459350586,0.22124449908733368,0.21634136140346527,0.2177121788263321,0.2177680879831314,0.21716339886188507,0.2194443941116333,0.22081460058689117,0.2257978916168213,0.22244754433631897,0.22161266207695007,0.21943573653697968,0.2169763296842575,0.21564732491970062,0.21678806841373444,0.2606387138366699,0.21532601118087769,0.22124314308166504,0.21999554336071014,0.25099387764930725,0.22232387959957123],\"type\":\"scatter\",\"xaxis\":\"x31\",\"yaxis\":\"y31\"},{\"marker\":{\"color\":[0,1,2,3,4,5,6,7,8,9,10,11,12,13,14,15,16,17,18,19,20,21,22,23,24,25,26,27,28,29,30,31,32,33,34,35,36,37,38,39,40,41,42,43,44,45,46,47,48,49],\"colorbar\":{\"title\":{\"text\":\"Trial\"},\"x\":1.0,\"xpad\":40},\"colorscale\":[[0.0,\"rgb(247,251,255)\"],[0.125,\"rgb(222,235,247)\"],[0.25,\"rgb(198,219,239)\"],[0.375,\"rgb(158,202,225)\"],[0.5,\"rgb(107,174,214)\"],[0.625,\"rgb(66,146,198)\"],[0.75,\"rgb(33,113,181)\"],[0.875,\"rgb(8,81,156)\"],[1.0,\"rgb(8,48,107)\"]],\"line\":{\"color\":\"Grey\",\"width\":0.5},\"showscale\":false},\"mode\":\"markers\",\"showlegend\":false,\"x\":[89,49,128,118,169,127,244,68,92,170,319,298,370,333,378,220,269,180,351,218,384,288,381,320,249,247,197,271,320,157,213,244,247,291,149,197,56,317,105,263,227,259,244,349,191,300,139,296,234,73],\"y\":[0.21881206333637238,0.22392253577709198,0.22018544375896454,0.219422847032547,0.286236435174942,0.25058749318122864,0.22177642583847046,0.26825231313705444,0.2743256390094757,0.2591618597507477,0.2163546085357666,0.21836291253566742,0.2175169736146927,0.22539523243904114,0.2179332822561264,0.21923470497131348,0.22793728113174438,0.21905167400836945,0.22127684950828552,0.2548409700393677,0.23326991498470306,0.2188558131456375,0.21618050336837769,0.21883659064769745,0.21624968945980072,0.21644462645053864,0.2188563197851181,0.22284317016601562,0.21826373040676117,0.2215261459350586,0.22124449908733368,0.21634136140346527,0.2177121788263321,0.2177680879831314,0.21716339886188507,0.2194443941116333,0.22081460058689117,0.2257978916168213,0.22244754433631897,0.22161266207695007,0.21943573653697968,0.2169763296842575,0.21564732491970062,0.21678806841373444,0.2606387138366699,0.21532601118087769,0.22124314308166504,0.21999554336071014,0.25099387764930725,0.22232387959957123],\"type\":\"scatter\",\"xaxis\":\"x32\",\"yaxis\":\"y32\"},{\"marker\":{\"color\":[0,1,2,3,4,5,6,7,8,9,13,15,16,18,19,20,22,23,24,25,26,27,28,29,30,31,32,33,34,35,36,37,38,39,40,41,42,44,45,46,47,48,49],\"colorbar\":{\"title\":{\"text\":\"Trial\"},\"x\":1.0,\"xpad\":40},\"colorscale\":[[0.0,\"rgb(247,251,255)\"],[0.125,\"rgb(222,235,247)\"],[0.25,\"rgb(198,219,239)\"],[0.375,\"rgb(158,202,225)\"],[0.5,\"rgb(107,174,214)\"],[0.625,\"rgb(66,146,198)\"],[0.75,\"rgb(33,113,181)\"],[0.875,\"rgb(8,81,156)\"],[1.0,\"rgb(8,48,107)\"]],\"line\":{\"color\":\"Grey\",\"width\":0.5},\"showscale\":false},\"mode\":\"markers\",\"showlegend\":false,\"x\":[349,129,102,201,109,80,300,197,109,55,48,203,70,260,149,381,76,75,62,60,91,61,48,84,149,64,68,56,89,66,54,96,126,76,122,64,57,52,74,75,61,82,103],\"y\":[0.21881206333637238,0.22392253577709198,0.22018544375896454,0.219422847032547,0.286236435174942,0.25058749318122864,0.22177642583847046,0.26825231313705444,0.2743256390094757,0.2591618597507477,0.22539523243904114,0.21923470497131348,0.22793728113174438,0.22127684950828552,0.2548409700393677,0.23326991498470306,0.21618050336837769,0.21883659064769745,0.21624968945980072,0.21644462645053864,0.2188563197851181,0.22284317016601562,0.21826373040676117,0.2215261459350586,0.22124449908733368,0.21634136140346527,0.2177121788263321,0.2177680879831314,0.21716339886188507,0.2194443941116333,0.22081460058689117,0.2257978916168213,0.22244754433631897,0.22161266207695007,0.21943573653697968,0.2169763296842575,0.21564732491970062,0.2606387138366699,0.21532601118087769,0.22124314308166504,0.21999554336071014,0.25099387764930725,0.22232387959957123],\"type\":\"scatter\",\"xaxis\":\"x33\",\"yaxis\":\"y33\"},{\"marker\":{\"color\":[4,5,7,8,9,44,48],\"colorbar\":{\"title\":{\"text\":\"Trial\"},\"x\":1.0,\"xpad\":40},\"colorscale\":[[0.0,\"rgb(247,251,255)\"],[0.125,\"rgb(222,235,247)\"],[0.25,\"rgb(198,219,239)\"],[0.375,\"rgb(158,202,225)\"],[0.5,\"rgb(107,174,214)\"],[0.625,\"rgb(66,146,198)\"],[0.75,\"rgb(33,113,181)\"],[0.875,\"rgb(8,81,156)\"],[1.0,\"rgb(8,48,107)\"]],\"line\":{\"color\":\"Grey\",\"width\":0.5},\"showscale\":false},\"mode\":\"markers\",\"showlegend\":false,\"x\":[217,284,61,339,188,82,112],\"y\":[0.286236435174942,0.25058749318122864,0.26825231313705444,0.2743256390094757,0.2591618597507477,0.2606387138366699,0.25099387764930725],\"type\":\"scatter\",\"xaxis\":\"x34\",\"yaxis\":\"y34\"},{\"marker\":{\"color\":[4,8,9,44,48],\"colorbar\":{\"title\":{\"text\":\"Trial\"},\"x\":1.0,\"xpad\":40},\"colorscale\":[[0.0,\"rgb(247,251,255)\"],[0.125,\"rgb(222,235,247)\"],[0.25,\"rgb(198,219,239)\"],[0.375,\"rgb(158,202,225)\"],[0.5,\"rgb(107,174,214)\"],[0.625,\"rgb(66,146,198)\"],[0.75,\"rgb(33,113,181)\"],[0.875,\"rgb(8,81,156)\"],[1.0,\"rgb(8,48,107)\"]],\"line\":{\"color\":\"Grey\",\"width\":0.5},\"showscale\":false},\"mode\":\"markers\",\"showlegend\":false,\"x\":[260,366,101,49,133],\"y\":[0.286236435174942,0.2743256390094757,0.2591618597507477,0.2606387138366699,0.25099387764930725],\"type\":\"scatter\",\"xaxis\":\"x35\",\"yaxis\":\"y35\"},{\"marker\":{\"color\":[4,8,9,44],\"colorbar\":{\"title\":{\"text\":\"Trial\"},\"x\":1.0,\"xpad\":40},\"colorscale\":[[0.0,\"rgb(247,251,255)\"],[0.125,\"rgb(222,235,247)\"],[0.25,\"rgb(198,219,239)\"],[0.375,\"rgb(158,202,225)\"],[0.5,\"rgb(107,174,214)\"],[0.625,\"rgb(66,146,198)\"],[0.75,\"rgb(33,113,181)\"],[0.875,\"rgb(8,81,156)\"],[1.0,\"rgb(8,48,107)\"]],\"line\":{\"color\":\"Grey\",\"width\":0.5},\"showscale\":false},\"mode\":\"markers\",\"showlegend\":false,\"x\":[110,279,315,50],\"y\":[0.286236435174942,0.2743256390094757,0.2591618597507477,0.2606387138366699],\"type\":\"scatter\",\"xaxis\":\"x36\",\"yaxis\":\"y36\"},{\"marker\":{\"color\":[4,8,9,44],\"colorbar\":{\"title\":{\"text\":\"Trial\"},\"x\":1.0,\"xpad\":40},\"colorscale\":[[0.0,\"rgb(247,251,255)\"],[0.125,\"rgb(222,235,247)\"],[0.25,\"rgb(198,219,239)\"],[0.375,\"rgb(158,202,225)\"],[0.5,\"rgb(107,174,214)\"],[0.625,\"rgb(66,146,198)\"],[0.75,\"rgb(33,113,181)\"],[0.875,\"rgb(8,81,156)\"],[1.0,\"rgb(8,48,107)\"]],\"line\":{\"color\":\"Grey\",\"width\":0.5},\"showscale\":false},\"mode\":\"markers\",\"showlegend\":false,\"x\":[48,140,228,48],\"y\":[0.286236435174942,0.2743256390094757,0.2591618597507477,0.2606387138366699],\"type\":\"scatter\",\"xaxis\":\"x37\",\"yaxis\":\"y37\"},{\"marker\":{\"color\":[44],\"colorbar\":{\"title\":{\"text\":\"Trial\"},\"x\":1.0,\"xpad\":40},\"colorscale\":[[0.0,\"rgb(247,251,255)\"],[0.125,\"rgb(222,235,247)\"],[0.25,\"rgb(198,219,239)\"],[0.375,\"rgb(158,202,225)\"],[0.5,\"rgb(107,174,214)\"],[0.625,\"rgb(66,146,198)\"],[0.75,\"rgb(33,113,181)\"],[0.875,\"rgb(8,81,156)\"],[1.0,\"rgb(8,48,107)\"]],\"line\":{\"color\":\"Grey\",\"width\":0.5},\"showscale\":false},\"mode\":\"markers\",\"showlegend\":false,\"x\":[157],\"y\":[0.2606387138366699],\"type\":\"scatter\",\"xaxis\":\"x38\",\"yaxis\":\"y38\"},{\"marker\":{\"color\":[0,1,2,3,4,5,6,7,8,9,13,15,16,18,19,20,23,26,27,30,33,34,36,37,38,39,40,44,46,47,48],\"colorbar\":{\"title\":{\"text\":\"Trial\"},\"x\":1.0,\"xpad\":40},\"colorscale\":[[0.0,\"rgb(247,251,255)\"],[0.125,\"rgb(222,235,247)\"],[0.25,\"rgb(198,219,239)\"],[0.375,\"rgb(158,202,225)\"],[0.5,\"rgb(107,174,214)\"],[0.625,\"rgb(66,146,198)\"],[0.75,\"rgb(33,113,181)\"],[0.875,\"rgb(8,81,156)\"],[1.0,\"rgb(8,48,107)\"]],\"line\":{\"color\":\"Grey\",\"width\":0.5},\"showscale\":false},\"mode\":\"markers\",\"showlegend\":false,\"x\":[303,139,52,325,96,198,150,68,115,96,225,48,70,212,369,170,69,262,104,81,119,170,58,253,82,168,282,120,367,302,133],\"y\":[0.21881206333637238,0.22392253577709198,0.22018544375896454,0.219422847032547,0.286236435174942,0.25058749318122864,0.22177642583847046,0.26825231313705444,0.2743256390094757,0.2591618597507477,0.22539523243904114,0.21923470497131348,0.22793728113174438,0.22127684950828552,0.2548409700393677,0.23326991498470306,0.21883659064769745,0.2188563197851181,0.22284317016601562,0.22124449908733368,0.2177680879831314,0.21716339886188507,0.22081460058689117,0.2257978916168213,0.22244754433631897,0.22161266207695007,0.21943573653697968,0.2606387138366699,0.22124314308166504,0.21999554336071014,0.25099387764930725],\"type\":\"scatter\",\"xaxis\":\"x39\",\"yaxis\":\"y39\"},{\"marker\":{\"color\":[4,5,6,7,8,9,13,15,16,18,19,20,23,26,27,30,37,38,39,44,46,48],\"colorbar\":{\"title\":{\"text\":\"Trial\"},\"x\":1.0,\"xpad\":40},\"colorscale\":[[0.0,\"rgb(247,251,255)\"],[0.125,\"rgb(222,235,247)\"],[0.25,\"rgb(198,219,239)\"],[0.375,\"rgb(158,202,225)\"],[0.5,\"rgb(107,174,214)\"],[0.625,\"rgb(66,146,198)\"],[0.75,\"rgb(33,113,181)\"],[0.875,\"rgb(8,81,156)\"],[1.0,\"rgb(8,48,107)\"]],\"line\":{\"color\":\"Grey\",\"width\":0.5},\"showscale\":false},\"mode\":\"markers\",\"showlegend\":false,\"x\":[55,304,311,150,53,182,87,87,214,92,115,376,65,216,126,69,167,248,108,371,48,145],\"y\":[0.286236435174942,0.25058749318122864,0.22177642583847046,0.26825231313705444,0.2743256390094757,0.2591618597507477,0.22539523243904114,0.21923470497131348,0.22793728113174438,0.22127684950828552,0.2548409700393677,0.23326991498470306,0.21883659064769745,0.2188563197851181,0.22284317016601562,0.22124449908733368,0.2257978916168213,0.22244754433631897,0.22161266207695007,0.2606387138366699,0.22124314308166504,0.25099387764930725],\"type\":\"scatter\",\"xaxis\":\"x40\",\"yaxis\":\"y40\"},{\"marker\":{\"color\":[4,5,6,7,8,9,13,15,16,18,19,20,27,37,39,44,48],\"colorbar\":{\"title\":{\"text\":\"Trial\"},\"x\":1.0,\"xpad\":40},\"colorscale\":[[0.0,\"rgb(247,251,255)\"],[0.125,\"rgb(222,235,247)\"],[0.25,\"rgb(198,219,239)\"],[0.375,\"rgb(158,202,225)\"],[0.5,\"rgb(107,174,214)\"],[0.625,\"rgb(66,146,198)\"],[0.75,\"rgb(33,113,181)\"],[0.875,\"rgb(8,81,156)\"],[1.0,\"rgb(8,48,107)\"]],\"line\":{\"color\":\"Grey\",\"width\":0.5},\"showscale\":false},\"mode\":\"markers\",\"showlegend\":false,\"x\":[79,144,56,77,53,48,382,365,180,223,100,253,113,276,155,73,106],\"y\":[0.286236435174942,0.25058749318122864,0.22177642583847046,0.26825231313705444,0.2743256390094757,0.2591618597507477,0.22539523243904114,0.21923470497131348,0.22793728113174438,0.22127684950828552,0.2548409700393677,0.23326991498470306,0.22284317016601562,0.2257978916168213,0.22161266207695007,0.2606387138366699,0.25099387764930725],\"type\":\"scatter\",\"xaxis\":\"x41\",\"yaxis\":\"y41\"},{\"marker\":{\"color\":[4,5,6,7,8,9,13,15,16,19,20,39,44,48],\"colorbar\":{\"title\":{\"text\":\"Trial\"},\"x\":1.0,\"xpad\":40},\"colorscale\":[[0.0,\"rgb(247,251,255)\"],[0.125,\"rgb(222,235,247)\"],[0.25,\"rgb(198,219,239)\"],[0.375,\"rgb(158,202,225)\"],[0.5,\"rgb(107,174,214)\"],[0.625,\"rgb(66,146,198)\"],[0.75,\"rgb(33,113,181)\"],[0.875,\"rgb(8,81,156)\"],[1.0,\"rgb(8,48,107)\"]],\"line\":{\"color\":\"Grey\",\"width\":0.5},\"showscale\":false},\"mode\":\"markers\",\"showlegend\":false,\"x\":[184,113,98,209,157,49,346,55,379,71,247,86,135,270],\"y\":[0.286236435174942,0.25058749318122864,0.22177642583847046,0.26825231313705444,0.2743256390094757,0.2591618597507477,0.22539523243904114,0.21923470497131348,0.22793728113174438,0.2548409700393677,0.23326991498470306,0.22161266207695007,0.2606387138366699,0.25099387764930725],\"type\":\"scatter\",\"xaxis\":\"x42\",\"yaxis\":\"y42\"},{\"marker\":{\"color\":[4,5,7,8,9,16,19,20,39,44,48],\"colorbar\":{\"title\":{\"text\":\"Trial\"},\"x\":1.0,\"xpad\":40},\"colorscale\":[[0.0,\"rgb(247,251,255)\"],[0.125,\"rgb(222,235,247)\"],[0.25,\"rgb(198,219,239)\"],[0.375,\"rgb(158,202,225)\"],[0.5,\"rgb(107,174,214)\"],[0.625,\"rgb(66,146,198)\"],[0.75,\"rgb(33,113,181)\"],[0.875,\"rgb(8,81,156)\"],[1.0,\"rgb(8,48,107)\"]],\"line\":{\"color\":\"Grey\",\"width\":0.5},\"showscale\":false},\"mode\":\"markers\",\"showlegend\":false,\"x\":[52,56,170,93,58,295,344,178,102,223,100],\"y\":[0.286236435174942,0.25058749318122864,0.26825231313705444,0.2743256390094757,0.2591618597507477,0.22793728113174438,0.2548409700393677,0.23326991498470306,0.22161266207695007,0.2606387138366699,0.25099387764930725],\"type\":\"scatter\",\"xaxis\":\"x43\",\"yaxis\":\"y43\"},{\"marker\":{\"color\":[4,5,7,8,9,16,19,20,44,48],\"colorbar\":{\"title\":{\"text\":\"Trial\"},\"x\":1.0,\"xpad\":40},\"colorscale\":[[0.0,\"rgb(247,251,255)\"],[0.125,\"rgb(222,235,247)\"],[0.25,\"rgb(198,219,239)\"],[0.375,\"rgb(158,202,225)\"],[0.5,\"rgb(107,174,214)\"],[0.625,\"rgb(66,146,198)\"],[0.75,\"rgb(33,113,181)\"],[0.875,\"rgb(8,81,156)\"],[1.0,\"rgb(8,48,107)\"]],\"line\":{\"color\":\"Grey\",\"width\":0.5},\"showscale\":false},\"mode\":\"markers\",\"showlegend\":false,\"x\":[180,91,353,206,56,48,366,100,226,82],\"y\":[0.286236435174942,0.25058749318122864,0.26825231313705444,0.2743256390094757,0.2591618597507477,0.22793728113174438,0.2548409700393677,0.23326991498470306,0.2606387138366699,0.25099387764930725],\"type\":\"scatter\",\"xaxis\":\"x44\",\"yaxis\":\"y44\"},{\"marker\":{\"color\":[4,5,7,8,9,19,44,48],\"colorbar\":{\"title\":{\"text\":\"Trial\"},\"x\":1.0,\"xpad\":40},\"colorscale\":[[0.0,\"rgb(247,251,255)\"],[0.125,\"rgb(222,235,247)\"],[0.25,\"rgb(198,219,239)\"],[0.375,\"rgb(158,202,225)\"],[0.5,\"rgb(107,174,214)\"],[0.625,\"rgb(66,146,198)\"],[0.75,\"rgb(33,113,181)\"],[0.875,\"rgb(8,81,156)\"],[1.0,\"rgb(8,48,107)\"]],\"line\":{\"color\":\"Grey\",\"width\":0.5},\"showscale\":false},\"mode\":\"markers\",\"showlegend\":false,\"x\":[58,293,122,59,203,121,332,86],\"y\":[0.286236435174942,0.25058749318122864,0.26825231313705444,0.2743256390094757,0.2591618597507477,0.2548409700393677,0.2606387138366699,0.25099387764930725],\"type\":\"scatter\",\"xaxis\":\"x45\",\"yaxis\":\"y45\"},{\"marker\":{\"color\":[4,5,7,8,9,19,44,48],\"colorbar\":{\"title\":{\"text\":\"Trial\"},\"x\":1.0,\"xpad\":40},\"colorscale\":[[0.0,\"rgb(247,251,255)\"],[0.125,\"rgb(222,235,247)\"],[0.25,\"rgb(198,219,239)\"],[0.375,\"rgb(158,202,225)\"],[0.5,\"rgb(107,174,214)\"],[0.625,\"rgb(66,146,198)\"],[0.75,\"rgb(33,113,181)\"],[0.875,\"rgb(8,81,156)\"],[1.0,\"rgb(8,48,107)\"]],\"line\":{\"color\":\"Grey\",\"width\":0.5},\"showscale\":false},\"mode\":\"markers\",\"showlegend\":false,\"x\":[213,115,48,160,105,347,52,374],\"y\":[0.286236435174942,0.25058749318122864,0.26825231313705444,0.2743256390094757,0.2591618597507477,0.2548409700393677,0.2606387138366699,0.25099387764930725],\"type\":\"scatter\",\"xaxis\":\"x46\",\"yaxis\":\"y46\"},{\"marker\":{\"color\":[0,1,2,3,4,5,6,7,8,9,10,11,12,13,14,15,16,17,18,19,20,21,22,23,24,25,26,27,28,29,30,31,32,33,34,35,36,37,38,39,40,41,42,43,44,45,46,47,48,49],\"colorbar\":{\"title\":{\"text\":\"Trial\"},\"x\":1.0,\"xpad\":40},\"colorscale\":[[0.0,\"rgb(247,251,255)\"],[0.125,\"rgb(222,235,247)\"],[0.25,\"rgb(198,219,239)\"],[0.375,\"rgb(158,202,225)\"],[0.5,\"rgb(107,174,214)\"],[0.625,\"rgb(66,146,198)\"],[0.75,\"rgb(33,113,181)\"],[0.875,\"rgb(8,81,156)\"],[1.0,\"rgb(8,48,107)\"]],\"line\":{\"color\":\"Grey\",\"width\":0.5},\"showscale\":false},\"mode\":\"markers\",\"showlegend\":false,\"x\":[67,28,16,60,64,35,114,97,19,45,81,90,92,95,127,87,79,111,80,107,76,124,128,55,104,103,119,105,128,115,99,72,69,72,55,83,8,62,48,120,85,103,101,71,92,110,115,110,121,99],\"y\":[0.21881206333637238,0.22392253577709198,0.22018544375896454,0.219422847032547,0.286236435174942,0.25058749318122864,0.22177642583847046,0.26825231313705444,0.2743256390094757,0.2591618597507477,0.2163546085357666,0.21836291253566742,0.2175169736146927,0.22539523243904114,0.2179332822561264,0.21923470497131348,0.22793728113174438,0.21905167400836945,0.22127684950828552,0.2548409700393677,0.23326991498470306,0.2188558131456375,0.21618050336837769,0.21883659064769745,0.21624968945980072,0.21644462645053864,0.2188563197851181,0.22284317016601562,0.21826373040676117,0.2215261459350586,0.22124449908733368,0.21634136140346527,0.2177121788263321,0.2177680879831314,0.21716339886188507,0.2194443941116333,0.22081460058689117,0.2257978916168213,0.22244754433631897,0.22161266207695007,0.21943573653697968,0.2169763296842575,0.21564732491970062,0.21678806841373444,0.2606387138366699,0.21532601118087769,0.22124314308166504,0.21999554336071014,0.25099387764930725,0.22232387959957123],\"type\":\"scatter\",\"xaxis\":\"x47\",\"yaxis\":\"y47\"}],                        {\"template\":{\"data\":{\"histogram2dcontour\":[{\"type\":\"histogram2dcontour\",\"colorbar\":{\"outlinewidth\":0,\"ticks\":\"\"},\"colorscale\":[[0.0,\"#0d0887\"],[0.1111111111111111,\"#46039f\"],[0.2222222222222222,\"#7201a8\"],[0.3333333333333333,\"#9c179e\"],[0.4444444444444444,\"#bd3786\"],[0.5555555555555556,\"#d8576b\"],[0.6666666666666666,\"#ed7953\"],[0.7777777777777778,\"#fb9f3a\"],[0.8888888888888888,\"#fdca26\"],[1.0,\"#f0f921\"]]}],\"choropleth\":[{\"type\":\"choropleth\",\"colorbar\":{\"outlinewidth\":0,\"ticks\":\"\"}}],\"histogram2d\":[{\"type\":\"histogram2d\",\"colorbar\":{\"outlinewidth\":0,\"ticks\":\"\"},\"colorscale\":[[0.0,\"#0d0887\"],[0.1111111111111111,\"#46039f\"],[0.2222222222222222,\"#7201a8\"],[0.3333333333333333,\"#9c179e\"],[0.4444444444444444,\"#bd3786\"],[0.5555555555555556,\"#d8576b\"],[0.6666666666666666,\"#ed7953\"],[0.7777777777777778,\"#fb9f3a\"],[0.8888888888888888,\"#fdca26\"],[1.0,\"#f0f921\"]]}],\"heatmap\":[{\"type\":\"heatmap\",\"colorbar\":{\"outlinewidth\":0,\"ticks\":\"\"},\"colorscale\":[[0.0,\"#0d0887\"],[0.1111111111111111,\"#46039f\"],[0.2222222222222222,\"#7201a8\"],[0.3333333333333333,\"#9c179e\"],[0.4444444444444444,\"#bd3786\"],[0.5555555555555556,\"#d8576b\"],[0.6666666666666666,\"#ed7953\"],[0.7777777777777778,\"#fb9f3a\"],[0.8888888888888888,\"#fdca26\"],[1.0,\"#f0f921\"]]}],\"heatmapgl\":[{\"type\":\"heatmapgl\",\"colorbar\":{\"outlinewidth\":0,\"ticks\":\"\"},\"colorscale\":[[0.0,\"#0d0887\"],[0.1111111111111111,\"#46039f\"],[0.2222222222222222,\"#7201a8\"],[0.3333333333333333,\"#9c179e\"],[0.4444444444444444,\"#bd3786\"],[0.5555555555555556,\"#d8576b\"],[0.6666666666666666,\"#ed7953\"],[0.7777777777777778,\"#fb9f3a\"],[0.8888888888888888,\"#fdca26\"],[1.0,\"#f0f921\"]]}],\"contourcarpet\":[{\"type\":\"contourcarpet\",\"colorbar\":{\"outlinewidth\":0,\"ticks\":\"\"}}],\"contour\":[{\"type\":\"contour\",\"colorbar\":{\"outlinewidth\":0,\"ticks\":\"\"},\"colorscale\":[[0.0,\"#0d0887\"],[0.1111111111111111,\"#46039f\"],[0.2222222222222222,\"#7201a8\"],[0.3333333333333333,\"#9c179e\"],[0.4444444444444444,\"#bd3786\"],[0.5555555555555556,\"#d8576b\"],[0.6666666666666666,\"#ed7953\"],[0.7777777777777778,\"#fb9f3a\"],[0.8888888888888888,\"#fdca26\"],[1.0,\"#f0f921\"]]}],\"surface\":[{\"type\":\"surface\",\"colorbar\":{\"outlinewidth\":0,\"ticks\":\"\"},\"colorscale\":[[0.0,\"#0d0887\"],[0.1111111111111111,\"#46039f\"],[0.2222222222222222,\"#7201a8\"],[0.3333333333333333,\"#9c179e\"],[0.4444444444444444,\"#bd3786\"],[0.5555555555555556,\"#d8576b\"],[0.6666666666666666,\"#ed7953\"],[0.7777777777777778,\"#fb9f3a\"],[0.8888888888888888,\"#fdca26\"],[1.0,\"#f0f921\"]]}],\"mesh3d\":[{\"type\":\"mesh3d\",\"colorbar\":{\"outlinewidth\":0,\"ticks\":\"\"}}],\"scatter\":[{\"fillpattern\":{\"fillmode\":\"overlay\",\"size\":10,\"solidity\":0.2},\"type\":\"scatter\"}],\"parcoords\":[{\"type\":\"parcoords\",\"line\":{\"colorbar\":{\"outlinewidth\":0,\"ticks\":\"\"}}}],\"scatterpolargl\":[{\"type\":\"scatterpolargl\",\"marker\":{\"colorbar\":{\"outlinewidth\":0,\"ticks\":\"\"}}}],\"bar\":[{\"error_x\":{\"color\":\"#2a3f5f\"},\"error_y\":{\"color\":\"#2a3f5f\"},\"marker\":{\"line\":{\"color\":\"#E5ECF6\",\"width\":0.5},\"pattern\":{\"fillmode\":\"overlay\",\"size\":10,\"solidity\":0.2}},\"type\":\"bar\"}],\"scattergeo\":[{\"type\":\"scattergeo\",\"marker\":{\"colorbar\":{\"outlinewidth\":0,\"ticks\":\"\"}}}],\"scatterpolar\":[{\"type\":\"scatterpolar\",\"marker\":{\"colorbar\":{\"outlinewidth\":0,\"ticks\":\"\"}}}],\"histogram\":[{\"marker\":{\"pattern\":{\"fillmode\":\"overlay\",\"size\":10,\"solidity\":0.2}},\"type\":\"histogram\"}],\"scattergl\":[{\"type\":\"scattergl\",\"marker\":{\"colorbar\":{\"outlinewidth\":0,\"ticks\":\"\"}}}],\"scatter3d\":[{\"type\":\"scatter3d\",\"line\":{\"colorbar\":{\"outlinewidth\":0,\"ticks\":\"\"}},\"marker\":{\"colorbar\":{\"outlinewidth\":0,\"ticks\":\"\"}}}],\"scattermapbox\":[{\"type\":\"scattermapbox\",\"marker\":{\"colorbar\":{\"outlinewidth\":0,\"ticks\":\"\"}}}],\"scatterternary\":[{\"type\":\"scatterternary\",\"marker\":{\"colorbar\":{\"outlinewidth\":0,\"ticks\":\"\"}}}],\"scattercarpet\":[{\"type\":\"scattercarpet\",\"marker\":{\"colorbar\":{\"outlinewidth\":0,\"ticks\":\"\"}}}],\"carpet\":[{\"aaxis\":{\"endlinecolor\":\"#2a3f5f\",\"gridcolor\":\"white\",\"linecolor\":\"white\",\"minorgridcolor\":\"white\",\"startlinecolor\":\"#2a3f5f\"},\"baxis\":{\"endlinecolor\":\"#2a3f5f\",\"gridcolor\":\"white\",\"linecolor\":\"white\",\"minorgridcolor\":\"white\",\"startlinecolor\":\"#2a3f5f\"},\"type\":\"carpet\"}],\"table\":[{\"cells\":{\"fill\":{\"color\":\"#EBF0F8\"},\"line\":{\"color\":\"white\"}},\"header\":{\"fill\":{\"color\":\"#C8D4E3\"},\"line\":{\"color\":\"white\"}},\"type\":\"table\"}],\"barpolar\":[{\"marker\":{\"line\":{\"color\":\"#E5ECF6\",\"width\":0.5},\"pattern\":{\"fillmode\":\"overlay\",\"size\":10,\"solidity\":0.2}},\"type\":\"barpolar\"}],\"pie\":[{\"automargin\":true,\"type\":\"pie\"}]},\"layout\":{\"autotypenumbers\":\"strict\",\"colorway\":[\"#636efa\",\"#EF553B\",\"#00cc96\",\"#ab63fa\",\"#FFA15A\",\"#19d3f3\",\"#FF6692\",\"#B6E880\",\"#FF97FF\",\"#FECB52\"],\"font\":{\"color\":\"#2a3f5f\"},\"hovermode\":\"closest\",\"hoverlabel\":{\"align\":\"left\"},\"paper_bgcolor\":\"white\",\"plot_bgcolor\":\"#E5ECF6\",\"polar\":{\"bgcolor\":\"#E5ECF6\",\"angularaxis\":{\"gridcolor\":\"white\",\"linecolor\":\"white\",\"ticks\":\"\"},\"radialaxis\":{\"gridcolor\":\"white\",\"linecolor\":\"white\",\"ticks\":\"\"}},\"ternary\":{\"bgcolor\":\"#E5ECF6\",\"aaxis\":{\"gridcolor\":\"white\",\"linecolor\":\"white\",\"ticks\":\"\"},\"baxis\":{\"gridcolor\":\"white\",\"linecolor\":\"white\",\"ticks\":\"\"},\"caxis\":{\"gridcolor\":\"white\",\"linecolor\":\"white\",\"ticks\":\"\"}},\"coloraxis\":{\"colorbar\":{\"outlinewidth\":0,\"ticks\":\"\"}},\"colorscale\":{\"sequential\":[[0.0,\"#0d0887\"],[0.1111111111111111,\"#46039f\"],[0.2222222222222222,\"#7201a8\"],[0.3333333333333333,\"#9c179e\"],[0.4444444444444444,\"#bd3786\"],[0.5555555555555556,\"#d8576b\"],[0.6666666666666666,\"#ed7953\"],[0.7777777777777778,\"#fb9f3a\"],[0.8888888888888888,\"#fdca26\"],[1.0,\"#f0f921\"]],\"sequentialminus\":[[0.0,\"#0d0887\"],[0.1111111111111111,\"#46039f\"],[0.2222222222222222,\"#7201a8\"],[0.3333333333333333,\"#9c179e\"],[0.4444444444444444,\"#bd3786\"],[0.5555555555555556,\"#d8576b\"],[0.6666666666666666,\"#ed7953\"],[0.7777777777777778,\"#fb9f3a\"],[0.8888888888888888,\"#fdca26\"],[1.0,\"#f0f921\"]],\"diverging\":[[0,\"#8e0152\"],[0.1,\"#c51b7d\"],[0.2,\"#de77ae\"],[0.3,\"#f1b6da\"],[0.4,\"#fde0ef\"],[0.5,\"#f7f7f7\"],[0.6,\"#e6f5d0\"],[0.7,\"#b8e186\"],[0.8,\"#7fbc41\"],[0.9,\"#4d9221\"],[1,\"#276419\"]]},\"xaxis\":{\"gridcolor\":\"white\",\"linecolor\":\"white\",\"ticks\":\"\",\"title\":{\"standoff\":15},\"zerolinecolor\":\"white\",\"automargin\":true,\"zerolinewidth\":2},\"yaxis\":{\"gridcolor\":\"white\",\"linecolor\":\"white\",\"ticks\":\"\",\"title\":{\"standoff\":15},\"zerolinecolor\":\"white\",\"automargin\":true,\"zerolinewidth\":2},\"scene\":{\"xaxis\":{\"backgroundcolor\":\"#E5ECF6\",\"gridcolor\":\"white\",\"linecolor\":\"white\",\"showbackground\":true,\"ticks\":\"\",\"zerolinecolor\":\"white\",\"gridwidth\":2},\"yaxis\":{\"backgroundcolor\":\"#E5ECF6\",\"gridcolor\":\"white\",\"linecolor\":\"white\",\"showbackground\":true,\"ticks\":\"\",\"zerolinecolor\":\"white\",\"gridwidth\":2},\"zaxis\":{\"backgroundcolor\":\"#E5ECF6\",\"gridcolor\":\"white\",\"linecolor\":\"white\",\"showbackground\":true,\"ticks\":\"\",\"zerolinecolor\":\"white\",\"gridwidth\":2}},\"shapedefaults\":{\"line\":{\"color\":\"#2a3f5f\"}},\"annotationdefaults\":{\"arrowcolor\":\"#2a3f5f\",\"arrowhead\":0,\"arrowwidth\":1},\"geo\":{\"bgcolor\":\"white\",\"landcolor\":\"#E5ECF6\",\"subunitcolor\":\"white\",\"showland\":true,\"showlakes\":true,\"lakecolor\":\"white\"},\"title\":{\"x\":0.05},\"mapbox\":{\"style\":\"light\"}}},\"xaxis\":{\"anchor\":\"y\",\"domain\":[0.0,0.017111815301041194],\"title\":{\"text\":\"activation0\"}},\"yaxis\":{\"anchor\":\"x\",\"domain\":[0.0,1.0],\"title\":{\"text\":\"Objective Value\"}},\"xaxis2\":{\"anchor\":\"y2\",\"domain\":[0.021367134449977364,0.03847894975101856],\"title\":{\"text\":\"activation1\"}},\"yaxis2\":{\"anchor\":\"x2\",\"domain\":[0.0,1.0],\"matches\":\"y\",\"showticklabels\":false},\"xaxis3\":{\"anchor\":\"y3\",\"domain\":[0.04273426889995473,0.05984608420099592],\"title\":{\"text\":\"activation10\"}},\"yaxis3\":{\"anchor\":\"x3\",\"domain\":[0.0,1.0],\"matches\":\"y\",\"showticklabels\":false},\"xaxis4\":{\"anchor\":\"y4\",\"domain\":[0.0641014033499321,0.08121321865097329],\"title\":{\"text\":\"activation11\"}},\"yaxis4\":{\"anchor\":\"x4\",\"domain\":[0.0,1.0],\"matches\":\"y\",\"showticklabels\":false},\"xaxis5\":{\"anchor\":\"y5\",\"domain\":[0.08546853779990946,0.10258035310095065],\"title\":{\"text\":\"activation12\"}},\"yaxis5\":{\"anchor\":\"x5\",\"domain\":[0.0,1.0],\"matches\":\"y\",\"showticklabels\":false},\"xaxis6\":{\"anchor\":\"y6\",\"domain\":[0.10683567224988683,0.12394748755092802],\"title\":{\"text\":\"activation13\"}},\"yaxis6\":{\"anchor\":\"x6\",\"domain\":[0.0,1.0],\"matches\":\"y\",\"showticklabels\":false},\"xaxis7\":{\"anchor\":\"y7\",\"domain\":[0.1282028066998642,0.1453146220009054],\"title\":{\"text\":\"activation14\"}},\"yaxis7\":{\"anchor\":\"x7\",\"domain\":[0.0,1.0],\"matches\":\"y\",\"showticklabels\":false},\"xaxis8\":{\"anchor\":\"y8\",\"domain\":[0.14956994114984157,0.16668175645088276],\"title\":{\"text\":\"activation2\"}},\"yaxis8\":{\"anchor\":\"x8\",\"domain\":[0.0,1.0],\"matches\":\"y\",\"showticklabels\":false},\"xaxis9\":{\"anchor\":\"y9\",\"domain\":[0.1709370755998189,0.1880488909008601],\"title\":{\"text\":\"activation3\"}},\"yaxis9\":{\"anchor\":\"x9\",\"domain\":[0.0,1.0],\"matches\":\"y\",\"showticklabels\":false},\"xaxis10\":{\"anchor\":\"y10\",\"domain\":[0.19230421004979628,0.20941602535083748],\"title\":{\"text\":\"activation4\"}},\"yaxis10\":{\"anchor\":\"x10\",\"domain\":[0.0,1.0],\"matches\":\"y\",\"showticklabels\":false},\"xaxis11\":{\"anchor\":\"y11\",\"domain\":[0.21367134449977365,0.23078315980081485],\"title\":{\"text\":\"activation5\"}},\"yaxis11\":{\"anchor\":\"x11\",\"domain\":[0.0,1.0],\"matches\":\"y\",\"showticklabels\":false},\"xaxis12\":{\"anchor\":\"y12\",\"domain\":[0.235038478949751,0.25215029425079216],\"title\":{\"text\":\"activation6\"}},\"yaxis12\":{\"anchor\":\"x12\",\"domain\":[0.0,1.0],\"matches\":\"y\",\"showticklabels\":false},\"xaxis13\":{\"anchor\":\"y13\",\"domain\":[0.2564056133997284,0.27351742870076956],\"title\":{\"text\":\"activation7\"}},\"yaxis13\":{\"anchor\":\"x13\",\"domain\":[0.0,1.0],\"matches\":\"y\",\"showticklabels\":false},\"xaxis14\":{\"anchor\":\"y14\",\"domain\":[0.27777274784970574,0.29488456315074696],\"title\":{\"text\":\"activation8\"}},\"yaxis14\":{\"anchor\":\"x14\",\"domain\":[0.0,1.0],\"matches\":\"y\",\"showticklabels\":false},\"xaxis15\":{\"anchor\":\"y15\",\"domain\":[0.29913988229968314,0.31625169760072436],\"title\":{\"text\":\"activation9\"}},\"yaxis15\":{\"anchor\":\"x15\",\"domain\":[0.0,1.0],\"matches\":\"y\",\"showticklabels\":false},\"xaxis16\":{\"anchor\":\"y16\",\"domain\":[0.3205070167496604,0.33761883205070164],\"title\":{\"text\":\"dropout0\"}},\"yaxis16\":{\"anchor\":\"x16\",\"domain\":[0.0,1.0],\"matches\":\"y\",\"showticklabels\":false},\"xaxis17\":{\"anchor\":\"y17\",\"domain\":[0.3418741511996378,0.35898596650067904],\"title\":{\"text\":\"dropout1\"}},\"yaxis17\":{\"anchor\":\"x17\",\"domain\":[0.0,1.0],\"matches\":\"y\",\"showticklabels\":false},\"xaxis18\":{\"anchor\":\"y18\",\"domain\":[0.3632412856496152,0.38035310095065644],\"title\":{\"text\":\"dropout10\"}},\"yaxis18\":{\"anchor\":\"x18\",\"domain\":[0.0,1.0],\"matches\":\"y\",\"showticklabels\":false},\"xaxis19\":{\"anchor\":\"y19\",\"domain\":[0.3846084200995926,0.40172023540063384],\"title\":{\"text\":\"dropout11\"}},\"yaxis19\":{\"anchor\":\"x19\",\"domain\":[0.0,1.0],\"matches\":\"y\",\"showticklabels\":false},\"xaxis20\":{\"anchor\":\"y20\",\"domain\":[0.40597555454957,0.42308736985061124],\"title\":{\"text\":\"dropout12\"}},\"yaxis20\":{\"anchor\":\"x20\",\"domain\":[0.0,1.0],\"matches\":\"y\",\"showticklabels\":false},\"xaxis21\":{\"anchor\":\"y21\",\"domain\":[0.4273426889995474,0.44445450430058864],\"title\":{\"text\":\"dropout13\"}},\"yaxis21\":{\"anchor\":\"x21\",\"domain\":[0.0,1.0],\"matches\":\"y\",\"showticklabels\":false},\"xaxis22\":{\"anchor\":\"y22\",\"domain\":[0.4487098234495248,0.46582163875056604],\"title\":{\"text\":\"dropout14\"}},\"yaxis22\":{\"anchor\":\"x22\",\"domain\":[0.0,1.0],\"matches\":\"y\",\"showticklabels\":false},\"xaxis23\":{\"anchor\":\"y23\",\"domain\":[0.4700769578995022,0.48718877320054343],\"title\":{\"text\":\"dropout2\"}},\"yaxis23\":{\"anchor\":\"x23\",\"domain\":[0.0,1.0],\"matches\":\"y\",\"showticklabels\":false},\"xaxis24\":{\"anchor\":\"y24\",\"domain\":[0.4914440923494796,0.5085559076505208],\"title\":{\"text\":\"dropout3\"}},\"yaxis24\":{\"anchor\":\"x24\",\"domain\":[0.0,1.0],\"matches\":\"y\",\"showticklabels\":false},\"xaxis25\":{\"anchor\":\"y25\",\"domain\":[0.512811226799457,0.5299230421004982],\"title\":{\"text\":\"dropout4\"}},\"yaxis25\":{\"anchor\":\"x25\",\"domain\":[0.0,1.0],\"matches\":\"y\",\"showticklabels\":false},\"xaxis26\":{\"anchor\":\"y26\",\"domain\":[0.5341783612494344,0.5512901765504756],\"title\":{\"text\":\"dropout5\"}},\"yaxis26\":{\"anchor\":\"x26\",\"domain\":[0.0,1.0],\"matches\":\"y\",\"showticklabels\":false},\"xaxis27\":{\"anchor\":\"y27\",\"domain\":[0.5555454956994118,0.572657311000453],\"title\":{\"text\":\"dropout6\"}},\"yaxis27\":{\"anchor\":\"x27\",\"domain\":[0.0,1.0],\"matches\":\"y\",\"showticklabels\":false},\"xaxis28\":{\"anchor\":\"y28\",\"domain\":[0.5769126301493892,0.5940244454504304],\"title\":{\"text\":\"dropout7\"}},\"yaxis28\":{\"anchor\":\"x28\",\"domain\":[0.0,1.0],\"matches\":\"y\",\"showticklabels\":false},\"xaxis29\":{\"anchor\":\"y29\",\"domain\":[0.5982797645993665,0.6153915799004077],\"title\":{\"text\":\"dropout8\"}},\"yaxis29\":{\"anchor\":\"x29\",\"domain\":[0.0,1.0],\"matches\":\"y\",\"showticklabels\":false},\"xaxis30\":{\"anchor\":\"y30\",\"domain\":[0.6196468990493439,0.6367587143503851],\"title\":{\"text\":\"dropout9\"}},\"yaxis30\":{\"anchor\":\"x30\",\"domain\":[0.0,1.0],\"matches\":\"y\",\"showticklabels\":false},\"xaxis31\":{\"anchor\":\"y31\",\"domain\":[0.6410140334993213,0.6581258488003625],\"title\":{\"text\":\"n_layers\"}},\"yaxis31\":{\"anchor\":\"x31\",\"domain\":[0.0,1.0],\"matches\":\"y\",\"showticklabels\":false},\"xaxis32\":{\"anchor\":\"y32\",\"domain\":[0.6623811679492987,0.6794929832503399],\"title\":{\"text\":\"n_units_l0\"},\"type\":\"log\"},\"yaxis32\":{\"anchor\":\"x32\",\"domain\":[0.0,1.0],\"matches\":\"y\",\"showticklabels\":false},\"xaxis33\":{\"anchor\":\"y33\",\"domain\":[0.6837483023992761,0.7008601177003173],\"title\":{\"text\":\"n_units_l1\"},\"type\":\"log\"},\"yaxis33\":{\"anchor\":\"x33\",\"domain\":[0.0,1.0],\"matches\":\"y\",\"showticklabels\":false},\"xaxis34\":{\"anchor\":\"y34\",\"domain\":[0.7051154368492535,0.7222272521502947],\"title\":{\"text\":\"n_units_l10\"},\"type\":\"log\"},\"yaxis34\":{\"anchor\":\"x34\",\"domain\":[0.0,1.0],\"matches\":\"y\",\"showticklabels\":false},\"xaxis35\":{\"anchor\":\"y35\",\"domain\":[0.7264825712992309,0.7435943866002721],\"title\":{\"text\":\"n_units_l11\"},\"type\":\"log\"},\"yaxis35\":{\"anchor\":\"x35\",\"domain\":[0.0,1.0],\"matches\":\"y\",\"showticklabels\":false},\"xaxis36\":{\"anchor\":\"y36\",\"domain\":[0.7478497057492083,0.7649615210502495],\"title\":{\"text\":\"n_units_l12\"},\"type\":\"log\"},\"yaxis36\":{\"anchor\":\"x36\",\"domain\":[0.0,1.0],\"matches\":\"y\",\"showticklabels\":false},\"xaxis37\":{\"anchor\":\"y37\",\"domain\":[0.7692168401991857,0.7863286555002269],\"title\":{\"text\":\"n_units_l13\"},\"type\":\"log\"},\"yaxis37\":{\"anchor\":\"x37\",\"domain\":[0.0,1.0],\"matches\":\"y\",\"showticklabels\":false},\"xaxis38\":{\"anchor\":\"y38\",\"domain\":[0.7905839746491631,0.8076957899502043],\"title\":{\"text\":\"n_units_l14\"},\"type\":\"log\"},\"yaxis38\":{\"anchor\":\"x38\",\"domain\":[0.0,1.0],\"matches\":\"y\",\"showticklabels\":false},\"xaxis39\":{\"anchor\":\"y39\",\"domain\":[0.8119511090991405,0.8290629244001817],\"title\":{\"text\":\"n_units_l2\"},\"type\":\"log\"},\"yaxis39\":{\"anchor\":\"x39\",\"domain\":[0.0,1.0],\"matches\":\"y\",\"showticklabels\":false},\"xaxis40\":{\"anchor\":\"y40\",\"domain\":[0.8333182435491179,0.8504300588501591],\"title\":{\"text\":\"n_units_l3\"},\"type\":\"log\"},\"yaxis40\":{\"anchor\":\"x40\",\"domain\":[0.0,1.0],\"matches\":\"y\",\"showticklabels\":false},\"xaxis41\":{\"anchor\":\"y41\",\"domain\":[0.8546853779990953,0.8717971933001365],\"title\":{\"text\":\"n_units_l4\"},\"type\":\"log\"},\"yaxis41\":{\"anchor\":\"x41\",\"domain\":[0.0,1.0],\"matches\":\"y\",\"showticklabels\":false},\"xaxis42\":{\"anchor\":\"y42\",\"domain\":[0.8760525124490727,0.8931643277501139],\"title\":{\"text\":\"n_units_l5\"},\"type\":\"log\"},\"yaxis42\":{\"anchor\":\"x42\",\"domain\":[0.0,1.0],\"matches\":\"y\",\"showticklabels\":false},\"xaxis43\":{\"anchor\":\"y43\",\"domain\":[0.8974196468990501,0.9145314622000913],\"title\":{\"text\":\"n_units_l6\"},\"type\":\"log\"},\"yaxis43\":{\"anchor\":\"x43\",\"domain\":[0.0,1.0],\"matches\":\"y\",\"showticklabels\":false},\"xaxis44\":{\"anchor\":\"y44\",\"domain\":[0.9187867813490275,0.9358985966500687],\"title\":{\"text\":\"n_units_l7\"},\"type\":\"log\"},\"yaxis44\":{\"anchor\":\"x44\",\"domain\":[0.0,1.0],\"matches\":\"y\",\"showticklabels\":false},\"xaxis45\":{\"anchor\":\"y45\",\"domain\":[0.9401539157990049,0.9572657311000461],\"title\":{\"text\":\"n_units_l8\"},\"type\":\"log\"},\"yaxis45\":{\"anchor\":\"x45\",\"domain\":[0.0,1.0],\"matches\":\"y\",\"showticklabels\":false},\"xaxis46\":{\"anchor\":\"y46\",\"domain\":[0.9615210502489822,0.9786328655500234],\"title\":{\"text\":\"n_units_l9\"},\"type\":\"log\"},\"yaxis46\":{\"anchor\":\"x46\",\"domain\":[0.0,1.0],\"matches\":\"y\",\"showticklabels\":false},\"xaxis47\":{\"anchor\":\"y47\",\"domain\":[0.9828881846989597,1.0],\"title\":{\"text\":\"size\"}},\"yaxis47\":{\"anchor\":\"x47\",\"domain\":[0.0,1.0],\"matches\":\"y\",\"showticklabels\":false},\"title\":{\"text\":\"Slice Plot\"},\"width\":14100},                        {\"responsive\": true}                    ).then(function(){\n",
       "                            \n",
       "var gd = document.getElementById('b9ae74c7-2582-4617-8418-4b858562d0f0');\n",
       "var x = new MutationObserver(function (mutations, observer) {{\n",
       "        var display = window.getComputedStyle(gd).display;\n",
       "        if (!display || display === 'none') {{\n",
       "            console.log([gd, 'removed!']);\n",
       "            Plotly.purge(gd);\n",
       "            observer.disconnect();\n",
       "        }}\n",
       "}});\n",
       "\n",
       "// Listen for the removal of the full notebook cells\n",
       "var notebookContainer = gd.closest('#notebook-container');\n",
       "if (notebookContainer) {{\n",
       "    x.observe(notebookContainer, {childList: true});\n",
       "}}\n",
       "\n",
       "// Listen for the clearing of the current output cell\n",
       "var outputEl = gd.closest('.output');\n",
       "if (outputEl) {{\n",
       "    x.observe(outputEl, {childList: true});\n",
       "}}\n",
       "\n",
       "                        })                };                });            </script>        </div>"
      ]
     },
     "metadata": {},
     "output_type": "display_data"
    }
   ],
   "source": [
    "optuna.visualization.plot_slice(study)"
   ]
  },
  {
   "cell_type": "code",
   "execution_count": 41,
   "id": "80c8e28f",
   "metadata": {},
   "outputs": [
    {
     "data": {
      "application/vnd.plotly.v1+json": {
       "config": {
        "plotlyServerURL": "https://plot.ly"
       },
       "data": [
        {
         "dimensions": [
          {
           "label": "Objective Value",
           "range": [
            0.2606387138366699,
            0.2606387138366699
           ],
           "values": [
            0.2606387138366699
           ]
          },
          {
           "label": "activation0",
           "range": [
            0,
            0
           ],
           "ticktext": [
            "relu"
           ],
           "tickvals": [
            0
           ],
           "values": [
            0
           ]
          },
          {
           "label": "activation1",
           "range": [
            0,
            0
           ],
           "ticktext": [
            "swish"
           ],
           "tickvals": [
            0
           ],
           "values": [
            0
           ]
          },
          {
           "label": "activation10",
           "range": [
            0,
            0
           ],
           "ticktext": [
            "relu"
           ],
           "tickvals": [
            0
           ],
           "values": [
            0
           ]
          },
          {
           "label": "activation11",
           "range": [
            0,
            0
           ],
           "ticktext": [
            "linear"
           ],
           "tickvals": [
            0
           ],
           "values": [
            0
           ]
          },
          {
           "label": "activation12",
           "range": [
            0,
            0
           ],
           "ticktext": [
            "linear"
           ],
           "tickvals": [
            0
           ],
           "values": [
            0
           ]
          },
          {
           "label": "activation13",
           "range": [
            0,
            0
           ],
           "ticktext": [
            "swish"
           ],
           "tickvals": [
            0
           ],
           "values": [
            0
           ]
          },
          {
           "label": "activation14",
           "range": [
            0,
            0
           ],
           "ticktext": [
            "swish"
           ],
           "tickvals": [
            0
           ],
           "values": [
            0
           ]
          },
          {
           "label": "activation2",
           "range": [
            0,
            0
           ],
           "ticktext": [
            "swish"
           ],
           "tickvals": [
            0
           ],
           "values": [
            0
           ]
          },
          {
           "label": "activation3",
           "range": [
            0,
            0
           ],
           "ticktext": [
            "linear"
           ],
           "tickvals": [
            0
           ],
           "values": [
            0
           ]
          },
          {
           "label": "activation4",
           "range": [
            0,
            0
           ],
           "ticktext": [
            "swish"
           ],
           "tickvals": [
            0
           ],
           "values": [
            0
           ]
          },
          {
           "label": "activation5",
           "range": [
            0,
            0
           ],
           "ticktext": [
            "relu"
           ],
           "tickvals": [
            0
           ],
           "values": [
            0
           ]
          },
          {
           "label": "activation6",
           "range": [
            0,
            0
           ],
           "ticktext": [
            "linear"
           ],
           "tickvals": [
            0
           ],
           "values": [
            0
           ]
          },
          {
           "label": "activation7",
           "range": [
            0,
            0
           ],
           "ticktext": [
            "swish"
           ],
           "tickvals": [
            0
           ],
           "values": [
            0
           ]
          },
          {
           "label": "activation8",
           "range": [
            0,
            0
           ],
           "ticktext": [
            "relu"
           ],
           "tickvals": [
            0
           ],
           "values": [
            0
           ]
          },
          {
           "label": "activation9",
           "range": [
            0,
            0
           ],
           "ticktext": [
            "swish"
           ],
           "tickvals": [
            0
           ],
           "values": [
            0
           ]
          },
          {
           "label": "dropout0",
           "range": [
            0.08025616819862809,
            0.08025616819862809
           ],
           "values": [
            0.08025616819862809
           ]
          },
          {
           "label": "dropout1",
           "range": [
            0.5977090272584511,
            0.5977090272584511
           ],
           "values": [
            0.5977090272584511
           ]
          },
          {
           "label": "dropout10",
           "range": [
            0.02052231600967469,
            0.02052231600967469
           ],
           "values": [
            0.02052231600967469
           ]
          },
          {
           "label": "dropout11",
           "range": [
            0.08996278378910944,
            0.08996278378910944
           ],
           "values": [
            0.08996278378910944
           ]
          },
          {
           "label": "dropout12",
           "range": [
            0.026063176895553763,
            0.026063176895553763
           ],
           "values": [
            0.026063176895553763
           ]
          },
          {
           "label": "dropout13",
           "range": [
            0.0010936885849140432,
            0.0010936885849140432
           ],
           "values": [
            0.0010936885849140432
           ]
          },
          {
           "label": "dropout14",
           "range": [
            0.025914886816692406,
            0.025914886816692406
           ],
           "values": [
            0.025914886816692406
           ]
          },
          {
           "label": "dropout2",
           "range": [
            0.522993315432858,
            0.522993315432858
           ],
           "values": [
            0.522993315432858
           ]
          },
          {
           "label": "dropout3",
           "range": [
            0.4814701261912401,
            0.4814701261912401
           ],
           "values": [
            0.4814701261912401
           ]
          },
          {
           "label": "dropout4",
           "range": [
            0.016450329758121718,
            0.016450329758121718
           ],
           "values": [
            0.016450329758121718
           ]
          },
          {
           "label": "dropout5",
           "range": [
            0.30430514140078174,
            0.30430514140078174
           ],
           "values": [
            0.30430514140078174
           ]
          },
          {
           "label": "dropout6",
           "range": [
            0.5753945530411275,
            0.5753945530411275
           ],
           "values": [
            0.5753945530411275
           ]
          },
          {
           "label": "dropout7",
           "range": [
            0.15571744432749213,
            0.15571744432749213
           ],
           "values": [
            0.15571744432749213
           ]
          },
          {
           "label": "dropout8",
           "range": [
            0.0050981758990465975,
            0.0050981758990465975
           ],
           "values": [
            0.0050981758990465975
           ]
          },
          {
           "label": "dropout9",
           "range": [
            0.025870222967983636,
            0.025870222967983636
           ],
           "values": [
            0.025870222967983636
           ]
          },
          {
           "label": "n_layers",
           "range": [
            15,
            15
           ],
           "values": [
            15
           ]
          },
          {
           "label": "n_units_l0",
           "range": [
            2.2810333672477277,
            2.2810333672477277
           ],
           "ticktext": [
            "191"
           ],
           "tickvals": [
            2.2810333672477277
           ],
           "values": [
            2.2810333672477277
           ]
          },
          {
           "label": "n_units_l1",
           "range": [
            1.7160033436347992,
            1.7160033436347992
           ],
           "ticktext": [
            "52"
           ],
           "tickvals": [
            1.7160033436347992
           ],
           "values": [
            1.7160033436347992
           ]
          },
          {
           "label": "n_units_l10",
           "range": [
            1.9138138523837167,
            1.9138138523837167
           ],
           "ticktext": [
            "82"
           ],
           "tickvals": [
            1.9138138523837167
           ],
           "values": [
            1.9138138523837167
           ]
          },
          {
           "label": "n_units_l11",
           "range": [
            1.6901960800285136,
            1.6901960800285136
           ],
           "ticktext": [
            "49"
           ],
           "tickvals": [
            1.6901960800285136
           ],
           "values": [
            1.6901960800285136
           ]
          },
          {
           "label": "n_units_l12",
           "range": [
            1.6989700043360187,
            1.6989700043360187
           ],
           "ticktext": [
            "50"
           ],
           "tickvals": [
            1.6989700043360187
           ],
           "values": [
            1.6989700043360187
           ]
          },
          {
           "label": "n_units_l13",
           "range": [
            1.6812412373755872,
            1.6812412373755872
           ],
           "ticktext": [
            "48"
           ],
           "tickvals": [
            1.6812412373755872
           ],
           "values": [
            1.6812412373755872
           ]
          },
          {
           "label": "n_units_l14",
           "range": [
            2.1958996524092336,
            2.1958996524092336
           ],
           "ticktext": [
            "157"
           ],
           "tickvals": [
            2.1958996524092336
           ],
           "values": [
            2.1958996524092336
           ]
          },
          {
           "label": "n_units_l2",
           "range": [
            2.0791812460476247,
            2.0791812460476247
           ],
           "ticktext": [
            "120"
           ],
           "tickvals": [
            2.0791812460476247
           ],
           "values": [
            2.0791812460476247
           ]
          },
          {
           "label": "n_units_l3",
           "range": [
            2.569373909615046,
            2.569373909615046
           ],
           "ticktext": [
            "371"
           ],
           "tickvals": [
            2.569373909615046
           ],
           "values": [
            2.569373909615046
           ]
          },
          {
           "label": "n_units_l4",
           "range": [
            1.863322860120456,
            1.863322860120456
           ],
           "ticktext": [
            "73"
           ],
           "tickvals": [
            1.863322860120456
           ],
           "values": [
            1.863322860120456
           ]
          },
          {
           "label": "n_units_l5",
           "range": [
            2.130333768495006,
            2.130333768495006
           ],
           "ticktext": [
            "135"
           ],
           "tickvals": [
            2.130333768495006
           ],
           "values": [
            2.130333768495006
           ]
          },
          {
           "label": "n_units_l6",
           "range": [
            2.3483048630481607,
            2.3483048630481607
           ],
           "ticktext": [
            "223"
           ],
           "tickvals": [
            2.3483048630481607
           ],
           "values": [
            2.3483048630481607
           ]
          },
          {
           "label": "n_units_l7",
           "range": [
            2.3541084391474008,
            2.3541084391474008
           ],
           "ticktext": [
            "226"
           ],
           "tickvals": [
            2.3541084391474008
           ],
           "values": [
            2.3541084391474008
           ]
          },
          {
           "label": "n_units_l8",
           "range": [
            2.5211380837040362,
            2.5211380837040362
           ],
           "ticktext": [
            "332"
           ],
           "tickvals": [
            2.5211380837040362
           ],
           "values": [
            2.5211380837040362
           ]
          },
          {
           "label": "n_units_l9",
           "range": [
            1.7160033436347992,
            1.7160033436347992
           ],
           "ticktext": [
            "52"
           ],
           "tickvals": [
            1.7160033436347992
           ],
           "values": [
            1.7160033436347992
           ]
          },
          {
           "label": "size",
           "range": [
            92,
            92
           ],
           "values": [
            92
           ]
          }
         ],
         "labelangle": 30,
         "labelside": "bottom",
         "line": {
          "color": [
           0.2606387138366699
          ],
          "colorbar": {
           "title": {
            "text": "Objective Value"
           }
          },
          "colorscale": [
           [
            0,
            "rgb(247,251,255)"
           ],
           [
            0.125,
            "rgb(222,235,247)"
           ],
           [
            0.25,
            "rgb(198,219,239)"
           ],
           [
            0.375,
            "rgb(158,202,225)"
           ],
           [
            0.5,
            "rgb(107,174,214)"
           ],
           [
            0.625,
            "rgb(66,146,198)"
           ],
           [
            0.75,
            "rgb(33,113,181)"
           ],
           [
            0.875,
            "rgb(8,81,156)"
           ],
           [
            1,
            "rgb(8,48,107)"
           ]
          ],
          "reversescale": true,
          "showscale": true
         },
         "type": "parcoords"
        }
       ],
       "layout": {
        "template": {
         "data": {
          "bar": [
           {
            "error_x": {
             "color": "#2a3f5f"
            },
            "error_y": {
             "color": "#2a3f5f"
            },
            "marker": {
             "line": {
              "color": "#E5ECF6",
              "width": 0.5
             },
             "pattern": {
              "fillmode": "overlay",
              "size": 10,
              "solidity": 0.2
             }
            },
            "type": "bar"
           }
          ],
          "barpolar": [
           {
            "marker": {
             "line": {
              "color": "#E5ECF6",
              "width": 0.5
             },
             "pattern": {
              "fillmode": "overlay",
              "size": 10,
              "solidity": 0.2
             }
            },
            "type": "barpolar"
           }
          ],
          "carpet": [
           {
            "aaxis": {
             "endlinecolor": "#2a3f5f",
             "gridcolor": "white",
             "linecolor": "white",
             "minorgridcolor": "white",
             "startlinecolor": "#2a3f5f"
            },
            "baxis": {
             "endlinecolor": "#2a3f5f",
             "gridcolor": "white",
             "linecolor": "white",
             "minorgridcolor": "white",
             "startlinecolor": "#2a3f5f"
            },
            "type": "carpet"
           }
          ],
          "choropleth": [
           {
            "colorbar": {
             "outlinewidth": 0,
             "ticks": ""
            },
            "type": "choropleth"
           }
          ],
          "contour": [
           {
            "colorbar": {
             "outlinewidth": 0,
             "ticks": ""
            },
            "colorscale": [
             [
              0,
              "#0d0887"
             ],
             [
              0.1111111111111111,
              "#46039f"
             ],
             [
              0.2222222222222222,
              "#7201a8"
             ],
             [
              0.3333333333333333,
              "#9c179e"
             ],
             [
              0.4444444444444444,
              "#bd3786"
             ],
             [
              0.5555555555555556,
              "#d8576b"
             ],
             [
              0.6666666666666666,
              "#ed7953"
             ],
             [
              0.7777777777777778,
              "#fb9f3a"
             ],
             [
              0.8888888888888888,
              "#fdca26"
             ],
             [
              1,
              "#f0f921"
             ]
            ],
            "type": "contour"
           }
          ],
          "contourcarpet": [
           {
            "colorbar": {
             "outlinewidth": 0,
             "ticks": ""
            },
            "type": "contourcarpet"
           }
          ],
          "heatmap": [
           {
            "colorbar": {
             "outlinewidth": 0,
             "ticks": ""
            },
            "colorscale": [
             [
              0,
              "#0d0887"
             ],
             [
              0.1111111111111111,
              "#46039f"
             ],
             [
              0.2222222222222222,
              "#7201a8"
             ],
             [
              0.3333333333333333,
              "#9c179e"
             ],
             [
              0.4444444444444444,
              "#bd3786"
             ],
             [
              0.5555555555555556,
              "#d8576b"
             ],
             [
              0.6666666666666666,
              "#ed7953"
             ],
             [
              0.7777777777777778,
              "#fb9f3a"
             ],
             [
              0.8888888888888888,
              "#fdca26"
             ],
             [
              1,
              "#f0f921"
             ]
            ],
            "type": "heatmap"
           }
          ],
          "heatmapgl": [
           {
            "colorbar": {
             "outlinewidth": 0,
             "ticks": ""
            },
            "colorscale": [
             [
              0,
              "#0d0887"
             ],
             [
              0.1111111111111111,
              "#46039f"
             ],
             [
              0.2222222222222222,
              "#7201a8"
             ],
             [
              0.3333333333333333,
              "#9c179e"
             ],
             [
              0.4444444444444444,
              "#bd3786"
             ],
             [
              0.5555555555555556,
              "#d8576b"
             ],
             [
              0.6666666666666666,
              "#ed7953"
             ],
             [
              0.7777777777777778,
              "#fb9f3a"
             ],
             [
              0.8888888888888888,
              "#fdca26"
             ],
             [
              1,
              "#f0f921"
             ]
            ],
            "type": "heatmapgl"
           }
          ],
          "histogram": [
           {
            "marker": {
             "pattern": {
              "fillmode": "overlay",
              "size": 10,
              "solidity": 0.2
             }
            },
            "type": "histogram"
           }
          ],
          "histogram2d": [
           {
            "colorbar": {
             "outlinewidth": 0,
             "ticks": ""
            },
            "colorscale": [
             [
              0,
              "#0d0887"
             ],
             [
              0.1111111111111111,
              "#46039f"
             ],
             [
              0.2222222222222222,
              "#7201a8"
             ],
             [
              0.3333333333333333,
              "#9c179e"
             ],
             [
              0.4444444444444444,
              "#bd3786"
             ],
             [
              0.5555555555555556,
              "#d8576b"
             ],
             [
              0.6666666666666666,
              "#ed7953"
             ],
             [
              0.7777777777777778,
              "#fb9f3a"
             ],
             [
              0.8888888888888888,
              "#fdca26"
             ],
             [
              1,
              "#f0f921"
             ]
            ],
            "type": "histogram2d"
           }
          ],
          "histogram2dcontour": [
           {
            "colorbar": {
             "outlinewidth": 0,
             "ticks": ""
            },
            "colorscale": [
             [
              0,
              "#0d0887"
             ],
             [
              0.1111111111111111,
              "#46039f"
             ],
             [
              0.2222222222222222,
              "#7201a8"
             ],
             [
              0.3333333333333333,
              "#9c179e"
             ],
             [
              0.4444444444444444,
              "#bd3786"
             ],
             [
              0.5555555555555556,
              "#d8576b"
             ],
             [
              0.6666666666666666,
              "#ed7953"
             ],
             [
              0.7777777777777778,
              "#fb9f3a"
             ],
             [
              0.8888888888888888,
              "#fdca26"
             ],
             [
              1,
              "#f0f921"
             ]
            ],
            "type": "histogram2dcontour"
           }
          ],
          "mesh3d": [
           {
            "colorbar": {
             "outlinewidth": 0,
             "ticks": ""
            },
            "type": "mesh3d"
           }
          ],
          "parcoords": [
           {
            "line": {
             "colorbar": {
              "outlinewidth": 0,
              "ticks": ""
             }
            },
            "type": "parcoords"
           }
          ],
          "pie": [
           {
            "automargin": true,
            "type": "pie"
           }
          ],
          "scatter": [
           {
            "fillpattern": {
             "fillmode": "overlay",
             "size": 10,
             "solidity": 0.2
            },
            "type": "scatter"
           }
          ],
          "scatter3d": [
           {
            "line": {
             "colorbar": {
              "outlinewidth": 0,
              "ticks": ""
             }
            },
            "marker": {
             "colorbar": {
              "outlinewidth": 0,
              "ticks": ""
             }
            },
            "type": "scatter3d"
           }
          ],
          "scattercarpet": [
           {
            "marker": {
             "colorbar": {
              "outlinewidth": 0,
              "ticks": ""
             }
            },
            "type": "scattercarpet"
           }
          ],
          "scattergeo": [
           {
            "marker": {
             "colorbar": {
              "outlinewidth": 0,
              "ticks": ""
             }
            },
            "type": "scattergeo"
           }
          ],
          "scattergl": [
           {
            "marker": {
             "colorbar": {
              "outlinewidth": 0,
              "ticks": ""
             }
            },
            "type": "scattergl"
           }
          ],
          "scattermapbox": [
           {
            "marker": {
             "colorbar": {
              "outlinewidth": 0,
              "ticks": ""
             }
            },
            "type": "scattermapbox"
           }
          ],
          "scatterpolar": [
           {
            "marker": {
             "colorbar": {
              "outlinewidth": 0,
              "ticks": ""
             }
            },
            "type": "scatterpolar"
           }
          ],
          "scatterpolargl": [
           {
            "marker": {
             "colorbar": {
              "outlinewidth": 0,
              "ticks": ""
             }
            },
            "type": "scatterpolargl"
           }
          ],
          "scatterternary": [
           {
            "marker": {
             "colorbar": {
              "outlinewidth": 0,
              "ticks": ""
             }
            },
            "type": "scatterternary"
           }
          ],
          "surface": [
           {
            "colorbar": {
             "outlinewidth": 0,
             "ticks": ""
            },
            "colorscale": [
             [
              0,
              "#0d0887"
             ],
             [
              0.1111111111111111,
              "#46039f"
             ],
             [
              0.2222222222222222,
              "#7201a8"
             ],
             [
              0.3333333333333333,
              "#9c179e"
             ],
             [
              0.4444444444444444,
              "#bd3786"
             ],
             [
              0.5555555555555556,
              "#d8576b"
             ],
             [
              0.6666666666666666,
              "#ed7953"
             ],
             [
              0.7777777777777778,
              "#fb9f3a"
             ],
             [
              0.8888888888888888,
              "#fdca26"
             ],
             [
              1,
              "#f0f921"
             ]
            ],
            "type": "surface"
           }
          ],
          "table": [
           {
            "cells": {
             "fill": {
              "color": "#EBF0F8"
             },
             "line": {
              "color": "white"
             }
            },
            "header": {
             "fill": {
              "color": "#C8D4E3"
             },
             "line": {
              "color": "white"
             }
            },
            "type": "table"
           }
          ]
         },
         "layout": {
          "annotationdefaults": {
           "arrowcolor": "#2a3f5f",
           "arrowhead": 0,
           "arrowwidth": 1
          },
          "autotypenumbers": "strict",
          "coloraxis": {
           "colorbar": {
            "outlinewidth": 0,
            "ticks": ""
           }
          },
          "colorscale": {
           "diverging": [
            [
             0,
             "#8e0152"
            ],
            [
             0.1,
             "#c51b7d"
            ],
            [
             0.2,
             "#de77ae"
            ],
            [
             0.3,
             "#f1b6da"
            ],
            [
             0.4,
             "#fde0ef"
            ],
            [
             0.5,
             "#f7f7f7"
            ],
            [
             0.6,
             "#e6f5d0"
            ],
            [
             0.7,
             "#b8e186"
            ],
            [
             0.8,
             "#7fbc41"
            ],
            [
             0.9,
             "#4d9221"
            ],
            [
             1,
             "#276419"
            ]
           ],
           "sequential": [
            [
             0,
             "#0d0887"
            ],
            [
             0.1111111111111111,
             "#46039f"
            ],
            [
             0.2222222222222222,
             "#7201a8"
            ],
            [
             0.3333333333333333,
             "#9c179e"
            ],
            [
             0.4444444444444444,
             "#bd3786"
            ],
            [
             0.5555555555555556,
             "#d8576b"
            ],
            [
             0.6666666666666666,
             "#ed7953"
            ],
            [
             0.7777777777777778,
             "#fb9f3a"
            ],
            [
             0.8888888888888888,
             "#fdca26"
            ],
            [
             1,
             "#f0f921"
            ]
           ],
           "sequentialminus": [
            [
             0,
             "#0d0887"
            ],
            [
             0.1111111111111111,
             "#46039f"
            ],
            [
             0.2222222222222222,
             "#7201a8"
            ],
            [
             0.3333333333333333,
             "#9c179e"
            ],
            [
             0.4444444444444444,
             "#bd3786"
            ],
            [
             0.5555555555555556,
             "#d8576b"
            ],
            [
             0.6666666666666666,
             "#ed7953"
            ],
            [
             0.7777777777777778,
             "#fb9f3a"
            ],
            [
             0.8888888888888888,
             "#fdca26"
            ],
            [
             1,
             "#f0f921"
            ]
           ]
          },
          "colorway": [
           "#636efa",
           "#EF553B",
           "#00cc96",
           "#ab63fa",
           "#FFA15A",
           "#19d3f3",
           "#FF6692",
           "#B6E880",
           "#FF97FF",
           "#FECB52"
          ],
          "font": {
           "color": "#2a3f5f"
          },
          "geo": {
           "bgcolor": "white",
           "lakecolor": "white",
           "landcolor": "#E5ECF6",
           "showlakes": true,
           "showland": true,
           "subunitcolor": "white"
          },
          "hoverlabel": {
           "align": "left"
          },
          "hovermode": "closest",
          "mapbox": {
           "style": "light"
          },
          "paper_bgcolor": "white",
          "plot_bgcolor": "#E5ECF6",
          "polar": {
           "angularaxis": {
            "gridcolor": "white",
            "linecolor": "white",
            "ticks": ""
           },
           "bgcolor": "#E5ECF6",
           "radialaxis": {
            "gridcolor": "white",
            "linecolor": "white",
            "ticks": ""
           }
          },
          "scene": {
           "xaxis": {
            "backgroundcolor": "#E5ECF6",
            "gridcolor": "white",
            "gridwidth": 2,
            "linecolor": "white",
            "showbackground": true,
            "ticks": "",
            "zerolinecolor": "white"
           },
           "yaxis": {
            "backgroundcolor": "#E5ECF6",
            "gridcolor": "white",
            "gridwidth": 2,
            "linecolor": "white",
            "showbackground": true,
            "ticks": "",
            "zerolinecolor": "white"
           },
           "zaxis": {
            "backgroundcolor": "#E5ECF6",
            "gridcolor": "white",
            "gridwidth": 2,
            "linecolor": "white",
            "showbackground": true,
            "ticks": "",
            "zerolinecolor": "white"
           }
          },
          "shapedefaults": {
           "line": {
            "color": "#2a3f5f"
           }
          },
          "ternary": {
           "aaxis": {
            "gridcolor": "white",
            "linecolor": "white",
            "ticks": ""
           },
           "baxis": {
            "gridcolor": "white",
            "linecolor": "white",
            "ticks": ""
           },
           "bgcolor": "#E5ECF6",
           "caxis": {
            "gridcolor": "white",
            "linecolor": "white",
            "ticks": ""
           }
          },
          "title": {
           "x": 0.05
          },
          "xaxis": {
           "automargin": true,
           "gridcolor": "white",
           "linecolor": "white",
           "ticks": "",
           "title": {
            "standoff": 15
           },
           "zerolinecolor": "white",
           "zerolinewidth": 2
          },
          "yaxis": {
           "automargin": true,
           "gridcolor": "white",
           "linecolor": "white",
           "ticks": "",
           "title": {
            "standoff": 15
           },
           "zerolinecolor": "white",
           "zerolinewidth": 2
          }
         }
        },
        "title": {
         "text": "Parallel Coordinate Plot"
        }
       }
      },
      "text/html": [
       "<div>                            <div id=\"89389079-cb03-49a7-a21b-a44b99dab398\" class=\"plotly-graph-div\" style=\"height:525px; width:100%;\"></div>            <script type=\"text/javascript\">                require([\"plotly\"], function(Plotly) {                    window.PLOTLYENV=window.PLOTLYENV || {};                                    if (document.getElementById(\"89389079-cb03-49a7-a21b-a44b99dab398\")) {                    Plotly.newPlot(                        \"89389079-cb03-49a7-a21b-a44b99dab398\",                        [{\"dimensions\":[{\"label\":\"Objective Value\",\"range\":[0.2606387138366699,0.2606387138366699],\"values\":[0.2606387138366699]},{\"label\":\"activation0\",\"range\":[0,0],\"ticktext\":[\"relu\"],\"tickvals\":[0],\"values\":[0]},{\"label\":\"activation1\",\"range\":[0,0],\"ticktext\":[\"swish\"],\"tickvals\":[0],\"values\":[0]},{\"label\":\"activation10\",\"range\":[0,0],\"ticktext\":[\"relu\"],\"tickvals\":[0],\"values\":[0]},{\"label\":\"activation11\",\"range\":[0,0],\"ticktext\":[\"linear\"],\"tickvals\":[0],\"values\":[0]},{\"label\":\"activation12\",\"range\":[0,0],\"ticktext\":[\"linear\"],\"tickvals\":[0],\"values\":[0]},{\"label\":\"activation13\",\"range\":[0,0],\"ticktext\":[\"swish\"],\"tickvals\":[0],\"values\":[0]},{\"label\":\"activation14\",\"range\":[0,0],\"ticktext\":[\"swish\"],\"tickvals\":[0],\"values\":[0]},{\"label\":\"activation2\",\"range\":[0,0],\"ticktext\":[\"swish\"],\"tickvals\":[0],\"values\":[0]},{\"label\":\"activation3\",\"range\":[0,0],\"ticktext\":[\"linear\"],\"tickvals\":[0],\"values\":[0]},{\"label\":\"activation4\",\"range\":[0,0],\"ticktext\":[\"swish\"],\"tickvals\":[0],\"values\":[0]},{\"label\":\"activation5\",\"range\":[0,0],\"ticktext\":[\"relu\"],\"tickvals\":[0],\"values\":[0]},{\"label\":\"activation6\",\"range\":[0,0],\"ticktext\":[\"linear\"],\"tickvals\":[0],\"values\":[0]},{\"label\":\"activation7\",\"range\":[0,0],\"ticktext\":[\"swish\"],\"tickvals\":[0],\"values\":[0]},{\"label\":\"activation8\",\"range\":[0,0],\"ticktext\":[\"relu\"],\"tickvals\":[0],\"values\":[0]},{\"label\":\"activation9\",\"range\":[0,0],\"ticktext\":[\"swish\"],\"tickvals\":[0],\"values\":[0]},{\"label\":\"dropout0\",\"range\":[0.08025616819862809,0.08025616819862809],\"values\":[0.08025616819862809]},{\"label\":\"dropout1\",\"range\":[0.5977090272584511,0.5977090272584511],\"values\":[0.5977090272584511]},{\"label\":\"dropout10\",\"range\":[0.02052231600967469,0.02052231600967469],\"values\":[0.02052231600967469]},{\"label\":\"dropout11\",\"range\":[0.08996278378910944,0.08996278378910944],\"values\":[0.08996278378910944]},{\"label\":\"dropout12\",\"range\":[0.026063176895553763,0.026063176895553763],\"values\":[0.026063176895553763]},{\"label\":\"dropout13\",\"range\":[0.0010936885849140432,0.0010936885849140432],\"values\":[0.0010936885849140432]},{\"label\":\"dropout14\",\"range\":[0.025914886816692406,0.025914886816692406],\"values\":[0.025914886816692406]},{\"label\":\"dropout2\",\"range\":[0.522993315432858,0.522993315432858],\"values\":[0.522993315432858]},{\"label\":\"dropout3\",\"range\":[0.4814701261912401,0.4814701261912401],\"values\":[0.4814701261912401]},{\"label\":\"dropout4\",\"range\":[0.016450329758121718,0.016450329758121718],\"values\":[0.016450329758121718]},{\"label\":\"dropout5\",\"range\":[0.30430514140078174,0.30430514140078174],\"values\":[0.30430514140078174]},{\"label\":\"dropout6\",\"range\":[0.5753945530411275,0.5753945530411275],\"values\":[0.5753945530411275]},{\"label\":\"dropout7\",\"range\":[0.15571744432749213,0.15571744432749213],\"values\":[0.15571744432749213]},{\"label\":\"dropout8\",\"range\":[0.0050981758990465975,0.0050981758990465975],\"values\":[0.0050981758990465975]},{\"label\":\"dropout9\",\"range\":[0.025870222967983636,0.025870222967983636],\"values\":[0.025870222967983636]},{\"label\":\"n_layers\",\"range\":[15,15],\"values\":[15]},{\"label\":\"n_units_l0\",\"range\":[2.2810333672477277,2.2810333672477277],\"ticktext\":[\"191\"],\"tickvals\":[2.2810333672477277],\"values\":[2.2810333672477277]},{\"label\":\"n_units_l1\",\"range\":[1.7160033436347992,1.7160033436347992],\"ticktext\":[\"52\"],\"tickvals\":[1.7160033436347992],\"values\":[1.7160033436347992]},{\"label\":\"n_units_l10\",\"range\":[1.9138138523837167,1.9138138523837167],\"ticktext\":[\"82\"],\"tickvals\":[1.9138138523837167],\"values\":[1.9138138523837167]},{\"label\":\"n_units_l11\",\"range\":[1.6901960800285136,1.6901960800285136],\"ticktext\":[\"49\"],\"tickvals\":[1.6901960800285136],\"values\":[1.6901960800285136]},{\"label\":\"n_units_l12\",\"range\":[1.6989700043360187,1.6989700043360187],\"ticktext\":[\"50\"],\"tickvals\":[1.6989700043360187],\"values\":[1.6989700043360187]},{\"label\":\"n_units_l13\",\"range\":[1.6812412373755872,1.6812412373755872],\"ticktext\":[\"48\"],\"tickvals\":[1.6812412373755872],\"values\":[1.6812412373755872]},{\"label\":\"n_units_l14\",\"range\":[2.1958996524092336,2.1958996524092336],\"ticktext\":[\"157\"],\"tickvals\":[2.1958996524092336],\"values\":[2.1958996524092336]},{\"label\":\"n_units_l2\",\"range\":[2.0791812460476247,2.0791812460476247],\"ticktext\":[\"120\"],\"tickvals\":[2.0791812460476247],\"values\":[2.0791812460476247]},{\"label\":\"n_units_l3\",\"range\":[2.569373909615046,2.569373909615046],\"ticktext\":[\"371\"],\"tickvals\":[2.569373909615046],\"values\":[2.569373909615046]},{\"label\":\"n_units_l4\",\"range\":[1.863322860120456,1.863322860120456],\"ticktext\":[\"73\"],\"tickvals\":[1.863322860120456],\"values\":[1.863322860120456]},{\"label\":\"n_units_l5\",\"range\":[2.130333768495006,2.130333768495006],\"ticktext\":[\"135\"],\"tickvals\":[2.130333768495006],\"values\":[2.130333768495006]},{\"label\":\"n_units_l6\",\"range\":[2.3483048630481607,2.3483048630481607],\"ticktext\":[\"223\"],\"tickvals\":[2.3483048630481607],\"values\":[2.3483048630481607]},{\"label\":\"n_units_l7\",\"range\":[2.3541084391474008,2.3541084391474008],\"ticktext\":[\"226\"],\"tickvals\":[2.3541084391474008],\"values\":[2.3541084391474008]},{\"label\":\"n_units_l8\",\"range\":[2.5211380837040362,2.5211380837040362],\"ticktext\":[\"332\"],\"tickvals\":[2.5211380837040362],\"values\":[2.5211380837040362]},{\"label\":\"n_units_l9\",\"range\":[1.7160033436347992,1.7160033436347992],\"ticktext\":[\"52\"],\"tickvals\":[1.7160033436347992],\"values\":[1.7160033436347992]},{\"label\":\"size\",\"range\":[92,92],\"values\":[92]}],\"labelangle\":30,\"labelside\":\"bottom\",\"line\":{\"color\":[0.2606387138366699],\"colorbar\":{\"title\":{\"text\":\"Objective Value\"}},\"colorscale\":[[0.0,\"rgb(247,251,255)\"],[0.125,\"rgb(222,235,247)\"],[0.25,\"rgb(198,219,239)\"],[0.375,\"rgb(158,202,225)\"],[0.5,\"rgb(107,174,214)\"],[0.625,\"rgb(66,146,198)\"],[0.75,\"rgb(33,113,181)\"],[0.875,\"rgb(8,81,156)\"],[1.0,\"rgb(8,48,107)\"]],\"reversescale\":true,\"showscale\":true},\"type\":\"parcoords\"}],                        {\"title\":{\"text\":\"Parallel Coordinate Plot\"},\"template\":{\"data\":{\"histogram2dcontour\":[{\"type\":\"histogram2dcontour\",\"colorbar\":{\"outlinewidth\":0,\"ticks\":\"\"},\"colorscale\":[[0.0,\"#0d0887\"],[0.1111111111111111,\"#46039f\"],[0.2222222222222222,\"#7201a8\"],[0.3333333333333333,\"#9c179e\"],[0.4444444444444444,\"#bd3786\"],[0.5555555555555556,\"#d8576b\"],[0.6666666666666666,\"#ed7953\"],[0.7777777777777778,\"#fb9f3a\"],[0.8888888888888888,\"#fdca26\"],[1.0,\"#f0f921\"]]}],\"choropleth\":[{\"type\":\"choropleth\",\"colorbar\":{\"outlinewidth\":0,\"ticks\":\"\"}}],\"histogram2d\":[{\"type\":\"histogram2d\",\"colorbar\":{\"outlinewidth\":0,\"ticks\":\"\"},\"colorscale\":[[0.0,\"#0d0887\"],[0.1111111111111111,\"#46039f\"],[0.2222222222222222,\"#7201a8\"],[0.3333333333333333,\"#9c179e\"],[0.4444444444444444,\"#bd3786\"],[0.5555555555555556,\"#d8576b\"],[0.6666666666666666,\"#ed7953\"],[0.7777777777777778,\"#fb9f3a\"],[0.8888888888888888,\"#fdca26\"],[1.0,\"#f0f921\"]]}],\"heatmap\":[{\"type\":\"heatmap\",\"colorbar\":{\"outlinewidth\":0,\"ticks\":\"\"},\"colorscale\":[[0.0,\"#0d0887\"],[0.1111111111111111,\"#46039f\"],[0.2222222222222222,\"#7201a8\"],[0.3333333333333333,\"#9c179e\"],[0.4444444444444444,\"#bd3786\"],[0.5555555555555556,\"#d8576b\"],[0.6666666666666666,\"#ed7953\"],[0.7777777777777778,\"#fb9f3a\"],[0.8888888888888888,\"#fdca26\"],[1.0,\"#f0f921\"]]}],\"heatmapgl\":[{\"type\":\"heatmapgl\",\"colorbar\":{\"outlinewidth\":0,\"ticks\":\"\"},\"colorscale\":[[0.0,\"#0d0887\"],[0.1111111111111111,\"#46039f\"],[0.2222222222222222,\"#7201a8\"],[0.3333333333333333,\"#9c179e\"],[0.4444444444444444,\"#bd3786\"],[0.5555555555555556,\"#d8576b\"],[0.6666666666666666,\"#ed7953\"],[0.7777777777777778,\"#fb9f3a\"],[0.8888888888888888,\"#fdca26\"],[1.0,\"#f0f921\"]]}],\"contourcarpet\":[{\"type\":\"contourcarpet\",\"colorbar\":{\"outlinewidth\":0,\"ticks\":\"\"}}],\"contour\":[{\"type\":\"contour\",\"colorbar\":{\"outlinewidth\":0,\"ticks\":\"\"},\"colorscale\":[[0.0,\"#0d0887\"],[0.1111111111111111,\"#46039f\"],[0.2222222222222222,\"#7201a8\"],[0.3333333333333333,\"#9c179e\"],[0.4444444444444444,\"#bd3786\"],[0.5555555555555556,\"#d8576b\"],[0.6666666666666666,\"#ed7953\"],[0.7777777777777778,\"#fb9f3a\"],[0.8888888888888888,\"#fdca26\"],[1.0,\"#f0f921\"]]}],\"surface\":[{\"type\":\"surface\",\"colorbar\":{\"outlinewidth\":0,\"ticks\":\"\"},\"colorscale\":[[0.0,\"#0d0887\"],[0.1111111111111111,\"#46039f\"],[0.2222222222222222,\"#7201a8\"],[0.3333333333333333,\"#9c179e\"],[0.4444444444444444,\"#bd3786\"],[0.5555555555555556,\"#d8576b\"],[0.6666666666666666,\"#ed7953\"],[0.7777777777777778,\"#fb9f3a\"],[0.8888888888888888,\"#fdca26\"],[1.0,\"#f0f921\"]]}],\"mesh3d\":[{\"type\":\"mesh3d\",\"colorbar\":{\"outlinewidth\":0,\"ticks\":\"\"}}],\"scatter\":[{\"fillpattern\":{\"fillmode\":\"overlay\",\"size\":10,\"solidity\":0.2},\"type\":\"scatter\"}],\"parcoords\":[{\"type\":\"parcoords\",\"line\":{\"colorbar\":{\"outlinewidth\":0,\"ticks\":\"\"}}}],\"scatterpolargl\":[{\"type\":\"scatterpolargl\",\"marker\":{\"colorbar\":{\"outlinewidth\":0,\"ticks\":\"\"}}}],\"bar\":[{\"error_x\":{\"color\":\"#2a3f5f\"},\"error_y\":{\"color\":\"#2a3f5f\"},\"marker\":{\"line\":{\"color\":\"#E5ECF6\",\"width\":0.5},\"pattern\":{\"fillmode\":\"overlay\",\"size\":10,\"solidity\":0.2}},\"type\":\"bar\"}],\"scattergeo\":[{\"type\":\"scattergeo\",\"marker\":{\"colorbar\":{\"outlinewidth\":0,\"ticks\":\"\"}}}],\"scatterpolar\":[{\"type\":\"scatterpolar\",\"marker\":{\"colorbar\":{\"outlinewidth\":0,\"ticks\":\"\"}}}],\"histogram\":[{\"marker\":{\"pattern\":{\"fillmode\":\"overlay\",\"size\":10,\"solidity\":0.2}},\"type\":\"histogram\"}],\"scattergl\":[{\"type\":\"scattergl\",\"marker\":{\"colorbar\":{\"outlinewidth\":0,\"ticks\":\"\"}}}],\"scatter3d\":[{\"type\":\"scatter3d\",\"line\":{\"colorbar\":{\"outlinewidth\":0,\"ticks\":\"\"}},\"marker\":{\"colorbar\":{\"outlinewidth\":0,\"ticks\":\"\"}}}],\"scattermapbox\":[{\"type\":\"scattermapbox\",\"marker\":{\"colorbar\":{\"outlinewidth\":0,\"ticks\":\"\"}}}],\"scatterternary\":[{\"type\":\"scatterternary\",\"marker\":{\"colorbar\":{\"outlinewidth\":0,\"ticks\":\"\"}}}],\"scattercarpet\":[{\"type\":\"scattercarpet\",\"marker\":{\"colorbar\":{\"outlinewidth\":0,\"ticks\":\"\"}}}],\"carpet\":[{\"aaxis\":{\"endlinecolor\":\"#2a3f5f\",\"gridcolor\":\"white\",\"linecolor\":\"white\",\"minorgridcolor\":\"white\",\"startlinecolor\":\"#2a3f5f\"},\"baxis\":{\"endlinecolor\":\"#2a3f5f\",\"gridcolor\":\"white\",\"linecolor\":\"white\",\"minorgridcolor\":\"white\",\"startlinecolor\":\"#2a3f5f\"},\"type\":\"carpet\"}],\"table\":[{\"cells\":{\"fill\":{\"color\":\"#EBF0F8\"},\"line\":{\"color\":\"white\"}},\"header\":{\"fill\":{\"color\":\"#C8D4E3\"},\"line\":{\"color\":\"white\"}},\"type\":\"table\"}],\"barpolar\":[{\"marker\":{\"line\":{\"color\":\"#E5ECF6\",\"width\":0.5},\"pattern\":{\"fillmode\":\"overlay\",\"size\":10,\"solidity\":0.2}},\"type\":\"barpolar\"}],\"pie\":[{\"automargin\":true,\"type\":\"pie\"}]},\"layout\":{\"autotypenumbers\":\"strict\",\"colorway\":[\"#636efa\",\"#EF553B\",\"#00cc96\",\"#ab63fa\",\"#FFA15A\",\"#19d3f3\",\"#FF6692\",\"#B6E880\",\"#FF97FF\",\"#FECB52\"],\"font\":{\"color\":\"#2a3f5f\"},\"hovermode\":\"closest\",\"hoverlabel\":{\"align\":\"left\"},\"paper_bgcolor\":\"white\",\"plot_bgcolor\":\"#E5ECF6\",\"polar\":{\"bgcolor\":\"#E5ECF6\",\"angularaxis\":{\"gridcolor\":\"white\",\"linecolor\":\"white\",\"ticks\":\"\"},\"radialaxis\":{\"gridcolor\":\"white\",\"linecolor\":\"white\",\"ticks\":\"\"}},\"ternary\":{\"bgcolor\":\"#E5ECF6\",\"aaxis\":{\"gridcolor\":\"white\",\"linecolor\":\"white\",\"ticks\":\"\"},\"baxis\":{\"gridcolor\":\"white\",\"linecolor\":\"white\",\"ticks\":\"\"},\"caxis\":{\"gridcolor\":\"white\",\"linecolor\":\"white\",\"ticks\":\"\"}},\"coloraxis\":{\"colorbar\":{\"outlinewidth\":0,\"ticks\":\"\"}},\"colorscale\":{\"sequential\":[[0.0,\"#0d0887\"],[0.1111111111111111,\"#46039f\"],[0.2222222222222222,\"#7201a8\"],[0.3333333333333333,\"#9c179e\"],[0.4444444444444444,\"#bd3786\"],[0.5555555555555556,\"#d8576b\"],[0.6666666666666666,\"#ed7953\"],[0.7777777777777778,\"#fb9f3a\"],[0.8888888888888888,\"#fdca26\"],[1.0,\"#f0f921\"]],\"sequentialminus\":[[0.0,\"#0d0887\"],[0.1111111111111111,\"#46039f\"],[0.2222222222222222,\"#7201a8\"],[0.3333333333333333,\"#9c179e\"],[0.4444444444444444,\"#bd3786\"],[0.5555555555555556,\"#d8576b\"],[0.6666666666666666,\"#ed7953\"],[0.7777777777777778,\"#fb9f3a\"],[0.8888888888888888,\"#fdca26\"],[1.0,\"#f0f921\"]],\"diverging\":[[0,\"#8e0152\"],[0.1,\"#c51b7d\"],[0.2,\"#de77ae\"],[0.3,\"#f1b6da\"],[0.4,\"#fde0ef\"],[0.5,\"#f7f7f7\"],[0.6,\"#e6f5d0\"],[0.7,\"#b8e186\"],[0.8,\"#7fbc41\"],[0.9,\"#4d9221\"],[1,\"#276419\"]]},\"xaxis\":{\"gridcolor\":\"white\",\"linecolor\":\"white\",\"ticks\":\"\",\"title\":{\"standoff\":15},\"zerolinecolor\":\"white\",\"automargin\":true,\"zerolinewidth\":2},\"yaxis\":{\"gridcolor\":\"white\",\"linecolor\":\"white\",\"ticks\":\"\",\"title\":{\"standoff\":15},\"zerolinecolor\":\"white\",\"automargin\":true,\"zerolinewidth\":2},\"scene\":{\"xaxis\":{\"backgroundcolor\":\"#E5ECF6\",\"gridcolor\":\"white\",\"linecolor\":\"white\",\"showbackground\":true,\"ticks\":\"\",\"zerolinecolor\":\"white\",\"gridwidth\":2},\"yaxis\":{\"backgroundcolor\":\"#E5ECF6\",\"gridcolor\":\"white\",\"linecolor\":\"white\",\"showbackground\":true,\"ticks\":\"\",\"zerolinecolor\":\"white\",\"gridwidth\":2},\"zaxis\":{\"backgroundcolor\":\"#E5ECF6\",\"gridcolor\":\"white\",\"linecolor\":\"white\",\"showbackground\":true,\"ticks\":\"\",\"zerolinecolor\":\"white\",\"gridwidth\":2}},\"shapedefaults\":{\"line\":{\"color\":\"#2a3f5f\"}},\"annotationdefaults\":{\"arrowcolor\":\"#2a3f5f\",\"arrowhead\":0,\"arrowwidth\":1},\"geo\":{\"bgcolor\":\"white\",\"landcolor\":\"#E5ECF6\",\"subunitcolor\":\"white\",\"showland\":true,\"showlakes\":true,\"lakecolor\":\"white\"},\"title\":{\"x\":0.05},\"mapbox\":{\"style\":\"light\"}}}},                        {\"responsive\": true}                    ).then(function(){\n",
       "                            \n",
       "var gd = document.getElementById('89389079-cb03-49a7-a21b-a44b99dab398');\n",
       "var x = new MutationObserver(function (mutations, observer) {{\n",
       "        var display = window.getComputedStyle(gd).display;\n",
       "        if (!display || display === 'none') {{\n",
       "            console.log([gd, 'removed!']);\n",
       "            Plotly.purge(gd);\n",
       "            observer.disconnect();\n",
       "        }}\n",
       "}});\n",
       "\n",
       "// Listen for the removal of the full notebook cells\n",
       "var notebookContainer = gd.closest('#notebook-container');\n",
       "if (notebookContainer) {{\n",
       "    x.observe(notebookContainer, {childList: true});\n",
       "}}\n",
       "\n",
       "// Listen for the clearing of the current output cell\n",
       "var outputEl = gd.closest('.output');\n",
       "if (outputEl) {{\n",
       "    x.observe(outputEl, {childList: true});\n",
       "}}\n",
       "\n",
       "                        })                };                });            </script>        </div>"
      ]
     },
     "metadata": {},
     "output_type": "display_data"
    }
   ],
   "source": [
    "optuna.visualization.plot_parallel_coordinate(study)\n"
   ]
  },
  {
   "cell_type": "markdown",
   "id": "b2380b05",
   "metadata": {},
   "source": [
    "### Describing the Best Parameters"
   ]
  },
  {
   "cell_type": "code",
   "execution_count": 43,
   "id": "ffd840aa",
   "metadata": {},
   "outputs": [
    {
     "name": "stdout",
     "output_type": "stream",
     "text": [
      "  Best Params: \n",
      "\n",
      "\n",
      "    n_layers: 2\n",
      "    n_units_l0: 300\n",
      "    activation0: relu\n",
      "    dropout0: 0.19988153978942816\n",
      "    n_units_l1: 74\n",
      "    activation1: swish\n",
      "    dropout1: 0.5081126249182397\n",
      "    size: 110\n"
     ]
    }
   ],
   "source": [
    "print(\"  Best Params: \\n\\n\")\n",
    "for key, value in trial.params.items():\n",
    "    print(\"    {}: {}\".format(key, value))"
   ]
  },
  {
   "cell_type": "markdown",
   "id": "249d14c3",
   "metadata": {},
   "source": [
    "## Finall Model Training and Prediction"
   ]
  },
  {
   "cell_type": "code",
   "execution_count": 44,
   "id": "df72046a",
   "metadata": {},
   "outputs": [],
   "source": [
    "def final_model():\n",
    "    model = keras.Sequential()\n",
    "    model.add(keras.layers.Dense(300,input_shape=(len(sentence_embeddings[0]),),activation=tf.keras.activations.relu))\n",
    "    model.add(keras.layers.Dropout(0.19988153978942816))\n",
    "    model.add(keras.layers.Dense(74,activation=tf.keras.activations.swish))\n",
    "    model.add(keras.layers.Dropout(0.5081126249182397))\n",
    "    model.add(keras.layers.Dense(7,activation=tf.keras.activations.sigmoid))\n",
    "    return model"
   ]
  },
  {
   "cell_type": "markdown",
   "id": "8267963c",
   "metadata": {},
   "source": [
    "### Using K-Fold Cross Validation for predicting the test dataset"
   ]
  },
  {
   "cell_type": "code",
   "execution_count": 46,
   "id": "d416e0f4",
   "metadata": {
    "scrolled": true
   },
   "outputs": [
    {
     "name": "stdout",
     "output_type": "stream",
     "text": [
      "#################\n",
      "\n",
      "\n",
      "1\n",
      "#################\n",
      "\n",
      "\n",
      "Epoch 1/200\n",
      "147/147 [==============================] - 1s 3ms/step - loss: 0.3184 - categorical_crossentropy: 1.6473 - val_loss: 0.2396 - val_categorical_crossentropy: 1.3723 - lr: 0.0010\n",
      "Epoch 2/200\n",
      "147/147 [==============================] - 0s 2ms/step - loss: 0.2486 - categorical_crossentropy: 1.4141 - val_loss: 0.2283 - val_categorical_crossentropy: 1.3744 - lr: 0.0010\n",
      "Epoch 3/200\n",
      "147/147 [==============================] - 0s 2ms/step - loss: 0.2321 - categorical_crossentropy: 1.3647 - val_loss: 0.2241 - val_categorical_crossentropy: 1.3501 - lr: 0.0010\n",
      "Epoch 4/200\n",
      "147/147 [==============================] - 0s 2ms/step - loss: 0.2224 - categorical_crossentropy: 1.3184 - val_loss: 0.2215 - val_categorical_crossentropy: 1.3839 - lr: 0.0010\n",
      "Epoch 5/200\n",
      "147/147 [==============================] - 0s 2ms/step - loss: 0.2160 - categorical_crossentropy: 1.3011 - val_loss: 0.2184 - val_categorical_crossentropy: 1.3666 - lr: 0.0010\n",
      "Epoch 6/200\n",
      "129/147 [=========================>....] - ETA: 0s - loss: 0.2065 - categorical_crossentropy: 1.2712\n",
      "Epoch 6: ReduceLROnPlateau reducing learning rate to 0.00010000000474974513.\n",
      "147/147 [==============================] - 0s 2ms/step - loss: 0.2071 - categorical_crossentropy: 1.2747 - val_loss: 0.2184 - val_categorical_crossentropy: 1.3673 - lr: 0.0010\n",
      "Epoch 7/200\n",
      "147/147 [==============================] - 0s 2ms/step - loss: 0.1933 - categorical_crossentropy: 1.1946 - val_loss: 0.2170 - val_categorical_crossentropy: 1.3782 - lr: 1.0000e-04\n",
      "Epoch 8/200\n",
      "128/147 [=========================>....] - ETA: 0s - loss: 0.1929 - categorical_crossentropy: 1.2101\n",
      "Epoch 8: ReduceLROnPlateau reducing learning rate to 1.0000000474974514e-05.\n",
      "147/147 [==============================] - 0s 2ms/step - loss: 0.1924 - categorical_crossentropy: 1.2008 - val_loss: 0.2171 - val_categorical_crossentropy: 1.3847 - lr: 1.0000e-04\n",
      "Epoch 9/200\n",
      "130/147 [=========================>....] - ETA: 0s - loss: 0.1905 - categorical_crossentropy: 1.1880\n",
      "Epoch 9: ReduceLROnPlateau reducing learning rate to 1e-05.\n",
      "147/147 [==============================] - 0s 2ms/step - loss: 0.1898 - categorical_crossentropy: 1.1842 - val_loss: 0.2170 - val_categorical_crossentropy: 1.3844 - lr: 1.0000e-05\n",
      "Epoch 10/200\n",
      "147/147 [==============================] - 0s 2ms/step - loss: 0.1892 - categorical_crossentropy: 1.1856 - val_loss: 0.2169 - val_categorical_crossentropy: 1.3853 - lr: 1.0000e-05\n",
      "Epoch 11/200\n",
      "147/147 [==============================] - 0s 2ms/step - loss: 0.1896 - categorical_crossentropy: 1.1917 - val_loss: 0.2169 - val_categorical_crossentropy: 1.3861 - lr: 1.0000e-05\n",
      "Epoch 12/200\n",
      "147/147 [==============================] - 0s 2ms/step - loss: 0.1876 - categorical_crossentropy: 1.1737 - val_loss: 0.2169 - val_categorical_crossentropy: 1.3867 - lr: 1.0000e-05\n",
      "Epoch 13/200\n",
      "147/147 [==============================] - 0s 2ms/step - loss: 0.1891 - categorical_crossentropy: 1.1926 - val_loss: 0.2168 - val_categorical_crossentropy: 1.3871 - lr: 1.0000e-05\n",
      "Epoch 14/200\n",
      "147/147 [==============================] - 0s 2ms/step - loss: 0.1891 - categorical_crossentropy: 1.1903 - val_loss: 0.2168 - val_categorical_crossentropy: 1.3874 - lr: 1.0000e-05\n",
      "Epoch 15/200\n",
      "147/147 [==============================] - 0s 2ms/step - loss: 0.1884 - categorical_crossentropy: 1.1894 - val_loss: 0.2168 - val_categorical_crossentropy: 1.3878 - lr: 1.0000e-05\n",
      "Epoch 16/200\n",
      "147/147 [==============================] - 0s 2ms/step - loss: 0.1881 - categorical_crossentropy: 1.1815 - val_loss: 0.2168 - val_categorical_crossentropy: 1.3888 - lr: 1.0000e-05\n",
      "Epoch 17/200\n",
      "147/147 [==============================] - 0s 2ms/step - loss: 0.1888 - categorical_crossentropy: 1.1948 - val_loss: 0.2168 - val_categorical_crossentropy: 1.3887 - lr: 1.0000e-05\n",
      "Epoch 18/200\n",
      "147/147 [==============================] - 0s 2ms/step - loss: 0.1871 - categorical_crossentropy: 1.1866 - val_loss: 0.2168 - val_categorical_crossentropy: 1.3894 - lr: 1.0000e-05\n",
      "Epoch 19/200\n",
      "122/147 [=======================>......] - ETA: 0s - loss: 0.1895 - categorical_crossentropy: 1.2075Restoring model weights from the end of the best epoch: 14.\n",
      "147/147 [==============================] - 0s 2ms/step - loss: 0.1874 - categorical_crossentropy: 1.1908 - val_loss: 0.2168 - val_categorical_crossentropy: 1.3901 - lr: 1.0000e-05\n",
      "Epoch 19: early stopping\n",
      "0.2167590707540512\n",
      "39/39 [==============================] - 0s 885us/step\n",
      "#################\n",
      "\n",
      "\n",
      "2\n",
      "#################\n",
      "\n",
      "\n",
      "Epoch 1/200\n",
      "147/147 [==============================] - 1s 3ms/step - loss: 0.3210 - categorical_crossentropy: 1.6744 - val_loss: 0.2374 - val_categorical_crossentropy: 1.3092 - lr: 0.0010\n",
      "Epoch 2/200\n",
      "147/147 [==============================] - 0s 2ms/step - loss: 0.2488 - categorical_crossentropy: 1.4236 - val_loss: 0.2256 - val_categorical_crossentropy: 1.2798 - lr: 0.0010\n",
      "Epoch 3/200\n",
      "147/147 [==============================] - 0s 2ms/step - loss: 0.2338 - categorical_crossentropy: 1.3666 - val_loss: 0.2191 - val_categorical_crossentropy: 1.2632 - lr: 0.0010\n",
      "Epoch 4/200\n",
      "147/147 [==============================] - 0s 2ms/step - loss: 0.2251 - categorical_crossentropy: 1.3357 - val_loss: 0.2156 - val_categorical_crossentropy: 1.2705 - lr: 0.0010\n",
      "Epoch 5/200\n",
      "147/147 [==============================] - 0s 2ms/step - loss: 0.2162 - categorical_crossentropy: 1.3025 - val_loss: 0.2144 - val_categorical_crossentropy: 1.3085 - lr: 0.0010\n",
      "Epoch 6/200\n",
      "145/147 [============================>.] - ETA: 0s - loss: 0.2069 - categorical_crossentropy: 1.2701\n",
      "Epoch 6: ReduceLROnPlateau reducing learning rate to 0.00010000000474974513.\n",
      "147/147 [==============================] - 0s 2ms/step - loss: 0.2066 - categorical_crossentropy: 1.2684 - val_loss: 0.2156 - val_categorical_crossentropy: 1.3084 - lr: 0.0010\n",
      "Epoch 7/200\n",
      "147/147 [==============================] - 0s 2ms/step - loss: 0.1962 - categorical_crossentropy: 1.2244 - val_loss: 0.2133 - val_categorical_crossentropy: 1.3087 - lr: 1.0000e-04\n",
      "Epoch 8/200\n",
      "147/147 [==============================] - 0s 2ms/step - loss: 0.1924 - categorical_crossentropy: 1.2014 - val_loss: 0.2131 - val_categorical_crossentropy: 1.3169 - lr: 1.0000e-04\n",
      "Epoch 9/200\n",
      "147/147 [==============================] - 0s 2ms/step - loss: 0.1911 - categorical_crossentropy: 1.2018 - val_loss: 0.2125 - val_categorical_crossentropy: 1.3096 - lr: 1.0000e-04\n",
      "Epoch 10/200\n",
      "129/147 [=========================>....] - ETA: 0s - loss: 0.1913 - categorical_crossentropy: 1.2084\n",
      "Epoch 10: ReduceLROnPlateau reducing learning rate to 1.0000000474974514e-05.\n",
      "147/147 [==============================] - 0s 2ms/step - loss: 0.1905 - categorical_crossentropy: 1.2071 - val_loss: 0.2127 - val_categorical_crossentropy: 1.3114 - lr: 1.0000e-04\n",
      "Epoch 11/200\n",
      "126/147 [========================>.....] - ETA: 0s - loss: 0.1874 - categorical_crossentropy: 1.1759\n",
      "Epoch 11: ReduceLROnPlateau reducing learning rate to 1e-05.\n",
      "147/147 [==============================] - 0s 2ms/step - loss: 0.1884 - categorical_crossentropy: 1.1911 - val_loss: 0.2127 - val_categorical_crossentropy: 1.3122 - lr: 1.0000e-05\n",
      "Epoch 12/200\n",
      "147/147 [==============================] - 0s 2ms/step - loss: 0.1882 - categorical_crossentropy: 1.1949 - val_loss: 0.2127 - val_categorical_crossentropy: 1.3128 - lr: 1.0000e-05\n",
      "Epoch 13/200\n",
      "147/147 [==============================] - 0s 2ms/step - loss: 0.1875 - categorical_crossentropy: 1.1801 - val_loss: 0.2127 - val_categorical_crossentropy: 1.3135 - lr: 1.0000e-05\n",
      "Epoch 14/200\n",
      "124/147 [========================>.....] - ETA: 0s - loss: 0.1858 - categorical_crossentropy: 1.1712Restoring model weights from the end of the best epoch: 9.\n",
      "147/147 [==============================] - 0s 2ms/step - loss: 0.1881 - categorical_crossentropy: 1.1859 - val_loss: 0.2127 - val_categorical_crossentropy: 1.3147 - lr: 1.0000e-05\n",
      "Epoch 14: early stopping\n",
      "0.21249186992645264\n",
      "39/39 [==============================] - 0s 822us/step\n",
      "#################\n",
      "\n",
      "\n",
      "3\n",
      "#################\n",
      "\n",
      "\n",
      "Epoch 1/200\n",
      "147/147 [==============================] - 1s 3ms/step - loss: 0.3204 - categorical_crossentropy: 1.6589 - val_loss: 0.2479 - val_categorical_crossentropy: 1.3912 - lr: 0.0010\n",
      "Epoch 2/200\n",
      "147/147 [==============================] - 0s 2ms/step - loss: 0.2461 - categorical_crossentropy: 1.4142 - val_loss: 0.2351 - val_categorical_crossentropy: 1.3729 - lr: 0.0010\n",
      "Epoch 3/200\n",
      "147/147 [==============================] - 0s 2ms/step - loss: 0.2323 - categorical_crossentropy: 1.3743 - val_loss: 0.2311 - val_categorical_crossentropy: 1.3766 - lr: 0.0010\n",
      "Epoch 4/200\n",
      "127/147 [========================>.....] - ETA: 0s - loss: 0.2196 - categorical_crossentropy: 1.3065\n",
      "Epoch 4: ReduceLROnPlateau reducing learning rate to 0.00010000000474974513.\n",
      "147/147 [==============================] - 0s 2ms/step - loss: 0.2203 - categorical_crossentropy: 1.3195 - val_loss: 0.2320 - val_categorical_crossentropy: 1.4156 - lr: 0.0010\n",
      "Epoch 5/200\n",
      "147/147 [==============================] - 0s 2ms/step - loss: 0.2087 - categorical_crossentropy: 1.2665 - val_loss: 0.2285 - val_categorical_crossentropy: 1.3965 - lr: 1.0000e-04\n",
      "Epoch 6/200\n",
      "124/147 [========================>.....] - ETA: 0s - loss: 0.2060 - categorical_crossentropy: 1.2654\n",
      "Epoch 6: ReduceLROnPlateau reducing learning rate to 1.0000000474974514e-05.\n",
      "147/147 [==============================] - 0s 2ms/step - loss: 0.2065 - categorical_crossentropy: 1.2657 - val_loss: 0.2285 - val_categorical_crossentropy: 1.4049 - lr: 1.0000e-04\n",
      "Epoch 7/200\n",
      "126/147 [========================>.....] - ETA: 0s - loss: 0.2047 - categorical_crossentropy: 1.2527\n",
      "Epoch 7: ReduceLROnPlateau reducing learning rate to 1e-05.\n",
      "147/147 [==============================] - 0s 2ms/step - loss: 0.2038 - categorical_crossentropy: 1.2415 - val_loss: 0.2284 - val_categorical_crossentropy: 1.4044 - lr: 1.0000e-05\n",
      "Epoch 8/200\n",
      "147/147 [==============================] - 0s 2ms/step - loss: 0.2031 - categorical_crossentropy: 1.2398 - val_loss: 0.2284 - val_categorical_crossentropy: 1.4053 - lr: 1.0000e-05\n",
      "Epoch 9/200\n",
      "147/147 [==============================] - 0s 2ms/step - loss: 0.2033 - categorical_crossentropy: 1.2456 - val_loss: 0.2283 - val_categorical_crossentropy: 1.4043 - lr: 1.0000e-05\n",
      "Epoch 10/200\n",
      "147/147 [==============================] - 0s 2ms/step - loss: 0.2035 - categorical_crossentropy: 1.2537 - val_loss: 0.2282 - val_categorical_crossentropy: 1.4032 - lr: 1.0000e-05\n",
      "Epoch 11/200\n",
      "147/147 [==============================] - 0s 2ms/step - loss: 0.2030 - categorical_crossentropy: 1.2460 - val_loss: 0.2281 - val_categorical_crossentropy: 1.4036 - lr: 1.0000e-05\n",
      "Epoch 12/200\n",
      "147/147 [==============================] - 0s 2ms/step - loss: 0.2026 - categorical_crossentropy: 1.2434 - val_loss: 0.2281 - val_categorical_crossentropy: 1.4042 - lr: 1.0000e-05\n",
      "Epoch 13/200\n",
      "147/147 [==============================] - 0s 2ms/step - loss: 0.2018 - categorical_crossentropy: 1.2303 - val_loss: 0.2281 - val_categorical_crossentropy: 1.4047 - lr: 1.0000e-05\n",
      "Epoch 14/200\n",
      "147/147 [==============================] - 0s 2ms/step - loss: 0.2017 - categorical_crossentropy: 1.2455 - val_loss: 0.2281 - val_categorical_crossentropy: 1.4055 - lr: 1.0000e-05\n",
      "Epoch 15/200\n",
      "147/147 [==============================] - 0s 2ms/step - loss: 0.2008 - categorical_crossentropy: 1.2366 - val_loss: 0.2280 - val_categorical_crossentropy: 1.4050 - lr: 1.0000e-05\n",
      "Epoch 16/200\n",
      "147/147 [==============================] - 0s 2ms/step - loss: 0.2024 - categorical_crossentropy: 1.2369 - val_loss: 0.2280 - val_categorical_crossentropy: 1.4058 - lr: 1.0000e-05\n",
      "Epoch 17/200\n",
      "147/147 [==============================] - 0s 2ms/step - loss: 0.2011 - categorical_crossentropy: 1.2336 - val_loss: 0.2279 - val_categorical_crossentropy: 1.4049 - lr: 1.0000e-05\n",
      "Epoch 18/200\n",
      "147/147 [==============================] - 0s 2ms/step - loss: 0.2018 - categorical_crossentropy: 1.2400 - val_loss: 0.2279 - val_categorical_crossentropy: 1.4058 - lr: 1.0000e-05\n",
      "Epoch 19/200\n",
      "147/147 [==============================] - 0s 2ms/step - loss: 0.2018 - categorical_crossentropy: 1.2433 - val_loss: 0.2279 - val_categorical_crossentropy: 1.4053 - lr: 1.0000e-05\n",
      "Epoch 20/200\n",
      "147/147 [==============================] - 0s 2ms/step - loss: 0.2024 - categorical_crossentropy: 1.2399 - val_loss: 0.2280 - val_categorical_crossentropy: 1.4074 - lr: 1.0000e-05\n",
      "Epoch 21/200\n",
      "147/147 [==============================] - 0s 2ms/step - loss: 0.2012 - categorical_crossentropy: 1.2405 - val_loss: 0.2279 - val_categorical_crossentropy: 1.4080 - lr: 1.0000e-05\n",
      "Epoch 22/200\n",
      "147/147 [==============================] - 0s 2ms/step - loss: 0.2017 - categorical_crossentropy: 1.2452 - val_loss: 0.2279 - val_categorical_crossentropy: 1.4079 - lr: 1.0000e-05\n",
      "Epoch 23/200\n",
      "147/147 [==============================] - 0s 2ms/step - loss: 0.2006 - categorical_crossentropy: 1.2424 - val_loss: 0.2279 - val_categorical_crossentropy: 1.4076 - lr: 1.0000e-05\n",
      "Epoch 24/200\n",
      "147/147 [==============================] - 0s 2ms/step - loss: 0.2016 - categorical_crossentropy: 1.2424 - val_loss: 0.2278 - val_categorical_crossentropy: 1.4072 - lr: 1.0000e-05\n",
      "Epoch 25/200\n",
      "147/147 [==============================] - 0s 2ms/step - loss: 0.2003 - categorical_crossentropy: 1.2313 - val_loss: 0.2278 - val_categorical_crossentropy: 1.4080 - lr: 1.0000e-05\n",
      "Epoch 26/200\n",
      "147/147 [==============================] - 0s 2ms/step - loss: 0.2018 - categorical_crossentropy: 1.2428 - val_loss: 0.2278 - val_categorical_crossentropy: 1.4081 - lr: 1.0000e-05\n",
      "Epoch 27/200\n",
      "147/147 [==============================] - 0s 2ms/step - loss: 0.2016 - categorical_crossentropy: 1.2422 - val_loss: 0.2277 - val_categorical_crossentropy: 1.4071 - lr: 1.0000e-05\n",
      "Epoch 28/200\n",
      "147/147 [==============================] - 0s 2ms/step - loss: 0.2013 - categorical_crossentropy: 1.2415 - val_loss: 0.2277 - val_categorical_crossentropy: 1.4078 - lr: 1.0000e-05\n",
      "Epoch 29/200\n",
      "147/147 [==============================] - 0s 2ms/step - loss: 0.1988 - categorical_crossentropy: 1.2279 - val_loss: 0.2277 - val_categorical_crossentropy: 1.4083 - lr: 1.0000e-05\n",
      "Epoch 30/200\n",
      "147/147 [==============================] - 0s 2ms/step - loss: 0.2002 - categorical_crossentropy: 1.2322 - val_loss: 0.2277 - val_categorical_crossentropy: 1.4097 - lr: 1.0000e-05\n",
      "Epoch 31/200\n",
      "147/147 [==============================] - 0s 2ms/step - loss: 0.1995 - categorical_crossentropy: 1.2342 - val_loss: 0.2278 - val_categorical_crossentropy: 1.4108 - lr: 1.0000e-05\n",
      "Epoch 32/200\n",
      "147/147 [==============================] - 0s 2ms/step - loss: 0.1997 - categorical_crossentropy: 1.2371 - val_loss: 0.2277 - val_categorical_crossentropy: 1.4107 - lr: 1.0000e-05\n",
      "Epoch 33/200\n",
      "147/147 [==============================] - 0s 2ms/step - loss: 0.2003 - categorical_crossentropy: 1.2388 - val_loss: 0.2277 - val_categorical_crossentropy: 1.4109 - lr: 1.0000e-05\n",
      "Epoch 34/200\n",
      "130/147 [=========================>....] - ETA: 0s - loss: 0.2000 - categorical_crossentropy: 1.2363Restoring model weights from the end of the best epoch: 29.\n",
      "147/147 [==============================] - 0s 2ms/step - loss: 0.1990 - categorical_crossentropy: 1.2318 - val_loss: 0.2278 - val_categorical_crossentropy: 1.4122 - lr: 1.0000e-05\n",
      "Epoch 34: early stopping\n",
      "0.22768546640872955\n",
      "39/39 [==============================] - 0s 751us/step\n",
      "#################\n",
      "\n",
      "\n",
      "4\n",
      "#################\n",
      "\n",
      "\n",
      "Epoch 1/200\n",
      "147/147 [==============================] - 1s 3ms/step - loss: 0.3163 - categorical_crossentropy: 1.6343 - val_loss: 0.2401 - val_categorical_crossentropy: 1.3614 - lr: 0.0010\n",
      "Epoch 2/200\n",
      "147/147 [==============================] - 0s 2ms/step - loss: 0.2443 - categorical_crossentropy: 1.3993 - val_loss: 0.2304 - val_categorical_crossentropy: 1.3355 - lr: 0.0010\n",
      "Epoch 3/200\n",
      "147/147 [==============================] - 0s 2ms/step - loss: 0.2310 - categorical_crossentropy: 1.3444 - val_loss: 0.2291 - val_categorical_crossentropy: 1.3475 - lr: 0.0010\n",
      "Epoch 4/200\n",
      "147/147 [==============================] - 0s 2ms/step - loss: 0.2214 - categorical_crossentropy: 1.3157 - val_loss: 0.2256 - val_categorical_crossentropy: 1.3705 - lr: 0.0010\n",
      "Epoch 5/200\n",
      "129/147 [=========================>....] - ETA: 0s - loss: 0.2115 - categorical_crossentropy: 1.2822\n",
      "Epoch 5: ReduceLROnPlateau reducing learning rate to 0.00010000000474974513.\n",
      "147/147 [==============================] - 0s 2ms/step - loss: 0.2123 - categorical_crossentropy: 1.2833 - val_loss: 0.2258 - val_categorical_crossentropy: 1.3821 - lr: 0.0010\n"
     ]
    },
    {
     "name": "stdout",
     "output_type": "stream",
     "text": [
      "Epoch 6/200\n",
      "147/147 [==============================] - 0s 2ms/step - loss: 0.2024 - categorical_crossentropy: 1.2266 - val_loss: 0.2243 - val_categorical_crossentropy: 1.3897 - lr: 1.0000e-04\n",
      "Epoch 7/200\n",
      "147/147 [==============================] - 0s 2ms/step - loss: 0.1999 - categorical_crossentropy: 1.2224 - val_loss: 0.2237 - val_categorical_crossentropy: 1.3961 - lr: 1.0000e-04\n",
      "Epoch 8/200\n",
      "132/147 [=========================>....] - ETA: 0s - loss: 0.1958 - categorical_crossentropy: 1.2146\n",
      "Epoch 8: ReduceLROnPlateau reducing learning rate to 1.0000000474974514e-05.\n",
      "147/147 [==============================] - 0s 2ms/step - loss: 0.1964 - categorical_crossentropy: 1.2152 - val_loss: 0.2240 - val_categorical_crossentropy: 1.4011 - lr: 1.0000e-04\n",
      "Epoch 9/200\n",
      "130/147 [=========================>....] - ETA: 0s - loss: 0.1959 - categorical_crossentropy: 1.2137\n",
      "Epoch 9: ReduceLROnPlateau reducing learning rate to 1e-05.\n",
      "147/147 [==============================] - 0s 2ms/step - loss: 0.1949 - categorical_crossentropy: 1.2095 - val_loss: 0.2238 - val_categorical_crossentropy: 1.4015 - lr: 1.0000e-05\n",
      "Epoch 10/200\n",
      "147/147 [==============================] - 0s 2ms/step - loss: 0.1953 - categorical_crossentropy: 1.2068 - val_loss: 0.2238 - val_categorical_crossentropy: 1.4018 - lr: 1.0000e-05\n",
      "Epoch 11/200\n",
      "147/147 [==============================] - 0s 2ms/step - loss: 0.1939 - categorical_crossentropy: 1.2057 - val_loss: 0.2237 - val_categorical_crossentropy: 1.4023 - lr: 1.0000e-05\n",
      "Epoch 12/200\n",
      "132/147 [=========================>....] - ETA: 0s - loss: 0.1950 - categorical_crossentropy: 1.2200Restoring model weights from the end of the best epoch: 7.\n",
      "147/147 [==============================] - 0s 2ms/step - loss: 0.1945 - categorical_crossentropy: 1.2129 - val_loss: 0.2237 - val_categorical_crossentropy: 1.4027 - lr: 1.0000e-05\n",
      "Epoch 12: early stopping\n",
      "0.22370724380016327\n",
      "39/39 [==============================] - 0s 717us/step\n",
      "#################\n",
      "\n",
      "\n",
      "5\n",
      "#################\n",
      "\n",
      "\n",
      "Epoch 1/200\n",
      "147/147 [==============================] - 1s 3ms/step - loss: 0.3256 - categorical_crossentropy: 1.6623 - val_loss: 0.2357 - val_categorical_crossentropy: 1.3175 - lr: 0.0010\n",
      "Epoch 2/200\n",
      "147/147 [==============================] - 0s 2ms/step - loss: 0.2470 - categorical_crossentropy: 1.4146 - val_loss: 0.2273 - val_categorical_crossentropy: 1.2692 - lr: 0.0010\n",
      "Epoch 3/200\n",
      "147/147 [==============================] - 0s 2ms/step - loss: 0.2326 - categorical_crossentropy: 1.3606 - val_loss: 0.2204 - val_categorical_crossentropy: 1.2853 - lr: 0.0010\n",
      "Epoch 4/200\n",
      "147/147 [==============================] - 0s 2ms/step - loss: 0.2235 - categorical_crossentropy: 1.3258 - val_loss: 0.2201 - val_categorical_crossentropy: 1.2966 - lr: 0.0010\n",
      "Epoch 5/200\n",
      "147/147 [==============================] - 0s 2ms/step - loss: 0.2152 - categorical_crossentropy: 1.2997 - val_loss: 0.2191 - val_categorical_crossentropy: 1.2893 - lr: 0.0010\n",
      "Epoch 6/200\n",
      "147/147 [==============================] - 0s 2ms/step - loss: 0.2073 - categorical_crossentropy: 1.2689 - val_loss: 0.2155 - val_categorical_crossentropy: 1.2904 - lr: 0.0010\n",
      "Epoch 7/200\n",
      "147/147 [==============================] - 0s 2ms/step - loss: 0.1996 - categorical_crossentropy: 1.2416 - val_loss: 0.2151 - val_categorical_crossentropy: 1.3128 - lr: 0.0010\n",
      "Epoch 8/200\n",
      "128/147 [=========================>....] - ETA: 0s - loss: 0.1882 - categorical_crossentropy: 1.1919\n",
      "Epoch 8: ReduceLROnPlateau reducing learning rate to 0.00010000000474974513.\n",
      "147/147 [==============================] - 0s 2ms/step - loss: 0.1899 - categorical_crossentropy: 1.2139 - val_loss: 0.2204 - val_categorical_crossentropy: 1.3989 - lr: 0.0010\n",
      "Epoch 9/200\n",
      "127/147 [========================>.....] - ETA: 0s - loss: 0.1778 - categorical_crossentropy: 1.1588\n",
      "Epoch 9: ReduceLROnPlateau reducing learning rate to 1.0000000474974514e-05.\n",
      "147/147 [==============================] - 0s 2ms/step - loss: 0.1778 - categorical_crossentropy: 1.1626 - val_loss: 0.2170 - val_categorical_crossentropy: 1.3778 - lr: 1.0000e-04\n",
      "Epoch 10/200\n",
      "120/147 [=======================>......] - ETA: 0s - loss: 0.1752 - categorical_crossentropy: 1.1581\n",
      "Epoch 10: ReduceLROnPlateau reducing learning rate to 1e-05.\n",
      "147/147 [==============================] - 0s 2ms/step - loss: 0.1752 - categorical_crossentropy: 1.1501 - val_loss: 0.2169 - val_categorical_crossentropy: 1.3775 - lr: 1.0000e-05\n",
      "Epoch 11/200\n",
      "147/147 [==============================] - 0s 2ms/step - loss: 0.1753 - categorical_crossentropy: 1.1515 - val_loss: 0.2169 - val_categorical_crossentropy: 1.3772 - lr: 1.0000e-05\n",
      "Epoch 12/200\n",
      "126/147 [========================>.....] - ETA: 0s - loss: 0.1711 - categorical_crossentropy: 1.1229Restoring model weights from the end of the best epoch: 7.\n",
      "147/147 [==============================] - 0s 2ms/step - loss: 0.1723 - categorical_crossentropy: 1.1358 - val_loss: 0.2169 - val_categorical_crossentropy: 1.3786 - lr: 1.0000e-05\n",
      "Epoch 12: early stopping\n",
      "0.21507827937602997\n",
      "39/39 [==============================] - 0s 813us/step\n"
     ]
    }
   ],
   "source": [
    "skf = KFold(n_splits=5, shuffle=True, random_state=42)\n",
    "Final_Subbmission = []\n",
    "val_loss_print = []\n",
    "i=1\n",
    "for train_index, test_index in skf.split(x_train_val,y_train_val):\n",
    "    keras.backend.clear_session()\n",
    "    print('#################\\n\\n')\n",
    "    print(i)\n",
    "    print('#################\\n\\n')\n",
    "    X_train, X_test = x_train_val[train_index], x_train_val[test_index]\n",
    "    y_train, y_test = y_train_val.iloc[train_index], y_train_val.iloc[test_index]\n",
    "    model = final_model()\n",
    "    val_ds = (X_test,y_test)\n",
    "    reduce_lr = ReduceLROnPlateau(monitor='val_loss', factor=0.1,patience=1,min_lr=1e-05,verbose=1)\n",
    "    early_stoping = EarlyStopping(monitor=\"val_loss\",min_delta=0,patience=5,verbose=1,mode=\"auto\", baseline=None,restore_best_weights=True)\n",
    "    model.compile(loss='binary_crossentropy',metrics='categorical_crossentropy', optimizer='Adam')\n",
    "    histroy = model.fit(X_train,y_train, validation_data=val_ds,epochs=200,callbacks=[reduce_lr,early_stoping],verbose=1,batch_size=34)\n",
    "    print(min(histroy.history['val_loss']))\n",
    "    val_loss_print.append(min(histroy.history['val_loss']))\n",
    "    Test_seq_pred = model.predict(X_test)\n",
    "    Final_Subbmission.append(Test_seq_pred)\n",
    "    i=i+1"
   ]
  },
  {
   "cell_type": "markdown",
   "id": "b6118b86",
   "metadata": {},
   "source": [
    "##### This cross-validation method will generate 5 different sets of probability for each class of the Test dataset. Now, we will take the mean of these probabilities."
   ]
  },
  {
   "cell_type": "code",
   "execution_count": 47,
   "id": "95544e3f",
   "metadata": {},
   "outputs": [],
   "source": [
    "Test_prob =np.mean(Final_Subbmission,0)\n",
    "Test_prob = pd.DataFrame(Test_prob)\n",
    "Test_prob.columns = labels.columns"
   ]
  },
  {
   "cell_type": "code",
   "execution_count": 48,
   "id": "b6565e30",
   "metadata": {},
   "outputs": [
    {
     "data": {
      "text/html": [
       "<div>\n",
       "<style scoped>\n",
       "    .dataframe tbody tr th:only-of-type {\n",
       "        vertical-align: middle;\n",
       "    }\n",
       "\n",
       "    .dataframe tbody tr th {\n",
       "        vertical-align: top;\n",
       "    }\n",
       "\n",
       "    .dataframe thead th {\n",
       "        text-align: right;\n",
       "    }\n",
       "</style>\n",
       "<table border=\"1\" class=\"dataframe\">\n",
       "  <thead>\n",
       "    <tr style=\"text-align: right;\">\n",
       "      <th></th>\n",
       "      <th>anger</th>\n",
       "      <th>disgust</th>\n",
       "      <th>fear</th>\n",
       "      <th>sadness</th>\n",
       "      <th>surprise</th>\n",
       "      <th>happiness</th>\n",
       "      <th>neutral</th>\n",
       "    </tr>\n",
       "  </thead>\n",
       "  <tbody>\n",
       "    <tr>\n",
       "      <th>0</th>\n",
       "      <td>0.261589</td>\n",
       "      <td>0.230399</td>\n",
       "      <td>0.064347</td>\n",
       "      <td>0.416721</td>\n",
       "      <td>0.223456</td>\n",
       "      <td>0.060732</td>\n",
       "      <td>0.205545</td>\n",
       "    </tr>\n",
       "    <tr>\n",
       "      <th>1</th>\n",
       "      <td>0.186257</td>\n",
       "      <td>0.185722</td>\n",
       "      <td>0.011341</td>\n",
       "      <td>0.057842</td>\n",
       "      <td>0.122395</td>\n",
       "      <td>0.053877</td>\n",
       "      <td>0.603632</td>\n",
       "    </tr>\n",
       "    <tr>\n",
       "      <th>2</th>\n",
       "      <td>0.069050</td>\n",
       "      <td>0.062409</td>\n",
       "      <td>0.014226</td>\n",
       "      <td>0.042698</td>\n",
       "      <td>0.064217</td>\n",
       "      <td>0.040775</td>\n",
       "      <td>0.813548</td>\n",
       "    </tr>\n",
       "    <tr>\n",
       "      <th>3</th>\n",
       "      <td>0.035887</td>\n",
       "      <td>0.039771</td>\n",
       "      <td>0.100406</td>\n",
       "      <td>0.175938</td>\n",
       "      <td>0.215512</td>\n",
       "      <td>0.014589</td>\n",
       "      <td>0.601513</td>\n",
       "    </tr>\n",
       "    <tr>\n",
       "      <th>4</th>\n",
       "      <td>0.169790</td>\n",
       "      <td>0.147051</td>\n",
       "      <td>0.016539</td>\n",
       "      <td>0.320063</td>\n",
       "      <td>0.142203</td>\n",
       "      <td>0.014572</td>\n",
       "      <td>0.417185</td>\n",
       "    </tr>\n",
       "    <tr>\n",
       "      <th>...</th>\n",
       "      <td>...</td>\n",
       "      <td>...</td>\n",
       "      <td>...</td>\n",
       "      <td>...</td>\n",
       "      <td>...</td>\n",
       "      <td>...</td>\n",
       "      <td>...</td>\n",
       "    </tr>\n",
       "    <tr>\n",
       "      <th>1243</th>\n",
       "      <td>0.077661</td>\n",
       "      <td>0.096712</td>\n",
       "      <td>0.027091</td>\n",
       "      <td>0.309360</td>\n",
       "      <td>0.391675</td>\n",
       "      <td>0.206391</td>\n",
       "      <td>0.183498</td>\n",
       "    </tr>\n",
       "    <tr>\n",
       "      <th>1244</th>\n",
       "      <td>0.003806</td>\n",
       "      <td>0.002607</td>\n",
       "      <td>0.017369</td>\n",
       "      <td>0.463056</td>\n",
       "      <td>0.184275</td>\n",
       "      <td>0.046781</td>\n",
       "      <td>0.399580</td>\n",
       "    </tr>\n",
       "    <tr>\n",
       "      <th>1245</th>\n",
       "      <td>0.043842</td>\n",
       "      <td>0.045124</td>\n",
       "      <td>0.008829</td>\n",
       "      <td>0.251420</td>\n",
       "      <td>0.232367</td>\n",
       "      <td>0.059001</td>\n",
       "      <td>0.420911</td>\n",
       "    </tr>\n",
       "    <tr>\n",
       "      <th>1246</th>\n",
       "      <td>0.134483</td>\n",
       "      <td>0.130710</td>\n",
       "      <td>0.033530</td>\n",
       "      <td>0.214039</td>\n",
       "      <td>0.411358</td>\n",
       "      <td>0.192771</td>\n",
       "      <td>0.202842</td>\n",
       "    </tr>\n",
       "    <tr>\n",
       "      <th>1247</th>\n",
       "      <td>0.027757</td>\n",
       "      <td>0.025084</td>\n",
       "      <td>0.328578</td>\n",
       "      <td>0.418417</td>\n",
       "      <td>0.397284</td>\n",
       "      <td>0.176746</td>\n",
       "      <td>0.004863</td>\n",
       "    </tr>\n",
       "  </tbody>\n",
       "</table>\n",
       "<p>1248 rows × 7 columns</p>\n",
       "</div>"
      ],
      "text/plain": [
       "         anger   disgust      fear   sadness  surprise  happiness   neutral\n",
       "0     0.261589  0.230399  0.064347  0.416721  0.223456   0.060732  0.205545\n",
       "1     0.186257  0.185722  0.011341  0.057842  0.122395   0.053877  0.603632\n",
       "2     0.069050  0.062409  0.014226  0.042698  0.064217   0.040775  0.813548\n",
       "3     0.035887  0.039771  0.100406  0.175938  0.215512   0.014589  0.601513\n",
       "4     0.169790  0.147051  0.016539  0.320063  0.142203   0.014572  0.417185\n",
       "...        ...       ...       ...       ...       ...        ...       ...\n",
       "1243  0.077661  0.096712  0.027091  0.309360  0.391675   0.206391  0.183498\n",
       "1244  0.003806  0.002607  0.017369  0.463056  0.184275   0.046781  0.399580\n",
       "1245  0.043842  0.045124  0.008829  0.251420  0.232367   0.059001  0.420911\n",
       "1246  0.134483  0.130710  0.033530  0.214039  0.411358   0.192771  0.202842\n",
       "1247  0.027757  0.025084  0.328578  0.418417  0.397284   0.176746  0.004863\n",
       "\n",
       "[1248 rows x 7 columns]"
      ]
     },
     "execution_count": 48,
     "metadata": {},
     "output_type": "execute_result"
    }
   ],
   "source": [
    "Test_prob"
   ]
  },
  {
   "cell_type": "markdown",
   "id": "a7150d45",
   "metadata": {},
   "source": [
    "### Using Mean Average Precision (MAP) to measure the model performance "
   ]
  },
  {
   "cell_type": "code",
   "execution_count": 54,
   "id": "7bf84318",
   "metadata": {},
   "outputs": [
    {
     "name": "stdout",
     "output_type": "stream",
     "text": [
      "weighted: 0.43 \n"
     ]
    }
   ],
   "source": [
    "from sklearn.metrics import average_precision_score\n",
    "test_y1 = y_test.reset_index(drop=True)\n",
    "print(\"weighted: {:.2f} \".format(average_precision_score(test_y1, Test_prob, average='weighted')))"
   ]
  },
  {
   "cell_type": "markdown",
   "id": "3dc052a4",
   "metadata": {},
   "source": [
    "## WORKING ON THE TEST DATA "
   ]
  },
  {
   "cell_type": "code",
   "execution_count": 55,
   "id": "3dbfe6f4",
   "metadata": {},
   "outputs": [
    {
     "data": {
      "text/html": [
       "<div>\n",
       "<style scoped>\n",
       "    .dataframe tbody tr th:only-of-type {\n",
       "        vertical-align: middle;\n",
       "    }\n",
       "\n",
       "    .dataframe tbody tr th {\n",
       "        vertical-align: top;\n",
       "    }\n",
       "\n",
       "    .dataframe thead th {\n",
       "        text-align: right;\n",
       "    }\n",
       "</style>\n",
       "<table border=\"1\" class=\"dataframe\">\n",
       "  <thead>\n",
       "    <tr style=\"text-align: right;\">\n",
       "      <th></th>\n",
       "      <th>anger</th>\n",
       "      <th>disgust</th>\n",
       "      <th>fear</th>\n",
       "      <th>sadness</th>\n",
       "      <th>surprise</th>\n",
       "      <th>happiness</th>\n",
       "      <th>neutral</th>\n",
       "      <th>Sentences</th>\n",
       "    </tr>\n",
       "  </thead>\n",
       "  <tbody>\n",
       "    <tr>\n",
       "      <th>0</th>\n",
       "      <td>0</td>\n",
       "      <td>0</td>\n",
       "      <td>0</td>\n",
       "      <td>1</td>\n",
       "      <td>0</td>\n",
       "      <td>0</td>\n",
       "      <td>0</td>\n",
       "      <td>بچھڑنے والوں کا کیسے نہ غم کِیا جائے یہ بَوجھ ...</td>\n",
       "    </tr>\n",
       "    <tr>\n",
       "      <th>1</th>\n",
       "      <td>0</td>\n",
       "      <td>0</td>\n",
       "      <td>0</td>\n",
       "      <td>0</td>\n",
       "      <td>0</td>\n",
       "      <td>0</td>\n",
       "      <td>1</td>\n",
       "      <td>اس خوفناک اذیت تشدد overlong گندگی میں بدترین ...</td>\n",
       "    </tr>\n",
       "    <tr>\n",
       "      <th>2</th>\n",
       "      <td>0</td>\n",
       "      <td>0</td>\n",
       "      <td>0</td>\n",
       "      <td>0</td>\n",
       "      <td>0</td>\n",
       "      <td>0</td>\n",
       "      <td>1</td>\n",
       "      <td>تمام ناقص جاز رپ آف کے lousiest افسوس میری ہر ...</td>\n",
       "    </tr>\n",
       "    <tr>\n",
       "      <th>3</th>\n",
       "      <td>0</td>\n",
       "      <td>0</td>\n",
       "      <td>0</td>\n",
       "      <td>0</td>\n",
       "      <td>0</td>\n",
       "      <td>0</td>\n",
       "      <td>1</td>\n",
       "      <td>اس فلم کے ساتھ راجر ایوری اور کوئنتن تارتانتین...</td>\n",
       "    </tr>\n",
       "    <tr>\n",
       "      <th>4</th>\n",
       "      <td>0</td>\n",
       "      <td>0</td>\n",
       "      <td>0</td>\n",
       "      <td>0</td>\n",
       "      <td>0</td>\n",
       "      <td>0</td>\n",
       "      <td>1</td>\n",
       "      <td>1930s کے جنگلی جانوروں، غیر ملکی خطوں اور غیر ...</td>\n",
       "    </tr>\n",
       "    <tr>\n",
       "      <th>...</th>\n",
       "      <td>...</td>\n",
       "      <td>...</td>\n",
       "      <td>...</td>\n",
       "      <td>...</td>\n",
       "      <td>...</td>\n",
       "      <td>...</td>\n",
       "      <td>...</td>\n",
       "      <td>...</td>\n",
       "    </tr>\n",
       "    <tr>\n",
       "      <th>1945</th>\n",
       "      <td>0</td>\n",
       "      <td>0</td>\n",
       "      <td>0</td>\n",
       "      <td>0</td>\n",
       "      <td>1</td>\n",
       "      <td>0</td>\n",
       "      <td>0</td>\n",
       "      <td>بڑا حوصلہ ہے نرسری کے بچے تو بہت چھوٹے ہوتے ہی...</td>\n",
       "    </tr>\n",
       "    <tr>\n",
       "      <th>1946</th>\n",
       "      <td>0</td>\n",
       "      <td>0</td>\n",
       "      <td>0</td>\n",
       "      <td>0</td>\n",
       "      <td>0</td>\n",
       "      <td>0</td>\n",
       "      <td>1</td>\n",
       "      <td>اسی فلم کے تین دیگر ورژن میں نے دیکھا، میں نے ...</td>\n",
       "    </tr>\n",
       "    <tr>\n",
       "      <th>1947</th>\n",
       "      <td>0</td>\n",
       "      <td>0</td>\n",
       "      <td>0</td>\n",
       "      <td>1</td>\n",
       "      <td>0</td>\n",
       "      <td>0</td>\n",
       "      <td>0</td>\n",
       "      <td>یونہی بس بول دیتا ہوں طبیعت ٹھیک ہے وگرنہ وہ ا...</td>\n",
       "    </tr>\n",
       "    <tr>\n",
       "      <th>1948</th>\n",
       "      <td>0</td>\n",
       "      <td>0</td>\n",
       "      <td>0</td>\n",
       "      <td>1</td>\n",
       "      <td>1</td>\n",
       "      <td>1</td>\n",
       "      <td>0</td>\n",
       "      <td>کبھی خوشیکبھی غم 😢</td>\n",
       "    </tr>\n",
       "    <tr>\n",
       "      <th>1949</th>\n",
       "      <td>0</td>\n",
       "      <td>0</td>\n",
       "      <td>0</td>\n",
       "      <td>0</td>\n",
       "      <td>0</td>\n",
       "      <td>0</td>\n",
       "      <td>1</td>\n",
       "      <td>ناقدین کی طرح میرے ایک دوست اس وغیرہ \"آپ کا دل...</td>\n",
       "    </tr>\n",
       "  </tbody>\n",
       "</table>\n",
       "<p>1950 rows × 8 columns</p>\n",
       "</div>"
      ],
      "text/plain": [
       "      anger  disgust  fear  sadness  surprise  happiness  neutral  \\\n",
       "0         0        0     0        1         0          0        0   \n",
       "1         0        0     0        0         0          0        1   \n",
       "2         0        0     0        0         0          0        1   \n",
       "3         0        0     0        0         0          0        1   \n",
       "4         0        0     0        0         0          0        1   \n",
       "...     ...      ...   ...      ...       ...        ...      ...   \n",
       "1945      0        0     0        0         1          0        0   \n",
       "1946      0        0     0        0         0          0        1   \n",
       "1947      0        0     0        1         0          0        0   \n",
       "1948      0        0     0        1         1          1        0   \n",
       "1949      0        0     0        0         0          0        1   \n",
       "\n",
       "                                              Sentences  \n",
       "0     بچھڑنے والوں کا کیسے نہ غم کِیا جائے یہ بَوجھ ...  \n",
       "1     اس خوفناک اذیت تشدد overlong گندگی میں بدترین ...  \n",
       "2     تمام ناقص جاز رپ آف کے lousiest افسوس میری ہر ...  \n",
       "3     اس فلم کے ساتھ راجر ایوری اور کوئنتن تارتانتین...  \n",
       "4     1930s کے جنگلی جانوروں، غیر ملکی خطوں اور غیر ...  \n",
       "...                                                 ...  \n",
       "1945  بڑا حوصلہ ہے نرسری کے بچے تو بہت چھوٹے ہوتے ہی...  \n",
       "1946  اسی فلم کے تین دیگر ورژن میں نے دیکھا، میں نے ...  \n",
       "1947  یونہی بس بول دیتا ہوں طبیعت ٹھیک ہے وگرنہ وہ ا...  \n",
       "1948                                 کبھی خوشیکبھی غم 😢  \n",
       "1949  ناقدین کی طرح میرے ایک دوست اس وغیرہ \"آپ کا دل...  \n",
       "\n",
       "[1950 rows x 8 columns]"
      ]
     },
     "metadata": {},
     "output_type": "display_data"
    }
   ],
   "source": [
    "df_test=pd.read_csv(\"test_set_taskA_labelled - test_set_Fire2022_labelled.csv\")\n",
    "display(df_test)"
   ]
  },
  {
   "cell_type": "code",
   "execution_count": 56,
   "id": "a1da23a2",
   "metadata": {},
   "outputs": [],
   "source": [
    "#tranforming the Sentence Columns to remove emojis and english alphabets \n",
    "emoj = re.compile(\"[\"\n",
    "        u\"\\U0001F600-\\U0001F64F\"  # emoticons\n",
    "        u\"\\U0001F300-\\U0001F5FF\"  # symbols & pictographs\n",
    "        u\"\\U0001F680-\\U0001F6FF\"  # transport & map symbols\n",
    "        u\"\\U0001F1E0-\\U0001F1FF\"  # flags (iOS)\n",
    "        u\"\\U00002500-\\U00002BEF\"  # chinese char\n",
    "        u\"\\U00002702-\\U000027B0\"\n",
    "        u\"\\U00002702-\\U000027B0\"\n",
    "        u\"\\U000024C2-\\U0001F251\"\n",
    "        u\"\\U0001f926-\\U0001f937\"\n",
    "        u\"\\U00010000-\\U0010ffff\"\n",
    "        u\"\\u2640-\\u2642\" \n",
    "        u\"\\u2600-\\u2B55\"\n",
    "        u\"\\u200d\"\n",
    "        u\"\\u23cf\"\n",
    "        u\"\\u23e9\"\n",
    "        u\"\\u231a\"\n",
    "        u\"\\ufe0f\"  # dingbats\n",
    "        u\"\\u3030\"\n",
    "                  \"]+\", re.UNICODE)\n",
    "df_test[\"Clean_Sentences\"]=df_test[\"Sentences\"].apply(lambda x:re.sub(emoj, '', x))\n",
    "df_test[\"Clean_Sentences\"]=df_test[\"Sentences\"].apply(lambda x:re.sub(r\"[A-Za-z0-9@;:]\", \"\", x, flags=re.UNICODE) )\n"
   ]
  },
  {
   "cell_type": "code",
   "execution_count": 57,
   "id": "0b03e581",
   "metadata": {},
   "outputs": [
    {
     "data": {
      "text/html": [
       "<div>\n",
       "<style scoped>\n",
       "    .dataframe tbody tr th:only-of-type {\n",
       "        vertical-align: middle;\n",
       "    }\n",
       "\n",
       "    .dataframe tbody tr th {\n",
       "        vertical-align: top;\n",
       "    }\n",
       "\n",
       "    .dataframe thead th {\n",
       "        text-align: right;\n",
       "    }\n",
       "</style>\n",
       "<table border=\"1\" class=\"dataframe\">\n",
       "  <thead>\n",
       "    <tr style=\"text-align: right;\">\n",
       "      <th></th>\n",
       "      <th>anger</th>\n",
       "      <th>disgust</th>\n",
       "      <th>fear</th>\n",
       "      <th>sadness</th>\n",
       "      <th>surprise</th>\n",
       "      <th>happiness</th>\n",
       "      <th>neutral</th>\n",
       "      <th>Sentences</th>\n",
       "      <th>Clean_Sentences</th>\n",
       "    </tr>\n",
       "  </thead>\n",
       "  <tbody>\n",
       "    <tr>\n",
       "      <th>0</th>\n",
       "      <td>0</td>\n",
       "      <td>0</td>\n",
       "      <td>0</td>\n",
       "      <td>1</td>\n",
       "      <td>0</td>\n",
       "      <td>0</td>\n",
       "      <td>0</td>\n",
       "      <td>بچھڑنے والوں کا کیسے نہ غم کِیا جائے یہ بَوجھ ...</td>\n",
       "      <td>بچھڑنے والوں کا کیسے نہ غم کِیا جائے یہ بَوجھ ...</td>\n",
       "    </tr>\n",
       "    <tr>\n",
       "      <th>1</th>\n",
       "      <td>0</td>\n",
       "      <td>0</td>\n",
       "      <td>0</td>\n",
       "      <td>0</td>\n",
       "      <td>0</td>\n",
       "      <td>0</td>\n",
       "      <td>1</td>\n",
       "      <td>اس خوفناک اذیت تشدد overlong گندگی میں بدترین ...</td>\n",
       "      <td>اس خوفناک اذیت تشدد  گندگی میں بدترین ڈی   کی ...</td>\n",
       "    </tr>\n",
       "    <tr>\n",
       "      <th>2</th>\n",
       "      <td>0</td>\n",
       "      <td>0</td>\n",
       "      <td>0</td>\n",
       "      <td>0</td>\n",
       "      <td>0</td>\n",
       "      <td>0</td>\n",
       "      <td>1</td>\n",
       "      <td>تمام ناقص جاز رپ آف کے lousiest افسوس میری ہر ...</td>\n",
       "      <td>تمام ناقص جاز رپ آف کے  افسوس میری ہر وقت پسند...</td>\n",
       "    </tr>\n",
       "    <tr>\n",
       "      <th>3</th>\n",
       "      <td>0</td>\n",
       "      <td>0</td>\n",
       "      <td>0</td>\n",
       "      <td>0</td>\n",
       "      <td>0</td>\n",
       "      <td>0</td>\n",
       "      <td>1</td>\n",
       "      <td>اس فلم کے ساتھ راجر ایوری اور کوئنتن تارتانتین...</td>\n",
       "      <td>اس فلم کے ساتھ راجر ایوری اور کوئنتن تارتانتین...</td>\n",
       "    </tr>\n",
       "    <tr>\n",
       "      <th>4</th>\n",
       "      <td>0</td>\n",
       "      <td>0</td>\n",
       "      <td>0</td>\n",
       "      <td>0</td>\n",
       "      <td>0</td>\n",
       "      <td>0</td>\n",
       "      <td>1</td>\n",
       "      <td>1930s کے جنگلی جانوروں، غیر ملکی خطوں اور غیر ...</td>\n",
       "      <td>کے جنگلی جانوروں، غیر ملکی خطوں اور غیر معمول...</td>\n",
       "    </tr>\n",
       "    <tr>\n",
       "      <th>...</th>\n",
       "      <td>...</td>\n",
       "      <td>...</td>\n",
       "      <td>...</td>\n",
       "      <td>...</td>\n",
       "      <td>...</td>\n",
       "      <td>...</td>\n",
       "      <td>...</td>\n",
       "      <td>...</td>\n",
       "      <td>...</td>\n",
       "    </tr>\n",
       "    <tr>\n",
       "      <th>1945</th>\n",
       "      <td>0</td>\n",
       "      <td>0</td>\n",
       "      <td>0</td>\n",
       "      <td>0</td>\n",
       "      <td>1</td>\n",
       "      <td>0</td>\n",
       "      <td>0</td>\n",
       "      <td>بڑا حوصلہ ہے نرسری کے بچے تو بہت چھوٹے ہوتے ہی...</td>\n",
       "      <td>بڑا حوصلہ ہے نرسری کے بچے تو بہت چھوٹے ہوتے ہی...</td>\n",
       "    </tr>\n",
       "    <tr>\n",
       "      <th>1946</th>\n",
       "      <td>0</td>\n",
       "      <td>0</td>\n",
       "      <td>0</td>\n",
       "      <td>0</td>\n",
       "      <td>0</td>\n",
       "      <td>0</td>\n",
       "      <td>1</td>\n",
       "      <td>اسی فلم کے تین دیگر ورژن میں نے دیکھا، میں نے ...</td>\n",
       "      <td>اسی فلم کے تین دیگر ورژن میں نے دیکھا، میں نے ...</td>\n",
       "    </tr>\n",
       "    <tr>\n",
       "      <th>1947</th>\n",
       "      <td>0</td>\n",
       "      <td>0</td>\n",
       "      <td>0</td>\n",
       "      <td>1</td>\n",
       "      <td>0</td>\n",
       "      <td>0</td>\n",
       "      <td>0</td>\n",
       "      <td>یونہی بس بول دیتا ہوں طبیعت ٹھیک ہے وگرنہ وہ ا...</td>\n",
       "      <td>یونہی بس بول دیتا ہوں طبیعت ٹھیک ہے وگرنہ وہ ا...</td>\n",
       "    </tr>\n",
       "    <tr>\n",
       "      <th>1948</th>\n",
       "      <td>0</td>\n",
       "      <td>0</td>\n",
       "      <td>0</td>\n",
       "      <td>1</td>\n",
       "      <td>1</td>\n",
       "      <td>1</td>\n",
       "      <td>0</td>\n",
       "      <td>کبھی خوشیکبھی غم 😢</td>\n",
       "      <td>کبھی خوشیکبھی غم 😢</td>\n",
       "    </tr>\n",
       "    <tr>\n",
       "      <th>1949</th>\n",
       "      <td>0</td>\n",
       "      <td>0</td>\n",
       "      <td>0</td>\n",
       "      <td>0</td>\n",
       "      <td>0</td>\n",
       "      <td>0</td>\n",
       "      <td>1</td>\n",
       "      <td>ناقدین کی طرح میرے ایک دوست اس وغیرہ \"آپ کا دل...</td>\n",
       "      <td>ناقدین کی طرح میرے ایک دوست اس وغیرہ \"آپ کا دل...</td>\n",
       "    </tr>\n",
       "  </tbody>\n",
       "</table>\n",
       "<p>1950 rows × 9 columns</p>\n",
       "</div>"
      ],
      "text/plain": [
       "      anger  disgust  fear  sadness  surprise  happiness  neutral  \\\n",
       "0         0        0     0        1         0          0        0   \n",
       "1         0        0     0        0         0          0        1   \n",
       "2         0        0     0        0         0          0        1   \n",
       "3         0        0     0        0         0          0        1   \n",
       "4         0        0     0        0         0          0        1   \n",
       "...     ...      ...   ...      ...       ...        ...      ...   \n",
       "1945      0        0     0        0         1          0        0   \n",
       "1946      0        0     0        0         0          0        1   \n",
       "1947      0        0     0        1         0          0        0   \n",
       "1948      0        0     0        1         1          1        0   \n",
       "1949      0        0     0        0         0          0        1   \n",
       "\n",
       "                                              Sentences  \\\n",
       "0     بچھڑنے والوں کا کیسے نہ غم کِیا جائے یہ بَوجھ ...   \n",
       "1     اس خوفناک اذیت تشدد overlong گندگی میں بدترین ...   \n",
       "2     تمام ناقص جاز رپ آف کے lousiest افسوس میری ہر ...   \n",
       "3     اس فلم کے ساتھ راجر ایوری اور کوئنتن تارتانتین...   \n",
       "4     1930s کے جنگلی جانوروں، غیر ملکی خطوں اور غیر ...   \n",
       "...                                                 ...   \n",
       "1945  بڑا حوصلہ ہے نرسری کے بچے تو بہت چھوٹے ہوتے ہی...   \n",
       "1946  اسی فلم کے تین دیگر ورژن میں نے دیکھا، میں نے ...   \n",
       "1947  یونہی بس بول دیتا ہوں طبیعت ٹھیک ہے وگرنہ وہ ا...   \n",
       "1948                                 کبھی خوشیکبھی غم 😢   \n",
       "1949  ناقدین کی طرح میرے ایک دوست اس وغیرہ \"آپ کا دل...   \n",
       "\n",
       "                                        Clean_Sentences  \n",
       "0     بچھڑنے والوں کا کیسے نہ غم کِیا جائے یہ بَوجھ ...  \n",
       "1     اس خوفناک اذیت تشدد  گندگی میں بدترین ڈی   کی ...  \n",
       "2     تمام ناقص جاز رپ آف کے  افسوس میری ہر وقت پسند...  \n",
       "3     اس فلم کے ساتھ راجر ایوری اور کوئنتن تارتانتین...  \n",
       "4      کے جنگلی جانوروں، غیر ملکی خطوں اور غیر معمول...  \n",
       "...                                                 ...  \n",
       "1945  بڑا حوصلہ ہے نرسری کے بچے تو بہت چھوٹے ہوتے ہی...  \n",
       "1946  اسی فلم کے تین دیگر ورژن میں نے دیکھا، میں نے ...  \n",
       "1947  یونہی بس بول دیتا ہوں طبیعت ٹھیک ہے وگرنہ وہ ا...  \n",
       "1948                                 کبھی خوشیکبھی غم 😢  \n",
       "1949  ناقدین کی طرح میرے ایک دوست اس وغیرہ \"آپ کا دل...  \n",
       "\n",
       "[1950 rows x 9 columns]"
      ]
     },
     "execution_count": 57,
     "metadata": {},
     "output_type": "execute_result"
    }
   ],
   "source": [
    "df_test"
   ]
  },
  {
   "cell_type": "code",
   "execution_count": 79,
   "id": "53710f40",
   "metadata": {},
   "outputs": [
    {
     "name": "stdout",
     "output_type": "stream",
     "text": [
      "Embedding Model Downloaded and Now Encoding the Sentence ------->\n",
      "Embedding Completed..................\n"
     ]
    }
   ],
   "source": [
    "model_test_embed=SentenceTransformer(\"paraphrase-multilingual-MiniLM-L12-v2\")\n",
    "model_test_embed.max_seq_length=512\n",
    "print(\"Embedding Model Downloaded and Now Encoding the Sentence ------->\")\n",
    "test_sentence_embeddings=model_test_embed.encode(df_test[\"Clean_Sentences\"])\n",
    "print(\"Embedding Completed..................\")"
   ]
  },
  {
   "cell_type": "code",
   "execution_count": 80,
   "id": "8303a49a",
   "metadata": {},
   "outputs": [],
   "source": [
    "lab=[\"anger\",\"disgust\",\"fear\",\"sadness\",\"surprise\",\"happiness\",\"neutral\"]"
   ]
  },
  {
   "cell_type": "code",
   "execution_count": 81,
   "id": "93a33650",
   "metadata": {},
   "outputs": [
    {
     "name": "stdout",
     "output_type": "stream",
     "text": [
      "61/61 [==============================] - 0s 1ms/step\n"
     ]
    }
   ],
   "source": [
    "Final_Test_seq_pred = model.predict(test_sentence_embeddings)\n",
    "final_test_prob=pd.DataFrame(Final_Test_seq_pred)\n",
    "final_test_prob.columns=df_test[lab].columns"
   ]
  },
  {
   "cell_type": "code",
   "execution_count": 82,
   "id": "08466d68",
   "metadata": {},
   "outputs": [
    {
     "name": "stdout",
     "output_type": "stream",
     "text": [
      "weighted: 0.77 \n"
     ]
    }
   ],
   "source": [
    "final_test=df_test[lab]\n",
    "final_test_y1 = final_test.reset_index(drop=True)\n",
    "print(\"weighted: {:.2f} \".format(average_precision_score(final_test_y1, final_test_prob, average='weighted')))"
   ]
  },
  {
   "cell_type": "markdown",
   "id": "001e4e58",
   "metadata": {},
   "source": [
    "##### The embeddings generated by sentence transformers which were later predicted by the model compiled above has given us the MAP of 0.77. "
   ]
  },
  {
   "cell_type": "code",
   "execution_count": 84,
   "id": "d1d831cf",
   "metadata": {},
   "outputs": [
    {
     "data": {
      "text/html": [
       "<div>\n",
       "<style scoped>\n",
       "    .dataframe tbody tr th:only-of-type {\n",
       "        vertical-align: middle;\n",
       "    }\n",
       "\n",
       "    .dataframe tbody tr th {\n",
       "        vertical-align: top;\n",
       "    }\n",
       "\n",
       "    .dataframe thead th {\n",
       "        text-align: right;\n",
       "    }\n",
       "</style>\n",
       "<table border=\"1\" class=\"dataframe\">\n",
       "  <thead>\n",
       "    <tr style=\"text-align: right;\">\n",
       "      <th></th>\n",
       "      <th>anger</th>\n",
       "      <th>disgust</th>\n",
       "      <th>fear</th>\n",
       "      <th>sadness</th>\n",
       "      <th>surprise</th>\n",
       "      <th>happiness</th>\n",
       "      <th>neutral</th>\n",
       "    </tr>\n",
       "  </thead>\n",
       "  <tbody>\n",
       "    <tr>\n",
       "      <th>0</th>\n",
       "      <td>0.0</td>\n",
       "      <td>0.0</td>\n",
       "      <td>0.0</td>\n",
       "      <td>1.0</td>\n",
       "      <td>0.0</td>\n",
       "      <td>0.0</td>\n",
       "      <td>0.0</td>\n",
       "    </tr>\n",
       "    <tr>\n",
       "      <th>1</th>\n",
       "      <td>0.0</td>\n",
       "      <td>0.0</td>\n",
       "      <td>0.0</td>\n",
       "      <td>0.0</td>\n",
       "      <td>0.0</td>\n",
       "      <td>0.0</td>\n",
       "      <td>1.0</td>\n",
       "    </tr>\n",
       "    <tr>\n",
       "      <th>2</th>\n",
       "      <td>0.0</td>\n",
       "      <td>0.0</td>\n",
       "      <td>0.0</td>\n",
       "      <td>0.0</td>\n",
       "      <td>0.0</td>\n",
       "      <td>0.0</td>\n",
       "      <td>1.0</td>\n",
       "    </tr>\n",
       "    <tr>\n",
       "      <th>3</th>\n",
       "      <td>0.0</td>\n",
       "      <td>0.0</td>\n",
       "      <td>0.0</td>\n",
       "      <td>0.0</td>\n",
       "      <td>0.0</td>\n",
       "      <td>0.0</td>\n",
       "      <td>1.0</td>\n",
       "    </tr>\n",
       "    <tr>\n",
       "      <th>4</th>\n",
       "      <td>0.0</td>\n",
       "      <td>0.0</td>\n",
       "      <td>0.0</td>\n",
       "      <td>0.0</td>\n",
       "      <td>0.0</td>\n",
       "      <td>0.0</td>\n",
       "      <td>1.0</td>\n",
       "    </tr>\n",
       "    <tr>\n",
       "      <th>...</th>\n",
       "      <td>...</td>\n",
       "      <td>...</td>\n",
       "      <td>...</td>\n",
       "      <td>...</td>\n",
       "      <td>...</td>\n",
       "      <td>...</td>\n",
       "      <td>...</td>\n",
       "    </tr>\n",
       "    <tr>\n",
       "      <th>1945</th>\n",
       "      <td>1.0</td>\n",
       "      <td>1.0</td>\n",
       "      <td>0.0</td>\n",
       "      <td>0.0</td>\n",
       "      <td>1.0</td>\n",
       "      <td>0.0</td>\n",
       "      <td>0.0</td>\n",
       "    </tr>\n",
       "    <tr>\n",
       "      <th>1946</th>\n",
       "      <td>0.0</td>\n",
       "      <td>0.0</td>\n",
       "      <td>0.0</td>\n",
       "      <td>0.0</td>\n",
       "      <td>0.0</td>\n",
       "      <td>0.0</td>\n",
       "      <td>1.0</td>\n",
       "    </tr>\n",
       "    <tr>\n",
       "      <th>1947</th>\n",
       "      <td>0.0</td>\n",
       "      <td>0.0</td>\n",
       "      <td>0.0</td>\n",
       "      <td>1.0</td>\n",
       "      <td>0.0</td>\n",
       "      <td>0.0</td>\n",
       "      <td>0.0</td>\n",
       "    </tr>\n",
       "    <tr>\n",
       "      <th>1948</th>\n",
       "      <td>0.0</td>\n",
       "      <td>0.0</td>\n",
       "      <td>0.0</td>\n",
       "      <td>1.0</td>\n",
       "      <td>0.0</td>\n",
       "      <td>0.0</td>\n",
       "      <td>0.0</td>\n",
       "    </tr>\n",
       "    <tr>\n",
       "      <th>1949</th>\n",
       "      <td>0.0</td>\n",
       "      <td>0.0</td>\n",
       "      <td>0.0</td>\n",
       "      <td>0.0</td>\n",
       "      <td>0.0</td>\n",
       "      <td>0.0</td>\n",
       "      <td>1.0</td>\n",
       "    </tr>\n",
       "  </tbody>\n",
       "</table>\n",
       "<p>1950 rows × 7 columns</p>\n",
       "</div>"
      ],
      "text/plain": [
       "      anger  disgust  fear  sadness  surprise  happiness  neutral\n",
       "0       0.0      0.0   0.0      1.0       0.0        0.0      0.0\n",
       "1       0.0      0.0   0.0      0.0       0.0        0.0      1.0\n",
       "2       0.0      0.0   0.0      0.0       0.0        0.0      1.0\n",
       "3       0.0      0.0   0.0      0.0       0.0        0.0      1.0\n",
       "4       0.0      0.0   0.0      0.0       0.0        0.0      1.0\n",
       "...     ...      ...   ...      ...       ...        ...      ...\n",
       "1945    1.0      1.0   0.0      0.0       1.0        0.0      0.0\n",
       "1946    0.0      0.0   0.0      0.0       0.0        0.0      1.0\n",
       "1947    0.0      0.0   0.0      1.0       0.0        0.0      0.0\n",
       "1948    0.0      0.0   0.0      1.0       0.0        0.0      0.0\n",
       "1949    0.0      0.0   0.0      0.0       0.0        0.0      1.0\n",
       "\n",
       "[1950 rows x 7 columns]"
      ]
     },
     "execution_count": 84,
     "metadata": {},
     "output_type": "execute_result"
    }
   ],
   "source": [
    "#generating F-1 score for the test data set\n",
    "\n",
    "final_label=Final_Test_seq_pred.round()#rounding of the probabilities to labels\n",
    "final_label_df=pd.DataFrame(final_label)\n",
    "final_label_df.columns=df_test[lab].columns\n",
    "final_label_df"
   ]
  },
  {
   "cell_type": "code",
   "execution_count": 86,
   "id": "6acfb392",
   "metadata": {},
   "outputs": [
    {
     "name": "stdout",
     "output_type": "stream",
     "text": [
      "The F-1 Score is : 0.68 \n"
     ]
    }
   ],
   "source": [
    "from sklearn.metrics import f1_score\n",
    "print(\"The F-1 Score is : {:.2f} \".format(f1_score(final_test_y1, final_label_df,average=\"weighted\")))"
   ]
  },
  {
   "cell_type": "markdown",
   "id": "c171cd03",
   "metadata": {},
   "source": [
    "##### The weighted average Score of the Dataset is 0.68 "
   ]
  },
  {
   "cell_type": "code",
   "execution_count": null,
   "id": "bf47bf9c",
   "metadata": {},
   "outputs": [],
   "source": []
  }
 ],
 "metadata": {
  "kernelspec": {
   "display_name": "Python 3 (ipykernel)",
   "language": "python",
   "name": "python3"
  },
  "language_info": {
   "codemirror_mode": {
    "name": "ipython",
    "version": 3
   },
   "file_extension": ".py",
   "mimetype": "text/x-python",
   "name": "python",
   "nbconvert_exporter": "python",
   "pygments_lexer": "ipython3",
   "version": "3.9.13"
  }
 },
 "nbformat": 4,
 "nbformat_minor": 5
}
