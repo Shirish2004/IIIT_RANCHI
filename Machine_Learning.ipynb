{
 "cells": [
  {
   "cell_type": "code",
   "execution_count": 5,
   "id": "59621234",
   "metadata": {
    "scrolled": true
   },
   "outputs": [
    {
     "data": {
      "text/html": [
       "<div>\n",
       "<style scoped>\n",
       "    .dataframe tbody tr th:only-of-type {\n",
       "        vertical-align: middle;\n",
       "    }\n",
       "\n",
       "    .dataframe tbody tr th {\n",
       "        vertical-align: top;\n",
       "    }\n",
       "\n",
       "    .dataframe thead th {\n",
       "        text-align: right;\n",
       "    }\n",
       "</style>\n",
       "<table border=\"1\" class=\"dataframe\">\n",
       "  <thead>\n",
       "    <tr style=\"text-align: right;\">\n",
       "      <th></th>\n",
       "      <th>anger</th>\n",
       "      <th>disgust</th>\n",
       "      <th>fear</th>\n",
       "      <th>sadness</th>\n",
       "      <th>surprise</th>\n",
       "      <th>happiness</th>\n",
       "      <th>neutral</th>\n",
       "      <th>Sentences</th>\n",
       "      <th>word_count</th>\n",
       "      <th>char_count</th>\n",
       "      <th>word_density</th>\n",
       "    </tr>\n",
       "  </thead>\n",
       "  <tbody>\n",
       "    <tr>\n",
       "      <th>0</th>\n",
       "      <td>0</td>\n",
       "      <td>0</td>\n",
       "      <td>0</td>\n",
       "      <td>1</td>\n",
       "      <td>1</td>\n",
       "      <td>0</td>\n",
       "      <td>0</td>\n",
       "      <td>محبت پردے میں نفرت کرنےوالو</td>\n",
       "      <td>5</td>\n",
       "      <td>23</td>\n",
       "      <td>0.208333</td>\n",
       "    </tr>\n",
       "    <tr>\n",
       "      <th>1</th>\n",
       "      <td>0</td>\n",
       "      <td>0</td>\n",
       "      <td>0</td>\n",
       "      <td>0</td>\n",
       "      <td>0</td>\n",
       "      <td>1</td>\n",
       "      <td>0</td>\n",
       "      <td>حامد میر خوشی اس کا ذمہ دار حکومت خوش</td>\n",
       "      <td>9</td>\n",
       "      <td>29</td>\n",
       "      <td>0.300000</td>\n",
       "    </tr>\n",
       "    <tr>\n",
       "      <th>2</th>\n",
       "      <td>0</td>\n",
       "      <td>0</td>\n",
       "      <td>0</td>\n",
       "      <td>0</td>\n",
       "      <td>0</td>\n",
       "      <td>0</td>\n",
       "      <td>1</td>\n",
       "      <td>اس نئے سال شام سپاہی قاتل لارنس شکل میں شعبے ب...</td>\n",
       "      <td>135</td>\n",
       "      <td>526</td>\n",
       "      <td>0.256167</td>\n",
       "    </tr>\n",
       "    <tr>\n",
       "      <th>3</th>\n",
       "      <td>0</td>\n",
       "      <td>0</td>\n",
       "      <td>0</td>\n",
       "      <td>0</td>\n",
       "      <td>0</td>\n",
       "      <td>0</td>\n",
       "      <td>1</td>\n",
       "      <td>کچھ اس طرح سے فلم جا سکتے لیکن میں سب سے یقینا...</td>\n",
       "      <td>117</td>\n",
       "      <td>435</td>\n",
       "      <td>0.268349</td>\n",
       "    </tr>\n",
       "    <tr>\n",
       "      <th>4</th>\n",
       "      <td>0</td>\n",
       "      <td>0</td>\n",
       "      <td>0</td>\n",
       "      <td>0</td>\n",
       "      <td>0</td>\n",
       "      <td>0</td>\n",
       "      <td>1</td>\n",
       "      <td>رون ہاورڈ اس ایڈیٹرز صرف اتنا کرنا جس کا تھا ا...</td>\n",
       "      <td>84</td>\n",
       "      <td>304</td>\n",
       "      <td>0.275410</td>\n",
       "    </tr>\n",
       "    <tr>\n",
       "      <th>...</th>\n",
       "      <td>...</td>\n",
       "      <td>...</td>\n",
       "      <td>...</td>\n",
       "      <td>...</td>\n",
       "      <td>...</td>\n",
       "      <td>...</td>\n",
       "      <td>...</td>\n",
       "      <td>...</td>\n",
       "      <td>...</td>\n",
       "      <td>...</td>\n",
       "      <td>...</td>\n",
       "    </tr>\n",
       "    <tr>\n",
       "      <th>7795</th>\n",
       "      <td>0</td>\n",
       "      <td>0</td>\n",
       "      <td>0</td>\n",
       "      <td>0</td>\n",
       "      <td>0</td>\n",
       "      <td>0</td>\n",
       "      <td>1</td>\n",
       "      <td>آپ کس طرح نوجوان برطانوی اداکار اس قابل احترام...</td>\n",
       "      <td>72</td>\n",
       "      <td>275</td>\n",
       "      <td>0.260870</td>\n",
       "    </tr>\n",
       "    <tr>\n",
       "      <th>7796</th>\n",
       "      <td>0</td>\n",
       "      <td>0</td>\n",
       "      <td>0</td>\n",
       "      <td>0</td>\n",
       "      <td>0</td>\n",
       "      <td>0</td>\n",
       "      <td>1</td>\n",
       "      <td>میں نے امریکہ کنفیڈریشن امریکہ میں ورجینیا سے ...</td>\n",
       "      <td>106</td>\n",
       "      <td>382</td>\n",
       "      <td>0.276762</td>\n",
       "    </tr>\n",
       "    <tr>\n",
       "      <th>7797</th>\n",
       "      <td>0</td>\n",
       "      <td>0</td>\n",
       "      <td>0</td>\n",
       "      <td>0</td>\n",
       "      <td>0</td>\n",
       "      <td>1</td>\n",
       "      <td>0</td>\n",
       "      <td>سورۃ نمبر النساء آیت نمبر جب تم سفر جا تم نماز...</td>\n",
       "      <td>19</td>\n",
       "      <td>65</td>\n",
       "      <td>0.287879</td>\n",
       "    </tr>\n",
       "    <tr>\n",
       "      <th>7798</th>\n",
       "      <td>0</td>\n",
       "      <td>0</td>\n",
       "      <td>1</td>\n",
       "      <td>0</td>\n",
       "      <td>0</td>\n",
       "      <td>0</td>\n",
       "      <td>0</td>\n",
       "      <td>رونا نہیں حالات خراب اوراس بیماری نے انہیں مخد...</td>\n",
       "      <td>19</td>\n",
       "      <td>75</td>\n",
       "      <td>0.250000</td>\n",
       "    </tr>\n",
       "    <tr>\n",
       "      <th>7799</th>\n",
       "      <td>0</td>\n",
       "      <td>0</td>\n",
       "      <td>0</td>\n",
       "      <td>0</td>\n",
       "      <td>0</td>\n",
       "      <td>0</td>\n",
       "      <td>1</td>\n",
       "      <td>میں لڑکا دوسری جنگ عظیم سے پہلے تھا جب میں نے ...</td>\n",
       "      <td>72</td>\n",
       "      <td>257</td>\n",
       "      <td>0.279070</td>\n",
       "    </tr>\n",
       "  </tbody>\n",
       "</table>\n",
       "<p>7800 rows × 11 columns</p>\n",
       "</div>"
      ],
      "text/plain": [
       "      anger  disgust  fear  sadness  surprise  happiness  neutral  \\\n",
       "0         0        0     0        1         1          0        0   \n",
       "1         0        0     0        0         0          1        0   \n",
       "2         0        0     0        0         0          0        1   \n",
       "3         0        0     0        0         0          0        1   \n",
       "4         0        0     0        0         0          0        1   \n",
       "...     ...      ...   ...      ...       ...        ...      ...   \n",
       "7795      0        0     0        0         0          0        1   \n",
       "7796      0        0     0        0         0          0        1   \n",
       "7797      0        0     0        0         0          1        0   \n",
       "7798      0        0     1        0         0          0        0   \n",
       "7799      0        0     0        0         0          0        1   \n",
       "\n",
       "                                              Sentences  word_count  \\\n",
       "0                          محبت پردے میں نفرت کرنےوالو            5   \n",
       "1                حامد میر خوشی اس کا ذمہ دار حکومت خوش            9   \n",
       "2     اس نئے سال شام سپاہی قاتل لارنس شکل میں شعبے ب...         135   \n",
       "3     کچھ اس طرح سے فلم جا سکتے لیکن میں سب سے یقینا...         117   \n",
       "4     رون ہاورڈ اس ایڈیٹرز صرف اتنا کرنا جس کا تھا ا...          84   \n",
       "...                                                 ...         ...   \n",
       "7795  آپ کس طرح نوجوان برطانوی اداکار اس قابل احترام...          72   \n",
       "7796  میں نے امریکہ کنفیڈریشن امریکہ میں ورجینیا سے ...         106   \n",
       "7797  سورۃ نمبر النساء آیت نمبر جب تم سفر جا تم نماز...          19   \n",
       "7798  رونا نہیں حالات خراب اوراس بیماری نے انہیں مخد...          19   \n",
       "7799  میں لڑکا دوسری جنگ عظیم سے پہلے تھا جب میں نے ...          72   \n",
       "\n",
       "      char_count  word_density  \n",
       "0             23      0.208333  \n",
       "1             29      0.300000  \n",
       "2            526      0.256167  \n",
       "3            435      0.268349  \n",
       "4            304      0.275410  \n",
       "...          ...           ...  \n",
       "7795         275      0.260870  \n",
       "7796         382      0.276762  \n",
       "7797          65      0.287879  \n",
       "7798          75      0.250000  \n",
       "7799         257      0.279070  \n",
       "\n",
       "[7800 rows x 11 columns]"
      ]
     },
     "execution_count": 5,
     "metadata": {},
     "output_type": "execute_result"
    }
   ],
   "source": [
    "import pandas as pd \n",
    "import numpy as np \n",
    "np.random.seed(42)\n",
    "from sklearn.model_selection import train_test_split\n",
    "from sklearn.metrics import accuracy_score, f1_score\n",
    "from sklearn.feature_extraction.text import TfidfVectorizer\n",
    "df_train=pd.read_csv(\"Train_Clean.csv\")\n",
    "df_test=pd.read_csv(\"Test_Clean.csv\")\n",
    "df_train\n"
   ]
  },
  {
   "cell_type": "markdown",
   "id": "4471adbe",
   "metadata": {},
   "source": [
    "### All the sentences in the above dataframe are already cleaned in the EDA step. "
   ]
  },
  {
   "cell_type": "code",
   "execution_count": 9,
   "id": "e51e3845",
   "metadata": {},
   "outputs": [
    {
     "data": {
      "text/plain": [
       "((6240,), (1560,), (6240, 7), (1560, 7))"
      ]
     },
     "execution_count": 9,
     "metadata": {},
     "output_type": "execute_result"
    }
   ],
   "source": [
    "#splitting the dataset into train and test with ratio of 80:20\n",
    "x_train,x_test,y_train,y_test=train_test_split(df_train[\"Sentences\"],df_train[[\"anger\",\"disgust\",\"fear\",\"sadness\",\"surprise\",\"happiness\",\"neutral\"]],test_size=0.2,random_state=42)\n",
    "x_train.shape,x_test.shape,y_train.shape,y_test.shape"
   ]
  },
  {
   "cell_type": "code",
   "execution_count": 11,
   "id": "4d01fa0f",
   "metadata": {},
   "outputs": [
    {
     "data": {
      "text/plain": [
       "((6240, 18254), (1560, 18254))"
      ]
     },
     "execution_count": 11,
     "metadata": {},
     "output_type": "execute_result"
    }
   ],
   "source": [
    "#vectorizing the urdu statements using the Term frequency and inverse document frequency\n",
    "max_feature_num = 50000\n",
    "vectorizer = TfidfVectorizer(max_features=max_feature_num)\n",
    "train_vecs = vectorizer.fit_transform(x_train)\n",
    "test_vecs = TfidfVectorizer(max_features=max_feature_num, vocabulary=vectorizer.vocabulary_).fit_transform(x_test)\n",
    "# visualizing the shape of train and test vecs\n",
    "train_vecs.shape,test_vecs.shape\n"
   ]
  },
  {
   "cell_type": "code",
   "execution_count": 12,
   "id": "4bf71a7c",
   "metadata": {},
   "outputs": [],
   "source": [
    "from skmultilearn.problem_transform import LabelPowerset\n",
    "from sklearn.naive_bayes import GaussianNB,MultinomialNB"
   ]
  },
  {
   "cell_type": "code",
   "execution_count": 121,
   "id": "641ff375",
   "metadata": {},
   "outputs": [],
   "source": [
    "#transforming problem using the labelpowerset technique\n",
    "\n",
    "from sklearn.metrics import accuracy_score\n",
    "def build_model(model,mlb_estimator,xtrain,ytrain,xtest,ytest):\n",
    "    clf = mlb_estimator(model)\n",
    "    clf.fit(xtrain,ytrain)\n",
    "    clf_predictions = clf.predict(xtest)\n",
    "    acc = accuracy_score(ytest,clf_predictions)\n",
    "    f_1_score = f1_score(ytest,clf_predictions,average=\"weighted\")\n",
    "    result = {\"accuracy:\":acc,\"f1_score\":f_1_score}\n",
    "    return result"
   ]
  },
  {
   "cell_type": "code",
   "execution_count": 122,
   "id": "081939ef",
   "metadata": {},
   "outputs": [
    {
     "data": {
      "text/plain": [
       "{'accuracy:': 0.4756410256410256, 'f1_score': 0.33113488536862495}"
      ]
     },
     "execution_count": 122,
     "metadata": {},
     "output_type": "execute_result"
    }
   ],
   "source": [
    "#creating a model based on Multinomial Naive Bayes\n",
    "clf_model_1=build_model(MultinomialNB(),LabelPowerset,train_vecs,y_train,test_vecs,y_test)\n",
    "#results\n",
    "clf_model_1"
   ]
  },
  {
   "cell_type": "code",
   "execution_count": 75,
   "id": "0e24cb98",
   "metadata": {},
   "outputs": [
    {
     "data": {
      "text/plain": [
       "{'accuracy:': 0.5211538461538462, 'f1_score': 0.5472912772879525}"
      ]
     },
     "execution_count": 75,
     "metadata": {},
     "output_type": "execute_result"
    }
   ],
   "source": [
    "#building the model based on Gaussian Nave Bayes\n",
    "clf_model_2=build_model(GaussianNB(),LabelPowerset,train_vecs,y_train,test_vecs,y_test)\n",
    "clf_model_2"
   ]
  },
  {
   "cell_type": "code",
   "execution_count": 76,
   "id": "5f5dee91",
   "metadata": {},
   "outputs": [
    {
     "data": {
      "text/plain": [
       "{'accuracy:': 0.6115384615384616, 'f1_score': 0.7029354772018196}"
      ]
     },
     "execution_count": 76,
     "metadata": {},
     "output_type": "execute_result"
    }
   ],
   "source": [
    "from sklearn.svm import LinearSVC \n",
    "#building svm classifier\n",
    "clf_model_3=build_model(LinearSVC(),LabelPowerset,train_vecs,y_train,test_vecs,y_test)\n",
    "#getting results \n",
    "clf_model_3"
   ]
  },
  {
   "cell_type": "code",
   "execution_count": 77,
   "id": "71b65ce4",
   "metadata": {},
   "outputs": [
    {
     "data": {
      "text/plain": [
       "{'accuracy:': 0.5775641025641025, 'f1_score': 0.6548274383232633}"
      ]
     },
     "execution_count": 77,
     "metadata": {},
     "output_type": "execute_result"
    }
   ],
   "source": [
    "#implementing KNN \n",
    "from sklearn.neighbors import KNeighborsClassifier\n",
    "clf_model_4=build_model(KNeighborsClassifier(),LabelPowerset,train_vecs,y_train,test_vecs,y_test)\n",
    "clf_model_4"
   ]
  },
  {
   "cell_type": "code",
   "execution_count": 78,
   "id": "769af004",
   "metadata": {},
   "outputs": [
    {
     "data": {
      "text/plain": [
       "{'accuracy:': 0.01217948717948718, 'f1_score': 0.08810112188449355}"
      ]
     },
     "execution_count": 78,
     "metadata": {},
     "output_type": "execute_result"
    }
   ],
   "source": [
    "#implementing KMeans algorithm\n",
    "from sklearn.cluster import KMeans \n",
    "clf_model_5=build_model(KMeans(),LabelPowerset,train_vecs,y_train,test_vecs,y_test)\n",
    "clf_model_5"
   ]
  },
  {
   "cell_type": "code",
   "execution_count": 79,
   "id": "b2fb6841",
   "metadata": {},
   "outputs": [
    {
     "data": {
      "text/plain": [
       "{'accuracy:': 0.5557692307692308, 'f1_score': 0.6393204670044063}"
      ]
     },
     "execution_count": 79,
     "metadata": {},
     "output_type": "execute_result"
    }
   ],
   "source": [
    "#implementing Decision Tree Classifier\n",
    "from sklearn.tree import DecisionTreeClassifier as DTC\n",
    "clf_model_6=build_model(DTC(),LabelPowerset,train_vecs,y_train,test_vecs,y_test)\n",
    "clf_model_6"
   ]
  },
  {
   "cell_type": "code",
   "execution_count": 80,
   "id": "aa53ba8c",
   "metadata": {},
   "outputs": [
    {
     "data": {
      "text/plain": [
       "{'accuracy:': 0.4724358974358974, 'f1_score': 0.4232897864481692}"
      ]
     },
     "execution_count": 80,
     "metadata": {},
     "output_type": "execute_result"
    }
   ],
   "source": [
    "#implementing adaboost classifier \n",
    "from sklearn.ensemble import AdaBoostClassifier as ABC\n",
    "clf_model_7=build_model(ABC(),LabelPowerset,train_vecs,y_train,test_vecs,y_test)\n",
    "clf_model_7"
   ]
  },
  {
   "cell_type": "code",
   "execution_count": 81,
   "id": "6de48cae",
   "metadata": {},
   "outputs": [
    {
     "data": {
      "text/plain": [
       "{'accuracy:': 0.6185897435897436, 'f1_score': 0.6751336244910666}"
      ]
     },
     "execution_count": 81,
     "metadata": {},
     "output_type": "execute_result"
    }
   ],
   "source": [
    "#implementing random forest classifier \n",
    "from sklearn.ensemble import RandomForestClassifier as RFC\n",
    "clf_model_8=build_model(RFC(),LabelPowerset,train_vecs,y_train,test_vecs,y_test)\n",
    "clf_model_8"
   ]
  },
  {
   "cell_type": "markdown",
   "id": "fbed1144",
   "metadata": {},
   "source": [
    "### Plotting the accuracy and f1_score of each model we have tested "
   ]
  },
  {
   "cell_type": "code",
   "execution_count": 138,
   "id": "ab4df099",
   "metadata": {},
   "outputs": [
    {
     "data": {
      "text/plain": [
       "([47.56410256410256,\n",
       "  52.11538461538462,\n",
       "  61.15384615384616,\n",
       "  57.75641025641025,\n",
       "  1.217948717948718,\n",
       "  55.57692307692308,\n",
       "  47.243589743589745,\n",
       "  61.858974358974365],\n",
       " [33.1134885368625,\n",
       "  54.72912772879525,\n",
       "  70.29354772018196,\n",
       "  65.48274383232634,\n",
       "  8.810112188449356,\n",
       "  63.93204670044062,\n",
       "  42.32897864481692,\n",
       "  67.51336244910667])"
      ]
     },
     "execution_count": 138,
     "metadata": {},
     "output_type": "execute_result"
    }
   ],
   "source": [
    "models=[clf_model_1,clf_model_2,clf_model_3,clf_model_4,clf_model_5,clf_model_6,clf_model_7,clf_model_8]\n",
    "accuracy=[]\n",
    "f1=[]\n",
    "for j in models:\n",
    "#     names.append(\"model_{j}\")\n",
    "    accuracy.append(j[\"accuracy:\"]*100)\n",
    "    f1.append(j[\"f1_score\"]*100)\n",
    "accuracy,f1"
   ]
  },
  {
   "cell_type": "code",
   "execution_count": 84,
   "id": "a5145c9e",
   "metadata": {},
   "outputs": [],
   "source": [
    "import matplotlib.pyplot as plt \n",
    "%matplotlib inline\n",
    "names=[\"MNB\",\"GNB\",\"SVM\",\"KNN\",\"KMeans\",\"DTree\",\"AdaBoost\",\"RF\"]"
   ]
  },
  {
   "cell_type": "code",
   "execution_count": 91,
   "id": "92ac26c4",
   "metadata": {},
   "outputs": [
    {
     "data": {
      "image/png": "[encoded data removed]",
      "text/plain": [
       "<Figure size 800x800 with 1 Axes>"
      ]
     },
     "metadata": {},
     "output_type": "display_data"
    }
   ],
   "source": [
    "x = np.arange(8) # the label locations\n",
    "width =0.4\n",
    "\n",
    "fig, ax = plt.subplots(figsize=(8,8))\n",
    "\n",
    "ax.set_ylabel('Accuracy Score of Each Model')\n",
    "ax.set_title('Comparison of accuracy score of each model')\n",
    "ax.set_xticks(x)\n",
    "ax.set_xticklabels(names)\n",
    "\n",
    "pps = ax.bar(x - width/2, accuracy, width)\n",
    "for p in pps:\n",
    "   height = p.get_height()\n",
    "   ax.annotate('{}'.format(int(height)),\n",
    "      xy=(p.get_x() + p.get_width() / 2, height),\n",
    "      xytext=(0, 3), # 3 points vertical offset\n",
    "      textcoords=\"offset points\",\n",
    "      ha='center', va='bottom')\n",
    "plt.grid(True)\n",
    "plt.savefig(\"Comparison_of_ML_Model_ACC.jpg\",bbox_inches=\"tight\")\n",
    "plt.show()"
   ]
  },
  {
   "cell_type": "code",
   "execution_count": 92,
   "id": "acb4fc9b",
   "metadata": {},
   "outputs": [
    {
     "data": {
      "image/png": "[encoded data removed]",
      "text/plain": [
       "<Figure size 800x800 with 1 Axes>"
      ]
     },
     "metadata": {},
     "output_type": "display_data"
    }
   ],
   "source": [
    "x = np.arange(8) # the label locations\n",
    "width =0.4\n",
    "\n",
    "fig, ax = plt.subplots(figsize=(8,8))\n",
    "\n",
    "ax.set_ylabel('F1 Score of Each Model')\n",
    "ax.set_title('Comparison of F1 score of each model')\n",
    "ax.set_xticks(x)\n",
    "ax.set_xticklabels(names)\n",
    "\n",
    "pps = ax.bar(x - width/2, f1, width)\n",
    "for p in pps:\n",
    "   height = p.get_height()\n",
    "   ax.annotate('{}'.format(int(height)),\n",
    "      xy=(p.get_x() + p.get_width() / 2, height),\n",
    "      xytext=(0, 3), # 3 points vertical offset\n",
    "      textcoords=\"offset points\",\n",
    "      ha='center', va='bottom')\n",
    "plt.grid(True)\n",
    "plt.savefig(\"Comparison_of_ML_Model_F1.jpg\",bbox_inches=\"tight\")\n",
    "plt.show()"
   ]
  },
  {
   "cell_type": "markdown",
   "id": "233c278e",
   "metadata": {},
   "source": [
    "### After Seelcting the top 5 models based on accuracy we will be finding the best hyperparameters for the model and selecting the best one.\n",
    "\n",
    "## Using GridSearch CV to find the best models "
   ]
  },
  {
   "cell_type": "markdown",
   "id": "3270375e",
   "metadata": {},
   "source": [
    "### The top 5 models are : [GaussianNB, Support Vector Machine, K-Nearest Neighbors, Decission Tree, and Random Forest]. Since it is not able to perform an exhaustive search over the GaussainNB classifier we ould be seelcting the 6th best model that turns out to be AdaBoost. Hence, the new list of top models are\n",
    "### [Support Vector Machine, K-Nearest Neighbors, Decision Tree, Random Forest, AdaBoost Classifier]."
   ]
  },
  {
   "cell_type": "code",
   "execution_count": 133,
   "id": "1f8c1f16",
   "metadata": {},
   "outputs": [
    {
     "data": {
      "text/plain": [
       "((7800, 20084), (1950, 20084))"
      ]
     },
     "execution_count": 133,
     "metadata": {},
     "output_type": "execute_result"
    }
   ],
   "source": [
    "#on test data set \n",
    "#vectorizing the urdu statements using the Term frequency and inverse document frequency\n",
    "max_feature_num = 50000\n",
    "vectorizer = TfidfVectorizer(max_features=max_feature_num)\n",
    "train_vecs = vectorizer.fit_transform(df_train[\"Sentences\"])\n",
    "test_vecs = TfidfVectorizer(max_features=max_feature_num, vocabulary=vectorizer.vocabulary_).fit_transform(df_test[\"Sentences\"])\n",
    "# visualizing the shape of train and test vecs\n",
    "train_vecs.shape,test_vecs.shape\n"
   ]
  },
  {
   "cell_type": "code",
   "execution_count": 136,
   "id": "9877302d",
   "metadata": {},
   "outputs": [],
   "source": [
    "train_y=df_train[[\"anger\",\"disgust\",\"fear\",\"sadness\",\"surprise\",\"happiness\",\"neutral\"]]\n",
    "test_y=df_test[[\"anger\",\"disgust\",\"fear\",\"sadness\",\"surprise\",\"happiness\",\"neutral\"]]"
   ]
  },
  {
   "cell_type": "code",
   "execution_count": 137,
   "id": "1dc1f27f",
   "metadata": {},
   "outputs": [
    {
     "data": {
      "text/plain": [
       "{'accuracy:': 0.6102564102564103, 'f1_score': 0.7083665519191673}"
      ]
     },
     "execution_count": 137,
     "metadata": {},
     "output_type": "execute_result"
    }
   ],
   "source": [
    "best_clf=build_model(LinearSVC(),LabelPowerset,train_vecs,train_y,test_vecs,test_y)\n",
    "best_clf"
   ]
  },
  {
   "cell_type": "code",
   "execution_count": null,
   "id": "48ccd538",
   "metadata": {},
   "outputs": [],
   "source": []
  }
 ],
 "metadata": {
  "kernelspec": {
   "display_name": "Python 3 (ipykernel)",
   "language": "python",
   "name": "python3"
  },
  "language_info": {
   "codemirror_mode": {
    "name": "ipython",
    "version": 3
   },
   "file_extension": ".py",
   "mimetype": "text/x-python",
   "name": "python",
   "nbconvert_exporter": "python",
   "pygments_lexer": "ipython3",
   "version": "3.9.13"
  }
 },
 "nbformat": 4,
 "nbformat_minor": 5
}
